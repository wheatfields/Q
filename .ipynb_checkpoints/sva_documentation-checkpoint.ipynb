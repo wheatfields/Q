{
 "cells": [
  {
   "cell_type": "markdown",
   "metadata": {},
   "source": [
    "# sva.\n",
    "\n",
    "#### _Table 1_\n",
    "* [claims_reporting_delay](#claims_reporting_delay)\n",
    "* [claim_delay_factors](#claims_delay_factors)\n",
    "\n",
    "#### _Table 2_\n",
    "* [claims_expense_reserve](#claims_expense_reserve)\n",
    "* [operating_expense_perc_premium](#operating_expense_perc_premium)\n",
    "* [budgeted_trustee_expense](#budgeted_trustee_expense)\n",
    "* [projected_trustee_expense](#projected_trustee_expense)\n",
    "\n",
    "#### Table 3\n",
    "* [ip_continuance_rates](#ip_continuance_rates)\n",
    "* [dlr_parameters](#dlr_parameters)\n",
    "    * [salary_replacement_ratio](#salary_replacement_ratio)\n",
    "    * [continuing_retirement_benefit](#continuing_retirement_benefit)\n",
    "    * [assumed_avg_age_at_disability](#assumed_avg_age_at_disability)\n",
    "    * [payment_ratio](#payment_ratio)\n",
    "    * [reopened_claims_reserves_loading](#reopened_claims_reserves_loading)\n",
    "    * [benefit_indexation_month](#benefit_indexation_month)\n",
    "* [ip_ibnr_adjustment](#ip_ibnr_adjustment)\n",
    "\n",
    "\n",
    "#### _Table 4_\n",
    "* [appeals_reserve_assumptions](#appeals_reserve_assumptions)\n",
    "* [perc_of_appealed_claims_accepted](#perc_of_appealed_claims_accepted)\n",
    "\n",
    "\n",
    "#### _Table 5_\n",
    "* [decline_rate](#decline_rate)\n",
    "* [decline_rate_delay](#decline_rate_delay)\n",
    "* [simultaneous_ip_tpd_decline](#simultaneous_ip_tpd_decline)\n",
    "\n",
    "\n",
    "#### _Table 6_\n",
    "* [expected_loss_ratio_gov](#expected_loss_ratio_gov)\n",
    "* [expected_loss_ratio_nongov](#expected_loss_ratio_nongov)\n",
    "\n",
    "\n",
    "#### _Table 7_\n",
    "* [payment_delay_factors](#payment_delay_factors)\n",
    "* [payment_delay_factors_discrete](#payment_delay_factors_discrete)\n",
    "\n",
    "\n",
    "\n",
    "#### _Table 8_\n",
    "* [average_claim_size](#average_claim_size)\n",
    "* [acs_ip_linked_tpd](#acs_ip_linked_tpd)\n",
    "* [acs_by_notification_delay_q](#acs_by_notification_delay_q)\n",
    "* [perc_si_at_ip_doe](#perc_si_at_ip_doe)\n",
    "* [tpd_si_scales_by_age](#tpd_si_scales_by_age)\n",
    "\n",
    "\n",
    "\n",
    "#### _Table 9_\n",
    "* [termination_rates](#termination_rates)\n",
    "* [age_rates](#age_rates)\n",
    "* [duration_of_claim_g_wp_oc](#duration_of_claim_g_wp_oc)\n",
    "* [smoker_status](#smoker_status)\n",
    "* [benefit_type](#benefit_type)\n",
    "* [policy_duration_factor](#policy_duration_factor)\n",
    "\n",
    "\n",
    "#### _Table 10_\n",
    "* [stress_margins](#stress_margins)\n",
    "    * [random](#random)\n",
    "        * [random_all](#random_all)\n",
    "        * [death](#r_death)\n",
    "        * [death_ibnr](#r_death_ibnr)\n",
    "        * [death_rbna](#r_death_rbna)\n",
    "        * [tpd](#r_tpd)\n",
    "        * [tpd_ibnr](#r_tpd_ibnr)\n",
    "        * [tpd_rbna](#r_tpd_rbna)\n",
    "        * [ip](#r_ip)\n",
    "        * [ip_dlr](#r_ip_dlr)\n",
    "        * [ip_ibnr](#r_ip_ibnr)\n",
    "        * [ip_rbna](#r_ip_rbna)\n",
    "    * [future](#future)\n",
    "        * [future_all](#future_all)\n",
    "        * [death](#f_death)\n",
    "        * [death_ibnr](#f_death_ibnr)\n",
    "        * [death_rbna](#f_death_rbna)\n",
    "        * [tpd](#f_tpd)\n",
    "        * [tpd_ibnr](#f_tpd_ibnr)\n",
    "        * [tpd_rbna](#f_tpd_rbna)\n",
    "        * [ip](#f_ip)\n",
    "        * [ip_dlr](#f_ip_dlr)\n",
    "        * [ip_ibnr](#f_ip_ibnr)\n",
    "        * [ip_rbna](#f_ip_rbna)\n",
    "\n",
    "\n",
    "\n",
    "\n",
    "\n"
   ]
  },
  {
   "cell_type": "code",
   "execution_count": 1,
   "metadata": {},
   "outputs": [],
   "source": [
    "import os\n",
    "os.chdir(r\"C:\\Users\\adamw\\Documents\\GitHub\\Q\")\n",
    "path = r\"C:\\Users\\adamw\\Documents\\SVA replica.xlsx\"\n",
    "from sva import sva\n",
    "# # Initialise with path and sheetname\n",
    "sva = sva(path=path, sheet_name='NewProduct')"
   ]
  },
  {
   "cell_type": "markdown",
   "metadata": {},
   "source": [
    "### claims_reporting_delay"
   ]
  },
  {
   "cell_type": "code",
   "execution_count": null,
   "metadata": {},
   "outputs": [],
   "source": [
    "sva.claims_reporting_delay().head(10).style.format('{:,.2%}')"
   ]
  },
  {
   "cell_type": "markdown",
   "metadata": {},
   "source": [
    "### claim_delay_factors"
   ]
  },
  {
   "cell_type": "code",
   "execution_count": null,
   "metadata": {},
   "outputs": [],
   "source": [
    "sva.claim_delay_factors().head(10).style.format('{:,.2%}')"
   ]
  },
  {
   "cell_type": "markdown",
   "metadata": {},
   "source": [
    "### claims_expense_reserve"
   ]
  },
  {
   "cell_type": "code",
   "execution_count": null,
   "metadata": {},
   "outputs": [],
   "source": [
    "sva.claims_expense_reserve().style.format('{:,.2%}')"
   ]
  },
  {
   "cell_type": "markdown",
   "metadata": {},
   "source": [
    "### operating_expense_perc_premium"
   ]
  },
  {
   "cell_type": "code",
   "execution_count": null,
   "metadata": {},
   "outputs": [],
   "source": [
    "sva.operating_expense_perc_premium().style.format('{:,.2%}')"
   ]
  },
  {
   "cell_type": "markdown",
   "metadata": {},
   "source": [
    "### budgeted_trustee_expense"
   ]
  },
  {
   "cell_type": "code",
   "execution_count": null,
   "metadata": {},
   "outputs": [],
   "source": [
    "sva.budgeted_trustee_expense().style.format('{:,}')"
   ]
  },
  {
   "cell_type": "markdown",
   "metadata": {},
   "source": [
    "### projected_trustee_expense"
   ]
  },
  {
   "cell_type": "code",
   "execution_count": null,
   "metadata": {},
   "outputs": [],
   "source": [
    "sva.projected_trustee_expense().style.format('{:,.2%}')"
   ]
  },
  {
   "cell_type": "markdown",
   "metadata": {},
   "source": [
    "### ip_continuance_rates"
   ]
  },
  {
   "cell_type": "code",
   "execution_count": null,
   "metadata": {},
   "outputs": [],
   "source": [
    "sva.ip_continuance_rates().head(10).style.format('{:,.2%}')"
   ]
  },
  {
   "cell_type": "markdown",
   "metadata": {},
   "source": [
    "### dlr_parameters"
   ]
  },
  {
   "cell_type": "markdown",
   "metadata": {},
   "source": [
    "#### salary_replacement_ratio"
   ]
  },
  {
   "cell_type": "code",
   "execution_count": null,
   "metadata": {},
   "outputs": [],
   "source": [
    "sva.dlr_parameters.salary_replacement_ratio().style.format('{:,.2%}')"
   ]
  },
  {
   "cell_type": "markdown",
   "metadata": {},
   "source": [
    "#### continuing_retirement_benefit"
   ]
  },
  {
   "cell_type": "code",
   "execution_count": null,
   "metadata": {},
   "outputs": [],
   "source": [
    "sva.dlr_parameters.continuing_retirement_benefit().style.format('{:,.2%}')"
   ]
  },
  {
   "cell_type": "markdown",
   "metadata": {},
   "source": [
    "#### assumed_avg_age_at_disability"
   ]
  },
  {
   "cell_type": "code",
   "execution_count": null,
   "metadata": {},
   "outputs": [],
   "source": [
    "sva.dlr_parameters.assumed_avg_age_at_disability().style.format('{:,}')"
   ]
  },
  {
   "cell_type": "markdown",
   "metadata": {},
   "source": [
    "#### payment_ratio"
   ]
  },
  {
   "cell_type": "code",
   "execution_count": null,
   "metadata": {},
   "outputs": [],
   "source": [
    "sva.dlr_parameters.payment_ratio().style.format('{:,.2%}')"
   ]
  },
  {
   "cell_type": "markdown",
   "metadata": {},
   "source": [
    "#### reopened_claims_reserves_loading"
   ]
  },
  {
   "cell_type": "code",
   "execution_count": null,
   "metadata": {},
   "outputs": [],
   "source": [
    "sva.dlr_parameters.reopened_claims_reserves_loading().style.format('{:,.2%}')"
   ]
  },
  {
   "cell_type": "markdown",
   "metadata": {},
   "source": [
    "#### benefit_indexation_month"
   ]
  },
  {
   "cell_type": "code",
   "execution_count": null,
   "metadata": {},
   "outputs": [],
   "source": [
    "sva.dlr_parameters.benefit_indexation_month().style.format('{:,}')"
   ]
  },
  {
   "cell_type": "markdown",
   "metadata": {},
   "source": [
    "### ip_ibnr_adjustment"
   ]
  },
  {
   "cell_type": "code",
   "execution_count": null,
   "metadata": {},
   "outputs": [],
   "source": [
    "sva.ip_ibnr_adjustment().style.format('{:,}')"
   ]
  },
  {
   "cell_type": "markdown",
   "metadata": {},
   "source": [
    "### appeals_reserve_assumptions"
   ]
  },
  {
   "cell_type": "code",
   "execution_count": null,
   "metadata": {},
   "outputs": [],
   "source": [
    "sva.appeals_reserve_assumptions().style.format('{:,.2%}')"
   ]
  },
  {
   "cell_type": "markdown",
   "metadata": {},
   "source": [
    "### perc_of_appealed_claims_accepted"
   ]
  },
  {
   "cell_type": "code",
   "execution_count": null,
   "metadata": {},
   "outputs": [],
   "source": [
    "sva.perc_of_appealed_claims_accepted().style.format('{:,.2%}')"
   ]
  },
  {
   "cell_type": "markdown",
   "metadata": {},
   "source": [
    "### decline_rate"
   ]
  },
  {
   "cell_type": "code",
   "execution_count": null,
   "metadata": {},
   "outputs": [],
   "source": [
    "sva.decline_rate().style.format('{:,.2%}')"
   ]
  },
  {
   "cell_type": "markdown",
   "metadata": {},
   "source": [
    "### decline_rate_delay"
   ]
  },
  {
   "cell_type": "code",
   "execution_count": null,
   "metadata": {},
   "outputs": [],
   "source": [
    "sva.decline_rate_delay().style.format('{:,.2%}')"
   ]
  },
  {
   "cell_type": "markdown",
   "metadata": {},
   "source": [
    "### simultaneous_ip_tpd_decline"
   ]
  },
  {
   "cell_type": "code",
   "execution_count": null,
   "metadata": {},
   "outputs": [],
   "source": [
    "sva.simultaneous_ip_tpd_decline()#.style.format('{:,.2%}')"
   ]
  },
  {
   "cell_type": "markdown",
   "metadata": {},
   "source": [
    "### expected_loss_ratio_gov"
   ]
  },
  {
   "cell_type": "code",
   "execution_count": null,
   "metadata": {},
   "outputs": [],
   "source": [
    "sva.expected_loss_ratio_gov().fillna(0).head(10).style.format('{:,.2%}')"
   ]
  },
  {
   "cell_type": "markdown",
   "metadata": {},
   "source": [
    "### expected_loss_ratio_nongov"
   ]
  },
  {
   "cell_type": "code",
   "execution_count": null,
   "metadata": {},
   "outputs": [],
   "source": [
    "sva.expected_loss_ratio_nongov().fillna(0).head(10).style.format('{:,.2%}')"
   ]
  },
  {
   "cell_type": "markdown",
   "metadata": {},
   "source": [
    "### payment_delay_factors"
   ]
  },
  {
   "cell_type": "code",
   "execution_count": null,
   "metadata": {},
   "outputs": [],
   "source": [
    "sva.payment_delay_factors().head(10).style.format('{:,.2%}')"
   ]
  },
  {
   "cell_type": "markdown",
   "metadata": {},
   "source": [
    "### payment_delay_factors_discrete"
   ]
  },
  {
   "cell_type": "code",
   "execution_count": null,
   "metadata": {},
   "outputs": [],
   "source": [
    "sva.payment_delay_factors_discrete().head(10).style.format('{:,.2%}')"
   ]
  },
  {
   "cell_type": "markdown",
   "metadata": {},
   "source": [
    "### average_claim_size"
   ]
  },
  {
   "cell_type": "code",
   "execution_count": null,
   "metadata": {},
   "outputs": [],
   "source": [
    "sva.average_claim_size().style.format('{:,}')"
   ]
  },
  {
   "cell_type": "markdown",
   "metadata": {},
   "source": [
    "### acs_ip_linked_tpd"
   ]
  },
  {
   "cell_type": "code",
   "execution_count": null,
   "metadata": {},
   "outputs": [],
   "source": [
    "sva.acs_ip_linked_tpd().style.format('{:,}')"
   ]
  },
  {
   "cell_type": "markdown",
   "metadata": {},
   "source": [
    "### acs_by_notification_delay_q"
   ]
  },
  {
   "cell_type": "code",
   "execution_count": null,
   "metadata": {},
   "outputs": [],
   "source": [
    "sva.acs_by_notification_delay_q().head(10).style.format('{:,}')"
   ]
  },
  {
   "cell_type": "markdown",
   "metadata": {},
   "source": [
    "### perc_si_at_ip_doe"
   ]
  },
  {
   "cell_type": "code",
   "execution_count": null,
   "metadata": {},
   "outputs": [],
   "source": [
    "sva.perc_si_at_ip_doe().style.format('{:,.2%}')"
   ]
  },
  {
   "cell_type": "markdown",
   "metadata": {},
   "source": [
    "### tpd_si_scales_by_age"
   ]
  },
  {
   "cell_type": "code",
   "execution_count": null,
   "metadata": {},
   "outputs": [],
   "source": [
    "sva.tpd_si_scales_by_age().head(10).round(2).style.format('{:,}')"
   ]
  },
  {
   "cell_type": "markdown",
   "metadata": {},
   "source": [
    "### termination_rates"
   ]
  },
  {
   "cell_type": "markdown",
   "metadata": {},
   "source": [
    "#### age_rates"
   ]
  },
  {
   "cell_type": "code",
   "execution_count": 3,
   "metadata": {},
   "outputs": [
    {
     "data": {
      "text/html": [
       "<style  type=\"text/css\" >\n",
       "</style><table id=\"T_7bcf1c00_da06_11eb_91bd_c8348e310a39\" ><thead>    <tr>        <th class=\"blank level0\" ></th>        <th class=\"col_heading level0 col0\" >Male</th>        <th class=\"col_heading level0 col1\" >Female</th>    </tr>    <tr>        <th class=\"index_name level0\" >Age*</th>        <th class=\"blank\" ></th>        <th class=\"blank\" ></th>    </tr></thead><tbody>\n",
       "                <tr>\n",
       "                        <th id=\"T_7bcf1c00_da06_11eb_91bd_c8348e310a39level0_row0\" class=\"row_heading level0 row0\" >20.0</th>\n",
       "                        <td id=\"T_7bcf1c00_da06_11eb_91bd_c8348e310a39row0_col0\" class=\"data row0 col0\" >93.00%</td>\n",
       "                        <td id=\"T_7bcf1c00_da06_11eb_91bd_c8348e310a39row0_col1\" class=\"data row0 col1\" >102.00%</td>\n",
       "            </tr>\n",
       "            <tr>\n",
       "                        <th id=\"T_7bcf1c00_da06_11eb_91bd_c8348e310a39level0_row1\" class=\"row_heading level0 row1\" >21.0</th>\n",
       "                        <td id=\"T_7bcf1c00_da06_11eb_91bd_c8348e310a39row1_col0\" class=\"data row1 col0\" >93.00%</td>\n",
       "                        <td id=\"T_7bcf1c00_da06_11eb_91bd_c8348e310a39row1_col1\" class=\"data row1 col1\" >102.00%</td>\n",
       "            </tr>\n",
       "            <tr>\n",
       "                        <th id=\"T_7bcf1c00_da06_11eb_91bd_c8348e310a39level0_row2\" class=\"row_heading level0 row2\" >22.0</th>\n",
       "                        <td id=\"T_7bcf1c00_da06_11eb_91bd_c8348e310a39row2_col0\" class=\"data row2 col0\" >93.00%</td>\n",
       "                        <td id=\"T_7bcf1c00_da06_11eb_91bd_c8348e310a39row2_col1\" class=\"data row2 col1\" >102.00%</td>\n",
       "            </tr>\n",
       "            <tr>\n",
       "                        <th id=\"T_7bcf1c00_da06_11eb_91bd_c8348e310a39level0_row3\" class=\"row_heading level0 row3\" >23.0</th>\n",
       "                        <td id=\"T_7bcf1c00_da06_11eb_91bd_c8348e310a39row3_col0\" class=\"data row3 col0\" >93.00%</td>\n",
       "                        <td id=\"T_7bcf1c00_da06_11eb_91bd_c8348e310a39row3_col1\" class=\"data row3 col1\" >102.00%</td>\n",
       "            </tr>\n",
       "            <tr>\n",
       "                        <th id=\"T_7bcf1c00_da06_11eb_91bd_c8348e310a39level0_row4\" class=\"row_heading level0 row4\" >24.0</th>\n",
       "                        <td id=\"T_7bcf1c00_da06_11eb_91bd_c8348e310a39row4_col0\" class=\"data row4 col0\" >93.00%</td>\n",
       "                        <td id=\"T_7bcf1c00_da06_11eb_91bd_c8348e310a39row4_col1\" class=\"data row4 col1\" >102.00%</td>\n",
       "            </tr>\n",
       "            <tr>\n",
       "                        <th id=\"T_7bcf1c00_da06_11eb_91bd_c8348e310a39level0_row5\" class=\"row_heading level0 row5\" >25.0</th>\n",
       "                        <td id=\"T_7bcf1c00_da06_11eb_91bd_c8348e310a39row5_col0\" class=\"data row5 col0\" >93.00%</td>\n",
       "                        <td id=\"T_7bcf1c00_da06_11eb_91bd_c8348e310a39row5_col1\" class=\"data row5 col1\" >102.00%</td>\n",
       "            </tr>\n",
       "            <tr>\n",
       "                        <th id=\"T_7bcf1c00_da06_11eb_91bd_c8348e310a39level0_row6\" class=\"row_heading level0 row6\" >26.0</th>\n",
       "                        <td id=\"T_7bcf1c00_da06_11eb_91bd_c8348e310a39row6_col0\" class=\"data row6 col0\" >93.00%</td>\n",
       "                        <td id=\"T_7bcf1c00_da06_11eb_91bd_c8348e310a39row6_col1\" class=\"data row6 col1\" >102.00%</td>\n",
       "            </tr>\n",
       "            <tr>\n",
       "                        <th id=\"T_7bcf1c00_da06_11eb_91bd_c8348e310a39level0_row7\" class=\"row_heading level0 row7\" >27.0</th>\n",
       "                        <td id=\"T_7bcf1c00_da06_11eb_91bd_c8348e310a39row7_col0\" class=\"data row7 col0\" >93.00%</td>\n",
       "                        <td id=\"T_7bcf1c00_da06_11eb_91bd_c8348e310a39row7_col1\" class=\"data row7 col1\" >102.00%</td>\n",
       "            </tr>\n",
       "            <tr>\n",
       "                        <th id=\"T_7bcf1c00_da06_11eb_91bd_c8348e310a39level0_row8\" class=\"row_heading level0 row8\" >28.0</th>\n",
       "                        <td id=\"T_7bcf1c00_da06_11eb_91bd_c8348e310a39row8_col0\" class=\"data row8 col0\" >93.00%</td>\n",
       "                        <td id=\"T_7bcf1c00_da06_11eb_91bd_c8348e310a39row8_col1\" class=\"data row8 col1\" >102.00%</td>\n",
       "            </tr>\n",
       "            <tr>\n",
       "                        <th id=\"T_7bcf1c00_da06_11eb_91bd_c8348e310a39level0_row9\" class=\"row_heading level0 row9\" >29.0</th>\n",
       "                        <td id=\"T_7bcf1c00_da06_11eb_91bd_c8348e310a39row9_col0\" class=\"data row9 col0\" >93.00%</td>\n",
       "                        <td id=\"T_7bcf1c00_da06_11eb_91bd_c8348e310a39row9_col1\" class=\"data row9 col1\" >102.00%</td>\n",
       "            </tr>\n",
       "    </tbody></table>"
      ],
      "text/plain": [
       "<pandas.io.formats.style.Styler at 0x173203fed08>"
      ]
     },
     "execution_count": 3,
     "metadata": {},
     "output_type": "execute_result"
    }
   ],
   "source": [
    "sva.termination_rates.age_rates().head(10).style.format('{:,.2%}')"
   ]
  },
  {
   "cell_type": "markdown",
   "metadata": {},
   "source": [
    "#### duration_of_claim_g_wp_oc"
   ]
  },
  {
   "cell_type": "code",
   "execution_count": 5,
   "metadata": {},
   "outputs": [
    {
     "data": {
      "text/html": [
       "<style  type=\"text/css\" >\n",
       "</style><table id=\"T_9eed2e10_da06_11eb_ab99_c8348e310a39\" ><thead>    <tr>        <th class=\"blank level0\" ></th>        <th class=\"col_heading level0 col0\" colspan=12>Male</th>        <th class=\"col_heading level0 col12\" colspan=12>Female</th>    </tr>    <tr>        <th class=\"blank level1\" ></th>        <th class=\"col_heading level1 col0\" colspan=6>Accident</th>        <th class=\"col_heading level1 col6\" colspan=6>Sickness</th>        <th class=\"col_heading level1 col12\" colspan=6>Accident</th>        <th class=\"col_heading level1 col18\" colspan=6>Sickness</th>    </tr>    <tr>        <th class=\"blank level2\" ></th>        <th class=\"col_heading level2 col0\" colspan=2>Professional / Medical</th>        <th class=\"col_heading level2 col2\" colspan=2>White Collar / Sedentary</th>        <th class=\"col_heading level2 col4\" colspan=2>Combined Blue Collar</th>        <th class=\"col_heading level2 col6\" colspan=2>Professional / Medical</th>        <th class=\"col_heading level2 col8\" colspan=2>White Collar / Sedentary</th>        <th class=\"col_heading level2 col10\" colspan=2>Combined Blue Collar</th>        <th class=\"col_heading level2 col12\" colspan=2>Professional / Medical</th>        <th class=\"col_heading level2 col14\" colspan=2>White Collar / Sedentary</th>        <th class=\"col_heading level2 col16\" colspan=2>Combined Blue Collar</th>        <th class=\"col_heading level2 col18\" colspan=2>Professional / Medical</th>        <th class=\"col_heading level2 col20\" colspan=2>White Collar / Sedentary</th>        <th class=\"col_heading level2 col22\" colspan=2>Combined Blue Collar</th>    </tr>    <tr>        <th class=\"blank level3\" ></th>        <th class=\"col_heading level3 col0\" ><= 30 Day Wait</th>        <th class=\"col_heading level3 col1\" >90 Day Wait</th>        <th class=\"col_heading level3 col2\" ><= 30 Day Wait</th>        <th class=\"col_heading level3 col3\" >90 Day Wait</th>        <th class=\"col_heading level3 col4\" ><= 30 Day Wait</th>        <th class=\"col_heading level3 col5\" >90 Day Wait</th>        <th class=\"col_heading level3 col6\" ><= 30 Day Wait</th>        <th class=\"col_heading level3 col7\" >90 Day Wait</th>        <th class=\"col_heading level3 col8\" ><= 30 Day Wait</th>        <th class=\"col_heading level3 col9\" >90 Day Wait</th>        <th class=\"col_heading level3 col10\" ><= 30 Day Wait</th>        <th class=\"col_heading level3 col11\" >90 Day Wait</th>        <th class=\"col_heading level3 col12\" ><= 30 Day Wait</th>        <th class=\"col_heading level3 col13\" >90 Day Wait</th>        <th class=\"col_heading level3 col14\" ><= 30 Day Wait</th>        <th class=\"col_heading level3 col15\" >90 Day Wait</th>        <th class=\"col_heading level3 col16\" ><= 30 Day Wait</th>        <th class=\"col_heading level3 col17\" >90 Day Wait</th>        <th class=\"col_heading level3 col18\" ><= 30 Day Wait</th>        <th class=\"col_heading level3 col19\" >90 Day Wait</th>        <th class=\"col_heading level3 col20\" ><= 30 Day Wait</th>        <th class=\"col_heading level3 col21\" >90 Day Wait</th>        <th class=\"col_heading level3 col22\" ><= 30 Day Wait</th>        <th class=\"col_heading level3 col23\" >90 Day Wait</th>    </tr>    <tr>        <th class=\"index_name level0\" >Duration of Claim (months)</th>        <th class=\"blank\" ></th>        <th class=\"blank\" ></th>        <th class=\"blank\" ></th>        <th class=\"blank\" ></th>        <th class=\"blank\" ></th>        <th class=\"blank\" ></th>        <th class=\"blank\" ></th>        <th class=\"blank\" ></th>        <th class=\"blank\" ></th>        <th class=\"blank\" ></th>        <th class=\"blank\" ></th>        <th class=\"blank\" ></th>        <th class=\"blank\" ></th>        <th class=\"blank\" ></th>        <th class=\"blank\" ></th>        <th class=\"blank\" ></th>        <th class=\"blank\" ></th>        <th class=\"blank\" ></th>        <th class=\"blank\" ></th>        <th class=\"blank\" ></th>        <th class=\"blank\" ></th>        <th class=\"blank\" ></th>        <th class=\"blank\" ></th>        <th class=\"blank\" ></th>    </tr></thead><tbody>\n",
       "                <tr>\n",
       "                        <th id=\"T_9eed2e10_da06_11eb_ab99_c8348e310a39level0_row0\" class=\"row_heading level0 row0\" >1</th>\n",
       "                        <td id=\"T_9eed2e10_da06_11eb_ab99_c8348e310a39row0_col0\" class=\"data row0 col0\" >100.00%</td>\n",
       "                        <td id=\"T_9eed2e10_da06_11eb_ab99_c8348e310a39row0_col1\" class=\"data row0 col1\" >100.00%</td>\n",
       "                        <td id=\"T_9eed2e10_da06_11eb_ab99_c8348e310a39row0_col2\" class=\"data row0 col2\" >100.00%</td>\n",
       "                        <td id=\"T_9eed2e10_da06_11eb_ab99_c8348e310a39row0_col3\" class=\"data row0 col3\" >100.00%</td>\n",
       "                        <td id=\"T_9eed2e10_da06_11eb_ab99_c8348e310a39row0_col4\" class=\"data row0 col4\" >100.00%</td>\n",
       "                        <td id=\"T_9eed2e10_da06_11eb_ab99_c8348e310a39row0_col5\" class=\"data row0 col5\" >100.00%</td>\n",
       "                        <td id=\"T_9eed2e10_da06_11eb_ab99_c8348e310a39row0_col6\" class=\"data row0 col6\" >100.00%</td>\n",
       "                        <td id=\"T_9eed2e10_da06_11eb_ab99_c8348e310a39row0_col7\" class=\"data row0 col7\" >100.00%</td>\n",
       "                        <td id=\"T_9eed2e10_da06_11eb_ab99_c8348e310a39row0_col8\" class=\"data row0 col8\" >100.00%</td>\n",
       "                        <td id=\"T_9eed2e10_da06_11eb_ab99_c8348e310a39row0_col9\" class=\"data row0 col9\" >100.00%</td>\n",
       "                        <td id=\"T_9eed2e10_da06_11eb_ab99_c8348e310a39row0_col10\" class=\"data row0 col10\" >100.00%</td>\n",
       "                        <td id=\"T_9eed2e10_da06_11eb_ab99_c8348e310a39row0_col11\" class=\"data row0 col11\" >100.00%</td>\n",
       "                        <td id=\"T_9eed2e10_da06_11eb_ab99_c8348e310a39row0_col12\" class=\"data row0 col12\" >100.00%</td>\n",
       "                        <td id=\"T_9eed2e10_da06_11eb_ab99_c8348e310a39row0_col13\" class=\"data row0 col13\" >100.00%</td>\n",
       "                        <td id=\"T_9eed2e10_da06_11eb_ab99_c8348e310a39row0_col14\" class=\"data row0 col14\" >100.00%</td>\n",
       "                        <td id=\"T_9eed2e10_da06_11eb_ab99_c8348e310a39row0_col15\" class=\"data row0 col15\" >100.00%</td>\n",
       "                        <td id=\"T_9eed2e10_da06_11eb_ab99_c8348e310a39row0_col16\" class=\"data row0 col16\" >100.00%</td>\n",
       "                        <td id=\"T_9eed2e10_da06_11eb_ab99_c8348e310a39row0_col17\" class=\"data row0 col17\" >100.00%</td>\n",
       "                        <td id=\"T_9eed2e10_da06_11eb_ab99_c8348e310a39row0_col18\" class=\"data row0 col18\" >100.00%</td>\n",
       "                        <td id=\"T_9eed2e10_da06_11eb_ab99_c8348e310a39row0_col19\" class=\"data row0 col19\" >100.00%</td>\n",
       "                        <td id=\"T_9eed2e10_da06_11eb_ab99_c8348e310a39row0_col20\" class=\"data row0 col20\" >100.00%</td>\n",
       "                        <td id=\"T_9eed2e10_da06_11eb_ab99_c8348e310a39row0_col21\" class=\"data row0 col21\" >100.00%</td>\n",
       "                        <td id=\"T_9eed2e10_da06_11eb_ab99_c8348e310a39row0_col22\" class=\"data row0 col22\" >100.00%</td>\n",
       "                        <td id=\"T_9eed2e10_da06_11eb_ab99_c8348e310a39row0_col23\" class=\"data row0 col23\" >100.00%</td>\n",
       "            </tr>\n",
       "            <tr>\n",
       "                        <th id=\"T_9eed2e10_da06_11eb_ab99_c8348e310a39level0_row1\" class=\"row_heading level0 row1\" >2</th>\n",
       "                        <td id=\"T_9eed2e10_da06_11eb_ab99_c8348e310a39row1_col0\" class=\"data row1 col0\" >100.00%</td>\n",
       "                        <td id=\"T_9eed2e10_da06_11eb_ab99_c8348e310a39row1_col1\" class=\"data row1 col1\" >100.00%</td>\n",
       "                        <td id=\"T_9eed2e10_da06_11eb_ab99_c8348e310a39row1_col2\" class=\"data row1 col2\" >100.00%</td>\n",
       "                        <td id=\"T_9eed2e10_da06_11eb_ab99_c8348e310a39row1_col3\" class=\"data row1 col3\" >100.00%</td>\n",
       "                        <td id=\"T_9eed2e10_da06_11eb_ab99_c8348e310a39row1_col4\" class=\"data row1 col4\" >100.00%</td>\n",
       "                        <td id=\"T_9eed2e10_da06_11eb_ab99_c8348e310a39row1_col5\" class=\"data row1 col5\" >100.00%</td>\n",
       "                        <td id=\"T_9eed2e10_da06_11eb_ab99_c8348e310a39row1_col6\" class=\"data row1 col6\" >100.00%</td>\n",
       "                        <td id=\"T_9eed2e10_da06_11eb_ab99_c8348e310a39row1_col7\" class=\"data row1 col7\" >100.00%</td>\n",
       "                        <td id=\"T_9eed2e10_da06_11eb_ab99_c8348e310a39row1_col8\" class=\"data row1 col8\" >100.00%</td>\n",
       "                        <td id=\"T_9eed2e10_da06_11eb_ab99_c8348e310a39row1_col9\" class=\"data row1 col9\" >100.00%</td>\n",
       "                        <td id=\"T_9eed2e10_da06_11eb_ab99_c8348e310a39row1_col10\" class=\"data row1 col10\" >100.00%</td>\n",
       "                        <td id=\"T_9eed2e10_da06_11eb_ab99_c8348e310a39row1_col11\" class=\"data row1 col11\" >100.00%</td>\n",
       "                        <td id=\"T_9eed2e10_da06_11eb_ab99_c8348e310a39row1_col12\" class=\"data row1 col12\" >100.00%</td>\n",
       "                        <td id=\"T_9eed2e10_da06_11eb_ab99_c8348e310a39row1_col13\" class=\"data row1 col13\" >100.00%</td>\n",
       "                        <td id=\"T_9eed2e10_da06_11eb_ab99_c8348e310a39row1_col14\" class=\"data row1 col14\" >100.00%</td>\n",
       "                        <td id=\"T_9eed2e10_da06_11eb_ab99_c8348e310a39row1_col15\" class=\"data row1 col15\" >100.00%</td>\n",
       "                        <td id=\"T_9eed2e10_da06_11eb_ab99_c8348e310a39row1_col16\" class=\"data row1 col16\" >100.00%</td>\n",
       "                        <td id=\"T_9eed2e10_da06_11eb_ab99_c8348e310a39row1_col17\" class=\"data row1 col17\" >100.00%</td>\n",
       "                        <td id=\"T_9eed2e10_da06_11eb_ab99_c8348e310a39row1_col18\" class=\"data row1 col18\" >100.00%</td>\n",
       "                        <td id=\"T_9eed2e10_da06_11eb_ab99_c8348e310a39row1_col19\" class=\"data row1 col19\" >100.00%</td>\n",
       "                        <td id=\"T_9eed2e10_da06_11eb_ab99_c8348e310a39row1_col20\" class=\"data row1 col20\" >100.00%</td>\n",
       "                        <td id=\"T_9eed2e10_da06_11eb_ab99_c8348e310a39row1_col21\" class=\"data row1 col21\" >100.00%</td>\n",
       "                        <td id=\"T_9eed2e10_da06_11eb_ab99_c8348e310a39row1_col22\" class=\"data row1 col22\" >100.00%</td>\n",
       "                        <td id=\"T_9eed2e10_da06_11eb_ab99_c8348e310a39row1_col23\" class=\"data row1 col23\" >100.00%</td>\n",
       "            </tr>\n",
       "            <tr>\n",
       "                        <th id=\"T_9eed2e10_da06_11eb_ab99_c8348e310a39level0_row2\" class=\"row_heading level0 row2\" >3</th>\n",
       "                        <td id=\"T_9eed2e10_da06_11eb_ab99_c8348e310a39row2_col0\" class=\"data row2 col0\" >100.00%</td>\n",
       "                        <td id=\"T_9eed2e10_da06_11eb_ab99_c8348e310a39row2_col1\" class=\"data row2 col1\" >100.00%</td>\n",
       "                        <td id=\"T_9eed2e10_da06_11eb_ab99_c8348e310a39row2_col2\" class=\"data row2 col2\" >100.00%</td>\n",
       "                        <td id=\"T_9eed2e10_da06_11eb_ab99_c8348e310a39row2_col3\" class=\"data row2 col3\" >100.00%</td>\n",
       "                        <td id=\"T_9eed2e10_da06_11eb_ab99_c8348e310a39row2_col4\" class=\"data row2 col4\" >100.00%</td>\n",
       "                        <td id=\"T_9eed2e10_da06_11eb_ab99_c8348e310a39row2_col5\" class=\"data row2 col5\" >100.00%</td>\n",
       "                        <td id=\"T_9eed2e10_da06_11eb_ab99_c8348e310a39row2_col6\" class=\"data row2 col6\" >100.00%</td>\n",
       "                        <td id=\"T_9eed2e10_da06_11eb_ab99_c8348e310a39row2_col7\" class=\"data row2 col7\" >100.00%</td>\n",
       "                        <td id=\"T_9eed2e10_da06_11eb_ab99_c8348e310a39row2_col8\" class=\"data row2 col8\" >100.00%</td>\n",
       "                        <td id=\"T_9eed2e10_da06_11eb_ab99_c8348e310a39row2_col9\" class=\"data row2 col9\" >100.00%</td>\n",
       "                        <td id=\"T_9eed2e10_da06_11eb_ab99_c8348e310a39row2_col10\" class=\"data row2 col10\" >100.00%</td>\n",
       "                        <td id=\"T_9eed2e10_da06_11eb_ab99_c8348e310a39row2_col11\" class=\"data row2 col11\" >100.00%</td>\n",
       "                        <td id=\"T_9eed2e10_da06_11eb_ab99_c8348e310a39row2_col12\" class=\"data row2 col12\" >100.00%</td>\n",
       "                        <td id=\"T_9eed2e10_da06_11eb_ab99_c8348e310a39row2_col13\" class=\"data row2 col13\" >100.00%</td>\n",
       "                        <td id=\"T_9eed2e10_da06_11eb_ab99_c8348e310a39row2_col14\" class=\"data row2 col14\" >100.00%</td>\n",
       "                        <td id=\"T_9eed2e10_da06_11eb_ab99_c8348e310a39row2_col15\" class=\"data row2 col15\" >100.00%</td>\n",
       "                        <td id=\"T_9eed2e10_da06_11eb_ab99_c8348e310a39row2_col16\" class=\"data row2 col16\" >100.00%</td>\n",
       "                        <td id=\"T_9eed2e10_da06_11eb_ab99_c8348e310a39row2_col17\" class=\"data row2 col17\" >100.00%</td>\n",
       "                        <td id=\"T_9eed2e10_da06_11eb_ab99_c8348e310a39row2_col18\" class=\"data row2 col18\" >100.00%</td>\n",
       "                        <td id=\"T_9eed2e10_da06_11eb_ab99_c8348e310a39row2_col19\" class=\"data row2 col19\" >100.00%</td>\n",
       "                        <td id=\"T_9eed2e10_da06_11eb_ab99_c8348e310a39row2_col20\" class=\"data row2 col20\" >100.00%</td>\n",
       "                        <td id=\"T_9eed2e10_da06_11eb_ab99_c8348e310a39row2_col21\" class=\"data row2 col21\" >100.00%</td>\n",
       "                        <td id=\"T_9eed2e10_da06_11eb_ab99_c8348e310a39row2_col22\" class=\"data row2 col22\" >100.00%</td>\n",
       "                        <td id=\"T_9eed2e10_da06_11eb_ab99_c8348e310a39row2_col23\" class=\"data row2 col23\" >100.00%</td>\n",
       "            </tr>\n",
       "            <tr>\n",
       "                        <th id=\"T_9eed2e10_da06_11eb_ab99_c8348e310a39level0_row3\" class=\"row_heading level0 row3\" >4</th>\n",
       "                        <td id=\"T_9eed2e10_da06_11eb_ab99_c8348e310a39row3_col0\" class=\"data row3 col0\" >100.00%</td>\n",
       "                        <td id=\"T_9eed2e10_da06_11eb_ab99_c8348e310a39row3_col1\" class=\"data row3 col1\" >100.00%</td>\n",
       "                        <td id=\"T_9eed2e10_da06_11eb_ab99_c8348e310a39row3_col2\" class=\"data row3 col2\" >100.00%</td>\n",
       "                        <td id=\"T_9eed2e10_da06_11eb_ab99_c8348e310a39row3_col3\" class=\"data row3 col3\" >100.00%</td>\n",
       "                        <td id=\"T_9eed2e10_da06_11eb_ab99_c8348e310a39row3_col4\" class=\"data row3 col4\" >100.00%</td>\n",
       "                        <td id=\"T_9eed2e10_da06_11eb_ab99_c8348e310a39row3_col5\" class=\"data row3 col5\" >100.00%</td>\n",
       "                        <td id=\"T_9eed2e10_da06_11eb_ab99_c8348e310a39row3_col6\" class=\"data row3 col6\" >100.00%</td>\n",
       "                        <td id=\"T_9eed2e10_da06_11eb_ab99_c8348e310a39row3_col7\" class=\"data row3 col7\" >100.00%</td>\n",
       "                        <td id=\"T_9eed2e10_da06_11eb_ab99_c8348e310a39row3_col8\" class=\"data row3 col8\" >100.00%</td>\n",
       "                        <td id=\"T_9eed2e10_da06_11eb_ab99_c8348e310a39row3_col9\" class=\"data row3 col9\" >100.00%</td>\n",
       "                        <td id=\"T_9eed2e10_da06_11eb_ab99_c8348e310a39row3_col10\" class=\"data row3 col10\" >100.00%</td>\n",
       "                        <td id=\"T_9eed2e10_da06_11eb_ab99_c8348e310a39row3_col11\" class=\"data row3 col11\" >100.00%</td>\n",
       "                        <td id=\"T_9eed2e10_da06_11eb_ab99_c8348e310a39row3_col12\" class=\"data row3 col12\" >100.00%</td>\n",
       "                        <td id=\"T_9eed2e10_da06_11eb_ab99_c8348e310a39row3_col13\" class=\"data row3 col13\" >100.00%</td>\n",
       "                        <td id=\"T_9eed2e10_da06_11eb_ab99_c8348e310a39row3_col14\" class=\"data row3 col14\" >100.00%</td>\n",
       "                        <td id=\"T_9eed2e10_da06_11eb_ab99_c8348e310a39row3_col15\" class=\"data row3 col15\" >100.00%</td>\n",
       "                        <td id=\"T_9eed2e10_da06_11eb_ab99_c8348e310a39row3_col16\" class=\"data row3 col16\" >100.00%</td>\n",
       "                        <td id=\"T_9eed2e10_da06_11eb_ab99_c8348e310a39row3_col17\" class=\"data row3 col17\" >100.00%</td>\n",
       "                        <td id=\"T_9eed2e10_da06_11eb_ab99_c8348e310a39row3_col18\" class=\"data row3 col18\" >100.00%</td>\n",
       "                        <td id=\"T_9eed2e10_da06_11eb_ab99_c8348e310a39row3_col19\" class=\"data row3 col19\" >100.00%</td>\n",
       "                        <td id=\"T_9eed2e10_da06_11eb_ab99_c8348e310a39row3_col20\" class=\"data row3 col20\" >100.00%</td>\n",
       "                        <td id=\"T_9eed2e10_da06_11eb_ab99_c8348e310a39row3_col21\" class=\"data row3 col21\" >100.00%</td>\n",
       "                        <td id=\"T_9eed2e10_da06_11eb_ab99_c8348e310a39row3_col22\" class=\"data row3 col22\" >100.00%</td>\n",
       "                        <td id=\"T_9eed2e10_da06_11eb_ab99_c8348e310a39row3_col23\" class=\"data row3 col23\" >100.00%</td>\n",
       "            </tr>\n",
       "            <tr>\n",
       "                        <th id=\"T_9eed2e10_da06_11eb_ab99_c8348e310a39level0_row4\" class=\"row_heading level0 row4\" >5</th>\n",
       "                        <td id=\"T_9eed2e10_da06_11eb_ab99_c8348e310a39row4_col0\" class=\"data row4 col0\" >100.00%</td>\n",
       "                        <td id=\"T_9eed2e10_da06_11eb_ab99_c8348e310a39row4_col1\" class=\"data row4 col1\" >100.00%</td>\n",
       "                        <td id=\"T_9eed2e10_da06_11eb_ab99_c8348e310a39row4_col2\" class=\"data row4 col2\" >100.00%</td>\n",
       "                        <td id=\"T_9eed2e10_da06_11eb_ab99_c8348e310a39row4_col3\" class=\"data row4 col3\" >100.00%</td>\n",
       "                        <td id=\"T_9eed2e10_da06_11eb_ab99_c8348e310a39row4_col4\" class=\"data row4 col4\" >100.00%</td>\n",
       "                        <td id=\"T_9eed2e10_da06_11eb_ab99_c8348e310a39row4_col5\" class=\"data row4 col5\" >100.00%</td>\n",
       "                        <td id=\"T_9eed2e10_da06_11eb_ab99_c8348e310a39row4_col6\" class=\"data row4 col6\" >100.00%</td>\n",
       "                        <td id=\"T_9eed2e10_da06_11eb_ab99_c8348e310a39row4_col7\" class=\"data row4 col7\" >100.00%</td>\n",
       "                        <td id=\"T_9eed2e10_da06_11eb_ab99_c8348e310a39row4_col8\" class=\"data row4 col8\" >100.00%</td>\n",
       "                        <td id=\"T_9eed2e10_da06_11eb_ab99_c8348e310a39row4_col9\" class=\"data row4 col9\" >100.00%</td>\n",
       "                        <td id=\"T_9eed2e10_da06_11eb_ab99_c8348e310a39row4_col10\" class=\"data row4 col10\" >100.00%</td>\n",
       "                        <td id=\"T_9eed2e10_da06_11eb_ab99_c8348e310a39row4_col11\" class=\"data row4 col11\" >100.00%</td>\n",
       "                        <td id=\"T_9eed2e10_da06_11eb_ab99_c8348e310a39row4_col12\" class=\"data row4 col12\" >100.00%</td>\n",
       "                        <td id=\"T_9eed2e10_da06_11eb_ab99_c8348e310a39row4_col13\" class=\"data row4 col13\" >100.00%</td>\n",
       "                        <td id=\"T_9eed2e10_da06_11eb_ab99_c8348e310a39row4_col14\" class=\"data row4 col14\" >100.00%</td>\n",
       "                        <td id=\"T_9eed2e10_da06_11eb_ab99_c8348e310a39row4_col15\" class=\"data row4 col15\" >100.00%</td>\n",
       "                        <td id=\"T_9eed2e10_da06_11eb_ab99_c8348e310a39row4_col16\" class=\"data row4 col16\" >100.00%</td>\n",
       "                        <td id=\"T_9eed2e10_da06_11eb_ab99_c8348e310a39row4_col17\" class=\"data row4 col17\" >100.00%</td>\n",
       "                        <td id=\"T_9eed2e10_da06_11eb_ab99_c8348e310a39row4_col18\" class=\"data row4 col18\" >100.00%</td>\n",
       "                        <td id=\"T_9eed2e10_da06_11eb_ab99_c8348e310a39row4_col19\" class=\"data row4 col19\" >100.00%</td>\n",
       "                        <td id=\"T_9eed2e10_da06_11eb_ab99_c8348e310a39row4_col20\" class=\"data row4 col20\" >100.00%</td>\n",
       "                        <td id=\"T_9eed2e10_da06_11eb_ab99_c8348e310a39row4_col21\" class=\"data row4 col21\" >100.00%</td>\n",
       "                        <td id=\"T_9eed2e10_da06_11eb_ab99_c8348e310a39row4_col22\" class=\"data row4 col22\" >100.00%</td>\n",
       "                        <td id=\"T_9eed2e10_da06_11eb_ab99_c8348e310a39row4_col23\" class=\"data row4 col23\" >100.00%</td>\n",
       "            </tr>\n",
       "            <tr>\n",
       "                        <th id=\"T_9eed2e10_da06_11eb_ab99_c8348e310a39level0_row5\" class=\"row_heading level0 row5\" >6</th>\n",
       "                        <td id=\"T_9eed2e10_da06_11eb_ab99_c8348e310a39row5_col0\" class=\"data row5 col0\" >100.00%</td>\n",
       "                        <td id=\"T_9eed2e10_da06_11eb_ab99_c8348e310a39row5_col1\" class=\"data row5 col1\" >100.00%</td>\n",
       "                        <td id=\"T_9eed2e10_da06_11eb_ab99_c8348e310a39row5_col2\" class=\"data row5 col2\" >100.00%</td>\n",
       "                        <td id=\"T_9eed2e10_da06_11eb_ab99_c8348e310a39row5_col3\" class=\"data row5 col3\" >100.00%</td>\n",
       "                        <td id=\"T_9eed2e10_da06_11eb_ab99_c8348e310a39row5_col4\" class=\"data row5 col4\" >100.00%</td>\n",
       "                        <td id=\"T_9eed2e10_da06_11eb_ab99_c8348e310a39row5_col5\" class=\"data row5 col5\" >100.00%</td>\n",
       "                        <td id=\"T_9eed2e10_da06_11eb_ab99_c8348e310a39row5_col6\" class=\"data row5 col6\" >100.00%</td>\n",
       "                        <td id=\"T_9eed2e10_da06_11eb_ab99_c8348e310a39row5_col7\" class=\"data row5 col7\" >100.00%</td>\n",
       "                        <td id=\"T_9eed2e10_da06_11eb_ab99_c8348e310a39row5_col8\" class=\"data row5 col8\" >100.00%</td>\n",
       "                        <td id=\"T_9eed2e10_da06_11eb_ab99_c8348e310a39row5_col9\" class=\"data row5 col9\" >100.00%</td>\n",
       "                        <td id=\"T_9eed2e10_da06_11eb_ab99_c8348e310a39row5_col10\" class=\"data row5 col10\" >100.00%</td>\n",
       "                        <td id=\"T_9eed2e10_da06_11eb_ab99_c8348e310a39row5_col11\" class=\"data row5 col11\" >100.00%</td>\n",
       "                        <td id=\"T_9eed2e10_da06_11eb_ab99_c8348e310a39row5_col12\" class=\"data row5 col12\" >100.00%</td>\n",
       "                        <td id=\"T_9eed2e10_da06_11eb_ab99_c8348e310a39row5_col13\" class=\"data row5 col13\" >100.00%</td>\n",
       "                        <td id=\"T_9eed2e10_da06_11eb_ab99_c8348e310a39row5_col14\" class=\"data row5 col14\" >100.00%</td>\n",
       "                        <td id=\"T_9eed2e10_da06_11eb_ab99_c8348e310a39row5_col15\" class=\"data row5 col15\" >100.00%</td>\n",
       "                        <td id=\"T_9eed2e10_da06_11eb_ab99_c8348e310a39row5_col16\" class=\"data row5 col16\" >100.00%</td>\n",
       "                        <td id=\"T_9eed2e10_da06_11eb_ab99_c8348e310a39row5_col17\" class=\"data row5 col17\" >100.00%</td>\n",
       "                        <td id=\"T_9eed2e10_da06_11eb_ab99_c8348e310a39row5_col18\" class=\"data row5 col18\" >100.00%</td>\n",
       "                        <td id=\"T_9eed2e10_da06_11eb_ab99_c8348e310a39row5_col19\" class=\"data row5 col19\" >100.00%</td>\n",
       "                        <td id=\"T_9eed2e10_da06_11eb_ab99_c8348e310a39row5_col20\" class=\"data row5 col20\" >100.00%</td>\n",
       "                        <td id=\"T_9eed2e10_da06_11eb_ab99_c8348e310a39row5_col21\" class=\"data row5 col21\" >100.00%</td>\n",
       "                        <td id=\"T_9eed2e10_da06_11eb_ab99_c8348e310a39row5_col22\" class=\"data row5 col22\" >100.00%</td>\n",
       "                        <td id=\"T_9eed2e10_da06_11eb_ab99_c8348e310a39row5_col23\" class=\"data row5 col23\" >100.00%</td>\n",
       "            </tr>\n",
       "            <tr>\n",
       "                        <th id=\"T_9eed2e10_da06_11eb_ab99_c8348e310a39level0_row6\" class=\"row_heading level0 row6\" >7</th>\n",
       "                        <td id=\"T_9eed2e10_da06_11eb_ab99_c8348e310a39row6_col0\" class=\"data row6 col0\" >100.00%</td>\n",
       "                        <td id=\"T_9eed2e10_da06_11eb_ab99_c8348e310a39row6_col1\" class=\"data row6 col1\" >100.00%</td>\n",
       "                        <td id=\"T_9eed2e10_da06_11eb_ab99_c8348e310a39row6_col2\" class=\"data row6 col2\" >100.00%</td>\n",
       "                        <td id=\"T_9eed2e10_da06_11eb_ab99_c8348e310a39row6_col3\" class=\"data row6 col3\" >100.00%</td>\n",
       "                        <td id=\"T_9eed2e10_da06_11eb_ab99_c8348e310a39row6_col4\" class=\"data row6 col4\" >100.00%</td>\n",
       "                        <td id=\"T_9eed2e10_da06_11eb_ab99_c8348e310a39row6_col5\" class=\"data row6 col5\" >100.00%</td>\n",
       "                        <td id=\"T_9eed2e10_da06_11eb_ab99_c8348e310a39row6_col6\" class=\"data row6 col6\" >100.00%</td>\n",
       "                        <td id=\"T_9eed2e10_da06_11eb_ab99_c8348e310a39row6_col7\" class=\"data row6 col7\" >100.00%</td>\n",
       "                        <td id=\"T_9eed2e10_da06_11eb_ab99_c8348e310a39row6_col8\" class=\"data row6 col8\" >100.00%</td>\n",
       "                        <td id=\"T_9eed2e10_da06_11eb_ab99_c8348e310a39row6_col9\" class=\"data row6 col9\" >100.00%</td>\n",
       "                        <td id=\"T_9eed2e10_da06_11eb_ab99_c8348e310a39row6_col10\" class=\"data row6 col10\" >100.00%</td>\n",
       "                        <td id=\"T_9eed2e10_da06_11eb_ab99_c8348e310a39row6_col11\" class=\"data row6 col11\" >100.00%</td>\n",
       "                        <td id=\"T_9eed2e10_da06_11eb_ab99_c8348e310a39row6_col12\" class=\"data row6 col12\" >100.00%</td>\n",
       "                        <td id=\"T_9eed2e10_da06_11eb_ab99_c8348e310a39row6_col13\" class=\"data row6 col13\" >100.00%</td>\n",
       "                        <td id=\"T_9eed2e10_da06_11eb_ab99_c8348e310a39row6_col14\" class=\"data row6 col14\" >100.00%</td>\n",
       "                        <td id=\"T_9eed2e10_da06_11eb_ab99_c8348e310a39row6_col15\" class=\"data row6 col15\" >100.00%</td>\n",
       "                        <td id=\"T_9eed2e10_da06_11eb_ab99_c8348e310a39row6_col16\" class=\"data row6 col16\" >100.00%</td>\n",
       "                        <td id=\"T_9eed2e10_da06_11eb_ab99_c8348e310a39row6_col17\" class=\"data row6 col17\" >100.00%</td>\n",
       "                        <td id=\"T_9eed2e10_da06_11eb_ab99_c8348e310a39row6_col18\" class=\"data row6 col18\" >100.00%</td>\n",
       "                        <td id=\"T_9eed2e10_da06_11eb_ab99_c8348e310a39row6_col19\" class=\"data row6 col19\" >100.00%</td>\n",
       "                        <td id=\"T_9eed2e10_da06_11eb_ab99_c8348e310a39row6_col20\" class=\"data row6 col20\" >100.00%</td>\n",
       "                        <td id=\"T_9eed2e10_da06_11eb_ab99_c8348e310a39row6_col21\" class=\"data row6 col21\" >100.00%</td>\n",
       "                        <td id=\"T_9eed2e10_da06_11eb_ab99_c8348e310a39row6_col22\" class=\"data row6 col22\" >100.00%</td>\n",
       "                        <td id=\"T_9eed2e10_da06_11eb_ab99_c8348e310a39row6_col23\" class=\"data row6 col23\" >100.00%</td>\n",
       "            </tr>\n",
       "            <tr>\n",
       "                        <th id=\"T_9eed2e10_da06_11eb_ab99_c8348e310a39level0_row7\" class=\"row_heading level0 row7\" >8</th>\n",
       "                        <td id=\"T_9eed2e10_da06_11eb_ab99_c8348e310a39row7_col0\" class=\"data row7 col0\" >100.00%</td>\n",
       "                        <td id=\"T_9eed2e10_da06_11eb_ab99_c8348e310a39row7_col1\" class=\"data row7 col1\" >100.00%</td>\n",
       "                        <td id=\"T_9eed2e10_da06_11eb_ab99_c8348e310a39row7_col2\" class=\"data row7 col2\" >100.00%</td>\n",
       "                        <td id=\"T_9eed2e10_da06_11eb_ab99_c8348e310a39row7_col3\" class=\"data row7 col3\" >100.00%</td>\n",
       "                        <td id=\"T_9eed2e10_da06_11eb_ab99_c8348e310a39row7_col4\" class=\"data row7 col4\" >100.00%</td>\n",
       "                        <td id=\"T_9eed2e10_da06_11eb_ab99_c8348e310a39row7_col5\" class=\"data row7 col5\" >100.00%</td>\n",
       "                        <td id=\"T_9eed2e10_da06_11eb_ab99_c8348e310a39row7_col6\" class=\"data row7 col6\" >100.00%</td>\n",
       "                        <td id=\"T_9eed2e10_da06_11eb_ab99_c8348e310a39row7_col7\" class=\"data row7 col7\" >100.00%</td>\n",
       "                        <td id=\"T_9eed2e10_da06_11eb_ab99_c8348e310a39row7_col8\" class=\"data row7 col8\" >100.00%</td>\n",
       "                        <td id=\"T_9eed2e10_da06_11eb_ab99_c8348e310a39row7_col9\" class=\"data row7 col9\" >100.00%</td>\n",
       "                        <td id=\"T_9eed2e10_da06_11eb_ab99_c8348e310a39row7_col10\" class=\"data row7 col10\" >100.00%</td>\n",
       "                        <td id=\"T_9eed2e10_da06_11eb_ab99_c8348e310a39row7_col11\" class=\"data row7 col11\" >100.00%</td>\n",
       "                        <td id=\"T_9eed2e10_da06_11eb_ab99_c8348e310a39row7_col12\" class=\"data row7 col12\" >100.00%</td>\n",
       "                        <td id=\"T_9eed2e10_da06_11eb_ab99_c8348e310a39row7_col13\" class=\"data row7 col13\" >100.00%</td>\n",
       "                        <td id=\"T_9eed2e10_da06_11eb_ab99_c8348e310a39row7_col14\" class=\"data row7 col14\" >100.00%</td>\n",
       "                        <td id=\"T_9eed2e10_da06_11eb_ab99_c8348e310a39row7_col15\" class=\"data row7 col15\" >100.00%</td>\n",
       "                        <td id=\"T_9eed2e10_da06_11eb_ab99_c8348e310a39row7_col16\" class=\"data row7 col16\" >100.00%</td>\n",
       "                        <td id=\"T_9eed2e10_da06_11eb_ab99_c8348e310a39row7_col17\" class=\"data row7 col17\" >100.00%</td>\n",
       "                        <td id=\"T_9eed2e10_da06_11eb_ab99_c8348e310a39row7_col18\" class=\"data row7 col18\" >100.00%</td>\n",
       "                        <td id=\"T_9eed2e10_da06_11eb_ab99_c8348e310a39row7_col19\" class=\"data row7 col19\" >100.00%</td>\n",
       "                        <td id=\"T_9eed2e10_da06_11eb_ab99_c8348e310a39row7_col20\" class=\"data row7 col20\" >100.00%</td>\n",
       "                        <td id=\"T_9eed2e10_da06_11eb_ab99_c8348e310a39row7_col21\" class=\"data row7 col21\" >100.00%</td>\n",
       "                        <td id=\"T_9eed2e10_da06_11eb_ab99_c8348e310a39row7_col22\" class=\"data row7 col22\" >100.00%</td>\n",
       "                        <td id=\"T_9eed2e10_da06_11eb_ab99_c8348e310a39row7_col23\" class=\"data row7 col23\" >100.00%</td>\n",
       "            </tr>\n",
       "            <tr>\n",
       "                        <th id=\"T_9eed2e10_da06_11eb_ab99_c8348e310a39level0_row8\" class=\"row_heading level0 row8\" >9</th>\n",
       "                        <td id=\"T_9eed2e10_da06_11eb_ab99_c8348e310a39row8_col0\" class=\"data row8 col0\" >100.00%</td>\n",
       "                        <td id=\"T_9eed2e10_da06_11eb_ab99_c8348e310a39row8_col1\" class=\"data row8 col1\" >100.00%</td>\n",
       "                        <td id=\"T_9eed2e10_da06_11eb_ab99_c8348e310a39row8_col2\" class=\"data row8 col2\" >100.00%</td>\n",
       "                        <td id=\"T_9eed2e10_da06_11eb_ab99_c8348e310a39row8_col3\" class=\"data row8 col3\" >100.00%</td>\n",
       "                        <td id=\"T_9eed2e10_da06_11eb_ab99_c8348e310a39row8_col4\" class=\"data row8 col4\" >100.00%</td>\n",
       "                        <td id=\"T_9eed2e10_da06_11eb_ab99_c8348e310a39row8_col5\" class=\"data row8 col5\" >100.00%</td>\n",
       "                        <td id=\"T_9eed2e10_da06_11eb_ab99_c8348e310a39row8_col6\" class=\"data row8 col6\" >100.00%</td>\n",
       "                        <td id=\"T_9eed2e10_da06_11eb_ab99_c8348e310a39row8_col7\" class=\"data row8 col7\" >100.00%</td>\n",
       "                        <td id=\"T_9eed2e10_da06_11eb_ab99_c8348e310a39row8_col8\" class=\"data row8 col8\" >100.00%</td>\n",
       "                        <td id=\"T_9eed2e10_da06_11eb_ab99_c8348e310a39row8_col9\" class=\"data row8 col9\" >100.00%</td>\n",
       "                        <td id=\"T_9eed2e10_da06_11eb_ab99_c8348e310a39row8_col10\" class=\"data row8 col10\" >100.00%</td>\n",
       "                        <td id=\"T_9eed2e10_da06_11eb_ab99_c8348e310a39row8_col11\" class=\"data row8 col11\" >100.00%</td>\n",
       "                        <td id=\"T_9eed2e10_da06_11eb_ab99_c8348e310a39row8_col12\" class=\"data row8 col12\" >100.00%</td>\n",
       "                        <td id=\"T_9eed2e10_da06_11eb_ab99_c8348e310a39row8_col13\" class=\"data row8 col13\" >100.00%</td>\n",
       "                        <td id=\"T_9eed2e10_da06_11eb_ab99_c8348e310a39row8_col14\" class=\"data row8 col14\" >100.00%</td>\n",
       "                        <td id=\"T_9eed2e10_da06_11eb_ab99_c8348e310a39row8_col15\" class=\"data row8 col15\" >100.00%</td>\n",
       "                        <td id=\"T_9eed2e10_da06_11eb_ab99_c8348e310a39row8_col16\" class=\"data row8 col16\" >100.00%</td>\n",
       "                        <td id=\"T_9eed2e10_da06_11eb_ab99_c8348e310a39row8_col17\" class=\"data row8 col17\" >100.00%</td>\n",
       "                        <td id=\"T_9eed2e10_da06_11eb_ab99_c8348e310a39row8_col18\" class=\"data row8 col18\" >100.00%</td>\n",
       "                        <td id=\"T_9eed2e10_da06_11eb_ab99_c8348e310a39row8_col19\" class=\"data row8 col19\" >100.00%</td>\n",
       "                        <td id=\"T_9eed2e10_da06_11eb_ab99_c8348e310a39row8_col20\" class=\"data row8 col20\" >100.00%</td>\n",
       "                        <td id=\"T_9eed2e10_da06_11eb_ab99_c8348e310a39row8_col21\" class=\"data row8 col21\" >100.00%</td>\n",
       "                        <td id=\"T_9eed2e10_da06_11eb_ab99_c8348e310a39row8_col22\" class=\"data row8 col22\" >100.00%</td>\n",
       "                        <td id=\"T_9eed2e10_da06_11eb_ab99_c8348e310a39row8_col23\" class=\"data row8 col23\" >100.00%</td>\n",
       "            </tr>\n",
       "            <tr>\n",
       "                        <th id=\"T_9eed2e10_da06_11eb_ab99_c8348e310a39level0_row9\" class=\"row_heading level0 row9\" >10</th>\n",
       "                        <td id=\"T_9eed2e10_da06_11eb_ab99_c8348e310a39row9_col0\" class=\"data row9 col0\" >100.00%</td>\n",
       "                        <td id=\"T_9eed2e10_da06_11eb_ab99_c8348e310a39row9_col1\" class=\"data row9 col1\" >100.00%</td>\n",
       "                        <td id=\"T_9eed2e10_da06_11eb_ab99_c8348e310a39row9_col2\" class=\"data row9 col2\" >100.00%</td>\n",
       "                        <td id=\"T_9eed2e10_da06_11eb_ab99_c8348e310a39row9_col3\" class=\"data row9 col3\" >100.00%</td>\n",
       "                        <td id=\"T_9eed2e10_da06_11eb_ab99_c8348e310a39row9_col4\" class=\"data row9 col4\" >100.00%</td>\n",
       "                        <td id=\"T_9eed2e10_da06_11eb_ab99_c8348e310a39row9_col5\" class=\"data row9 col5\" >100.00%</td>\n",
       "                        <td id=\"T_9eed2e10_da06_11eb_ab99_c8348e310a39row9_col6\" class=\"data row9 col6\" >100.00%</td>\n",
       "                        <td id=\"T_9eed2e10_da06_11eb_ab99_c8348e310a39row9_col7\" class=\"data row9 col7\" >100.00%</td>\n",
       "                        <td id=\"T_9eed2e10_da06_11eb_ab99_c8348e310a39row9_col8\" class=\"data row9 col8\" >100.00%</td>\n",
       "                        <td id=\"T_9eed2e10_da06_11eb_ab99_c8348e310a39row9_col9\" class=\"data row9 col9\" >100.00%</td>\n",
       "                        <td id=\"T_9eed2e10_da06_11eb_ab99_c8348e310a39row9_col10\" class=\"data row9 col10\" >100.00%</td>\n",
       "                        <td id=\"T_9eed2e10_da06_11eb_ab99_c8348e310a39row9_col11\" class=\"data row9 col11\" >100.00%</td>\n",
       "                        <td id=\"T_9eed2e10_da06_11eb_ab99_c8348e310a39row9_col12\" class=\"data row9 col12\" >100.00%</td>\n",
       "                        <td id=\"T_9eed2e10_da06_11eb_ab99_c8348e310a39row9_col13\" class=\"data row9 col13\" >100.00%</td>\n",
       "                        <td id=\"T_9eed2e10_da06_11eb_ab99_c8348e310a39row9_col14\" class=\"data row9 col14\" >100.00%</td>\n",
       "                        <td id=\"T_9eed2e10_da06_11eb_ab99_c8348e310a39row9_col15\" class=\"data row9 col15\" >100.00%</td>\n",
       "                        <td id=\"T_9eed2e10_da06_11eb_ab99_c8348e310a39row9_col16\" class=\"data row9 col16\" >100.00%</td>\n",
       "                        <td id=\"T_9eed2e10_da06_11eb_ab99_c8348e310a39row9_col17\" class=\"data row9 col17\" >100.00%</td>\n",
       "                        <td id=\"T_9eed2e10_da06_11eb_ab99_c8348e310a39row9_col18\" class=\"data row9 col18\" >100.00%</td>\n",
       "                        <td id=\"T_9eed2e10_da06_11eb_ab99_c8348e310a39row9_col19\" class=\"data row9 col19\" >100.00%</td>\n",
       "                        <td id=\"T_9eed2e10_da06_11eb_ab99_c8348e310a39row9_col20\" class=\"data row9 col20\" >100.00%</td>\n",
       "                        <td id=\"T_9eed2e10_da06_11eb_ab99_c8348e310a39row9_col21\" class=\"data row9 col21\" >100.00%</td>\n",
       "                        <td id=\"T_9eed2e10_da06_11eb_ab99_c8348e310a39row9_col22\" class=\"data row9 col22\" >100.00%</td>\n",
       "                        <td id=\"T_9eed2e10_da06_11eb_ab99_c8348e310a39row9_col23\" class=\"data row9 col23\" >100.00%</td>\n",
       "            </tr>\n",
       "    </tbody></table>"
      ],
      "text/plain": [
       "<pandas.io.formats.style.Styler at 0x1732079fe88>"
      ]
     },
     "execution_count": 5,
     "metadata": {},
     "output_type": "execute_result"
    }
   ],
   "source": [
    "sva.termination_rates.duration_of_claim_g_wp_oc().head(10).style.format('{:,.2%}')"
   ]
  },
  {
   "cell_type": "markdown",
   "metadata": {},
   "source": [
    "#### smoker_status"
   ]
  },
  {
   "cell_type": "code",
   "execution_count": 7,
   "metadata": {},
   "outputs": [
    {
     "data": {
      "text/html": [
       "<style  type=\"text/css\" >\n",
       "</style><table id=\"T_aac8e386_da06_11eb_adc4_c8348e310a39\" ><thead>    <tr>        <th class=\"blank level0\" ></th>        <th class=\"col_heading level0 col0\" >smoker_status</th>    </tr></thead><tbody>\n",
       "                <tr>\n",
       "                        <th id=\"T_aac8e386_da06_11eb_adc4_c8348e310a39level0_row0\" class=\"row_heading level0 row0\" >Non-Smoker</th>\n",
       "                        <td id=\"T_aac8e386_da06_11eb_adc4_c8348e310a39row0_col0\" class=\"data row0 col0\" >100.00%</td>\n",
       "            </tr>\n",
       "            <tr>\n",
       "                        <th id=\"T_aac8e386_da06_11eb_adc4_c8348e310a39level0_row1\" class=\"row_heading level0 row1\" >Smoker</th>\n",
       "                        <td id=\"T_aac8e386_da06_11eb_adc4_c8348e310a39row1_col0\" class=\"data row1 col0\" >100.00%</td>\n",
       "            </tr>\n",
       "    </tbody></table>"
      ],
      "text/plain": [
       "<pandas.io.formats.style.Styler at 0x173208a5788>"
      ]
     },
     "execution_count": 7,
     "metadata": {},
     "output_type": "execute_result"
    }
   ],
   "source": [
    "sva.termination_rates.smoker_status().style.format('{:,.2%}')"
   ]
  },
  {
   "cell_type": "markdown",
   "metadata": {},
   "source": [
    "#### benefit_type"
   ]
  },
  {
   "cell_type": "code",
   "execution_count": 8,
   "metadata": {},
   "outputs": [
    {
     "data": {
      "text/html": [
       "<style  type=\"text/css\" >\n",
       "</style><table id=\"T_aee5b70a_da06_11eb_a939_c8348e310a39\" ><thead>    <tr>        <th class=\"blank level0\" ></th>        <th class=\"col_heading level0 col0\" >benefit_type</th>    </tr></thead><tbody>\n",
       "                <tr>\n",
       "                        <th id=\"T_aee5b70a_da06_11eb_a939_c8348e310a39level0_row0\" class=\"row_heading level0 row0\" >Agreed Value</th>\n",
       "                        <td id=\"T_aee5b70a_da06_11eb_a939_c8348e310a39row0_col0\" class=\"data row0 col0\" >100.00%</td>\n",
       "            </tr>\n",
       "            <tr>\n",
       "                        <th id=\"T_aee5b70a_da06_11eb_a939_c8348e310a39level0_row1\" class=\"row_heading level0 row1\" >Indemnity</th>\n",
       "                        <td id=\"T_aee5b70a_da06_11eb_a939_c8348e310a39row1_col0\" class=\"data row1 col0\" >100.00%</td>\n",
       "            </tr>\n",
       "    </tbody></table>"
      ],
      "text/plain": [
       "<pandas.io.formats.style.Styler at 0x1732083d2c8>"
      ]
     },
     "execution_count": 8,
     "metadata": {},
     "output_type": "execute_result"
    }
   ],
   "source": [
    "sva.termination_rates.benefit_type().style.format('{:,.2%}')"
   ]
  },
  {
   "cell_type": "markdown",
   "metadata": {},
   "source": [
    "#### policy_duration_factor"
   ]
  },
  {
   "cell_type": "code",
   "execution_count": 9,
   "metadata": {},
   "outputs": [
    {
     "data": {
      "text/html": [
       "<style  type=\"text/css\" >\n",
       "</style><table id=\"T_b3ffba9a_da06_11eb_86c3_c8348e310a39\" ><thead>    <tr>        <th class=\"blank level0\" ></th>        <th class=\"col_heading level0 col0\" colspan=2>Male</th>        <th class=\"col_heading level0 col2\" colspan=2>Female</th>    </tr>    <tr>        <th class=\"blank level1\" ></th>        <th class=\"col_heading level1 col0\" >Accident</th>        <th class=\"col_heading level1 col1\" >Sickness</th>        <th class=\"col_heading level1 col2\" >Accident</th>        <th class=\"col_heading level1 col3\" >Sickness</th>    </tr>    <tr>        <th class=\"index_name level0\" >Curtate Policy Year</th>        <th class=\"blank\" ></th>        <th class=\"blank\" ></th>        <th class=\"blank\" ></th>        <th class=\"blank\" ></th>    </tr></thead><tbody>\n",
       "                <tr>\n",
       "                        <th id=\"T_b3ffba9a_da06_11eb_86c3_c8348e310a39level0_row0\" class=\"row_heading level0 row0\" >0</th>\n",
       "                        <td id=\"T_b3ffba9a_da06_11eb_86c3_c8348e310a39row0_col0\" class=\"data row0 col0\" >100.00%</td>\n",
       "                        <td id=\"T_b3ffba9a_da06_11eb_86c3_c8348e310a39row0_col1\" class=\"data row0 col1\" >100.00%</td>\n",
       "                        <td id=\"T_b3ffba9a_da06_11eb_86c3_c8348e310a39row0_col2\" class=\"data row0 col2\" >100.00%</td>\n",
       "                        <td id=\"T_b3ffba9a_da06_11eb_86c3_c8348e310a39row0_col3\" class=\"data row0 col3\" >100.00%</td>\n",
       "            </tr>\n",
       "            <tr>\n",
       "                        <th id=\"T_b3ffba9a_da06_11eb_86c3_c8348e310a39level0_row1\" class=\"row_heading level0 row1\" >1</th>\n",
       "                        <td id=\"T_b3ffba9a_da06_11eb_86c3_c8348e310a39row1_col0\" class=\"data row1 col0\" >100.00%</td>\n",
       "                        <td id=\"T_b3ffba9a_da06_11eb_86c3_c8348e310a39row1_col1\" class=\"data row1 col1\" >100.00%</td>\n",
       "                        <td id=\"T_b3ffba9a_da06_11eb_86c3_c8348e310a39row1_col2\" class=\"data row1 col2\" >100.00%</td>\n",
       "                        <td id=\"T_b3ffba9a_da06_11eb_86c3_c8348e310a39row1_col3\" class=\"data row1 col3\" >100.00%</td>\n",
       "            </tr>\n",
       "            <tr>\n",
       "                        <th id=\"T_b3ffba9a_da06_11eb_86c3_c8348e310a39level0_row2\" class=\"row_heading level0 row2\" >2</th>\n",
       "                        <td id=\"T_b3ffba9a_da06_11eb_86c3_c8348e310a39row2_col0\" class=\"data row2 col0\" >100.00%</td>\n",
       "                        <td id=\"T_b3ffba9a_da06_11eb_86c3_c8348e310a39row2_col1\" class=\"data row2 col1\" >100.00%</td>\n",
       "                        <td id=\"T_b3ffba9a_da06_11eb_86c3_c8348e310a39row2_col2\" class=\"data row2 col2\" >100.00%</td>\n",
       "                        <td id=\"T_b3ffba9a_da06_11eb_86c3_c8348e310a39row2_col3\" class=\"data row2 col3\" >100.00%</td>\n",
       "            </tr>\n",
       "            <tr>\n",
       "                        <th id=\"T_b3ffba9a_da06_11eb_86c3_c8348e310a39level0_row3\" class=\"row_heading level0 row3\" >3</th>\n",
       "                        <td id=\"T_b3ffba9a_da06_11eb_86c3_c8348e310a39row3_col0\" class=\"data row3 col0\" >100.00%</td>\n",
       "                        <td id=\"T_b3ffba9a_da06_11eb_86c3_c8348e310a39row3_col1\" class=\"data row3 col1\" >100.00%</td>\n",
       "                        <td id=\"T_b3ffba9a_da06_11eb_86c3_c8348e310a39row3_col2\" class=\"data row3 col2\" >100.00%</td>\n",
       "                        <td id=\"T_b3ffba9a_da06_11eb_86c3_c8348e310a39row3_col3\" class=\"data row3 col3\" >100.00%</td>\n",
       "            </tr>\n",
       "            <tr>\n",
       "                        <th id=\"T_b3ffba9a_da06_11eb_86c3_c8348e310a39level0_row4\" class=\"row_heading level0 row4\" >4</th>\n",
       "                        <td id=\"T_b3ffba9a_da06_11eb_86c3_c8348e310a39row4_col0\" class=\"data row4 col0\" >100.00%</td>\n",
       "                        <td id=\"T_b3ffba9a_da06_11eb_86c3_c8348e310a39row4_col1\" class=\"data row4 col1\" >100.00%</td>\n",
       "                        <td id=\"T_b3ffba9a_da06_11eb_86c3_c8348e310a39row4_col2\" class=\"data row4 col2\" >100.00%</td>\n",
       "                        <td id=\"T_b3ffba9a_da06_11eb_86c3_c8348e310a39row4_col3\" class=\"data row4 col3\" >100.00%</td>\n",
       "            </tr>\n",
       "            <tr>\n",
       "                        <th id=\"T_b3ffba9a_da06_11eb_86c3_c8348e310a39level0_row5\" class=\"row_heading level0 row5\" >5</th>\n",
       "                        <td id=\"T_b3ffba9a_da06_11eb_86c3_c8348e310a39row5_col0\" class=\"data row5 col0\" >100.00%</td>\n",
       "                        <td id=\"T_b3ffba9a_da06_11eb_86c3_c8348e310a39row5_col1\" class=\"data row5 col1\" >100.00%</td>\n",
       "                        <td id=\"T_b3ffba9a_da06_11eb_86c3_c8348e310a39row5_col2\" class=\"data row5 col2\" >100.00%</td>\n",
       "                        <td id=\"T_b3ffba9a_da06_11eb_86c3_c8348e310a39row5_col3\" class=\"data row5 col3\" >100.00%</td>\n",
       "            </tr>\n",
       "            <tr>\n",
       "                        <th id=\"T_b3ffba9a_da06_11eb_86c3_c8348e310a39level0_row6\" class=\"row_heading level0 row6\" >6</th>\n",
       "                        <td id=\"T_b3ffba9a_da06_11eb_86c3_c8348e310a39row6_col0\" class=\"data row6 col0\" >100.00%</td>\n",
       "                        <td id=\"T_b3ffba9a_da06_11eb_86c3_c8348e310a39row6_col1\" class=\"data row6 col1\" >100.00%</td>\n",
       "                        <td id=\"T_b3ffba9a_da06_11eb_86c3_c8348e310a39row6_col2\" class=\"data row6 col2\" >100.00%</td>\n",
       "                        <td id=\"T_b3ffba9a_da06_11eb_86c3_c8348e310a39row6_col3\" class=\"data row6 col3\" >100.00%</td>\n",
       "            </tr>\n",
       "            <tr>\n",
       "                        <th id=\"T_b3ffba9a_da06_11eb_86c3_c8348e310a39level0_row7\" class=\"row_heading level0 row7\" >7</th>\n",
       "                        <td id=\"T_b3ffba9a_da06_11eb_86c3_c8348e310a39row7_col0\" class=\"data row7 col0\" >100.00%</td>\n",
       "                        <td id=\"T_b3ffba9a_da06_11eb_86c3_c8348e310a39row7_col1\" class=\"data row7 col1\" >100.00%</td>\n",
       "                        <td id=\"T_b3ffba9a_da06_11eb_86c3_c8348e310a39row7_col2\" class=\"data row7 col2\" >100.00%</td>\n",
       "                        <td id=\"T_b3ffba9a_da06_11eb_86c3_c8348e310a39row7_col3\" class=\"data row7 col3\" >100.00%</td>\n",
       "            </tr>\n",
       "            <tr>\n",
       "                        <th id=\"T_b3ffba9a_da06_11eb_86c3_c8348e310a39level0_row8\" class=\"row_heading level0 row8\" >8</th>\n",
       "                        <td id=\"T_b3ffba9a_da06_11eb_86c3_c8348e310a39row8_col0\" class=\"data row8 col0\" >100.00%</td>\n",
       "                        <td id=\"T_b3ffba9a_da06_11eb_86c3_c8348e310a39row8_col1\" class=\"data row8 col1\" >100.00%</td>\n",
       "                        <td id=\"T_b3ffba9a_da06_11eb_86c3_c8348e310a39row8_col2\" class=\"data row8 col2\" >100.00%</td>\n",
       "                        <td id=\"T_b3ffba9a_da06_11eb_86c3_c8348e310a39row8_col3\" class=\"data row8 col3\" >100.00%</td>\n",
       "            </tr>\n",
       "            <tr>\n",
       "                        <th id=\"T_b3ffba9a_da06_11eb_86c3_c8348e310a39level0_row9\" class=\"row_heading level0 row9\" >9</th>\n",
       "                        <td id=\"T_b3ffba9a_da06_11eb_86c3_c8348e310a39row9_col0\" class=\"data row9 col0\" >100.00%</td>\n",
       "                        <td id=\"T_b3ffba9a_da06_11eb_86c3_c8348e310a39row9_col1\" class=\"data row9 col1\" >100.00%</td>\n",
       "                        <td id=\"T_b3ffba9a_da06_11eb_86c3_c8348e310a39row9_col2\" class=\"data row9 col2\" >100.00%</td>\n",
       "                        <td id=\"T_b3ffba9a_da06_11eb_86c3_c8348e310a39row9_col3\" class=\"data row9 col3\" >100.00%</td>\n",
       "            </tr>\n",
       "            <tr>\n",
       "                        <th id=\"T_b3ffba9a_da06_11eb_86c3_c8348e310a39level0_row10\" class=\"row_heading level0 row10\" >10</th>\n",
       "                        <td id=\"T_b3ffba9a_da06_11eb_86c3_c8348e310a39row10_col0\" class=\"data row10 col0\" >100.00%</td>\n",
       "                        <td id=\"T_b3ffba9a_da06_11eb_86c3_c8348e310a39row10_col1\" class=\"data row10 col1\" >100.00%</td>\n",
       "                        <td id=\"T_b3ffba9a_da06_11eb_86c3_c8348e310a39row10_col2\" class=\"data row10 col2\" >100.00%</td>\n",
       "                        <td id=\"T_b3ffba9a_da06_11eb_86c3_c8348e310a39row10_col3\" class=\"data row10 col3\" >100.00%</td>\n",
       "            </tr>\n",
       "    </tbody></table>"
      ],
      "text/plain": [
       "<pandas.io.formats.style.Styler at 0x17320742c48>"
      ]
     },
     "execution_count": 9,
     "metadata": {},
     "output_type": "execute_result"
    }
   ],
   "source": [
    "sva.termination_rates.policy_duration_factor().style.format('{:,.2%}')"
   ]
  },
  {
   "cell_type": "markdown",
   "metadata": {},
   "source": [
    "### stress_margins"
   ]
  },
  {
   "cell_type": "markdown",
   "metadata": {},
   "source": [
    "#### random"
   ]
  },
  {
   "cell_type": "code",
   "execution_count": 11,
   "metadata": {},
   "outputs": [
    {
     "data": {
      "text/html": [
       "<style  type=\"text/css\" >\n",
       "</style><table id=\"T_c5598a7e_da06_11eb_8e54_c8348e310a39\" ><thead>    <tr>        <th class=\"blank level0\" ></th>        <th class=\"col_heading level0 col0\" >Unnamed: 168</th>    </tr>    <tr>        <th class=\"index_name level0\" >Random stress</th>        <th class=\"blank\" ></th>    </tr></thead><tbody>\n",
       "                <tr>\n",
       "                        <th id=\"T_c5598a7e_da06_11eb_8e54_c8348e310a39level0_row0\" class=\"row_heading level0 row0\" >Death</th>\n",
       "                        <td id=\"T_c5598a7e_da06_11eb_8e54_c8348e310a39row0_col0\" class=\"data row0 col0\" >25.00%</td>\n",
       "            </tr>\n",
       "            <tr>\n",
       "                        <th id=\"T_c5598a7e_da06_11eb_8e54_c8348e310a39level0_row1\" class=\"row_heading level0 row1\" >Death IBNR</th>\n",
       "                        <td id=\"T_c5598a7e_da06_11eb_8e54_c8348e310a39row1_col0\" class=\"data row1 col0\" >22.50%</td>\n",
       "            </tr>\n",
       "            <tr>\n",
       "                        <th id=\"T_c5598a7e_da06_11eb_8e54_c8348e310a39level0_row2\" class=\"row_heading level0 row2\" >Death RBNA</th>\n",
       "                        <td id=\"T_c5598a7e_da06_11eb_8e54_c8348e310a39row2_col0\" class=\"data row2 col0\" >5.50%</td>\n",
       "            </tr>\n",
       "            <tr>\n",
       "                        <th id=\"T_c5598a7e_da06_11eb_8e54_c8348e310a39level0_row3\" class=\"row_heading level0 row3\" >TPD</th>\n",
       "                        <td id=\"T_c5598a7e_da06_11eb_8e54_c8348e310a39row3_col0\" class=\"data row3 col0\" >7.50%</td>\n",
       "            </tr>\n",
       "            <tr>\n",
       "                        <th id=\"T_c5598a7e_da06_11eb_8e54_c8348e310a39level0_row4\" class=\"row_heading level0 row4\" >TPD IBNR</th>\n",
       "                        <td id=\"T_c5598a7e_da06_11eb_8e54_c8348e310a39row4_col0\" class=\"data row4 col0\" >5.50%</td>\n",
       "            </tr>\n",
       "            <tr>\n",
       "                        <th id=\"T_c5598a7e_da06_11eb_8e54_c8348e310a39level0_row5\" class=\"row_heading level0 row5\" >TPD RBNA</th>\n",
       "                        <td id=\"T_c5598a7e_da06_11eb_8e54_c8348e310a39row5_col0\" class=\"data row5 col0\" >6.50%</td>\n",
       "            </tr>\n",
       "            <tr>\n",
       "                        <th id=\"T_c5598a7e_da06_11eb_8e54_c8348e310a39level0_row6\" class=\"row_heading level0 row6\" >IP</th>\n",
       "                        <td id=\"T_c5598a7e_da06_11eb_8e54_c8348e310a39row6_col0\" class=\"data row6 col0\" >7.50%</td>\n",
       "            </tr>\n",
       "            <tr>\n",
       "                        <th id=\"T_c5598a7e_da06_11eb_8e54_c8348e310a39level0_row7\" class=\"row_heading level0 row7\" >IP DLR</th>\n",
       "                        <td id=\"T_c5598a7e_da06_11eb_8e54_c8348e310a39row7_col0\" class=\"data row7 col0\" >2.50%</td>\n",
       "            </tr>\n",
       "            <tr>\n",
       "                        <th id=\"T_c5598a7e_da06_11eb_8e54_c8348e310a39level0_row8\" class=\"row_heading level0 row8\" >IP IBNR</th>\n",
       "                        <td id=\"T_c5598a7e_da06_11eb_8e54_c8348e310a39row8_col0\" class=\"data row8 col0\" >5.50%</td>\n",
       "            </tr>\n",
       "            <tr>\n",
       "                        <th id=\"T_c5598a7e_da06_11eb_8e54_c8348e310a39level0_row9\" class=\"row_heading level0 row9\" >IP RBNA</th>\n",
       "                        <td id=\"T_c5598a7e_da06_11eb_8e54_c8348e310a39row9_col0\" class=\"data row9 col0\" >6.50%</td>\n",
       "            </tr>\n",
       "    </tbody></table>"
      ],
      "text/plain": [
       "<pandas.io.formats.style.Styler at 0x173204f2408>"
      ]
     },
     "execution_count": 11,
     "metadata": {},
     "output_type": "execute_result"
    }
   ],
   "source": [
    "sva.stress_margins.random.random_all().style.format('{:,.2%}')"
   ]
  },
  {
   "cell_type": "markdown",
   "metadata": {},
   "source": [
    "#### future"
   ]
  },
  {
   "cell_type": "code",
   "execution_count": 12,
   "metadata": {},
   "outputs": [
    {
     "data": {
      "text/html": [
       "<style  type=\"text/css\" >\n",
       "</style><table id=\"T_cd971450_da06_11eb_8ab1_c8348e310a39\" ><thead>    <tr>        <th class=\"blank level0\" ></th>        <th class=\"col_heading level0 col0\" >Unnamed: 168</th>    </tr>    <tr>        <th class=\"index_name level0\" >Future Stress</th>        <th class=\"blank\" ></th>    </tr></thead><tbody>\n",
       "                <tr>\n",
       "                        <th id=\"T_cd971450_da06_11eb_8ab1_c8348e310a39level0_row0\" class=\"row_heading level0 row0\" >Death</th>\n",
       "                        <td id=\"T_cd971450_da06_11eb_8ab1_c8348e310a39row0_col0\" class=\"data row0 col0\" >20.00%</td>\n",
       "            </tr>\n",
       "            <tr>\n",
       "                        <th id=\"T_cd971450_da06_11eb_8ab1_c8348e310a39level0_row1\" class=\"row_heading level0 row1\" >Death IBNR</th>\n",
       "                        <td id=\"T_cd971450_da06_11eb_8ab1_c8348e310a39row1_col0\" class=\"data row1 col0\" >20.00%</td>\n",
       "            </tr>\n",
       "            <tr>\n",
       "                        <th id=\"T_cd971450_da06_11eb_8ab1_c8348e310a39level0_row2\" class=\"row_heading level0 row2\" >Death RBNA</th>\n",
       "                        <td id=\"T_cd971450_da06_11eb_8ab1_c8348e310a39row2_col0\" class=\"data row2 col0\" >10.00%</td>\n",
       "            </tr>\n",
       "            <tr>\n",
       "                        <th id=\"T_cd971450_da06_11eb_8ab1_c8348e310a39level0_row3\" class=\"row_heading level0 row3\" >TPD</th>\n",
       "                        <td id=\"T_cd971450_da06_11eb_8ab1_c8348e310a39row3_col0\" class=\"data row3 col0\" >40.00%</td>\n",
       "            </tr>\n",
       "            <tr>\n",
       "                        <th id=\"T_cd971450_da06_11eb_8ab1_c8348e310a39level0_row4\" class=\"row_heading level0 row4\" >TPD IBNR</th>\n",
       "                        <td id=\"T_cd971450_da06_11eb_8ab1_c8348e310a39row4_col0\" class=\"data row4 col0\" >40.00%</td>\n",
       "            </tr>\n",
       "            <tr>\n",
       "                        <th id=\"T_cd971450_da06_11eb_8ab1_c8348e310a39level0_row5\" class=\"row_heading level0 row5\" >TPD RBNA</th>\n",
       "                        <td id=\"T_cd971450_da06_11eb_8ab1_c8348e310a39row5_col0\" class=\"data row5 col0\" >25.00%</td>\n",
       "            </tr>\n",
       "            <tr>\n",
       "                        <th id=\"T_cd971450_da06_11eb_8ab1_c8348e310a39level0_row6\" class=\"row_heading level0 row6\" >IP</th>\n",
       "                        <td id=\"T_cd971450_da06_11eb_8ab1_c8348e310a39row6_col0\" class=\"data row6 col0\" >40.00%</td>\n",
       "            </tr>\n",
       "            <tr>\n",
       "                        <th id=\"T_cd971450_da06_11eb_8ab1_c8348e310a39level0_row7\" class=\"row_heading level0 row7\" >IP DLR</th>\n",
       "                        <td id=\"T_cd971450_da06_11eb_8ab1_c8348e310a39row7_col0\" class=\"data row7 col0\" >25.00%</td>\n",
       "            </tr>\n",
       "            <tr>\n",
       "                        <th id=\"T_cd971450_da06_11eb_8ab1_c8348e310a39level0_row8\" class=\"row_heading level0 row8\" >IP IBNR</th>\n",
       "                        <td id=\"T_cd971450_da06_11eb_8ab1_c8348e310a39row8_col0\" class=\"data row8 col0\" >40.00%</td>\n",
       "            </tr>\n",
       "            <tr>\n",
       "                        <th id=\"T_cd971450_da06_11eb_8ab1_c8348e310a39level0_row9\" class=\"row_heading level0 row9\" >IP RBNA</th>\n",
       "                        <td id=\"T_cd971450_da06_11eb_8ab1_c8348e310a39row9_col0\" class=\"data row9 col0\" >25.00%</td>\n",
       "            </tr>\n",
       "    </tbody></table>"
      ],
      "text/plain": [
       "<pandas.io.formats.style.Styler at 0x173206f8588>"
      ]
     },
     "execution_count": 12,
     "metadata": {},
     "output_type": "execute_result"
    }
   ],
   "source": [
    "sva.stress_margins.future.future_all().style.format('{:,.2%}')"
   ]
  }
 ],
 "metadata": {
  "kernelspec": {
   "display_name": "Python 3",
   "language": "python",
   "name": "python3"
  },
  "language_info": {
   "codemirror_mode": {
    "name": "ipython",
    "version": 3
   },
   "file_extension": ".py",
   "mimetype": "text/x-python",
   "name": "python",
   "nbconvert_exporter": "python",
   "pygments_lexer": "ipython3",
   "version": "3.7.6"
  }
 },
 "nbformat": 4,
 "nbformat_minor": 4
}
