{
 "cells": [
  {
   "cell_type": "markdown",
   "metadata": {},
   "source": [
    "# sva.\n",
    "\n",
    "#### _Table 1_\n",
    "* [claims_reporting_delay](#claims_reporting_delay)\n",
    "* [claim_delay_factors](#claims_delay_factors)\n",
    "\n",
    "#### _Table 2_\n",
    "* [claims_expense_reserve](#claims_expense_reserve)\n",
    "* [operating_expense_perc_premium](#operating_expense_perc_premium)\n",
    "* [budgeted_trustee_expense](#budgeted_trustee_expense)\n",
    "* [projected_trustee_expense](#projected_trustee_expense)\n",
    "\n",
    "#### Table 3\n",
    "* [ip_continuance_rates](#ip_continuance_rates)\n",
    "* [dlr_parameters](#dlr_parameters)\n",
    "    * [salary_replacement_ratio](#salary_replacement_ratio)\n",
    "    * [continuing_retirement_benefit](#continuing_retirement_benefit)\n",
    "    * [assumed_avg_age_at_disability](#assumed_avg_age_at_disability)\n",
    "    * [payment_ratio](#payment_ratio)\n",
    "    * [reopened_claims_reserves_loading](#reopened_claims_reserves_loading)\n",
    "    * [benefit_indexation_month](#benefit_indexation_month)\n",
    "* [ip_ibnr_adjustment](#ip_ibnr_adjustment)\n",
    "\n",
    "\n",
    "#### _Table 4_\n",
    "* [appeals_reserve_assumptions](#appeals_reserve_assumptions)\n",
    "* [perc_of_appealed_claims_accepted](#perc_of_appealed_claims_accepted)\n",
    "\n",
    "\n",
    "#### _Table 5_\n",
    "* [decline_rate](#decline_rate)\n",
    "* [decline_rate_delay](#decline_rate_delay)\n",
    "* [simultaneous_ip_tpd_decline](#simultaneous_ip_tpd_decline)\n",
    "\n",
    "\n",
    "#### _Table 6_\n",
    "* [expected_loss_ratio_gov](#expected_loss_ratio_gov)\n",
    "* [expected_loss_ratio_nongov](#expected_loss_ratio_nongov)\n",
    "\n",
    "\n",
    "#### _Table 7_\n",
    "* [payment_delay_factors](#payment_delay_factors)\n",
    "* [payment_delay_factors_discrete](#payment_delay_factors_discrete)\n",
    "\n",
    "\n",
    "\n",
    "#### _Table 8_\n",
    "* [average_claim_size](#average_claim_size)\n",
    "* [acs_ip_linked_tpd](#acs_ip_linked_tpd)\n",
    "* [acs_by_notification_delay_q](#acs_by_notification_delay_q)\n",
    "* [perc_si_at_ip_doe](#perc_si_at_ip_doe)\n",
    "* [tpd_si_scales_by_age](#tpd_si_scales_by_age)\n",
    "\n",
    "\n",
    "\n",
    "#### _Table 9_\n",
    "* [termination_rates](#termination_rates)\n",
    "* [age_rates](#age_rates)\n",
    "* [duration_of_claim_g_wp_oc](#duration_of_claim_g_wp_oc)\n",
    "* [smoker_status](#smoker_status)\n",
    "* [benefit_type](#benefit_type)\n",
    "* [policy_duration_factor](#policy_duration_factor)\n",
    "\n",
    "\n",
    "#### _Table 10_\n",
    "* [stress_margins](#stress_margins)\n",
    "    * [random](#random)\n",
    "        * [random_all](#random_all)\n",
    "        * [death](#r_death)\n",
    "        * [death_ibnr](#r_death_ibnr)\n",
    "        * [death_rbna](#r_death_rbna)\n",
    "        * [tpd](#r_tpd)\n",
    "        * [tpd_ibnr](#r_tpd_ibnr)\n",
    "        * [tpd_rbna](#r_tpd_rbna)\n",
    "        * [ip](#r_ip)\n",
    "        * [ip_dlr](#r_ip_dlr)\n",
    "        * [ip_ibnr](#r_ip_ibnr)\n",
    "        * [ip_rbna](#r_ip_rbna)\n",
    "    * [future](#future)\n",
    "        * [future_all](#future_all)\n",
    "        * [death](#f_death)\n",
    "        * [death_ibnr](#f_death_ibnr)\n",
    "        * [death_rbna](#f_death_rbna)\n",
    "        * [tpd](#f_tpd)\n",
    "        * [tpd_ibnr](#f_tpd_ibnr)\n",
    "        * [tpd_rbna](#f_tpd_rbna)\n",
    "        * [ip](#f_ip)\n",
    "        * [ip_dlr](#f_ip_dlr)\n",
    "        * [ip_ibnr](#f_ip_ibnr)\n",
    "        * [ip_rbna](#f_ip_rbna)\n",
    "\n",
    "\n",
    "\n",
    "\n",
    "\n"
   ]
  },
  {
   "cell_type": "code",
   "execution_count": 2,
   "metadata": {},
   "outputs": [],
   "source": [
    "import os\n",
    "os.chdir(r\"C:\\Users\\adamw\\Documents\\GitHub\\Q\")\n",
    "path = r\"C:\\Users\\adamw\\Documents\\SVA replica.xlsx\"\n",
    "from sva import sva\n",
    "# # Initialise with path and sheetname\n",
    "sva = sva(path=path, sheet_name='NewProduct')"
   ]
  },
  {
   "cell_type": "markdown",
   "metadata": {},
   "source": [
    "### claims_reporting_delay"
   ]
  },
  {
   "cell_type": "code",
   "execution_count": 3,
   "metadata": {},
   "outputs": [
    {
     "data": {
      "text/html": [
       "<style  type=\"text/css\" >\n",
       "</style><table id=\"T_896982a6_da02_11eb_9008_c8348e310a39\" ><thead>    <tr>        <th class=\"blank level0\" ></th>        <th class=\"col_heading level0 col0\" >Gov Death</th>        <th class=\"col_heading level0 col1\" >Gov TPD*</th>        <th class=\"col_heading level0 col2\" >Non-Gov Death</th>        <th class=\"col_heading level0 col3\" >Non-Gov TPD</th>        <th class=\"col_heading level0 col4\" >IP WP 30**</th>        <th class=\"col_heading level0 col5\" >IP WP 60**</th>        <th class=\"col_heading level0 col6\" >IP WP 90**</th>        <th class=\"col_heading level0 col7\" >IP WP 180**</th>    </tr>    <tr>        <th class=\"index_name level0\" >End of month</th>        <th class=\"blank\" ></th>        <th class=\"blank\" ></th>        <th class=\"blank\" ></th>        <th class=\"blank\" ></th>        <th class=\"blank\" ></th>        <th class=\"blank\" ></th>        <th class=\"blank\" ></th>        <th class=\"blank\" ></th>    </tr></thead><tbody>\n",
       "                <tr>\n",
       "                        <th id=\"T_896982a6_da02_11eb_9008_c8348e310a39level0_row0\" class=\"row_heading level0 row0\" >0.0</th>\n",
       "                        <td id=\"T_896982a6_da02_11eb_9008_c8348e310a39row0_col0\" class=\"data row0 col0\" >90.00%</td>\n",
       "                        <td id=\"T_896982a6_da02_11eb_9008_c8348e310a39row0_col1\" class=\"data row0 col1\" >67.00%</td>\n",
       "                        <td id=\"T_896982a6_da02_11eb_9008_c8348e310a39row0_col2\" class=\"data row0 col2\" >89.00%</td>\n",
       "                        <td id=\"T_896982a6_da02_11eb_9008_c8348e310a39row0_col3\" class=\"data row0 col3\" >55.00%</td>\n",
       "                        <td id=\"T_896982a6_da02_11eb_9008_c8348e310a39row0_col4\" class=\"data row0 col4\" >40.00%</td>\n",
       "                        <td id=\"T_896982a6_da02_11eb_9008_c8348e310a39row0_col5\" class=\"data row0 col5\" >91.00%</td>\n",
       "                        <td id=\"T_896982a6_da02_11eb_9008_c8348e310a39row0_col6\" class=\"data row0 col6\" >45.00%</td>\n",
       "                        <td id=\"T_896982a6_da02_11eb_9008_c8348e310a39row0_col7\" class=\"data row0 col7\" >99.00%</td>\n",
       "            </tr>\n",
       "            <tr>\n",
       "                        <th id=\"T_896982a6_da02_11eb_9008_c8348e310a39level0_row1\" class=\"row_heading level0 row1\" >1.0</th>\n",
       "                        <td id=\"T_896982a6_da02_11eb_9008_c8348e310a39row1_col0\" class=\"data row1 col0\" >72.00%</td>\n",
       "                        <td id=\"T_896982a6_da02_11eb_9008_c8348e310a39row1_col1\" class=\"data row1 col1\" >53.60%</td>\n",
       "                        <td id=\"T_896982a6_da02_11eb_9008_c8348e310a39row1_col2\" class=\"data row1 col2\" >71.20%</td>\n",
       "                        <td id=\"T_896982a6_da02_11eb_9008_c8348e310a39row1_col3\" class=\"data row1 col3\" >44.00%</td>\n",
       "                        <td id=\"T_896982a6_da02_11eb_9008_c8348e310a39row1_col4\" class=\"data row1 col4\" >32.00%</td>\n",
       "                        <td id=\"T_896982a6_da02_11eb_9008_c8348e310a39row1_col5\" class=\"data row1 col5\" >72.80%</td>\n",
       "                        <td id=\"T_896982a6_da02_11eb_9008_c8348e310a39row1_col6\" class=\"data row1 col6\" >36.00%</td>\n",
       "                        <td id=\"T_896982a6_da02_11eb_9008_c8348e310a39row1_col7\" class=\"data row1 col7\" >79.20%</td>\n",
       "            </tr>\n",
       "            <tr>\n",
       "                        <th id=\"T_896982a6_da02_11eb_9008_c8348e310a39level0_row2\" class=\"row_heading level0 row2\" >2.0</th>\n",
       "                        <td id=\"T_896982a6_da02_11eb_9008_c8348e310a39row2_col0\" class=\"data row2 col0\" >57.60%</td>\n",
       "                        <td id=\"T_896982a6_da02_11eb_9008_c8348e310a39row2_col1\" class=\"data row2 col1\" >42.88%</td>\n",
       "                        <td id=\"T_896982a6_da02_11eb_9008_c8348e310a39row2_col2\" class=\"data row2 col2\" >56.96%</td>\n",
       "                        <td id=\"T_896982a6_da02_11eb_9008_c8348e310a39row2_col3\" class=\"data row2 col3\" >35.20%</td>\n",
       "                        <td id=\"T_896982a6_da02_11eb_9008_c8348e310a39row2_col4\" class=\"data row2 col4\" >25.60%</td>\n",
       "                        <td id=\"T_896982a6_da02_11eb_9008_c8348e310a39row2_col5\" class=\"data row2 col5\" >58.24%</td>\n",
       "                        <td id=\"T_896982a6_da02_11eb_9008_c8348e310a39row2_col6\" class=\"data row2 col6\" >28.80%</td>\n",
       "                        <td id=\"T_896982a6_da02_11eb_9008_c8348e310a39row2_col7\" class=\"data row2 col7\" >63.36%</td>\n",
       "            </tr>\n",
       "            <tr>\n",
       "                        <th id=\"T_896982a6_da02_11eb_9008_c8348e310a39level0_row3\" class=\"row_heading level0 row3\" >3.0</th>\n",
       "                        <td id=\"T_896982a6_da02_11eb_9008_c8348e310a39row3_col0\" class=\"data row3 col0\" >46.08%</td>\n",
       "                        <td id=\"T_896982a6_da02_11eb_9008_c8348e310a39row3_col1\" class=\"data row3 col1\" >34.30%</td>\n",
       "                        <td id=\"T_896982a6_da02_11eb_9008_c8348e310a39row3_col2\" class=\"data row3 col2\" >45.57%</td>\n",
       "                        <td id=\"T_896982a6_da02_11eb_9008_c8348e310a39row3_col3\" class=\"data row3 col3\" >28.16%</td>\n",
       "                        <td id=\"T_896982a6_da02_11eb_9008_c8348e310a39row3_col4\" class=\"data row3 col4\" >20.48%</td>\n",
       "                        <td id=\"T_896982a6_da02_11eb_9008_c8348e310a39row3_col5\" class=\"data row3 col5\" >46.59%</td>\n",
       "                        <td id=\"T_896982a6_da02_11eb_9008_c8348e310a39row3_col6\" class=\"data row3 col6\" >23.04%</td>\n",
       "                        <td id=\"T_896982a6_da02_11eb_9008_c8348e310a39row3_col7\" class=\"data row3 col7\" >50.69%</td>\n",
       "            </tr>\n",
       "            <tr>\n",
       "                        <th id=\"T_896982a6_da02_11eb_9008_c8348e310a39level0_row4\" class=\"row_heading level0 row4\" >4.0</th>\n",
       "                        <td id=\"T_896982a6_da02_11eb_9008_c8348e310a39row4_col0\" class=\"data row4 col0\" >36.86%</td>\n",
       "                        <td id=\"T_896982a6_da02_11eb_9008_c8348e310a39row4_col1\" class=\"data row4 col1\" >27.44%</td>\n",
       "                        <td id=\"T_896982a6_da02_11eb_9008_c8348e310a39row4_col2\" class=\"data row4 col2\" >36.45%</td>\n",
       "                        <td id=\"T_896982a6_da02_11eb_9008_c8348e310a39row4_col3\" class=\"data row4 col3\" >22.53%</td>\n",
       "                        <td id=\"T_896982a6_da02_11eb_9008_c8348e310a39row4_col4\" class=\"data row4 col4\" >16.38%</td>\n",
       "                        <td id=\"T_896982a6_da02_11eb_9008_c8348e310a39row4_col5\" class=\"data row4 col5\" >37.27%</td>\n",
       "                        <td id=\"T_896982a6_da02_11eb_9008_c8348e310a39row4_col6\" class=\"data row4 col6\" >18.43%</td>\n",
       "                        <td id=\"T_896982a6_da02_11eb_9008_c8348e310a39row4_col7\" class=\"data row4 col7\" >40.55%</td>\n",
       "            </tr>\n",
       "            <tr>\n",
       "                        <th id=\"T_896982a6_da02_11eb_9008_c8348e310a39level0_row5\" class=\"row_heading level0 row5\" >5.0</th>\n",
       "                        <td id=\"T_896982a6_da02_11eb_9008_c8348e310a39row5_col0\" class=\"data row5 col0\" >29.49%</td>\n",
       "                        <td id=\"T_896982a6_da02_11eb_9008_c8348e310a39row5_col1\" class=\"data row5 col1\" >21.95%</td>\n",
       "                        <td id=\"T_896982a6_da02_11eb_9008_c8348e310a39row5_col2\" class=\"data row5 col2\" >29.16%</td>\n",
       "                        <td id=\"T_896982a6_da02_11eb_9008_c8348e310a39row5_col3\" class=\"data row5 col3\" >18.02%</td>\n",
       "                        <td id=\"T_896982a6_da02_11eb_9008_c8348e310a39row5_col4\" class=\"data row5 col4\" >13.11%</td>\n",
       "                        <td id=\"T_896982a6_da02_11eb_9008_c8348e310a39row5_col5\" class=\"data row5 col5\" >29.82%</td>\n",
       "                        <td id=\"T_896982a6_da02_11eb_9008_c8348e310a39row5_col6\" class=\"data row5 col6\" >14.75%</td>\n",
       "                        <td id=\"T_896982a6_da02_11eb_9008_c8348e310a39row5_col7\" class=\"data row5 col7\" >32.44%</td>\n",
       "            </tr>\n",
       "            <tr>\n",
       "                        <th id=\"T_896982a6_da02_11eb_9008_c8348e310a39level0_row6\" class=\"row_heading level0 row6\" >6.0</th>\n",
       "                        <td id=\"T_896982a6_da02_11eb_9008_c8348e310a39row6_col0\" class=\"data row6 col0\" >23.59%</td>\n",
       "                        <td id=\"T_896982a6_da02_11eb_9008_c8348e310a39row6_col1\" class=\"data row6 col1\" >17.56%</td>\n",
       "                        <td id=\"T_896982a6_da02_11eb_9008_c8348e310a39row6_col2\" class=\"data row6 col2\" >23.33%</td>\n",
       "                        <td id=\"T_896982a6_da02_11eb_9008_c8348e310a39row6_col3\" class=\"data row6 col3\" >14.42%</td>\n",
       "                        <td id=\"T_896982a6_da02_11eb_9008_c8348e310a39row6_col4\" class=\"data row6 col4\" >10.49%</td>\n",
       "                        <td id=\"T_896982a6_da02_11eb_9008_c8348e310a39row6_col5\" class=\"data row6 col5\" >23.86%</td>\n",
       "                        <td id=\"T_896982a6_da02_11eb_9008_c8348e310a39row6_col6\" class=\"data row6 col6\" >11.80%</td>\n",
       "                        <td id=\"T_896982a6_da02_11eb_9008_c8348e310a39row6_col7\" class=\"data row6 col7\" >25.95%</td>\n",
       "            </tr>\n",
       "            <tr>\n",
       "                        <th id=\"T_896982a6_da02_11eb_9008_c8348e310a39level0_row7\" class=\"row_heading level0 row7\" >7.0</th>\n",
       "                        <td id=\"T_896982a6_da02_11eb_9008_c8348e310a39row7_col0\" class=\"data row7 col0\" >18.87%</td>\n",
       "                        <td id=\"T_896982a6_da02_11eb_9008_c8348e310a39row7_col1\" class=\"data row7 col1\" >14.05%</td>\n",
       "                        <td id=\"T_896982a6_da02_11eb_9008_c8348e310a39row7_col2\" class=\"data row7 col2\" >18.66%</td>\n",
       "                        <td id=\"T_896982a6_da02_11eb_9008_c8348e310a39row7_col3\" class=\"data row7 col3\" >11.53%</td>\n",
       "                        <td id=\"T_896982a6_da02_11eb_9008_c8348e310a39row7_col4\" class=\"data row7 col4\" >8.39%</td>\n",
       "                        <td id=\"T_896982a6_da02_11eb_9008_c8348e310a39row7_col5\" class=\"data row7 col5\" >19.08%</td>\n",
       "                        <td id=\"T_896982a6_da02_11eb_9008_c8348e310a39row7_col6\" class=\"data row7 col6\" >9.44%</td>\n",
       "                        <td id=\"T_896982a6_da02_11eb_9008_c8348e310a39row7_col7\" class=\"data row7 col7\" >20.76%</td>\n",
       "            </tr>\n",
       "            <tr>\n",
       "                        <th id=\"T_896982a6_da02_11eb_9008_c8348e310a39level0_row8\" class=\"row_heading level0 row8\" >8.0</th>\n",
       "                        <td id=\"T_896982a6_da02_11eb_9008_c8348e310a39row8_col0\" class=\"data row8 col0\" >15.10%</td>\n",
       "                        <td id=\"T_896982a6_da02_11eb_9008_c8348e310a39row8_col1\" class=\"data row8 col1\" >11.24%</td>\n",
       "                        <td id=\"T_896982a6_da02_11eb_9008_c8348e310a39row8_col2\" class=\"data row8 col2\" >14.93%</td>\n",
       "                        <td id=\"T_896982a6_da02_11eb_9008_c8348e310a39row8_col3\" class=\"data row8 col3\" >9.23%</td>\n",
       "                        <td id=\"T_896982a6_da02_11eb_9008_c8348e310a39row8_col4\" class=\"data row8 col4\" >6.71%</td>\n",
       "                        <td id=\"T_896982a6_da02_11eb_9008_c8348e310a39row8_col5\" class=\"data row8 col5\" >15.27%</td>\n",
       "                        <td id=\"T_896982a6_da02_11eb_9008_c8348e310a39row8_col6\" class=\"data row8 col6\" >7.55%</td>\n",
       "                        <td id=\"T_896982a6_da02_11eb_9008_c8348e310a39row8_col7\" class=\"data row8 col7\" >16.61%</td>\n",
       "            </tr>\n",
       "            <tr>\n",
       "                        <th id=\"T_896982a6_da02_11eb_9008_c8348e310a39level0_row9\" class=\"row_heading level0 row9\" >9.0</th>\n",
       "                        <td id=\"T_896982a6_da02_11eb_9008_c8348e310a39row9_col0\" class=\"data row9 col0\" >12.08%</td>\n",
       "                        <td id=\"T_896982a6_da02_11eb_9008_c8348e310a39row9_col1\" class=\"data row9 col1\" >8.99%</td>\n",
       "                        <td id=\"T_896982a6_da02_11eb_9008_c8348e310a39row9_col2\" class=\"data row9 col2\" >11.95%</td>\n",
       "                        <td id=\"T_896982a6_da02_11eb_9008_c8348e310a39row9_col3\" class=\"data row9 col3\" >7.38%</td>\n",
       "                        <td id=\"T_896982a6_da02_11eb_9008_c8348e310a39row9_col4\" class=\"data row9 col4\" >5.37%</td>\n",
       "                        <td id=\"T_896982a6_da02_11eb_9008_c8348e310a39row9_col5\" class=\"data row9 col5\" >12.21%</td>\n",
       "                        <td id=\"T_896982a6_da02_11eb_9008_c8348e310a39row9_col6\" class=\"data row9 col6\" >6.04%</td>\n",
       "                        <td id=\"T_896982a6_da02_11eb_9008_c8348e310a39row9_col7\" class=\"data row9 col7\" >13.29%</td>\n",
       "            </tr>\n",
       "    </tbody></table>"
      ],
      "text/plain": [
       "<pandas.io.formats.style.Styler at 0x25ea1394348>"
      ]
     },
     "execution_count": 3,
     "metadata": {},
     "output_type": "execute_result"
    }
   ],
   "source": [
    "sva.claims_reporting_delay().head(10).style.format('{:,.2%}')"
   ]
  },
  {
   "cell_type": "markdown",
   "metadata": {},
   "source": [
    "### claim_delay_factors"
   ]
  },
  {
   "cell_type": "code",
   "execution_count": 4,
   "metadata": {},
   "outputs": [
    {
     "data": {
      "text/html": [
       "<style  type=\"text/css\" >\n",
       "</style><table id=\"T_8a21f2dc_da02_11eb_aa5b_c8348e310a39\" ><thead>    <tr>        <th class=\"blank level0\" ></th>        <th class=\"col_heading level0 col0\" >Gov Death</th>        <th class=\"col_heading level0 col1\" >Gov TPD*</th>        <th class=\"col_heading level0 col2\" >Non-Gov Death</th>        <th class=\"col_heading level0 col3\" >Non-Gov TPD</th>        <th class=\"col_heading level0 col4\" >IP WP 30**</th>        <th class=\"col_heading level0 col5\" >IP WP 60**</th>        <th class=\"col_heading level0 col6\" >IP WP 90**</th>        <th class=\"col_heading level0 col7\" >IP WP 180**</th>    </tr>    <tr>        <th class=\"index_name level0\" >End of month</th>        <th class=\"blank\" ></th>        <th class=\"blank\" ></th>        <th class=\"blank\" ></th>        <th class=\"blank\" ></th>        <th class=\"blank\" ></th>        <th class=\"blank\" ></th>        <th class=\"blank\" ></th>        <th class=\"blank\" ></th>    </tr></thead><tbody>\n",
       "                <tr>\n",
       "                        <th id=\"T_8a21f2dc_da02_11eb_aa5b_c8348e310a39level0_row0\" class=\"row_heading level0 row0\" >0.0</th>\n",
       "                        <td id=\"T_8a21f2dc_da02_11eb_aa5b_c8348e310a39row0_col0\" class=\"data row0 col0\" >10.00%</td>\n",
       "                        <td id=\"T_8a21f2dc_da02_11eb_aa5b_c8348e310a39row0_col1\" class=\"data row0 col1\" >15.00%</td>\n",
       "                        <td id=\"T_8a21f2dc_da02_11eb_aa5b_c8348e310a39row0_col2\" class=\"data row0 col2\" >20.00%</td>\n",
       "                        <td id=\"T_8a21f2dc_da02_11eb_aa5b_c8348e310a39row0_col3\" class=\"data row0 col3\" >12.00%</td>\n",
       "                        <td id=\"T_8a21f2dc_da02_11eb_aa5b_c8348e310a39row0_col4\" class=\"data row0 col4\" >14.00%</td>\n",
       "                        <td id=\"T_8a21f2dc_da02_11eb_aa5b_c8348e310a39row0_col5\" class=\"data row0 col5\" >16.00%</td>\n",
       "                        <td id=\"T_8a21f2dc_da02_11eb_aa5b_c8348e310a39row0_col6\" class=\"data row0 col6\" >19.00%</td>\n",
       "                        <td id=\"T_8a21f2dc_da02_11eb_aa5b_c8348e310a39row0_col7\" class=\"data row0 col7\" >18.00%</td>\n",
       "            </tr>\n",
       "            <tr>\n",
       "                        <th id=\"T_8a21f2dc_da02_11eb_aa5b_c8348e310a39level0_row1\" class=\"row_heading level0 row1\" >1.0</th>\n",
       "                        <td id=\"T_8a21f2dc_da02_11eb_aa5b_c8348e310a39row1_col0\" class=\"data row1 col0\" >8.00%</td>\n",
       "                        <td id=\"T_8a21f2dc_da02_11eb_aa5b_c8348e310a39row1_col1\" class=\"data row1 col1\" >12.00%</td>\n",
       "                        <td id=\"T_8a21f2dc_da02_11eb_aa5b_c8348e310a39row1_col2\" class=\"data row1 col2\" >16.00%</td>\n",
       "                        <td id=\"T_8a21f2dc_da02_11eb_aa5b_c8348e310a39row1_col3\" class=\"data row1 col3\" >9.60%</td>\n",
       "                        <td id=\"T_8a21f2dc_da02_11eb_aa5b_c8348e310a39row1_col4\" class=\"data row1 col4\" >11.20%</td>\n",
       "                        <td id=\"T_8a21f2dc_da02_11eb_aa5b_c8348e310a39row1_col5\" class=\"data row1 col5\" >12.80%</td>\n",
       "                        <td id=\"T_8a21f2dc_da02_11eb_aa5b_c8348e310a39row1_col6\" class=\"data row1 col6\" >15.20%</td>\n",
       "                        <td id=\"T_8a21f2dc_da02_11eb_aa5b_c8348e310a39row1_col7\" class=\"data row1 col7\" >14.40%</td>\n",
       "            </tr>\n",
       "            <tr>\n",
       "                        <th id=\"T_8a21f2dc_da02_11eb_aa5b_c8348e310a39level0_row2\" class=\"row_heading level0 row2\" >2.0</th>\n",
       "                        <td id=\"T_8a21f2dc_da02_11eb_aa5b_c8348e310a39row2_col0\" class=\"data row2 col0\" >6.40%</td>\n",
       "                        <td id=\"T_8a21f2dc_da02_11eb_aa5b_c8348e310a39row2_col1\" class=\"data row2 col1\" >9.60%</td>\n",
       "                        <td id=\"T_8a21f2dc_da02_11eb_aa5b_c8348e310a39row2_col2\" class=\"data row2 col2\" >12.80%</td>\n",
       "                        <td id=\"T_8a21f2dc_da02_11eb_aa5b_c8348e310a39row2_col3\" class=\"data row2 col3\" >7.68%</td>\n",
       "                        <td id=\"T_8a21f2dc_da02_11eb_aa5b_c8348e310a39row2_col4\" class=\"data row2 col4\" >8.96%</td>\n",
       "                        <td id=\"T_8a21f2dc_da02_11eb_aa5b_c8348e310a39row2_col5\" class=\"data row2 col5\" >10.24%</td>\n",
       "                        <td id=\"T_8a21f2dc_da02_11eb_aa5b_c8348e310a39row2_col6\" class=\"data row2 col6\" >12.16%</td>\n",
       "                        <td id=\"T_8a21f2dc_da02_11eb_aa5b_c8348e310a39row2_col7\" class=\"data row2 col7\" >11.52%</td>\n",
       "            </tr>\n",
       "            <tr>\n",
       "                        <th id=\"T_8a21f2dc_da02_11eb_aa5b_c8348e310a39level0_row3\" class=\"row_heading level0 row3\" >3.0</th>\n",
       "                        <td id=\"T_8a21f2dc_da02_11eb_aa5b_c8348e310a39row3_col0\" class=\"data row3 col0\" >5.12%</td>\n",
       "                        <td id=\"T_8a21f2dc_da02_11eb_aa5b_c8348e310a39row3_col1\" class=\"data row3 col1\" >7.68%</td>\n",
       "                        <td id=\"T_8a21f2dc_da02_11eb_aa5b_c8348e310a39row3_col2\" class=\"data row3 col2\" >10.24%</td>\n",
       "                        <td id=\"T_8a21f2dc_da02_11eb_aa5b_c8348e310a39row3_col3\" class=\"data row3 col3\" >6.14%</td>\n",
       "                        <td id=\"T_8a21f2dc_da02_11eb_aa5b_c8348e310a39row3_col4\" class=\"data row3 col4\" >7.17%</td>\n",
       "                        <td id=\"T_8a21f2dc_da02_11eb_aa5b_c8348e310a39row3_col5\" class=\"data row3 col5\" >8.19%</td>\n",
       "                        <td id=\"T_8a21f2dc_da02_11eb_aa5b_c8348e310a39row3_col6\" class=\"data row3 col6\" >9.73%</td>\n",
       "                        <td id=\"T_8a21f2dc_da02_11eb_aa5b_c8348e310a39row3_col7\" class=\"data row3 col7\" >9.22%</td>\n",
       "            </tr>\n",
       "            <tr>\n",
       "                        <th id=\"T_8a21f2dc_da02_11eb_aa5b_c8348e310a39level0_row4\" class=\"row_heading level0 row4\" >4.0</th>\n",
       "                        <td id=\"T_8a21f2dc_da02_11eb_aa5b_c8348e310a39row4_col0\" class=\"data row4 col0\" >4.10%</td>\n",
       "                        <td id=\"T_8a21f2dc_da02_11eb_aa5b_c8348e310a39row4_col1\" class=\"data row4 col1\" >6.14%</td>\n",
       "                        <td id=\"T_8a21f2dc_da02_11eb_aa5b_c8348e310a39row4_col2\" class=\"data row4 col2\" >8.19%</td>\n",
       "                        <td id=\"T_8a21f2dc_da02_11eb_aa5b_c8348e310a39row4_col3\" class=\"data row4 col3\" >4.92%</td>\n",
       "                        <td id=\"T_8a21f2dc_da02_11eb_aa5b_c8348e310a39row4_col4\" class=\"data row4 col4\" >5.73%</td>\n",
       "                        <td id=\"T_8a21f2dc_da02_11eb_aa5b_c8348e310a39row4_col5\" class=\"data row4 col5\" >6.55%</td>\n",
       "                        <td id=\"T_8a21f2dc_da02_11eb_aa5b_c8348e310a39row4_col6\" class=\"data row4 col6\" >7.78%</td>\n",
       "                        <td id=\"T_8a21f2dc_da02_11eb_aa5b_c8348e310a39row4_col7\" class=\"data row4 col7\" >7.37%</td>\n",
       "            </tr>\n",
       "            <tr>\n",
       "                        <th id=\"T_8a21f2dc_da02_11eb_aa5b_c8348e310a39level0_row5\" class=\"row_heading level0 row5\" >5.0</th>\n",
       "                        <td id=\"T_8a21f2dc_da02_11eb_aa5b_c8348e310a39row5_col0\" class=\"data row5 col0\" >3.28%</td>\n",
       "                        <td id=\"T_8a21f2dc_da02_11eb_aa5b_c8348e310a39row5_col1\" class=\"data row5 col1\" >4.92%</td>\n",
       "                        <td id=\"T_8a21f2dc_da02_11eb_aa5b_c8348e310a39row5_col2\" class=\"data row5 col2\" >6.55%</td>\n",
       "                        <td id=\"T_8a21f2dc_da02_11eb_aa5b_c8348e310a39row5_col3\" class=\"data row5 col3\" >3.93%</td>\n",
       "                        <td id=\"T_8a21f2dc_da02_11eb_aa5b_c8348e310a39row5_col4\" class=\"data row5 col4\" >4.59%</td>\n",
       "                        <td id=\"T_8a21f2dc_da02_11eb_aa5b_c8348e310a39row5_col5\" class=\"data row5 col5\" >5.24%</td>\n",
       "                        <td id=\"T_8a21f2dc_da02_11eb_aa5b_c8348e310a39row5_col6\" class=\"data row5 col6\" >6.23%</td>\n",
       "                        <td id=\"T_8a21f2dc_da02_11eb_aa5b_c8348e310a39row5_col7\" class=\"data row5 col7\" >5.90%</td>\n",
       "            </tr>\n",
       "            <tr>\n",
       "                        <th id=\"T_8a21f2dc_da02_11eb_aa5b_c8348e310a39level0_row6\" class=\"row_heading level0 row6\" >6.0</th>\n",
       "                        <td id=\"T_8a21f2dc_da02_11eb_aa5b_c8348e310a39row6_col0\" class=\"data row6 col0\" >2.62%</td>\n",
       "                        <td id=\"T_8a21f2dc_da02_11eb_aa5b_c8348e310a39row6_col1\" class=\"data row6 col1\" >3.93%</td>\n",
       "                        <td id=\"T_8a21f2dc_da02_11eb_aa5b_c8348e310a39row6_col2\" class=\"data row6 col2\" >5.24%</td>\n",
       "                        <td id=\"T_8a21f2dc_da02_11eb_aa5b_c8348e310a39row6_col3\" class=\"data row6 col3\" >3.15%</td>\n",
       "                        <td id=\"T_8a21f2dc_da02_11eb_aa5b_c8348e310a39row6_col4\" class=\"data row6 col4\" >3.67%</td>\n",
       "                        <td id=\"T_8a21f2dc_da02_11eb_aa5b_c8348e310a39row6_col5\" class=\"data row6 col5\" >4.19%</td>\n",
       "                        <td id=\"T_8a21f2dc_da02_11eb_aa5b_c8348e310a39row6_col6\" class=\"data row6 col6\" >4.98%</td>\n",
       "                        <td id=\"T_8a21f2dc_da02_11eb_aa5b_c8348e310a39row6_col7\" class=\"data row6 col7\" >4.72%</td>\n",
       "            </tr>\n",
       "            <tr>\n",
       "                        <th id=\"T_8a21f2dc_da02_11eb_aa5b_c8348e310a39level0_row7\" class=\"row_heading level0 row7\" >7.0</th>\n",
       "                        <td id=\"T_8a21f2dc_da02_11eb_aa5b_c8348e310a39row7_col0\" class=\"data row7 col0\" >2.10%</td>\n",
       "                        <td id=\"T_8a21f2dc_da02_11eb_aa5b_c8348e310a39row7_col1\" class=\"data row7 col1\" >3.15%</td>\n",
       "                        <td id=\"T_8a21f2dc_da02_11eb_aa5b_c8348e310a39row7_col2\" class=\"data row7 col2\" >4.19%</td>\n",
       "                        <td id=\"T_8a21f2dc_da02_11eb_aa5b_c8348e310a39row7_col3\" class=\"data row7 col3\" >2.52%</td>\n",
       "                        <td id=\"T_8a21f2dc_da02_11eb_aa5b_c8348e310a39row7_col4\" class=\"data row7 col4\" >2.94%</td>\n",
       "                        <td id=\"T_8a21f2dc_da02_11eb_aa5b_c8348e310a39row7_col5\" class=\"data row7 col5\" >3.36%</td>\n",
       "                        <td id=\"T_8a21f2dc_da02_11eb_aa5b_c8348e310a39row7_col6\" class=\"data row7 col6\" >3.98%</td>\n",
       "                        <td id=\"T_8a21f2dc_da02_11eb_aa5b_c8348e310a39row7_col7\" class=\"data row7 col7\" >3.77%</td>\n",
       "            </tr>\n",
       "            <tr>\n",
       "                        <th id=\"T_8a21f2dc_da02_11eb_aa5b_c8348e310a39level0_row8\" class=\"row_heading level0 row8\" >8.0</th>\n",
       "                        <td id=\"T_8a21f2dc_da02_11eb_aa5b_c8348e310a39row8_col0\" class=\"data row8 col0\" >1.68%</td>\n",
       "                        <td id=\"T_8a21f2dc_da02_11eb_aa5b_c8348e310a39row8_col1\" class=\"data row8 col1\" >2.52%</td>\n",
       "                        <td id=\"T_8a21f2dc_da02_11eb_aa5b_c8348e310a39row8_col2\" class=\"data row8 col2\" >3.36%</td>\n",
       "                        <td id=\"T_8a21f2dc_da02_11eb_aa5b_c8348e310a39row8_col3\" class=\"data row8 col3\" >2.01%</td>\n",
       "                        <td id=\"T_8a21f2dc_da02_11eb_aa5b_c8348e310a39row8_col4\" class=\"data row8 col4\" >2.35%</td>\n",
       "                        <td id=\"T_8a21f2dc_da02_11eb_aa5b_c8348e310a39row8_col5\" class=\"data row8 col5\" >2.68%</td>\n",
       "                        <td id=\"T_8a21f2dc_da02_11eb_aa5b_c8348e310a39row8_col6\" class=\"data row8 col6\" >3.19%</td>\n",
       "                        <td id=\"T_8a21f2dc_da02_11eb_aa5b_c8348e310a39row8_col7\" class=\"data row8 col7\" >3.02%</td>\n",
       "            </tr>\n",
       "            <tr>\n",
       "                        <th id=\"T_8a21f2dc_da02_11eb_aa5b_c8348e310a39level0_row9\" class=\"row_heading level0 row9\" >9.0</th>\n",
       "                        <td id=\"T_8a21f2dc_da02_11eb_aa5b_c8348e310a39row9_col0\" class=\"data row9 col0\" >1.34%</td>\n",
       "                        <td id=\"T_8a21f2dc_da02_11eb_aa5b_c8348e310a39row9_col1\" class=\"data row9 col1\" >2.01%</td>\n",
       "                        <td id=\"T_8a21f2dc_da02_11eb_aa5b_c8348e310a39row9_col2\" class=\"data row9 col2\" >2.68%</td>\n",
       "                        <td id=\"T_8a21f2dc_da02_11eb_aa5b_c8348e310a39row9_col3\" class=\"data row9 col3\" >1.61%</td>\n",
       "                        <td id=\"T_8a21f2dc_da02_11eb_aa5b_c8348e310a39row9_col4\" class=\"data row9 col4\" >1.88%</td>\n",
       "                        <td id=\"T_8a21f2dc_da02_11eb_aa5b_c8348e310a39row9_col5\" class=\"data row9 col5\" >2.15%</td>\n",
       "                        <td id=\"T_8a21f2dc_da02_11eb_aa5b_c8348e310a39row9_col6\" class=\"data row9 col6\" >2.55%</td>\n",
       "                        <td id=\"T_8a21f2dc_da02_11eb_aa5b_c8348e310a39row9_col7\" class=\"data row9 col7\" >2.42%</td>\n",
       "            </tr>\n",
       "    </tbody></table>"
      ],
      "text/plain": [
       "<pandas.io.formats.style.Styler at 0x25ea249ca48>"
      ]
     },
     "execution_count": 4,
     "metadata": {},
     "output_type": "execute_result"
    }
   ],
   "source": [
    "sva.claim_delay_factors().head(10).style.format('{:,.2%}')"
   ]
  },
  {
   "cell_type": "markdown",
   "metadata": {},
   "source": [
    "### claims_expense_reserve"
   ]
  },
  {
   "cell_type": "code",
   "execution_count": 5,
   "metadata": {},
   "outputs": [
    {
     "data": {
      "text/html": [
       "<style  type=\"text/css\" >\n",
       "</style><table id=\"T_8acb905c_da02_11eb_9fb2_c8348e310a39\" ><thead>    <tr>        <th class=\"blank level0\" ></th>        <th class=\"col_heading level0 col0\" >Death</th>        <th class=\"col_heading level0 col1\" >TPD</th>        <th class=\"col_heading level0 col2\" >IP</th>    </tr>    <tr>        <th class=\"index_name level0\" >Year</th>        <th class=\"blank\" ></th>        <th class=\"blank\" ></th>        <th class=\"blank\" ></th>    </tr></thead><tbody>\n",
       "                <tr>\n",
       "                        <th id=\"T_8acb905c_da02_11eb_9fb2_c8348e310a39level0_row0\" class=\"row_heading level0 row0\" >Current</th>\n",
       "                        <td id=\"T_8acb905c_da02_11eb_9fb2_c8348e310a39row0_col0\" class=\"data row0 col0\" >1.90%</td>\n",
       "                        <td id=\"T_8acb905c_da02_11eb_9fb2_c8348e310a39row0_col1\" class=\"data row0 col1\" >1.90%</td>\n",
       "                        <td id=\"T_8acb905c_da02_11eb_9fb2_c8348e310a39row0_col2\" class=\"data row0 col2\" >11.50%</td>\n",
       "            </tr>\n",
       "            <tr>\n",
       "                        <th id=\"T_8acb905c_da02_11eb_9fb2_c8348e310a39level0_row1\" class=\"row_heading level0 row1\" >1</th>\n",
       "                        <td id=\"T_8acb905c_da02_11eb_9fb2_c8348e310a39row1_col0\" class=\"data row1 col0\" >1.90%</td>\n",
       "                        <td id=\"T_8acb905c_da02_11eb_9fb2_c8348e310a39row1_col1\" class=\"data row1 col1\" >1.90%</td>\n",
       "                        <td id=\"T_8acb905c_da02_11eb_9fb2_c8348e310a39row1_col2\" class=\"data row1 col2\" >11.50%</td>\n",
       "            </tr>\n",
       "            <tr>\n",
       "                        <th id=\"T_8acb905c_da02_11eb_9fb2_c8348e310a39level0_row2\" class=\"row_heading level0 row2\" >2</th>\n",
       "                        <td id=\"T_8acb905c_da02_11eb_9fb2_c8348e310a39row2_col0\" class=\"data row2 col0\" >1.90%</td>\n",
       "                        <td id=\"T_8acb905c_da02_11eb_9fb2_c8348e310a39row2_col1\" class=\"data row2 col1\" >1.90%</td>\n",
       "                        <td id=\"T_8acb905c_da02_11eb_9fb2_c8348e310a39row2_col2\" class=\"data row2 col2\" >11.50%</td>\n",
       "            </tr>\n",
       "            <tr>\n",
       "                        <th id=\"T_8acb905c_da02_11eb_9fb2_c8348e310a39level0_row3\" class=\"row_heading level0 row3\" >3</th>\n",
       "                        <td id=\"T_8acb905c_da02_11eb_9fb2_c8348e310a39row3_col0\" class=\"data row3 col0\" >1.90%</td>\n",
       "                        <td id=\"T_8acb905c_da02_11eb_9fb2_c8348e310a39row3_col1\" class=\"data row3 col1\" >1.90%</td>\n",
       "                        <td id=\"T_8acb905c_da02_11eb_9fb2_c8348e310a39row3_col2\" class=\"data row3 col2\" >11.50%</td>\n",
       "            </tr>\n",
       "            <tr>\n",
       "                        <th id=\"T_8acb905c_da02_11eb_9fb2_c8348e310a39level0_row4\" class=\"row_heading level0 row4\" >4</th>\n",
       "                        <td id=\"T_8acb905c_da02_11eb_9fb2_c8348e310a39row4_col0\" class=\"data row4 col0\" >1.90%</td>\n",
       "                        <td id=\"T_8acb905c_da02_11eb_9fb2_c8348e310a39row4_col1\" class=\"data row4 col1\" >1.90%</td>\n",
       "                        <td id=\"T_8acb905c_da02_11eb_9fb2_c8348e310a39row4_col2\" class=\"data row4 col2\" >11.50%</td>\n",
       "            </tr>\n",
       "            <tr>\n",
       "                        <th id=\"T_8acb905c_da02_11eb_9fb2_c8348e310a39level0_row5\" class=\"row_heading level0 row5\" >5</th>\n",
       "                        <td id=\"T_8acb905c_da02_11eb_9fb2_c8348e310a39row5_col0\" class=\"data row5 col0\" >1.90%</td>\n",
       "                        <td id=\"T_8acb905c_da02_11eb_9fb2_c8348e310a39row5_col1\" class=\"data row5 col1\" >1.90%</td>\n",
       "                        <td id=\"T_8acb905c_da02_11eb_9fb2_c8348e310a39row5_col2\" class=\"data row5 col2\" >11.50%</td>\n",
       "            </tr>\n",
       "            <tr>\n",
       "                        <th id=\"T_8acb905c_da02_11eb_9fb2_c8348e310a39level0_row6\" class=\"row_heading level0 row6\" >6</th>\n",
       "                        <td id=\"T_8acb905c_da02_11eb_9fb2_c8348e310a39row6_col0\" class=\"data row6 col0\" >1.90%</td>\n",
       "                        <td id=\"T_8acb905c_da02_11eb_9fb2_c8348e310a39row6_col1\" class=\"data row6 col1\" >1.90%</td>\n",
       "                        <td id=\"T_8acb905c_da02_11eb_9fb2_c8348e310a39row6_col2\" class=\"data row6 col2\" >11.50%</td>\n",
       "            </tr>\n",
       "    </tbody></table>"
      ],
      "text/plain": [
       "<pandas.io.formats.style.Styler at 0x25ea26504c8>"
      ]
     },
     "execution_count": 5,
     "metadata": {},
     "output_type": "execute_result"
    }
   ],
   "source": [
    "sva.claims_expense_reserve().style.format('{:,.2%}')"
   ]
  },
  {
   "cell_type": "markdown",
   "metadata": {},
   "source": [
    "### operating_expense_perc_premium"
   ]
  },
  {
   "cell_type": "code",
   "execution_count": 6,
   "metadata": {},
   "outputs": [
    {
     "data": {
      "text/html": [
       "<style  type=\"text/css\" >\n",
       "</style><table id=\"T_8b81970c_da02_11eb_90f4_c8348e310a39\" ><thead>    <tr>        <th class=\"blank level0\" ></th>        <th class=\"col_heading level0 col0\" >Death</th>        <th class=\"col_heading level0 col1\" >TPD</th>        <th class=\"col_heading level0 col2\" >IP</th>    </tr>    <tr>        <th class=\"index_name level0\" >Year</th>        <th class=\"blank\" ></th>        <th class=\"blank\" ></th>        <th class=\"blank\" ></th>    </tr></thead><tbody>\n",
       "                <tr>\n",
       "                        <th id=\"T_8b81970c_da02_11eb_90f4_c8348e310a39level0_row0\" class=\"row_heading level0 row0\" >Current</th>\n",
       "                        <td id=\"T_8b81970c_da02_11eb_90f4_c8348e310a39row0_col0\" class=\"data row0 col0\" >4.00%</td>\n",
       "                        <td id=\"T_8b81970c_da02_11eb_90f4_c8348e310a39row0_col1\" class=\"data row0 col1\" >4.00%</td>\n",
       "                        <td id=\"T_8b81970c_da02_11eb_90f4_c8348e310a39row0_col2\" class=\"data row0 col2\" >4.00%</td>\n",
       "            </tr>\n",
       "            <tr>\n",
       "                        <th id=\"T_8b81970c_da02_11eb_90f4_c8348e310a39level0_row1\" class=\"row_heading level0 row1\" >1</th>\n",
       "                        <td id=\"T_8b81970c_da02_11eb_90f4_c8348e310a39row1_col0\" class=\"data row1 col0\" >4.00%</td>\n",
       "                        <td id=\"T_8b81970c_da02_11eb_90f4_c8348e310a39row1_col1\" class=\"data row1 col1\" >4.00%</td>\n",
       "                        <td id=\"T_8b81970c_da02_11eb_90f4_c8348e310a39row1_col2\" class=\"data row1 col2\" >4.00%</td>\n",
       "            </tr>\n",
       "            <tr>\n",
       "                        <th id=\"T_8b81970c_da02_11eb_90f4_c8348e310a39level0_row2\" class=\"row_heading level0 row2\" >2</th>\n",
       "                        <td id=\"T_8b81970c_da02_11eb_90f4_c8348e310a39row2_col0\" class=\"data row2 col0\" >4.00%</td>\n",
       "                        <td id=\"T_8b81970c_da02_11eb_90f4_c8348e310a39row2_col1\" class=\"data row2 col1\" >4.00%</td>\n",
       "                        <td id=\"T_8b81970c_da02_11eb_90f4_c8348e310a39row2_col2\" class=\"data row2 col2\" >4.00%</td>\n",
       "            </tr>\n",
       "            <tr>\n",
       "                        <th id=\"T_8b81970c_da02_11eb_90f4_c8348e310a39level0_row3\" class=\"row_heading level0 row3\" >3</th>\n",
       "                        <td id=\"T_8b81970c_da02_11eb_90f4_c8348e310a39row3_col0\" class=\"data row3 col0\" >4.00%</td>\n",
       "                        <td id=\"T_8b81970c_da02_11eb_90f4_c8348e310a39row3_col1\" class=\"data row3 col1\" >4.00%</td>\n",
       "                        <td id=\"T_8b81970c_da02_11eb_90f4_c8348e310a39row3_col2\" class=\"data row3 col2\" >4.00%</td>\n",
       "            </tr>\n",
       "            <tr>\n",
       "                        <th id=\"T_8b81970c_da02_11eb_90f4_c8348e310a39level0_row4\" class=\"row_heading level0 row4\" >4</th>\n",
       "                        <td id=\"T_8b81970c_da02_11eb_90f4_c8348e310a39row4_col0\" class=\"data row4 col0\" >4.00%</td>\n",
       "                        <td id=\"T_8b81970c_da02_11eb_90f4_c8348e310a39row4_col1\" class=\"data row4 col1\" >4.00%</td>\n",
       "                        <td id=\"T_8b81970c_da02_11eb_90f4_c8348e310a39row4_col2\" class=\"data row4 col2\" >4.00%</td>\n",
       "            </tr>\n",
       "            <tr>\n",
       "                        <th id=\"T_8b81970c_da02_11eb_90f4_c8348e310a39level0_row5\" class=\"row_heading level0 row5\" >5</th>\n",
       "                        <td id=\"T_8b81970c_da02_11eb_90f4_c8348e310a39row5_col0\" class=\"data row5 col0\" >4.00%</td>\n",
       "                        <td id=\"T_8b81970c_da02_11eb_90f4_c8348e310a39row5_col1\" class=\"data row5 col1\" >4.00%</td>\n",
       "                        <td id=\"T_8b81970c_da02_11eb_90f4_c8348e310a39row5_col2\" class=\"data row5 col2\" >4.00%</td>\n",
       "            </tr>\n",
       "            <tr>\n",
       "                        <th id=\"T_8b81970c_da02_11eb_90f4_c8348e310a39level0_row6\" class=\"row_heading level0 row6\" >6</th>\n",
       "                        <td id=\"T_8b81970c_da02_11eb_90f4_c8348e310a39row6_col0\" class=\"data row6 col0\" >4.00%</td>\n",
       "                        <td id=\"T_8b81970c_da02_11eb_90f4_c8348e310a39row6_col1\" class=\"data row6 col1\" >4.00%</td>\n",
       "                        <td id=\"T_8b81970c_da02_11eb_90f4_c8348e310a39row6_col2\" class=\"data row6 col2\" >4.00%</td>\n",
       "            </tr>\n",
       "    </tbody></table>"
      ],
      "text/plain": [
       "<pandas.io.formats.style.Styler at 0x25ea26fbf88>"
      ]
     },
     "execution_count": 6,
     "metadata": {},
     "output_type": "execute_result"
    }
   ],
   "source": [
    "sva.operating_expense_perc_premium().style.format('{:,.2%}')"
   ]
  },
  {
   "cell_type": "markdown",
   "metadata": {},
   "source": [
    "### budgeted_trustee_expense"
   ]
  },
  {
   "cell_type": "code",
   "execution_count": 13,
   "metadata": {},
   "outputs": [
    {
     "data": {
      "text/html": [
       "<style  type=\"text/css\" >\n",
       "</style><table id=\"T_917e6bda_da02_11eb_a637_c8348e310a39\" ><thead>    <tr>        <th class=\"blank level0\" ></th>        <th class=\"col_heading level0 col0\" >Death & TPD</th>        <th class=\"col_heading level0 col1\" >IP</th>    </tr>    <tr>        <th class=\"index_name level0\" >Month</th>        <th class=\"blank\" ></th>        <th class=\"blank\" ></th>    </tr></thead><tbody>\n",
       "                <tr>\n",
       "                        <th id=\"T_917e6bda_da02_11eb_a637_c8348e310a39level0_row0\" class=\"row_heading level0 row0\" >1</th>\n",
       "                        <td id=\"T_917e6bda_da02_11eb_a637_c8348e310a39row0_col0\" class=\"data row0 col0\" >-230,000</td>\n",
       "                        <td id=\"T_917e6bda_da02_11eb_a637_c8348e310a39row0_col1\" class=\"data row0 col1\" >-230,000</td>\n",
       "            </tr>\n",
       "            <tr>\n",
       "                        <th id=\"T_917e6bda_da02_11eb_a637_c8348e310a39level0_row1\" class=\"row_heading level0 row1\" >2</th>\n",
       "                        <td id=\"T_917e6bda_da02_11eb_a637_c8348e310a39row1_col0\" class=\"data row1 col0\" >-230,000</td>\n",
       "                        <td id=\"T_917e6bda_da02_11eb_a637_c8348e310a39row1_col1\" class=\"data row1 col1\" >-230,000</td>\n",
       "            </tr>\n",
       "            <tr>\n",
       "                        <th id=\"T_917e6bda_da02_11eb_a637_c8348e310a39level0_row2\" class=\"row_heading level0 row2\" >3</th>\n",
       "                        <td id=\"T_917e6bda_da02_11eb_a637_c8348e310a39row2_col0\" class=\"data row2 col0\" >-230,000</td>\n",
       "                        <td id=\"T_917e6bda_da02_11eb_a637_c8348e310a39row2_col1\" class=\"data row2 col1\" >-230,000</td>\n",
       "            </tr>\n",
       "            <tr>\n",
       "                        <th id=\"T_917e6bda_da02_11eb_a637_c8348e310a39level0_row3\" class=\"row_heading level0 row3\" >4</th>\n",
       "                        <td id=\"T_917e6bda_da02_11eb_a637_c8348e310a39row3_col0\" class=\"data row3 col0\" >-230,000</td>\n",
       "                        <td id=\"T_917e6bda_da02_11eb_a637_c8348e310a39row3_col1\" class=\"data row3 col1\" >-230,000</td>\n",
       "            </tr>\n",
       "            <tr>\n",
       "                        <th id=\"T_917e6bda_da02_11eb_a637_c8348e310a39level0_row4\" class=\"row_heading level0 row4\" >5</th>\n",
       "                        <td id=\"T_917e6bda_da02_11eb_a637_c8348e310a39row4_col0\" class=\"data row4 col0\" >-230,000</td>\n",
       "                        <td id=\"T_917e6bda_da02_11eb_a637_c8348e310a39row4_col1\" class=\"data row4 col1\" >-230,000</td>\n",
       "            </tr>\n",
       "            <tr>\n",
       "                        <th id=\"T_917e6bda_da02_11eb_a637_c8348e310a39level0_row5\" class=\"row_heading level0 row5\" >6</th>\n",
       "                        <td id=\"T_917e6bda_da02_11eb_a637_c8348e310a39row5_col0\" class=\"data row5 col0\" >-230,000</td>\n",
       "                        <td id=\"T_917e6bda_da02_11eb_a637_c8348e310a39row5_col1\" class=\"data row5 col1\" >-230,000</td>\n",
       "            </tr>\n",
       "            <tr>\n",
       "                        <th id=\"T_917e6bda_da02_11eb_a637_c8348e310a39level0_row6\" class=\"row_heading level0 row6\" >7</th>\n",
       "                        <td id=\"T_917e6bda_da02_11eb_a637_c8348e310a39row6_col0\" class=\"data row6 col0\" >-230,000</td>\n",
       "                        <td id=\"T_917e6bda_da02_11eb_a637_c8348e310a39row6_col1\" class=\"data row6 col1\" >-230,000</td>\n",
       "            </tr>\n",
       "            <tr>\n",
       "                        <th id=\"T_917e6bda_da02_11eb_a637_c8348e310a39level0_row7\" class=\"row_heading level0 row7\" >8</th>\n",
       "                        <td id=\"T_917e6bda_da02_11eb_a637_c8348e310a39row7_col0\" class=\"data row7 col0\" >-230,000</td>\n",
       "                        <td id=\"T_917e6bda_da02_11eb_a637_c8348e310a39row7_col1\" class=\"data row7 col1\" >-230,000</td>\n",
       "            </tr>\n",
       "            <tr>\n",
       "                        <th id=\"T_917e6bda_da02_11eb_a637_c8348e310a39level0_row8\" class=\"row_heading level0 row8\" >9</th>\n",
       "                        <td id=\"T_917e6bda_da02_11eb_a637_c8348e310a39row8_col0\" class=\"data row8 col0\" >-230,000</td>\n",
       "                        <td id=\"T_917e6bda_da02_11eb_a637_c8348e310a39row8_col1\" class=\"data row8 col1\" >-230,000</td>\n",
       "            </tr>\n",
       "            <tr>\n",
       "                        <th id=\"T_917e6bda_da02_11eb_a637_c8348e310a39level0_row9\" class=\"row_heading level0 row9\" >10</th>\n",
       "                        <td id=\"T_917e6bda_da02_11eb_a637_c8348e310a39row9_col0\" class=\"data row9 col0\" >-230,000</td>\n",
       "                        <td id=\"T_917e6bda_da02_11eb_a637_c8348e310a39row9_col1\" class=\"data row9 col1\" >-230,000</td>\n",
       "            </tr>\n",
       "            <tr>\n",
       "                        <th id=\"T_917e6bda_da02_11eb_a637_c8348e310a39level0_row10\" class=\"row_heading level0 row10\" >11</th>\n",
       "                        <td id=\"T_917e6bda_da02_11eb_a637_c8348e310a39row10_col0\" class=\"data row10 col0\" >-230,000</td>\n",
       "                        <td id=\"T_917e6bda_da02_11eb_a637_c8348e310a39row10_col1\" class=\"data row10 col1\" >-230,000</td>\n",
       "            </tr>\n",
       "            <tr>\n",
       "                        <th id=\"T_917e6bda_da02_11eb_a637_c8348e310a39level0_row11\" class=\"row_heading level0 row11\" >12</th>\n",
       "                        <td id=\"T_917e6bda_da02_11eb_a637_c8348e310a39row11_col0\" class=\"data row11 col0\" >-230,000</td>\n",
       "                        <td id=\"T_917e6bda_da02_11eb_a637_c8348e310a39row11_col1\" class=\"data row11 col1\" >-230,000</td>\n",
       "            </tr>\n",
       "    </tbody></table>"
      ],
      "text/plain": [
       "<pandas.io.formats.style.Styler at 0x25ea26ad288>"
      ]
     },
     "execution_count": 13,
     "metadata": {},
     "output_type": "execute_result"
    }
   ],
   "source": [
    "sva.budgeted_trustee_expense().style.format('{:,}')"
   ]
  },
  {
   "cell_type": "markdown",
   "metadata": {},
   "source": [
    "### projected_trustee_expense"
   ]
  },
  {
   "cell_type": "code",
   "execution_count": 8,
   "metadata": {},
   "outputs": [
    {
     "data": {
      "text/html": [
       "<style  type=\"text/css\" >\n",
       "</style><table id=\"T_8cecca76_da02_11eb_85a8_c8348e310a39\" ><thead>    <tr>        <th class=\"blank level0\" ></th>        <th class=\"col_heading level0 col0\" >Death & TPD</th>        <th class=\"col_heading level0 col1\" >IP</th>    </tr>    <tr>        <th class=\"index_name level0\" >Year</th>        <th class=\"blank\" ></th>        <th class=\"blank\" ></th>    </tr></thead><tbody>\n",
       "                <tr>\n",
       "                        <th id=\"T_8cecca76_da02_11eb_85a8_c8348e310a39level0_row0\" class=\"row_heading level0 row0\" >1</th>\n",
       "                        <td id=\"T_8cecca76_da02_11eb_85a8_c8348e310a39row0_col0\" class=\"data row0 col0\" >1.00%</td>\n",
       "                        <td id=\"T_8cecca76_da02_11eb_85a8_c8348e310a39row0_col1\" class=\"data row0 col1\" >1.00%</td>\n",
       "            </tr>\n",
       "            <tr>\n",
       "                        <th id=\"T_8cecca76_da02_11eb_85a8_c8348e310a39level0_row1\" class=\"row_heading level0 row1\" >2</th>\n",
       "                        <td id=\"T_8cecca76_da02_11eb_85a8_c8348e310a39row1_col0\" class=\"data row1 col0\" >1.00%</td>\n",
       "                        <td id=\"T_8cecca76_da02_11eb_85a8_c8348e310a39row1_col1\" class=\"data row1 col1\" >1.00%</td>\n",
       "            </tr>\n",
       "            <tr>\n",
       "                        <th id=\"T_8cecca76_da02_11eb_85a8_c8348e310a39level0_row2\" class=\"row_heading level0 row2\" >3</th>\n",
       "                        <td id=\"T_8cecca76_da02_11eb_85a8_c8348e310a39row2_col0\" class=\"data row2 col0\" >1.00%</td>\n",
       "                        <td id=\"T_8cecca76_da02_11eb_85a8_c8348e310a39row2_col1\" class=\"data row2 col1\" >1.00%</td>\n",
       "            </tr>\n",
       "            <tr>\n",
       "                        <th id=\"T_8cecca76_da02_11eb_85a8_c8348e310a39level0_row3\" class=\"row_heading level0 row3\" >4</th>\n",
       "                        <td id=\"T_8cecca76_da02_11eb_85a8_c8348e310a39row3_col0\" class=\"data row3 col0\" >1.00%</td>\n",
       "                        <td id=\"T_8cecca76_da02_11eb_85a8_c8348e310a39row3_col1\" class=\"data row3 col1\" >1.00%</td>\n",
       "            </tr>\n",
       "            <tr>\n",
       "                        <th id=\"T_8cecca76_da02_11eb_85a8_c8348e310a39level0_row4\" class=\"row_heading level0 row4\" >5</th>\n",
       "                        <td id=\"T_8cecca76_da02_11eb_85a8_c8348e310a39row4_col0\" class=\"data row4 col0\" >1.00%</td>\n",
       "                        <td id=\"T_8cecca76_da02_11eb_85a8_c8348e310a39row4_col1\" class=\"data row4 col1\" >1.00%</td>\n",
       "            </tr>\n",
       "            <tr>\n",
       "                        <th id=\"T_8cecca76_da02_11eb_85a8_c8348e310a39level0_row5\" class=\"row_heading level0 row5\" >6</th>\n",
       "                        <td id=\"T_8cecca76_da02_11eb_85a8_c8348e310a39row5_col0\" class=\"data row5 col0\" >1.00%</td>\n",
       "                        <td id=\"T_8cecca76_da02_11eb_85a8_c8348e310a39row5_col1\" class=\"data row5 col1\" >1.00%</td>\n",
       "            </tr>\n",
       "            <tr>\n",
       "                        <th id=\"T_8cecca76_da02_11eb_85a8_c8348e310a39level0_row6\" class=\"row_heading level0 row6\" >7</th>\n",
       "                        <td id=\"T_8cecca76_da02_11eb_85a8_c8348e310a39row6_col0\" class=\"data row6 col0\" >1.00%</td>\n",
       "                        <td id=\"T_8cecca76_da02_11eb_85a8_c8348e310a39row6_col1\" class=\"data row6 col1\" >1.00%</td>\n",
       "            </tr>\n",
       "            <tr>\n",
       "                        <th id=\"T_8cecca76_da02_11eb_85a8_c8348e310a39level0_row7\" class=\"row_heading level0 row7\" >8</th>\n",
       "                        <td id=\"T_8cecca76_da02_11eb_85a8_c8348e310a39row7_col0\" class=\"data row7 col0\" >1.00%</td>\n",
       "                        <td id=\"T_8cecca76_da02_11eb_85a8_c8348e310a39row7_col1\" class=\"data row7 col1\" >1.00%</td>\n",
       "            </tr>\n",
       "            <tr>\n",
       "                        <th id=\"T_8cecca76_da02_11eb_85a8_c8348e310a39level0_row8\" class=\"row_heading level0 row8\" >9</th>\n",
       "                        <td id=\"T_8cecca76_da02_11eb_85a8_c8348e310a39row8_col0\" class=\"data row8 col0\" >1.00%</td>\n",
       "                        <td id=\"T_8cecca76_da02_11eb_85a8_c8348e310a39row8_col1\" class=\"data row8 col1\" >1.00%</td>\n",
       "            </tr>\n",
       "            <tr>\n",
       "                        <th id=\"T_8cecca76_da02_11eb_85a8_c8348e310a39level0_row9\" class=\"row_heading level0 row9\" >10</th>\n",
       "                        <td id=\"T_8cecca76_da02_11eb_85a8_c8348e310a39row9_col0\" class=\"data row9 col0\" >1.00%</td>\n",
       "                        <td id=\"T_8cecca76_da02_11eb_85a8_c8348e310a39row9_col1\" class=\"data row9 col1\" >1.00%</td>\n",
       "            </tr>\n",
       "    </tbody></table>"
      ],
      "text/plain": [
       "<pandas.io.formats.style.Styler at 0x25ea2753388>"
      ]
     },
     "execution_count": 8,
     "metadata": {},
     "output_type": "execute_result"
    }
   ],
   "source": [
    "sva.projected_trustee_expense().style.format('{:,.2%}')"
   ]
  },
  {
   "cell_type": "markdown",
   "metadata": {},
   "source": [
    "### ip_continuance_rates"
   ]
  },
  {
   "cell_type": "code",
   "execution_count": 14,
   "metadata": {},
   "outputs": [
    {
     "data": {
      "text/html": [
       "<style  type=\"text/css\" >\n",
       "</style><table id=\"T_9b3ffc02_da02_11eb_bb4f_c8348e310a39\" ><thead>    <tr>        <th class=\"blank level0\" ></th>        <th class=\"col_heading level0 col0\" >30</th>        <th class=\"col_heading level0 col1\" >60</th>        <th class=\"col_heading level0 col2\" >90</th>        <th class=\"col_heading level0 col3\" >180</th>    </tr>    <tr>        <th class=\"index_name level0\" >Month</th>        <th class=\"blank\" ></th>        <th class=\"blank\" ></th>        <th class=\"blank\" ></th>        <th class=\"blank\" ></th>    </tr></thead><tbody>\n",
       "                <tr>\n",
       "                        <th id=\"T_9b3ffc02_da02_11eb_bb4f_c8348e310a39level0_row0\" class=\"row_heading level0 row0\" >1</th>\n",
       "                        <td id=\"T_9b3ffc02_da02_11eb_bb4f_c8348e310a39row0_col0\" class=\"data row0 col0\" >100.00%</td>\n",
       "                        <td id=\"T_9b3ffc02_da02_11eb_bb4f_c8348e310a39row0_col1\" class=\"data row0 col1\" >100.00%</td>\n",
       "                        <td id=\"T_9b3ffc02_da02_11eb_bb4f_c8348e310a39row0_col2\" class=\"data row0 col2\" >100.00%</td>\n",
       "                        <td id=\"T_9b3ffc02_da02_11eb_bb4f_c8348e310a39row0_col3\" class=\"data row0 col3\" >100.00%</td>\n",
       "            </tr>\n",
       "            <tr>\n",
       "                        <th id=\"T_9b3ffc02_da02_11eb_bb4f_c8348e310a39level0_row1\" class=\"row_heading level0 row1\" >2</th>\n",
       "                        <td id=\"T_9b3ffc02_da02_11eb_bb4f_c8348e310a39row1_col0\" class=\"data row1 col0\" >70.00%</td>\n",
       "                        <td id=\"T_9b3ffc02_da02_11eb_bb4f_c8348e310a39row1_col1\" class=\"data row1 col1\" >70.00%</td>\n",
       "                        <td id=\"T_9b3ffc02_da02_11eb_bb4f_c8348e310a39row1_col2\" class=\"data row1 col2\" >70.00%</td>\n",
       "                        <td id=\"T_9b3ffc02_da02_11eb_bb4f_c8348e310a39row1_col3\" class=\"data row1 col3\" >70.00%</td>\n",
       "            </tr>\n",
       "            <tr>\n",
       "                        <th id=\"T_9b3ffc02_da02_11eb_bb4f_c8348e310a39level0_row2\" class=\"row_heading level0 row2\" >3</th>\n",
       "                        <td id=\"T_9b3ffc02_da02_11eb_bb4f_c8348e310a39row2_col0\" class=\"data row2 col0\" >49.00%</td>\n",
       "                        <td id=\"T_9b3ffc02_da02_11eb_bb4f_c8348e310a39row2_col1\" class=\"data row2 col1\" >49.00%</td>\n",
       "                        <td id=\"T_9b3ffc02_da02_11eb_bb4f_c8348e310a39row2_col2\" class=\"data row2 col2\" >49.00%</td>\n",
       "                        <td id=\"T_9b3ffc02_da02_11eb_bb4f_c8348e310a39row2_col3\" class=\"data row2 col3\" >49.00%</td>\n",
       "            </tr>\n",
       "            <tr>\n",
       "                        <th id=\"T_9b3ffc02_da02_11eb_bb4f_c8348e310a39level0_row3\" class=\"row_heading level0 row3\" >4</th>\n",
       "                        <td id=\"T_9b3ffc02_da02_11eb_bb4f_c8348e310a39row3_col0\" class=\"data row3 col0\" >34.30%</td>\n",
       "                        <td id=\"T_9b3ffc02_da02_11eb_bb4f_c8348e310a39row3_col1\" class=\"data row3 col1\" >34.30%</td>\n",
       "                        <td id=\"T_9b3ffc02_da02_11eb_bb4f_c8348e310a39row3_col2\" class=\"data row3 col2\" >34.30%</td>\n",
       "                        <td id=\"T_9b3ffc02_da02_11eb_bb4f_c8348e310a39row3_col3\" class=\"data row3 col3\" >34.30%</td>\n",
       "            </tr>\n",
       "            <tr>\n",
       "                        <th id=\"T_9b3ffc02_da02_11eb_bb4f_c8348e310a39level0_row4\" class=\"row_heading level0 row4\" >5</th>\n",
       "                        <td id=\"T_9b3ffc02_da02_11eb_bb4f_c8348e310a39row4_col0\" class=\"data row4 col0\" >24.01%</td>\n",
       "                        <td id=\"T_9b3ffc02_da02_11eb_bb4f_c8348e310a39row4_col1\" class=\"data row4 col1\" >24.01%</td>\n",
       "                        <td id=\"T_9b3ffc02_da02_11eb_bb4f_c8348e310a39row4_col2\" class=\"data row4 col2\" >24.01%</td>\n",
       "                        <td id=\"T_9b3ffc02_da02_11eb_bb4f_c8348e310a39row4_col3\" class=\"data row4 col3\" >24.01%</td>\n",
       "            </tr>\n",
       "            <tr>\n",
       "                        <th id=\"T_9b3ffc02_da02_11eb_bb4f_c8348e310a39level0_row5\" class=\"row_heading level0 row5\" >6</th>\n",
       "                        <td id=\"T_9b3ffc02_da02_11eb_bb4f_c8348e310a39row5_col0\" class=\"data row5 col0\" >16.81%</td>\n",
       "                        <td id=\"T_9b3ffc02_da02_11eb_bb4f_c8348e310a39row5_col1\" class=\"data row5 col1\" >16.81%</td>\n",
       "                        <td id=\"T_9b3ffc02_da02_11eb_bb4f_c8348e310a39row5_col2\" class=\"data row5 col2\" >16.81%</td>\n",
       "                        <td id=\"T_9b3ffc02_da02_11eb_bb4f_c8348e310a39row5_col3\" class=\"data row5 col3\" >16.81%</td>\n",
       "            </tr>\n",
       "            <tr>\n",
       "                        <th id=\"T_9b3ffc02_da02_11eb_bb4f_c8348e310a39level0_row6\" class=\"row_heading level0 row6\" >7</th>\n",
       "                        <td id=\"T_9b3ffc02_da02_11eb_bb4f_c8348e310a39row6_col0\" class=\"data row6 col0\" >11.76%</td>\n",
       "                        <td id=\"T_9b3ffc02_da02_11eb_bb4f_c8348e310a39row6_col1\" class=\"data row6 col1\" >11.76%</td>\n",
       "                        <td id=\"T_9b3ffc02_da02_11eb_bb4f_c8348e310a39row6_col2\" class=\"data row6 col2\" >11.76%</td>\n",
       "                        <td id=\"T_9b3ffc02_da02_11eb_bb4f_c8348e310a39row6_col3\" class=\"data row6 col3\" >11.76%</td>\n",
       "            </tr>\n",
       "            <tr>\n",
       "                        <th id=\"T_9b3ffc02_da02_11eb_bb4f_c8348e310a39level0_row7\" class=\"row_heading level0 row7\" >8</th>\n",
       "                        <td id=\"T_9b3ffc02_da02_11eb_bb4f_c8348e310a39row7_col0\" class=\"data row7 col0\" >8.24%</td>\n",
       "                        <td id=\"T_9b3ffc02_da02_11eb_bb4f_c8348e310a39row7_col1\" class=\"data row7 col1\" >8.24%</td>\n",
       "                        <td id=\"T_9b3ffc02_da02_11eb_bb4f_c8348e310a39row7_col2\" class=\"data row7 col2\" >8.24%</td>\n",
       "                        <td id=\"T_9b3ffc02_da02_11eb_bb4f_c8348e310a39row7_col3\" class=\"data row7 col3\" >8.24%</td>\n",
       "            </tr>\n",
       "            <tr>\n",
       "                        <th id=\"T_9b3ffc02_da02_11eb_bb4f_c8348e310a39level0_row8\" class=\"row_heading level0 row8\" >9</th>\n",
       "                        <td id=\"T_9b3ffc02_da02_11eb_bb4f_c8348e310a39row8_col0\" class=\"data row8 col0\" >5.76%</td>\n",
       "                        <td id=\"T_9b3ffc02_da02_11eb_bb4f_c8348e310a39row8_col1\" class=\"data row8 col1\" >5.76%</td>\n",
       "                        <td id=\"T_9b3ffc02_da02_11eb_bb4f_c8348e310a39row8_col2\" class=\"data row8 col2\" >5.76%</td>\n",
       "                        <td id=\"T_9b3ffc02_da02_11eb_bb4f_c8348e310a39row8_col3\" class=\"data row8 col3\" >5.76%</td>\n",
       "            </tr>\n",
       "            <tr>\n",
       "                        <th id=\"T_9b3ffc02_da02_11eb_bb4f_c8348e310a39level0_row9\" class=\"row_heading level0 row9\" >10</th>\n",
       "                        <td id=\"T_9b3ffc02_da02_11eb_bb4f_c8348e310a39row9_col0\" class=\"data row9 col0\" >4.04%</td>\n",
       "                        <td id=\"T_9b3ffc02_da02_11eb_bb4f_c8348e310a39row9_col1\" class=\"data row9 col1\" >4.04%</td>\n",
       "                        <td id=\"T_9b3ffc02_da02_11eb_bb4f_c8348e310a39row9_col2\" class=\"data row9 col2\" >4.04%</td>\n",
       "                        <td id=\"T_9b3ffc02_da02_11eb_bb4f_c8348e310a39row9_col3\" class=\"data row9 col3\" >4.04%</td>\n",
       "            </tr>\n",
       "    </tbody></table>"
      ],
      "text/plain": [
       "<pandas.io.formats.style.Styler at 0x25ea28760c8>"
      ]
     },
     "execution_count": 14,
     "metadata": {},
     "output_type": "execute_result"
    }
   ],
   "source": [
    "sva.ip_continuance_rates().head(10).style.format('{:,.2%}')"
   ]
  },
  {
   "cell_type": "markdown",
   "metadata": {},
   "source": [
    "### dlr_parameters"
   ]
  },
  {
   "cell_type": "markdown",
   "metadata": {},
   "source": [
    "#### salary_replacement_ratio"
   ]
  },
  {
   "cell_type": "code",
   "execution_count": 18,
   "metadata": {},
   "outputs": [
    {
     "data": {
      "text/html": [
       "<style  type=\"text/css\" >\n",
       "</style><table id=\"T_c5581f42_da02_11eb_a679_c8348e310a39\" ><thead>    <tr>        <th class=\"blank level0\" ></th>        <th class=\"col_heading level0 col0\" >Parameters</th>    </tr>    <tr>        <th class=\"index_name level0\" >Item</th>        <th class=\"blank\" ></th>    </tr></thead><tbody>\n",
       "                <tr>\n",
       "                        <th id=\"T_c5581f42_da02_11eb_a679_c8348e310a39level0_row0\" class=\"row_heading level0 row0\" >Salary replacement ratio</th>\n",
       "                        <td id=\"T_c5581f42_da02_11eb_a679_c8348e310a39row0_col0\" class=\"data row0 col0\" >75.00%</td>\n",
       "            </tr>\n",
       "    </tbody></table>"
      ],
      "text/plain": [
       "<pandas.io.formats.style.Styler at 0x25ea2837c08>"
      ]
     },
     "execution_count": 18,
     "metadata": {},
     "output_type": "execute_result"
    }
   ],
   "source": [
    "sva.dlr_parameters.salary_replacement_ratio().style.format('{:,.2%}')"
   ]
  },
  {
   "cell_type": "markdown",
   "metadata": {},
   "source": [
    "#### continuing_retirement_benefit"
   ]
  },
  {
   "cell_type": "code",
   "execution_count": 11,
   "metadata": {},
   "outputs": [
    {
     "data": {
      "text/html": [
       "<style  type=\"text/css\" >\n",
       "</style><table id=\"T_8f0712f6_da02_11eb_9271_c8348e310a39\" ><thead>    <tr>        <th class=\"blank level0\" ></th>        <th class=\"col_heading level0 col0\" >Parameters</th>    </tr>    <tr>        <th class=\"index_name level0\" >Item</th>        <th class=\"blank\" ></th>    </tr></thead><tbody>\n",
       "                <tr>\n",
       "                        <th id=\"T_8f0712f6_da02_11eb_9271_c8348e310a39level0_row0\" class=\"row_heading level0 row0\" >Continuing retirement benefit</th>\n",
       "                        <td id=\"T_8f0712f6_da02_11eb_9271_c8348e310a39row0_col0\" class=\"data row0 col0\" >12.75%</td>\n",
       "            </tr>\n",
       "    </tbody></table>"
      ],
      "text/plain": [
       "<pandas.io.formats.style.Styler at 0x25ea25fc0c8>"
      ]
     },
     "execution_count": 11,
     "metadata": {},
     "output_type": "execute_result"
    }
   ],
   "source": [
    "sva.dlr_parameters.continuing_retirement_benefit().style.format('{:,.2%}')"
   ]
  },
  {
   "cell_type": "markdown",
   "metadata": {},
   "source": [
    "#### assumed_avg_age_at_disability"
   ]
  },
  {
   "cell_type": "code",
   "execution_count": 15,
   "metadata": {},
   "outputs": [
    {
     "data": {
      "text/html": [
       "<style  type=\"text/css\" >\n",
       "</style><table id=\"T_a2945cde_da02_11eb_aecb_c8348e310a39\" ><thead>    <tr>        <th class=\"blank level0\" ></th>        <th class=\"col_heading level0 col0\" >Parameters</th>    </tr>    <tr>        <th class=\"index_name level0\" >Item</th>        <th class=\"blank\" ></th>    </tr></thead><tbody>\n",
       "                <tr>\n",
       "                        <th id=\"T_a2945cde_da02_11eb_aecb_c8348e310a39level0_row0\" class=\"row_heading level0 row0\" >Assumed average age at disability</th>\n",
       "                        <td id=\"T_a2945cde_da02_11eb_aecb_c8348e310a39row0_col0\" class=\"data row0 col0\" >47.0</td>\n",
       "            </tr>\n",
       "    </tbody></table>"
      ],
      "text/plain": [
       "<pandas.io.formats.style.Styler at 0x25ea2881188>"
      ]
     },
     "execution_count": 15,
     "metadata": {},
     "output_type": "execute_result"
    }
   ],
   "source": [
    "sva.dlr_parameters.assumed_avg_age_at_disability().style.format('{:,}')"
   ]
  },
  {
   "cell_type": "markdown",
   "metadata": {},
   "source": [
    "#### payment_ratio"
   ]
  },
  {
   "cell_type": "code",
   "execution_count": null,
   "metadata": {},
   "outputs": [],
   "source": []
  },
  {
   "cell_type": "markdown",
   "metadata": {},
   "source": [
    "#### reopened_claims_reserves_loading"
   ]
  },
  {
   "cell_type": "code",
   "execution_count": null,
   "metadata": {},
   "outputs": [],
   "source": []
  },
  {
   "cell_type": "markdown",
   "metadata": {},
   "source": [
    "#### benefit_indexation_month"
   ]
  },
  {
   "cell_type": "code",
   "execution_count": null,
   "metadata": {},
   "outputs": [],
   "source": []
  },
  {
   "cell_type": "markdown",
   "metadata": {},
   "source": [
    "### ip_ibnr_adjustment"
   ]
  },
  {
   "cell_type": "code",
   "execution_count": null,
   "metadata": {},
   "outputs": [],
   "source": []
  },
  {
   "cell_type": "markdown",
   "metadata": {},
   "source": [
    "### appeals_reserve_assumptions"
   ]
  },
  {
   "cell_type": "code",
   "execution_count": null,
   "metadata": {},
   "outputs": [],
   "source": []
  },
  {
   "cell_type": "markdown",
   "metadata": {},
   "source": [
    "### perc_of_appealed_claims_accepted"
   ]
  },
  {
   "cell_type": "code",
   "execution_count": null,
   "metadata": {},
   "outputs": [],
   "source": []
  },
  {
   "cell_type": "markdown",
   "metadata": {},
   "source": [
    "### decline_rate"
   ]
  },
  {
   "cell_type": "code",
   "execution_count": null,
   "metadata": {},
   "outputs": [],
   "source": []
  },
  {
   "cell_type": "markdown",
   "metadata": {},
   "source": [
    "### decline_rate_delay"
   ]
  },
  {
   "cell_type": "code",
   "execution_count": null,
   "metadata": {},
   "outputs": [],
   "source": []
  },
  {
   "cell_type": "markdown",
   "metadata": {},
   "source": [
    "### simultaneous_ip_tpd_decline"
   ]
  },
  {
   "cell_type": "code",
   "execution_count": null,
   "metadata": {},
   "outputs": [],
   "source": []
  },
  {
   "cell_type": "markdown",
   "metadata": {},
   "source": [
    "### expected_loss_ratio_gov"
   ]
  },
  {
   "cell_type": "code",
   "execution_count": null,
   "metadata": {},
   "outputs": [],
   "source": []
  },
  {
   "cell_type": "markdown",
   "metadata": {},
   "source": [
    "### expected_loss_ratio_nongov"
   ]
  },
  {
   "cell_type": "code",
   "execution_count": null,
   "metadata": {},
   "outputs": [],
   "source": []
  },
  {
   "cell_type": "markdown",
   "metadata": {},
   "source": [
    "### payment_delay_factors"
   ]
  },
  {
   "cell_type": "code",
   "execution_count": null,
   "metadata": {},
   "outputs": [],
   "source": []
  },
  {
   "cell_type": "markdown",
   "metadata": {},
   "source": [
    "### payment_delay_factors_discrete"
   ]
  },
  {
   "cell_type": "code",
   "execution_count": null,
   "metadata": {},
   "outputs": [],
   "source": []
  },
  {
   "cell_type": "markdown",
   "metadata": {},
   "source": [
    "### average_claim_size"
   ]
  },
  {
   "cell_type": "code",
   "execution_count": null,
   "metadata": {},
   "outputs": [],
   "source": []
  },
  {
   "cell_type": "markdown",
   "metadata": {},
   "source": [
    "### acs_ip_linked_tpd"
   ]
  },
  {
   "cell_type": "code",
   "execution_count": null,
   "metadata": {},
   "outputs": [],
   "source": []
  },
  {
   "cell_type": "markdown",
   "metadata": {},
   "source": [
    "### acs_by_notification_delay_q"
   ]
  },
  {
   "cell_type": "code",
   "execution_count": null,
   "metadata": {},
   "outputs": [],
   "source": []
  },
  {
   "cell_type": "markdown",
   "metadata": {},
   "source": [
    "### perc_si_at_ip_doe"
   ]
  },
  {
   "cell_type": "code",
   "execution_count": null,
   "metadata": {},
   "outputs": [],
   "source": []
  },
  {
   "cell_type": "markdown",
   "metadata": {},
   "source": [
    "### tpd_si_scales_by_age"
   ]
  },
  {
   "cell_type": "code",
   "execution_count": null,
   "metadata": {},
   "outputs": [],
   "source": []
  },
  {
   "cell_type": "markdown",
   "metadata": {},
   "source": [
    "### termination_rates"
   ]
  },
  {
   "cell_type": "code",
   "execution_count": null,
   "metadata": {},
   "outputs": [],
   "source": []
  },
  {
   "cell_type": "markdown",
   "metadata": {},
   "source": [
    "#### age_rates"
   ]
  },
  {
   "cell_type": "code",
   "execution_count": null,
   "metadata": {},
   "outputs": [],
   "source": []
  },
  {
   "cell_type": "markdown",
   "metadata": {},
   "source": [
    "#### duration_of_claim_g_wp_oc"
   ]
  },
  {
   "cell_type": "code",
   "execution_count": null,
   "metadata": {},
   "outputs": [],
   "source": []
  },
  {
   "cell_type": "markdown",
   "metadata": {},
   "source": [
    "#### smoker_status"
   ]
  },
  {
   "cell_type": "code",
   "execution_count": null,
   "metadata": {},
   "outputs": [],
   "source": []
  },
  {
   "cell_type": "markdown",
   "metadata": {},
   "source": [
    "#### benefit_type"
   ]
  },
  {
   "cell_type": "code",
   "execution_count": null,
   "metadata": {},
   "outputs": [],
   "source": []
  },
  {
   "cell_type": "markdown",
   "metadata": {},
   "source": [
    "#### policy_duration_factor"
   ]
  },
  {
   "cell_type": "code",
   "execution_count": null,
   "metadata": {},
   "outputs": [],
   "source": []
  },
  {
   "cell_type": "markdown",
   "metadata": {},
   "source": [
    "### stress_margins"
   ]
  },
  {
   "cell_type": "code",
   "execution_count": null,
   "metadata": {},
   "outputs": [],
   "source": []
  },
  {
   "cell_type": "markdown",
   "metadata": {},
   "source": [
    "#### random"
   ]
  },
  {
   "cell_type": "code",
   "execution_count": null,
   "metadata": {},
   "outputs": [],
   "source": []
  },
  {
   "cell_type": "markdown",
   "metadata": {},
   "source": [
    "#### future"
   ]
  },
  {
   "cell_type": "code",
   "execution_count": null,
   "metadata": {},
   "outputs": [],
   "source": []
  }
 ],
 "metadata": {
  "kernelspec": {
   "display_name": "Python 3",
   "language": "python",
   "name": "python3"
  },
  "language_info": {
   "codemirror_mode": {
    "name": "ipython",
    "version": 3
   },
   "file_extension": ".py",
   "mimetype": "text/x-python",
   "name": "python",
   "nbconvert_exporter": "python",
   "pygments_lexer": "ipython3",
   "version": "3.7.6"
  }
 },
 "nbformat": 4,
 "nbformat_minor": 4
}
