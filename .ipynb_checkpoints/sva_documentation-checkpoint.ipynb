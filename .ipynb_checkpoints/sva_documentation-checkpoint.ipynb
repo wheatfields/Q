{
 "cells": [
  {
   "cell_type": "markdown",
   "metadata": {},
   "source": [
    "# sva.\n",
    "\n",
    "#### _Table 1_\n",
    "* [claim_reporting_delay](#claim_reporting_delay)\n",
    "* [claim__delay_factors](#claim__delay_factors)\n",
    "\n",
    "#### _Table 2_\n",
    "* [claims_expense_reserve](#claim_reporting_delay)\n",
    "* [operating_expense_perc_premium](#claim_reporting_delay)\n",
    "* [budgeted_trustee_expense](#claim_reporting_delay)\n",
    "* [projected_trustee_expense](#claim_reporting_delay)\n",
    "\n",
    "#### Table 3\n",
    "* [ip_continuance_rates](#claim_reporting_delay)\n",
    "* [dlr_parameters](#claim_reporting_delay)\n",
    "    * [salary_replacement_ratio](#claim_reporting_delay)\n",
    "    * [continuing_retirement_benefit](#claim_reporting_delay)\n",
    "    * [assumed_avg_age_at_disability](#claim_reporting_delay)\n",
    "    * [payment_ratio](#claim_reporting_delay)\n",
    "    * [reopened_claims_reserves_loading](#claim_reporting_delay)\n",
    "    * [benefit_indexation_month](#claim_reporting_delay)\n",
    "    * [ip_ibnr_adjustment](#claim_reporting_delay)\n",
    "\n",
    "\n",
    "#### Table 4\n",
    "appeals_reserve_assumptions\n",
    "perc_of_appealed_claims_accepted\n",
    "\n",
    "\n",
    "#### Table 5\n",
    "decline_rate\n",
    "decline_rate_delay\n",
    "simultaneous_ip_tpd_decline\n",
    "\n",
    "\n",
    "#### Table 6\n",
    "expected_loss_ratio_gov\n",
    "expected_loss_ratio_nongov\n",
    "\n",
    "\n",
    "#### Table 7\n",
    "payment_delay_factors\n",
    "payment_delay_factors_discrete\n",
    "\n",
    "\n",
    "\n",
    "#### Table 8\n",
    "average_claim_size\n",
    "acs_ip_linked_tpd\n",
    "acs_by_notification_delay_q\n",
    "perc_si_at_ip_doe\n",
    "tpd_si_scales_by_age\n",
    "\n",
    "\n",
    "\n",
    "#### Table 9\n",
    "termination_rates\n",
    "age_rates\n",
    "duration_of_claim_g_wp_oc\n",
    "smoker_status\n",
    "benefit_type\n",
    "policy_duration_factor\n",
    "\n",
    "\n",
    "#### Table 10\n",
    "stress_margins\n",
    "    random\n",
    "        random_all\n",
    "        death\n",
    "        death_ibnr\n",
    "        death_rbna\n",
    "        tpd\n",
    "        tpd_ibnr\n",
    "        tpd_rbna\n",
    "        ip\n",
    "        ip_dlr\n",
    "        ip_ibnr\n",
    "        ip_rbna\n",
    "    future\n",
    "        future_all\n",
    "        death\n",
    "        death_ibnr\n",
    "        death_rbna\n",
    "        tpd\n",
    "        tpd_ibnr\n",
    "        tpd_rbna\n",
    "        ip\n",
    "        ip_dlr\n",
    "        ip_ibnr\n",
    "        ip_rbna\n",
    "\n",
    "\n",
    "\n",
    "\n",
    "\n"
   ]
  },
  {
   "cell_type": "code",
   "execution_count": 47,
   "metadata": {},
   "outputs": [
    {
     "data": {
      "text/plain": [
       "['future', 'path', 'random', 'sheet_name']"
      ]
     },
     "execution_count": 47,
     "metadata": {},
     "output_type": "execute_result"
    }
   ],
   "source": [
    "import os\n",
    "os.chdir(r\"C:\\Users\\adamw\\Documents\\GitHub\\Q\")\n",
    "path = r\"C:\\Users\\adamw\\Documents\\SVA replica.xlsx\"\n",
    "from sva import sva\n",
    "# # Initialise with path and sheetname\n",
    "sva = sva(path=path, sheet_name='NewProduct')\n",
    "a = dir(sva.termination_rates)\n",
    "dir_sva = dir(sva.stress_margins)\n",
    "[dir_sva for dir_sva in dir_sva if '__' not in dir_sva]"
   ]
  },
  {
   "cell_type": "code",
   "execution_count": null,
   "metadata": {},
   "outputs": [],
   "source": []
  },
  {
   "cell_type": "code",
   "execution_count": null,
   "metadata": {},
   "outputs": [],
   "source": []
  },
  {
   "cell_type": "code",
   "execution_count": null,
   "metadata": {},
   "outputs": [],
   "source": []
  }
 ],
 "metadata": {
  "kernelspec": {
   "display_name": "Python 3",
   "language": "python",
   "name": "python3"
  },
  "language_info": {
   "codemirror_mode": {
    "name": "ipython",
    "version": 3
   },
   "file_extension": ".py",
   "mimetype": "text/x-python",
   "name": "python",
   "nbconvert_exporter": "python",
   "pygments_lexer": "ipython3",
   "version": "3.7.6"
  }
 },
 "nbformat": 4,
 "nbformat_minor": 4
}
