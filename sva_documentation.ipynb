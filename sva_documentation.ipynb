{
 "cells": [
  {
   "cell_type": "markdown",
   "metadata": {},
   "source": [
    "# sva.\n",
    "___\n",
    "\n",
    "### _Summary Valuation Assumptions_\n",
    "\n",
    "Usage of class ```sva```:\n",
    "1. initialise with:\n",
    "    1. path to the sva spreadsheet\n",
    "    2. sheet_name\n",
    "        * _'CurrentProduct'_ or _'NewProduct'_\n",
    "2. Refer to table below for reference hierarchy. Indentation represents a different level within ```sva```. \n",
    "    * for example: \n",
    "        * to access the _claims_reporting_delay_, ```sva.claims_reporting_delay()``` is called. \n",
    "        * to access the _salary_replacement_ratios_ in the dlr_parameters, ```sva.dlr_parameters.salary_replacement_ratio()``` is called.\n",
    "        * to access the _death_ibnr_ in the stress_margins, ```sva.dlr_parameters.salary_replacement_ratio()``` is called.\n",
    "___\n",
    "\n",
    "#### _Table 1_\n",
    "* [claims_reporting_delay](#claims_reporting_delay)\n",
    "* [claim_delay_factors](#claims_delay_factors)\n",
    "\n",
    "#### _Table 2_\n",
    "* [claims_expense_reserve](#claims_expense_reserve)\n",
    "* [operating_expense_perc_premium](#operating_expense_perc_premium)\n",
    "* [budgeted_trustee_expense](#budgeted_trustee_expense)\n",
    "* [projected_trustee_expense](#projected_trustee_expense)\n",
    "\n",
    "#### _Table 3_\n",
    "* [ip_continuance_rates](#ip_continuance_rates)\n",
    "* [dlr_parameters](#dlr_parameters)\n",
    "    * [salary_replacement_ratio](#salary_replacement_ratio)\n",
    "    * [continuing_retirement_benefit](#continuing_retirement_benefit)\n",
    "    * [assumed_avg_age_at_disability](#assumed_avg_age_at_disability)\n",
    "    * [payment_ratio](#payment_ratio)\n",
    "    * [reopened_claims_reserves_loading](#reopened_claims_reserves_loading)\n",
    "    * [benefit_indexation_month](#benefit_indexation_month)\n",
    "* [ip_ibnr_adjustment](#ip_ibnr_adjustment)\n",
    "\n",
    "\n",
    "#### _Table 4_\n",
    "* [appeals_reserve_assumptions](#appeals_reserve_assumptions)\n",
    "* [perc_of_appealed_claims_accepted](#perc_of_appealed_claims_accepted)\n",
    "\n",
    "\n",
    "#### _Table 5_\n",
    "* [decline_rate](#decline_rate)\n",
    "* [decline_rate_delay](#decline_rate_delay)\n",
    "* [simultaneous_ip_tpd_decline](#simultaneous_ip_tpd_decline)\n",
    "\n",
    "\n",
    "#### _Table 6_\n",
    "* [expected_loss_ratio_gov](#expected_loss_ratio_gov)\n",
    "* [expected_loss_ratio_nongov](#expected_loss_ratio_nongov)\n",
    "\n",
    "\n",
    "#### _Table 7_\n",
    "* [payment_delay_factors](#payment_delay_factors)\n",
    "* [payment_delay_factors_discrete](#payment_delay_factors_discrete)\n",
    "\n",
    "\n",
    "\n",
    "#### _Table 8_\n",
    "* [average_claim_size](#average_claim_size)\n",
    "* [acs_ip_linked_tpd](#acs_ip_linked_tpd)\n",
    "* [acs_by_notification_delay_q](#acs_by_notification_delay_q)\n",
    "* [perc_si_at_ip_doe](#perc_si_at_ip_doe)\n",
    "* [tpd_si_scales_by_age](#tpd_si_scales_by_age)\n",
    "\n",
    "\n",
    "\n",
    "#### _Table 9_\n",
    "* [termination_rates](#termination_rates)\n",
    "    * [age_rates](#age_rates)\n",
    "    * [duration_of_claim_g_wp_oc](#duration_of_claim_g_wp_oc)\n",
    "    * [smoker_status](#smoker_status)\n",
    "    * [benefit_type](#benefit_type)\n",
    "    * [policy_duration_factor](#policy_duration_factor)\n",
    "\n",
    "\n",
    "#### _Table 10_\n",
    "* [stress_margins](#stress_margins)\n",
    "    * [random](#random)\n",
    "        * random_all\n",
    "        * death\n",
    "        * death_ibnr\n",
    "        * death_rbna\n",
    "        * tpd\n",
    "        * tpd_ibnr\n",
    "        * tpd_rbna\n",
    "        * ip\n",
    "        * ip_dlr\n",
    "        * ip_ibnr\n",
    "        * ip_rbna\n",
    "    * [future](#future)\n",
    "        * future_all\n",
    "        * death\n",
    "        * death_ibnr\n",
    "        * death_rbna\n",
    "        * tpd\n",
    "        * tpd_ibnr\n",
    "        * tpd_rbna\n",
    "        * ip\n",
    "        * ip_dlr\n",
    "        * ip_ibnr\n",
    "        * ip_rbna\n",
    "    * [time_to_react_future](#time_to_react_future)\n",
    "    * [event_pandemic_death](#event_pandemic_death)\n",
    "    * [event_pandemic_tpd](#event_pandemic_tpd)\n",
    "    * [event_pandemic_ip](#event_pandemic_ip)\n",
    "    * [prop_disabled_after_wp](#random)\n",
    "    * [lapse_stress](#lapse_stress)\n",
    "    * [servicing_expense_stress](#servicing_expense_stress)\n",
    "\n",
    "#### _Table 11_\n",
    "* [reinsurance](#reinsurance)\n",
    "* [catastrophe_pl](#catastrophe_pl)\n",
    "* [catastrophe_capital](#catastrophe_capital)\n",
    "\n",
    "#### _Table 12_\n",
    "* [par_loadings](#par_loadings)\n",
    "* [stamp_duty](#stamp_duty)\n",
    "* [investment_earnings_b0](#investment_earnings_b0)\n",
    "\n",
    "#### _Table 13_\n",
    "* [contingency_margin_start](#contingency_margin_start)\n",
    "* [contingency_margin](#contingency_margin)\n",
    "\n",
    "#### _Table 14_\n",
    "* [notification_delay](#notification_delay)\n",
    "\n",
    "#### _Table 15_\n",
    "* [cmm_impact_termination_rates_start](#cmm_impact_termination_rates_start)\n",
    "* [cmm_impact_termination_rates_perc](#cmm_impact_termination_rates_perc)\n",
    "\n",
    "#### _Table 16_\n",
    "* [covid19_impact_termination_rates](#covid19_impact_termination_rates)\n",
    "\n",
    "#### _Table 17_\n",
    "* [covid19_adjustment_ip_dlr](#covid19_adjustment_ip_dlr)\n",
    "\n",
    "#### _Table 18_\n",
    "* [expected_lr_combined_capital](#expected_lr_combined_capital)\n",
    "\n",
    "#### _Table 19_\n",
    "* [gov_tpd_linked_to_ip](#gov_tpd_linked_to_ip)\n",
    "* [tpd_linked_reporting_delay](#tpd_linked_reporting_delay)\n",
    "* [conversion_rates](#conversion_rates)\n",
    "\n",
    "#### _Table 20_\n",
    "* [claims_reporting_delay_tpd_ip](#claims_reporting_delay_tpd_ip)\n",
    "* [claims_delay_factors_tpd_ip](#claims_delay_factors_tpd_ip)\n",
    "\n",
    "#### _Table 21_\n",
    "* [missing_subcase_reserve](#missing_subcase_reserve)\n",
    "\n",
    "#### _Forward Rates_\n",
    "\n",
    "___\n"
   ]
  },
  {
   "cell_type": "code",
   "execution_count": 6,
   "metadata": {},
   "outputs": [],
   "source": [
    "import os\n",
    "os.chdir(r\"C:\\Users\\adamw\\Documents\\GitHub\\Q\")\n",
    "path = r\"C:\\Users\\adamw\\Documents\\SVA replica.xlsx\"\n",
    "from sva import sva\n",
    "# # Initialise with path and sheetname\n",
    "sva = sva(path=path, sheet_name='NewProduct')\n"
   ]
  },
  {
   "cell_type": "markdown",
   "metadata": {},
   "source": [
    "___\n",
    "# 1\n",
    "### claims_reporting_delay"
   ]
  },
  {
   "cell_type": "code",
   "execution_count": 8,
   "metadata": {},
   "outputs": [
    {
     "name": "stderr",
     "output_type": "stream",
     "text": [
      "C:\\Users\\adamw\\Documents\\GitHub\\Q\\sva.py:60: FutureWarning: The default value of regex will change from True to False in a future version.\n",
      "  table.columns = table.columns.str.replace(r'\\.\\d+$', '')\n"
     ]
    },
    {
     "data": {
      "text/html": [
       "<style  type=\"text/css\" >\n",
       "</style><table id=\"T_8871e_\" ><thead>    <tr>        <th class=\"blank level0\" ></th>        <th class=\"col_heading level0 col0\" >Gov Death</th>        <th class=\"col_heading level0 col1\" >Gov TPD*</th>        <th class=\"col_heading level0 col2\" >Non-Gov Death</th>        <th class=\"col_heading level0 col3\" >Non-Gov TPD</th>        <th class=\"col_heading level0 col4\" >IP WP 30**</th>        <th class=\"col_heading level0 col5\" >IP WP 60**</th>        <th class=\"col_heading level0 col6\" >IP WP 90**</th>        <th class=\"col_heading level0 col7\" >IP WP 180**</th>    </tr>    <tr>        <th class=\"index_name level0\" >End of month</th>        <th class=\"blank\" ></th>        <th class=\"blank\" ></th>        <th class=\"blank\" ></th>        <th class=\"blank\" ></th>        <th class=\"blank\" ></th>        <th class=\"blank\" ></th>        <th class=\"blank\" ></th>        <th class=\"blank\" ></th>    </tr></thead><tbody>\n",
       "                <tr>\n",
       "                        <th id=\"T_8871e_level0_row0\" class=\"row_heading level0 row0\" >0.0</th>\n",
       "                        <td id=\"T_8871e_row0_col0\" class=\"data row0 col0\" >90.00%</td>\n",
       "                        <td id=\"T_8871e_row0_col1\" class=\"data row0 col1\" >67.00%</td>\n",
       "                        <td id=\"T_8871e_row0_col2\" class=\"data row0 col2\" >89.00%</td>\n",
       "                        <td id=\"T_8871e_row0_col3\" class=\"data row0 col3\" >55.00%</td>\n",
       "                        <td id=\"T_8871e_row0_col4\" class=\"data row0 col4\" >40.00%</td>\n",
       "                        <td id=\"T_8871e_row0_col5\" class=\"data row0 col5\" >91.00%</td>\n",
       "                        <td id=\"T_8871e_row0_col6\" class=\"data row0 col6\" >45.00%</td>\n",
       "                        <td id=\"T_8871e_row0_col7\" class=\"data row0 col7\" >99.00%</td>\n",
       "            </tr>\n",
       "            <tr>\n",
       "                        <th id=\"T_8871e_level0_row1\" class=\"row_heading level0 row1\" >1.0</th>\n",
       "                        <td id=\"T_8871e_row1_col0\" class=\"data row1 col0\" >72.00%</td>\n",
       "                        <td id=\"T_8871e_row1_col1\" class=\"data row1 col1\" >53.60%</td>\n",
       "                        <td id=\"T_8871e_row1_col2\" class=\"data row1 col2\" >71.20%</td>\n",
       "                        <td id=\"T_8871e_row1_col3\" class=\"data row1 col3\" >44.00%</td>\n",
       "                        <td id=\"T_8871e_row1_col4\" class=\"data row1 col4\" >32.00%</td>\n",
       "                        <td id=\"T_8871e_row1_col5\" class=\"data row1 col5\" >72.80%</td>\n",
       "                        <td id=\"T_8871e_row1_col6\" class=\"data row1 col6\" >36.00%</td>\n",
       "                        <td id=\"T_8871e_row1_col7\" class=\"data row1 col7\" >79.20%</td>\n",
       "            </tr>\n",
       "            <tr>\n",
       "                        <th id=\"T_8871e_level0_row2\" class=\"row_heading level0 row2\" >2.0</th>\n",
       "                        <td id=\"T_8871e_row2_col0\" class=\"data row2 col0\" >57.60%</td>\n",
       "                        <td id=\"T_8871e_row2_col1\" class=\"data row2 col1\" >42.88%</td>\n",
       "                        <td id=\"T_8871e_row2_col2\" class=\"data row2 col2\" >56.96%</td>\n",
       "                        <td id=\"T_8871e_row2_col3\" class=\"data row2 col3\" >35.20%</td>\n",
       "                        <td id=\"T_8871e_row2_col4\" class=\"data row2 col4\" >25.60%</td>\n",
       "                        <td id=\"T_8871e_row2_col5\" class=\"data row2 col5\" >58.24%</td>\n",
       "                        <td id=\"T_8871e_row2_col6\" class=\"data row2 col6\" >28.80%</td>\n",
       "                        <td id=\"T_8871e_row2_col7\" class=\"data row2 col7\" >63.36%</td>\n",
       "            </tr>\n",
       "            <tr>\n",
       "                        <th id=\"T_8871e_level0_row3\" class=\"row_heading level0 row3\" >3.0</th>\n",
       "                        <td id=\"T_8871e_row3_col0\" class=\"data row3 col0\" >46.08%</td>\n",
       "                        <td id=\"T_8871e_row3_col1\" class=\"data row3 col1\" >34.30%</td>\n",
       "                        <td id=\"T_8871e_row3_col2\" class=\"data row3 col2\" >45.57%</td>\n",
       "                        <td id=\"T_8871e_row3_col3\" class=\"data row3 col3\" >28.16%</td>\n",
       "                        <td id=\"T_8871e_row3_col4\" class=\"data row3 col4\" >20.48%</td>\n",
       "                        <td id=\"T_8871e_row3_col5\" class=\"data row3 col5\" >46.59%</td>\n",
       "                        <td id=\"T_8871e_row3_col6\" class=\"data row3 col6\" >23.04%</td>\n",
       "                        <td id=\"T_8871e_row3_col7\" class=\"data row3 col7\" >50.69%</td>\n",
       "            </tr>\n",
       "            <tr>\n",
       "                        <th id=\"T_8871e_level0_row4\" class=\"row_heading level0 row4\" >4.0</th>\n",
       "                        <td id=\"T_8871e_row4_col0\" class=\"data row4 col0\" >36.86%</td>\n",
       "                        <td id=\"T_8871e_row4_col1\" class=\"data row4 col1\" >27.44%</td>\n",
       "                        <td id=\"T_8871e_row4_col2\" class=\"data row4 col2\" >36.45%</td>\n",
       "                        <td id=\"T_8871e_row4_col3\" class=\"data row4 col3\" >22.53%</td>\n",
       "                        <td id=\"T_8871e_row4_col4\" class=\"data row4 col4\" >16.38%</td>\n",
       "                        <td id=\"T_8871e_row4_col5\" class=\"data row4 col5\" >37.27%</td>\n",
       "                        <td id=\"T_8871e_row4_col6\" class=\"data row4 col6\" >18.43%</td>\n",
       "                        <td id=\"T_8871e_row4_col7\" class=\"data row4 col7\" >40.55%</td>\n",
       "            </tr>\n",
       "            <tr>\n",
       "                        <th id=\"T_8871e_level0_row5\" class=\"row_heading level0 row5\" >5.0</th>\n",
       "                        <td id=\"T_8871e_row5_col0\" class=\"data row5 col0\" >29.49%</td>\n",
       "                        <td id=\"T_8871e_row5_col1\" class=\"data row5 col1\" >21.95%</td>\n",
       "                        <td id=\"T_8871e_row5_col2\" class=\"data row5 col2\" >29.16%</td>\n",
       "                        <td id=\"T_8871e_row5_col3\" class=\"data row5 col3\" >18.02%</td>\n",
       "                        <td id=\"T_8871e_row5_col4\" class=\"data row5 col4\" >13.11%</td>\n",
       "                        <td id=\"T_8871e_row5_col5\" class=\"data row5 col5\" >29.82%</td>\n",
       "                        <td id=\"T_8871e_row5_col6\" class=\"data row5 col6\" >14.75%</td>\n",
       "                        <td id=\"T_8871e_row5_col7\" class=\"data row5 col7\" >32.44%</td>\n",
       "            </tr>\n",
       "            <tr>\n",
       "                        <th id=\"T_8871e_level0_row6\" class=\"row_heading level0 row6\" >6.0</th>\n",
       "                        <td id=\"T_8871e_row6_col0\" class=\"data row6 col0\" >23.59%</td>\n",
       "                        <td id=\"T_8871e_row6_col1\" class=\"data row6 col1\" >17.56%</td>\n",
       "                        <td id=\"T_8871e_row6_col2\" class=\"data row6 col2\" >23.33%</td>\n",
       "                        <td id=\"T_8871e_row6_col3\" class=\"data row6 col3\" >14.42%</td>\n",
       "                        <td id=\"T_8871e_row6_col4\" class=\"data row6 col4\" >10.49%</td>\n",
       "                        <td id=\"T_8871e_row6_col5\" class=\"data row6 col5\" >23.86%</td>\n",
       "                        <td id=\"T_8871e_row6_col6\" class=\"data row6 col6\" >11.80%</td>\n",
       "                        <td id=\"T_8871e_row6_col7\" class=\"data row6 col7\" >25.95%</td>\n",
       "            </tr>\n",
       "            <tr>\n",
       "                        <th id=\"T_8871e_level0_row7\" class=\"row_heading level0 row7\" >7.0</th>\n",
       "                        <td id=\"T_8871e_row7_col0\" class=\"data row7 col0\" >18.87%</td>\n",
       "                        <td id=\"T_8871e_row7_col1\" class=\"data row7 col1\" >14.05%</td>\n",
       "                        <td id=\"T_8871e_row7_col2\" class=\"data row7 col2\" >18.66%</td>\n",
       "                        <td id=\"T_8871e_row7_col3\" class=\"data row7 col3\" >11.53%</td>\n",
       "                        <td id=\"T_8871e_row7_col4\" class=\"data row7 col4\" >8.39%</td>\n",
       "                        <td id=\"T_8871e_row7_col5\" class=\"data row7 col5\" >19.08%</td>\n",
       "                        <td id=\"T_8871e_row7_col6\" class=\"data row7 col6\" >9.44%</td>\n",
       "                        <td id=\"T_8871e_row7_col7\" class=\"data row7 col7\" >20.76%</td>\n",
       "            </tr>\n",
       "            <tr>\n",
       "                        <th id=\"T_8871e_level0_row8\" class=\"row_heading level0 row8\" >8.0</th>\n",
       "                        <td id=\"T_8871e_row8_col0\" class=\"data row8 col0\" >15.10%</td>\n",
       "                        <td id=\"T_8871e_row8_col1\" class=\"data row8 col1\" >11.24%</td>\n",
       "                        <td id=\"T_8871e_row8_col2\" class=\"data row8 col2\" >14.93%</td>\n",
       "                        <td id=\"T_8871e_row8_col3\" class=\"data row8 col3\" >9.23%</td>\n",
       "                        <td id=\"T_8871e_row8_col4\" class=\"data row8 col4\" >6.71%</td>\n",
       "                        <td id=\"T_8871e_row8_col5\" class=\"data row8 col5\" >15.27%</td>\n",
       "                        <td id=\"T_8871e_row8_col6\" class=\"data row8 col6\" >7.55%</td>\n",
       "                        <td id=\"T_8871e_row8_col7\" class=\"data row8 col7\" >16.61%</td>\n",
       "            </tr>\n",
       "            <tr>\n",
       "                        <th id=\"T_8871e_level0_row9\" class=\"row_heading level0 row9\" >9.0</th>\n",
       "                        <td id=\"T_8871e_row9_col0\" class=\"data row9 col0\" >12.08%</td>\n",
       "                        <td id=\"T_8871e_row9_col1\" class=\"data row9 col1\" >8.99%</td>\n",
       "                        <td id=\"T_8871e_row9_col2\" class=\"data row9 col2\" >11.95%</td>\n",
       "                        <td id=\"T_8871e_row9_col3\" class=\"data row9 col3\" >7.38%</td>\n",
       "                        <td id=\"T_8871e_row9_col4\" class=\"data row9 col4\" >5.37%</td>\n",
       "                        <td id=\"T_8871e_row9_col5\" class=\"data row9 col5\" >12.21%</td>\n",
       "                        <td id=\"T_8871e_row9_col6\" class=\"data row9 col6\" >6.04%</td>\n",
       "                        <td id=\"T_8871e_row9_col7\" class=\"data row9 col7\" >13.29%</td>\n",
       "            </tr>\n",
       "    </tbody></table>"
      ],
      "text/plain": [
       "<pandas.io.formats.style.Styler at 0x24855ebf700>"
      ]
     },
     "execution_count": 8,
     "metadata": {},
     "output_type": "execute_result"
    }
   ],
   "source": [
    "sva.claims_reporting_delay().head(10).style.format('{:,.2%}')"
   ]
  },
  {
   "cell_type": "markdown",
   "metadata": {},
   "source": [
    "### claim_delay_factors"
   ]
  },
  {
   "cell_type": "code",
   "execution_count": 3,
   "metadata": {},
   "outputs": [
    {
     "name": "stderr",
     "output_type": "stream",
     "text": [
      "C:\\Users\\adamw\\Documents\\GitHub\\Q\\sva.py:60: FutureWarning: The default value of regex will change from True to False in a future version.\n",
      "  table.columns = table.columns.str.replace(r'\\.\\d+$', '')\n"
     ]
    },
    {
     "data": {
      "text/html": [
       "<style  type=\"text/css\" >\n",
       "</style><table id=\"T_19452_\" ><thead>    <tr>        <th class=\"blank level0\" ></th>        <th class=\"col_heading level0 col0\" >Gov Death</th>        <th class=\"col_heading level0 col1\" >Gov TPD*</th>        <th class=\"col_heading level0 col2\" >Non-Gov Death</th>        <th class=\"col_heading level0 col3\" >Non-Gov TPD</th>        <th class=\"col_heading level0 col4\" >IP WP 30**</th>        <th class=\"col_heading level0 col5\" >IP WP 60**</th>        <th class=\"col_heading level0 col6\" >IP WP 90**</th>        <th class=\"col_heading level0 col7\" >IP WP 180**</th>    </tr>    <tr>        <th class=\"index_name level0\" >End of month</th>        <th class=\"blank\" ></th>        <th class=\"blank\" ></th>        <th class=\"blank\" ></th>        <th class=\"blank\" ></th>        <th class=\"blank\" ></th>        <th class=\"blank\" ></th>        <th class=\"blank\" ></th>        <th class=\"blank\" ></th>    </tr></thead><tbody>\n",
       "                <tr>\n",
       "                        <th id=\"T_19452_level0_row0\" class=\"row_heading level0 row0\" >0.0</th>\n",
       "                        <td id=\"T_19452_row0_col0\" class=\"data row0 col0\" >10.00%</td>\n",
       "                        <td id=\"T_19452_row0_col1\" class=\"data row0 col1\" >15.00%</td>\n",
       "                        <td id=\"T_19452_row0_col2\" class=\"data row0 col2\" >20.00%</td>\n",
       "                        <td id=\"T_19452_row0_col3\" class=\"data row0 col3\" >12.00%</td>\n",
       "                        <td id=\"T_19452_row0_col4\" class=\"data row0 col4\" >14.00%</td>\n",
       "                        <td id=\"T_19452_row0_col5\" class=\"data row0 col5\" >16.00%</td>\n",
       "                        <td id=\"T_19452_row0_col6\" class=\"data row0 col6\" >19.00%</td>\n",
       "                        <td id=\"T_19452_row0_col7\" class=\"data row0 col7\" >18.00%</td>\n",
       "            </tr>\n",
       "            <tr>\n",
       "                        <th id=\"T_19452_level0_row1\" class=\"row_heading level0 row1\" >1.0</th>\n",
       "                        <td id=\"T_19452_row1_col0\" class=\"data row1 col0\" >8.00%</td>\n",
       "                        <td id=\"T_19452_row1_col1\" class=\"data row1 col1\" >12.00%</td>\n",
       "                        <td id=\"T_19452_row1_col2\" class=\"data row1 col2\" >16.00%</td>\n",
       "                        <td id=\"T_19452_row1_col3\" class=\"data row1 col3\" >9.60%</td>\n",
       "                        <td id=\"T_19452_row1_col4\" class=\"data row1 col4\" >11.20%</td>\n",
       "                        <td id=\"T_19452_row1_col5\" class=\"data row1 col5\" >12.80%</td>\n",
       "                        <td id=\"T_19452_row1_col6\" class=\"data row1 col6\" >15.20%</td>\n",
       "                        <td id=\"T_19452_row1_col7\" class=\"data row1 col7\" >14.40%</td>\n",
       "            </tr>\n",
       "            <tr>\n",
       "                        <th id=\"T_19452_level0_row2\" class=\"row_heading level0 row2\" >2.0</th>\n",
       "                        <td id=\"T_19452_row2_col0\" class=\"data row2 col0\" >6.40%</td>\n",
       "                        <td id=\"T_19452_row2_col1\" class=\"data row2 col1\" >9.60%</td>\n",
       "                        <td id=\"T_19452_row2_col2\" class=\"data row2 col2\" >12.80%</td>\n",
       "                        <td id=\"T_19452_row2_col3\" class=\"data row2 col3\" >7.68%</td>\n",
       "                        <td id=\"T_19452_row2_col4\" class=\"data row2 col4\" >8.96%</td>\n",
       "                        <td id=\"T_19452_row2_col5\" class=\"data row2 col5\" >10.24%</td>\n",
       "                        <td id=\"T_19452_row2_col6\" class=\"data row2 col6\" >12.16%</td>\n",
       "                        <td id=\"T_19452_row2_col7\" class=\"data row2 col7\" >11.52%</td>\n",
       "            </tr>\n",
       "            <tr>\n",
       "                        <th id=\"T_19452_level0_row3\" class=\"row_heading level0 row3\" >3.0</th>\n",
       "                        <td id=\"T_19452_row3_col0\" class=\"data row3 col0\" >5.12%</td>\n",
       "                        <td id=\"T_19452_row3_col1\" class=\"data row3 col1\" >7.68%</td>\n",
       "                        <td id=\"T_19452_row3_col2\" class=\"data row3 col2\" >10.24%</td>\n",
       "                        <td id=\"T_19452_row3_col3\" class=\"data row3 col3\" >6.14%</td>\n",
       "                        <td id=\"T_19452_row3_col4\" class=\"data row3 col4\" >7.17%</td>\n",
       "                        <td id=\"T_19452_row3_col5\" class=\"data row3 col5\" >8.19%</td>\n",
       "                        <td id=\"T_19452_row3_col6\" class=\"data row3 col6\" >9.73%</td>\n",
       "                        <td id=\"T_19452_row3_col7\" class=\"data row3 col7\" >9.22%</td>\n",
       "            </tr>\n",
       "            <tr>\n",
       "                        <th id=\"T_19452_level0_row4\" class=\"row_heading level0 row4\" >4.0</th>\n",
       "                        <td id=\"T_19452_row4_col0\" class=\"data row4 col0\" >4.10%</td>\n",
       "                        <td id=\"T_19452_row4_col1\" class=\"data row4 col1\" >6.14%</td>\n",
       "                        <td id=\"T_19452_row4_col2\" class=\"data row4 col2\" >8.19%</td>\n",
       "                        <td id=\"T_19452_row4_col3\" class=\"data row4 col3\" >4.92%</td>\n",
       "                        <td id=\"T_19452_row4_col4\" class=\"data row4 col4\" >5.73%</td>\n",
       "                        <td id=\"T_19452_row4_col5\" class=\"data row4 col5\" >6.55%</td>\n",
       "                        <td id=\"T_19452_row4_col6\" class=\"data row4 col6\" >7.78%</td>\n",
       "                        <td id=\"T_19452_row4_col7\" class=\"data row4 col7\" >7.37%</td>\n",
       "            </tr>\n",
       "            <tr>\n",
       "                        <th id=\"T_19452_level0_row5\" class=\"row_heading level0 row5\" >5.0</th>\n",
       "                        <td id=\"T_19452_row5_col0\" class=\"data row5 col0\" >3.28%</td>\n",
       "                        <td id=\"T_19452_row5_col1\" class=\"data row5 col1\" >4.92%</td>\n",
       "                        <td id=\"T_19452_row5_col2\" class=\"data row5 col2\" >6.55%</td>\n",
       "                        <td id=\"T_19452_row5_col3\" class=\"data row5 col3\" >3.93%</td>\n",
       "                        <td id=\"T_19452_row5_col4\" class=\"data row5 col4\" >4.59%</td>\n",
       "                        <td id=\"T_19452_row5_col5\" class=\"data row5 col5\" >5.24%</td>\n",
       "                        <td id=\"T_19452_row5_col6\" class=\"data row5 col6\" >6.23%</td>\n",
       "                        <td id=\"T_19452_row5_col7\" class=\"data row5 col7\" >5.90%</td>\n",
       "            </tr>\n",
       "            <tr>\n",
       "                        <th id=\"T_19452_level0_row6\" class=\"row_heading level0 row6\" >6.0</th>\n",
       "                        <td id=\"T_19452_row6_col0\" class=\"data row6 col0\" >2.62%</td>\n",
       "                        <td id=\"T_19452_row6_col1\" class=\"data row6 col1\" >3.93%</td>\n",
       "                        <td id=\"T_19452_row6_col2\" class=\"data row6 col2\" >5.24%</td>\n",
       "                        <td id=\"T_19452_row6_col3\" class=\"data row6 col3\" >3.15%</td>\n",
       "                        <td id=\"T_19452_row6_col4\" class=\"data row6 col4\" >3.67%</td>\n",
       "                        <td id=\"T_19452_row6_col5\" class=\"data row6 col5\" >4.19%</td>\n",
       "                        <td id=\"T_19452_row6_col6\" class=\"data row6 col6\" >4.98%</td>\n",
       "                        <td id=\"T_19452_row6_col7\" class=\"data row6 col7\" >4.72%</td>\n",
       "            </tr>\n",
       "            <tr>\n",
       "                        <th id=\"T_19452_level0_row7\" class=\"row_heading level0 row7\" >7.0</th>\n",
       "                        <td id=\"T_19452_row7_col0\" class=\"data row7 col0\" >2.10%</td>\n",
       "                        <td id=\"T_19452_row7_col1\" class=\"data row7 col1\" >3.15%</td>\n",
       "                        <td id=\"T_19452_row7_col2\" class=\"data row7 col2\" >4.19%</td>\n",
       "                        <td id=\"T_19452_row7_col3\" class=\"data row7 col3\" >2.52%</td>\n",
       "                        <td id=\"T_19452_row7_col4\" class=\"data row7 col4\" >2.94%</td>\n",
       "                        <td id=\"T_19452_row7_col5\" class=\"data row7 col5\" >3.36%</td>\n",
       "                        <td id=\"T_19452_row7_col6\" class=\"data row7 col6\" >3.98%</td>\n",
       "                        <td id=\"T_19452_row7_col7\" class=\"data row7 col7\" >3.77%</td>\n",
       "            </tr>\n",
       "            <tr>\n",
       "                        <th id=\"T_19452_level0_row8\" class=\"row_heading level0 row8\" >8.0</th>\n",
       "                        <td id=\"T_19452_row8_col0\" class=\"data row8 col0\" >1.68%</td>\n",
       "                        <td id=\"T_19452_row8_col1\" class=\"data row8 col1\" >2.52%</td>\n",
       "                        <td id=\"T_19452_row8_col2\" class=\"data row8 col2\" >3.36%</td>\n",
       "                        <td id=\"T_19452_row8_col3\" class=\"data row8 col3\" >2.01%</td>\n",
       "                        <td id=\"T_19452_row8_col4\" class=\"data row8 col4\" >2.35%</td>\n",
       "                        <td id=\"T_19452_row8_col5\" class=\"data row8 col5\" >2.68%</td>\n",
       "                        <td id=\"T_19452_row8_col6\" class=\"data row8 col6\" >3.19%</td>\n",
       "                        <td id=\"T_19452_row8_col7\" class=\"data row8 col7\" >3.02%</td>\n",
       "            </tr>\n",
       "            <tr>\n",
       "                        <th id=\"T_19452_level0_row9\" class=\"row_heading level0 row9\" >9.0</th>\n",
       "                        <td id=\"T_19452_row9_col0\" class=\"data row9 col0\" >1.34%</td>\n",
       "                        <td id=\"T_19452_row9_col1\" class=\"data row9 col1\" >2.01%</td>\n",
       "                        <td id=\"T_19452_row9_col2\" class=\"data row9 col2\" >2.68%</td>\n",
       "                        <td id=\"T_19452_row9_col3\" class=\"data row9 col3\" >1.61%</td>\n",
       "                        <td id=\"T_19452_row9_col4\" class=\"data row9 col4\" >1.88%</td>\n",
       "                        <td id=\"T_19452_row9_col5\" class=\"data row9 col5\" >2.15%</td>\n",
       "                        <td id=\"T_19452_row9_col6\" class=\"data row9 col6\" >2.55%</td>\n",
       "                        <td id=\"T_19452_row9_col7\" class=\"data row9 col7\" >2.42%</td>\n",
       "            </tr>\n",
       "    </tbody></table>"
      ],
      "text/plain": [
       "<pandas.io.formats.style.Styler at 0x23192003940>"
      ]
     },
     "execution_count": 3,
     "metadata": {},
     "output_type": "execute_result"
    }
   ],
   "source": [
    "sva.claim_delay_factors().head(10).style.format('{:,.2%}')"
   ]
  },
  {
   "cell_type": "markdown",
   "metadata": {},
   "source": [
    "___\n",
    "# 2\n",
    "### claims_expense_reserve"
   ]
  },
  {
   "cell_type": "code",
   "execution_count": 4,
   "metadata": {},
   "outputs": [
    {
     "data": {
      "text/html": [
       "<style  type=\"text/css\" >\n",
       "</style><table id=\"T_e5e17_\" ><thead>    <tr>        <th class=\"blank level0\" ></th>        <th class=\"col_heading level0 col0\" >Death</th>        <th class=\"col_heading level0 col1\" >TPD</th>        <th class=\"col_heading level0 col2\" >IP</th>    </tr>    <tr>        <th class=\"index_name level0\" >Year</th>        <th class=\"blank\" ></th>        <th class=\"blank\" ></th>        <th class=\"blank\" ></th>    </tr></thead><tbody>\n",
       "                <tr>\n",
       "                        <th id=\"T_e5e17_level0_row0\" class=\"row_heading level0 row0\" >Current</th>\n",
       "                        <td id=\"T_e5e17_row0_col0\" class=\"data row0 col0\" >1.90%</td>\n",
       "                        <td id=\"T_e5e17_row0_col1\" class=\"data row0 col1\" >1.90%</td>\n",
       "                        <td id=\"T_e5e17_row0_col2\" class=\"data row0 col2\" >11.50%</td>\n",
       "            </tr>\n",
       "            <tr>\n",
       "                        <th id=\"T_e5e17_level0_row1\" class=\"row_heading level0 row1\" >1</th>\n",
       "                        <td id=\"T_e5e17_row1_col0\" class=\"data row1 col0\" >1.90%</td>\n",
       "                        <td id=\"T_e5e17_row1_col1\" class=\"data row1 col1\" >1.90%</td>\n",
       "                        <td id=\"T_e5e17_row1_col2\" class=\"data row1 col2\" >11.50%</td>\n",
       "            </tr>\n",
       "            <tr>\n",
       "                        <th id=\"T_e5e17_level0_row2\" class=\"row_heading level0 row2\" >2</th>\n",
       "                        <td id=\"T_e5e17_row2_col0\" class=\"data row2 col0\" >1.90%</td>\n",
       "                        <td id=\"T_e5e17_row2_col1\" class=\"data row2 col1\" >1.90%</td>\n",
       "                        <td id=\"T_e5e17_row2_col2\" class=\"data row2 col2\" >11.50%</td>\n",
       "            </tr>\n",
       "            <tr>\n",
       "                        <th id=\"T_e5e17_level0_row3\" class=\"row_heading level0 row3\" >3</th>\n",
       "                        <td id=\"T_e5e17_row3_col0\" class=\"data row3 col0\" >1.90%</td>\n",
       "                        <td id=\"T_e5e17_row3_col1\" class=\"data row3 col1\" >1.90%</td>\n",
       "                        <td id=\"T_e5e17_row3_col2\" class=\"data row3 col2\" >11.50%</td>\n",
       "            </tr>\n",
       "            <tr>\n",
       "                        <th id=\"T_e5e17_level0_row4\" class=\"row_heading level0 row4\" >4</th>\n",
       "                        <td id=\"T_e5e17_row4_col0\" class=\"data row4 col0\" >1.90%</td>\n",
       "                        <td id=\"T_e5e17_row4_col1\" class=\"data row4 col1\" >1.90%</td>\n",
       "                        <td id=\"T_e5e17_row4_col2\" class=\"data row4 col2\" >11.50%</td>\n",
       "            </tr>\n",
       "            <tr>\n",
       "                        <th id=\"T_e5e17_level0_row5\" class=\"row_heading level0 row5\" >5</th>\n",
       "                        <td id=\"T_e5e17_row5_col0\" class=\"data row5 col0\" >1.90%</td>\n",
       "                        <td id=\"T_e5e17_row5_col1\" class=\"data row5 col1\" >1.90%</td>\n",
       "                        <td id=\"T_e5e17_row5_col2\" class=\"data row5 col2\" >11.50%</td>\n",
       "            </tr>\n",
       "            <tr>\n",
       "                        <th id=\"T_e5e17_level0_row6\" class=\"row_heading level0 row6\" >6</th>\n",
       "                        <td id=\"T_e5e17_row6_col0\" class=\"data row6 col0\" >1.90%</td>\n",
       "                        <td id=\"T_e5e17_row6_col1\" class=\"data row6 col1\" >1.90%</td>\n",
       "                        <td id=\"T_e5e17_row6_col2\" class=\"data row6 col2\" >11.50%</td>\n",
       "            </tr>\n",
       "    </tbody></table>"
      ],
      "text/plain": [
       "<pandas.io.formats.style.Styler at 0x2319584c2b0>"
      ]
     },
     "execution_count": 4,
     "metadata": {},
     "output_type": "execute_result"
    }
   ],
   "source": [
    "sva.claims_expense_reserve().style.format('{:,.2%}')"
   ]
  },
  {
   "cell_type": "markdown",
   "metadata": {},
   "source": [
    "### operating_expense_perc_premium"
   ]
  },
  {
   "cell_type": "code",
   "execution_count": 5,
   "metadata": {},
   "outputs": [
    {
     "data": {
      "text/html": [
       "<style  type=\"text/css\" >\n",
       "</style><table id=\"T_1d14f_\" ><thead>    <tr>        <th class=\"blank level0\" ></th>        <th class=\"col_heading level0 col0\" >Death</th>        <th class=\"col_heading level0 col1\" >TPD</th>        <th class=\"col_heading level0 col2\" >IP</th>    </tr>    <tr>        <th class=\"index_name level0\" >Year</th>        <th class=\"blank\" ></th>        <th class=\"blank\" ></th>        <th class=\"blank\" ></th>    </tr></thead><tbody>\n",
       "                <tr>\n",
       "                        <th id=\"T_1d14f_level0_row0\" class=\"row_heading level0 row0\" >Current</th>\n",
       "                        <td id=\"T_1d14f_row0_col0\" class=\"data row0 col0\" >4.00%</td>\n",
       "                        <td id=\"T_1d14f_row0_col1\" class=\"data row0 col1\" >4.00%</td>\n",
       "                        <td id=\"T_1d14f_row0_col2\" class=\"data row0 col2\" >4.00%</td>\n",
       "            </tr>\n",
       "            <tr>\n",
       "                        <th id=\"T_1d14f_level0_row1\" class=\"row_heading level0 row1\" >1</th>\n",
       "                        <td id=\"T_1d14f_row1_col0\" class=\"data row1 col0\" >4.00%</td>\n",
       "                        <td id=\"T_1d14f_row1_col1\" class=\"data row1 col1\" >4.00%</td>\n",
       "                        <td id=\"T_1d14f_row1_col2\" class=\"data row1 col2\" >4.00%</td>\n",
       "            </tr>\n",
       "            <tr>\n",
       "                        <th id=\"T_1d14f_level0_row2\" class=\"row_heading level0 row2\" >2</th>\n",
       "                        <td id=\"T_1d14f_row2_col0\" class=\"data row2 col0\" >4.00%</td>\n",
       "                        <td id=\"T_1d14f_row2_col1\" class=\"data row2 col1\" >4.00%</td>\n",
       "                        <td id=\"T_1d14f_row2_col2\" class=\"data row2 col2\" >4.00%</td>\n",
       "            </tr>\n",
       "            <tr>\n",
       "                        <th id=\"T_1d14f_level0_row3\" class=\"row_heading level0 row3\" >3</th>\n",
       "                        <td id=\"T_1d14f_row3_col0\" class=\"data row3 col0\" >4.00%</td>\n",
       "                        <td id=\"T_1d14f_row3_col1\" class=\"data row3 col1\" >4.00%</td>\n",
       "                        <td id=\"T_1d14f_row3_col2\" class=\"data row3 col2\" >4.00%</td>\n",
       "            </tr>\n",
       "            <tr>\n",
       "                        <th id=\"T_1d14f_level0_row4\" class=\"row_heading level0 row4\" >4</th>\n",
       "                        <td id=\"T_1d14f_row4_col0\" class=\"data row4 col0\" >4.00%</td>\n",
       "                        <td id=\"T_1d14f_row4_col1\" class=\"data row4 col1\" >4.00%</td>\n",
       "                        <td id=\"T_1d14f_row4_col2\" class=\"data row4 col2\" >4.00%</td>\n",
       "            </tr>\n",
       "            <tr>\n",
       "                        <th id=\"T_1d14f_level0_row5\" class=\"row_heading level0 row5\" >5</th>\n",
       "                        <td id=\"T_1d14f_row5_col0\" class=\"data row5 col0\" >4.00%</td>\n",
       "                        <td id=\"T_1d14f_row5_col1\" class=\"data row5 col1\" >4.00%</td>\n",
       "                        <td id=\"T_1d14f_row5_col2\" class=\"data row5 col2\" >4.00%</td>\n",
       "            </tr>\n",
       "            <tr>\n",
       "                        <th id=\"T_1d14f_level0_row6\" class=\"row_heading level0 row6\" >6</th>\n",
       "                        <td id=\"T_1d14f_row6_col0\" class=\"data row6 col0\" >4.00%</td>\n",
       "                        <td id=\"T_1d14f_row6_col1\" class=\"data row6 col1\" >4.00%</td>\n",
       "                        <td id=\"T_1d14f_row6_col2\" class=\"data row6 col2\" >4.00%</td>\n",
       "            </tr>\n",
       "    </tbody></table>"
      ],
      "text/plain": [
       "<pandas.io.formats.style.Styler at 0x23195a03ca0>"
      ]
     },
     "execution_count": 5,
     "metadata": {},
     "output_type": "execute_result"
    }
   ],
   "source": [
    "sva.operating_expense_perc_premium().style.format('{:,.2%}')"
   ]
  },
  {
   "cell_type": "markdown",
   "metadata": {},
   "source": [
    "### budgeted_trustee_expense"
   ]
  },
  {
   "cell_type": "code",
   "execution_count": 6,
   "metadata": {},
   "outputs": [
    {
     "data": {
      "text/html": [
       "<style  type=\"text/css\" >\n",
       "</style><table id=\"T_e37ea_\" ><thead>    <tr>        <th class=\"blank level0\" ></th>        <th class=\"col_heading level0 col0\" >Death & TPD</th>        <th class=\"col_heading level0 col1\" >IP</th>    </tr>    <tr>        <th class=\"index_name level0\" >Month</th>        <th class=\"blank\" ></th>        <th class=\"blank\" ></th>    </tr></thead><tbody>\n",
       "                <tr>\n",
       "                        <th id=\"T_e37ea_level0_row0\" class=\"row_heading level0 row0\" >1</th>\n",
       "                        <td id=\"T_e37ea_row0_col0\" class=\"data row0 col0\" >-230,000</td>\n",
       "                        <td id=\"T_e37ea_row0_col1\" class=\"data row0 col1\" >-230,000</td>\n",
       "            </tr>\n",
       "            <tr>\n",
       "                        <th id=\"T_e37ea_level0_row1\" class=\"row_heading level0 row1\" >2</th>\n",
       "                        <td id=\"T_e37ea_row1_col0\" class=\"data row1 col0\" >-230,000</td>\n",
       "                        <td id=\"T_e37ea_row1_col1\" class=\"data row1 col1\" >-230,000</td>\n",
       "            </tr>\n",
       "            <tr>\n",
       "                        <th id=\"T_e37ea_level0_row2\" class=\"row_heading level0 row2\" >3</th>\n",
       "                        <td id=\"T_e37ea_row2_col0\" class=\"data row2 col0\" >-230,000</td>\n",
       "                        <td id=\"T_e37ea_row2_col1\" class=\"data row2 col1\" >-230,000</td>\n",
       "            </tr>\n",
       "            <tr>\n",
       "                        <th id=\"T_e37ea_level0_row3\" class=\"row_heading level0 row3\" >4</th>\n",
       "                        <td id=\"T_e37ea_row3_col0\" class=\"data row3 col0\" >-230,000</td>\n",
       "                        <td id=\"T_e37ea_row3_col1\" class=\"data row3 col1\" >-230,000</td>\n",
       "            </tr>\n",
       "            <tr>\n",
       "                        <th id=\"T_e37ea_level0_row4\" class=\"row_heading level0 row4\" >5</th>\n",
       "                        <td id=\"T_e37ea_row4_col0\" class=\"data row4 col0\" >-230,000</td>\n",
       "                        <td id=\"T_e37ea_row4_col1\" class=\"data row4 col1\" >-230,000</td>\n",
       "            </tr>\n",
       "            <tr>\n",
       "                        <th id=\"T_e37ea_level0_row5\" class=\"row_heading level0 row5\" >6</th>\n",
       "                        <td id=\"T_e37ea_row5_col0\" class=\"data row5 col0\" >-230,000</td>\n",
       "                        <td id=\"T_e37ea_row5_col1\" class=\"data row5 col1\" >-230,000</td>\n",
       "            </tr>\n",
       "            <tr>\n",
       "                        <th id=\"T_e37ea_level0_row6\" class=\"row_heading level0 row6\" >7</th>\n",
       "                        <td id=\"T_e37ea_row6_col0\" class=\"data row6 col0\" >-230,000</td>\n",
       "                        <td id=\"T_e37ea_row6_col1\" class=\"data row6 col1\" >-230,000</td>\n",
       "            </tr>\n",
       "            <tr>\n",
       "                        <th id=\"T_e37ea_level0_row7\" class=\"row_heading level0 row7\" >8</th>\n",
       "                        <td id=\"T_e37ea_row7_col0\" class=\"data row7 col0\" >-230,000</td>\n",
       "                        <td id=\"T_e37ea_row7_col1\" class=\"data row7 col1\" >-230,000</td>\n",
       "            </tr>\n",
       "            <tr>\n",
       "                        <th id=\"T_e37ea_level0_row8\" class=\"row_heading level0 row8\" >9</th>\n",
       "                        <td id=\"T_e37ea_row8_col0\" class=\"data row8 col0\" >-230,000</td>\n",
       "                        <td id=\"T_e37ea_row8_col1\" class=\"data row8 col1\" >-230,000</td>\n",
       "            </tr>\n",
       "            <tr>\n",
       "                        <th id=\"T_e37ea_level0_row9\" class=\"row_heading level0 row9\" >10</th>\n",
       "                        <td id=\"T_e37ea_row9_col0\" class=\"data row9 col0\" >-230,000</td>\n",
       "                        <td id=\"T_e37ea_row9_col1\" class=\"data row9 col1\" >-230,000</td>\n",
       "            </tr>\n",
       "            <tr>\n",
       "                        <th id=\"T_e37ea_level0_row10\" class=\"row_heading level0 row10\" >11</th>\n",
       "                        <td id=\"T_e37ea_row10_col0\" class=\"data row10 col0\" >-230,000</td>\n",
       "                        <td id=\"T_e37ea_row10_col1\" class=\"data row10 col1\" >-230,000</td>\n",
       "            </tr>\n",
       "            <tr>\n",
       "                        <th id=\"T_e37ea_level0_row11\" class=\"row_heading level0 row11\" >12</th>\n",
       "                        <td id=\"T_e37ea_row11_col0\" class=\"data row11 col0\" >-230,000</td>\n",
       "                        <td id=\"T_e37ea_row11_col1\" class=\"data row11 col1\" >-230,000</td>\n",
       "            </tr>\n",
       "    </tbody></table>"
      ],
      "text/plain": [
       "<pandas.io.formats.style.Styler at 0x2319200b3d0>"
      ]
     },
     "execution_count": 6,
     "metadata": {},
     "output_type": "execute_result"
    }
   ],
   "source": [
    "sva.budgeted_trustee_expense().style.format('{:,}')"
   ]
  },
  {
   "cell_type": "markdown",
   "metadata": {},
   "source": [
    "### projected_trustee_expense"
   ]
  },
  {
   "cell_type": "code",
   "execution_count": 7,
   "metadata": {},
   "outputs": [
    {
     "data": {
      "text/html": [
       "<style  type=\"text/css\" >\n",
       "</style><table id=\"T_e4ead_\" ><thead>    <tr>        <th class=\"blank level0\" ></th>        <th class=\"col_heading level0 col0\" >Death & TPD</th>        <th class=\"col_heading level0 col1\" >IP</th>    </tr>    <tr>        <th class=\"index_name level0\" >Year</th>        <th class=\"blank\" ></th>        <th class=\"blank\" ></th>    </tr></thead><tbody>\n",
       "                <tr>\n",
       "                        <th id=\"T_e4ead_level0_row0\" class=\"row_heading level0 row0\" >1</th>\n",
       "                        <td id=\"T_e4ead_row0_col0\" class=\"data row0 col0\" >1.00%</td>\n",
       "                        <td id=\"T_e4ead_row0_col1\" class=\"data row0 col1\" >1.00%</td>\n",
       "            </tr>\n",
       "            <tr>\n",
       "                        <th id=\"T_e4ead_level0_row1\" class=\"row_heading level0 row1\" >2</th>\n",
       "                        <td id=\"T_e4ead_row1_col0\" class=\"data row1 col0\" >1.00%</td>\n",
       "                        <td id=\"T_e4ead_row1_col1\" class=\"data row1 col1\" >1.00%</td>\n",
       "            </tr>\n",
       "            <tr>\n",
       "                        <th id=\"T_e4ead_level0_row2\" class=\"row_heading level0 row2\" >3</th>\n",
       "                        <td id=\"T_e4ead_row2_col0\" class=\"data row2 col0\" >1.00%</td>\n",
       "                        <td id=\"T_e4ead_row2_col1\" class=\"data row2 col1\" >1.00%</td>\n",
       "            </tr>\n",
       "            <tr>\n",
       "                        <th id=\"T_e4ead_level0_row3\" class=\"row_heading level0 row3\" >4</th>\n",
       "                        <td id=\"T_e4ead_row3_col0\" class=\"data row3 col0\" >1.00%</td>\n",
       "                        <td id=\"T_e4ead_row3_col1\" class=\"data row3 col1\" >1.00%</td>\n",
       "            </tr>\n",
       "            <tr>\n",
       "                        <th id=\"T_e4ead_level0_row4\" class=\"row_heading level0 row4\" >5</th>\n",
       "                        <td id=\"T_e4ead_row4_col0\" class=\"data row4 col0\" >1.00%</td>\n",
       "                        <td id=\"T_e4ead_row4_col1\" class=\"data row4 col1\" >1.00%</td>\n",
       "            </tr>\n",
       "            <tr>\n",
       "                        <th id=\"T_e4ead_level0_row5\" class=\"row_heading level0 row5\" >6</th>\n",
       "                        <td id=\"T_e4ead_row5_col0\" class=\"data row5 col0\" >1.00%</td>\n",
       "                        <td id=\"T_e4ead_row5_col1\" class=\"data row5 col1\" >1.00%</td>\n",
       "            </tr>\n",
       "            <tr>\n",
       "                        <th id=\"T_e4ead_level0_row6\" class=\"row_heading level0 row6\" >7</th>\n",
       "                        <td id=\"T_e4ead_row6_col0\" class=\"data row6 col0\" >1.00%</td>\n",
       "                        <td id=\"T_e4ead_row6_col1\" class=\"data row6 col1\" >1.00%</td>\n",
       "            </tr>\n",
       "            <tr>\n",
       "                        <th id=\"T_e4ead_level0_row7\" class=\"row_heading level0 row7\" >8</th>\n",
       "                        <td id=\"T_e4ead_row7_col0\" class=\"data row7 col0\" >1.00%</td>\n",
       "                        <td id=\"T_e4ead_row7_col1\" class=\"data row7 col1\" >1.00%</td>\n",
       "            </tr>\n",
       "            <tr>\n",
       "                        <th id=\"T_e4ead_level0_row8\" class=\"row_heading level0 row8\" >9</th>\n",
       "                        <td id=\"T_e4ead_row8_col0\" class=\"data row8 col0\" >1.00%</td>\n",
       "                        <td id=\"T_e4ead_row8_col1\" class=\"data row8 col1\" >1.00%</td>\n",
       "            </tr>\n",
       "            <tr>\n",
       "                        <th id=\"T_e4ead_level0_row9\" class=\"row_heading level0 row9\" >10</th>\n",
       "                        <td id=\"T_e4ead_row9_col0\" class=\"data row9 col0\" >1.00%</td>\n",
       "                        <td id=\"T_e4ead_row9_col1\" class=\"data row9 col1\" >1.00%</td>\n",
       "            </tr>\n",
       "    </tbody></table>"
      ],
      "text/plain": [
       "<pandas.io.formats.style.Styler at 0x231959361c0>"
      ]
     },
     "execution_count": 7,
     "metadata": {},
     "output_type": "execute_result"
    }
   ],
   "source": [
    "sva.projected_trustee_expense().style.format('{:,.2%}')"
   ]
  },
  {
   "cell_type": "markdown",
   "metadata": {},
   "source": [
    "___\n",
    "# 3\n",
    "### ip_continuance_rates"
   ]
  },
  {
   "cell_type": "code",
   "execution_count": 8,
   "metadata": {},
   "outputs": [
    {
     "data": {
      "text/html": [
       "<style  type=\"text/css\" >\n",
       "</style><table id=\"T_ae548_\" ><thead>    <tr>        <th class=\"blank level0\" ></th>        <th class=\"col_heading level0 col0\" >30</th>        <th class=\"col_heading level0 col1\" >60</th>        <th class=\"col_heading level0 col2\" >90</th>        <th class=\"col_heading level0 col3\" >180</th>    </tr>    <tr>        <th class=\"index_name level0\" >Month</th>        <th class=\"blank\" ></th>        <th class=\"blank\" ></th>        <th class=\"blank\" ></th>        <th class=\"blank\" ></th>    </tr></thead><tbody>\n",
       "                <tr>\n",
       "                        <th id=\"T_ae548_level0_row0\" class=\"row_heading level0 row0\" >1</th>\n",
       "                        <td id=\"T_ae548_row0_col0\" class=\"data row0 col0\" >100.00%</td>\n",
       "                        <td id=\"T_ae548_row0_col1\" class=\"data row0 col1\" >100.00%</td>\n",
       "                        <td id=\"T_ae548_row0_col2\" class=\"data row0 col2\" >100.00%</td>\n",
       "                        <td id=\"T_ae548_row0_col3\" class=\"data row0 col3\" >100.00%</td>\n",
       "            </tr>\n",
       "            <tr>\n",
       "                        <th id=\"T_ae548_level0_row1\" class=\"row_heading level0 row1\" >2</th>\n",
       "                        <td id=\"T_ae548_row1_col0\" class=\"data row1 col0\" >70.00%</td>\n",
       "                        <td id=\"T_ae548_row1_col1\" class=\"data row1 col1\" >70.00%</td>\n",
       "                        <td id=\"T_ae548_row1_col2\" class=\"data row1 col2\" >70.00%</td>\n",
       "                        <td id=\"T_ae548_row1_col3\" class=\"data row1 col3\" >70.00%</td>\n",
       "            </tr>\n",
       "            <tr>\n",
       "                        <th id=\"T_ae548_level0_row2\" class=\"row_heading level0 row2\" >3</th>\n",
       "                        <td id=\"T_ae548_row2_col0\" class=\"data row2 col0\" >49.00%</td>\n",
       "                        <td id=\"T_ae548_row2_col1\" class=\"data row2 col1\" >49.00%</td>\n",
       "                        <td id=\"T_ae548_row2_col2\" class=\"data row2 col2\" >49.00%</td>\n",
       "                        <td id=\"T_ae548_row2_col3\" class=\"data row2 col3\" >49.00%</td>\n",
       "            </tr>\n",
       "            <tr>\n",
       "                        <th id=\"T_ae548_level0_row3\" class=\"row_heading level0 row3\" >4</th>\n",
       "                        <td id=\"T_ae548_row3_col0\" class=\"data row3 col0\" >34.30%</td>\n",
       "                        <td id=\"T_ae548_row3_col1\" class=\"data row3 col1\" >34.30%</td>\n",
       "                        <td id=\"T_ae548_row3_col2\" class=\"data row3 col2\" >34.30%</td>\n",
       "                        <td id=\"T_ae548_row3_col3\" class=\"data row3 col3\" >34.30%</td>\n",
       "            </tr>\n",
       "            <tr>\n",
       "                        <th id=\"T_ae548_level0_row4\" class=\"row_heading level0 row4\" >5</th>\n",
       "                        <td id=\"T_ae548_row4_col0\" class=\"data row4 col0\" >24.01%</td>\n",
       "                        <td id=\"T_ae548_row4_col1\" class=\"data row4 col1\" >24.01%</td>\n",
       "                        <td id=\"T_ae548_row4_col2\" class=\"data row4 col2\" >24.01%</td>\n",
       "                        <td id=\"T_ae548_row4_col3\" class=\"data row4 col3\" >24.01%</td>\n",
       "            </tr>\n",
       "            <tr>\n",
       "                        <th id=\"T_ae548_level0_row5\" class=\"row_heading level0 row5\" >6</th>\n",
       "                        <td id=\"T_ae548_row5_col0\" class=\"data row5 col0\" >16.81%</td>\n",
       "                        <td id=\"T_ae548_row5_col1\" class=\"data row5 col1\" >16.81%</td>\n",
       "                        <td id=\"T_ae548_row5_col2\" class=\"data row5 col2\" >16.81%</td>\n",
       "                        <td id=\"T_ae548_row5_col3\" class=\"data row5 col3\" >16.81%</td>\n",
       "            </tr>\n",
       "            <tr>\n",
       "                        <th id=\"T_ae548_level0_row6\" class=\"row_heading level0 row6\" >7</th>\n",
       "                        <td id=\"T_ae548_row6_col0\" class=\"data row6 col0\" >11.76%</td>\n",
       "                        <td id=\"T_ae548_row6_col1\" class=\"data row6 col1\" >11.76%</td>\n",
       "                        <td id=\"T_ae548_row6_col2\" class=\"data row6 col2\" >11.76%</td>\n",
       "                        <td id=\"T_ae548_row6_col3\" class=\"data row6 col3\" >11.76%</td>\n",
       "            </tr>\n",
       "            <tr>\n",
       "                        <th id=\"T_ae548_level0_row7\" class=\"row_heading level0 row7\" >8</th>\n",
       "                        <td id=\"T_ae548_row7_col0\" class=\"data row7 col0\" >8.24%</td>\n",
       "                        <td id=\"T_ae548_row7_col1\" class=\"data row7 col1\" >8.24%</td>\n",
       "                        <td id=\"T_ae548_row7_col2\" class=\"data row7 col2\" >8.24%</td>\n",
       "                        <td id=\"T_ae548_row7_col3\" class=\"data row7 col3\" >8.24%</td>\n",
       "            </tr>\n",
       "            <tr>\n",
       "                        <th id=\"T_ae548_level0_row8\" class=\"row_heading level0 row8\" >9</th>\n",
       "                        <td id=\"T_ae548_row8_col0\" class=\"data row8 col0\" >5.76%</td>\n",
       "                        <td id=\"T_ae548_row8_col1\" class=\"data row8 col1\" >5.76%</td>\n",
       "                        <td id=\"T_ae548_row8_col2\" class=\"data row8 col2\" >5.76%</td>\n",
       "                        <td id=\"T_ae548_row8_col3\" class=\"data row8 col3\" >5.76%</td>\n",
       "            </tr>\n",
       "            <tr>\n",
       "                        <th id=\"T_ae548_level0_row9\" class=\"row_heading level0 row9\" >10</th>\n",
       "                        <td id=\"T_ae548_row9_col0\" class=\"data row9 col0\" >4.04%</td>\n",
       "                        <td id=\"T_ae548_row9_col1\" class=\"data row9 col1\" >4.04%</td>\n",
       "                        <td id=\"T_ae548_row9_col2\" class=\"data row9 col2\" >4.04%</td>\n",
       "                        <td id=\"T_ae548_row9_col3\" class=\"data row9 col3\" >4.04%</td>\n",
       "            </tr>\n",
       "    </tbody></table>"
      ],
      "text/plain": [
       "<pandas.io.formats.style.Styler at 0x231959ea400>"
      ]
     },
     "execution_count": 8,
     "metadata": {},
     "output_type": "execute_result"
    }
   ],
   "source": [
    "sva.ip_continuance_rates().head(10).style.format('{:,.2%}')"
   ]
  },
  {
   "cell_type": "markdown",
   "metadata": {},
   "source": [
    "### dlr_parameters"
   ]
  },
  {
   "cell_type": "markdown",
   "metadata": {},
   "source": [
    "#### salary_replacement_ratio"
   ]
  },
  {
   "cell_type": "code",
   "execution_count": 9,
   "metadata": {},
   "outputs": [
    {
     "data": {
      "text/html": [
       "<style  type=\"text/css\" >\n",
       "</style><table id=\"T_fba4d_\" ><thead>    <tr>        <th class=\"blank level0\" ></th>        <th class=\"col_heading level0 col0\" >Parameters</th>    </tr>    <tr>        <th class=\"index_name level0\" >Item</th>        <th class=\"blank\" ></th>    </tr></thead><tbody>\n",
       "                <tr>\n",
       "                        <th id=\"T_fba4d_level0_row0\" class=\"row_heading level0 row0\" >Salary replacement ratio</th>\n",
       "                        <td id=\"T_fba4d_row0_col0\" class=\"data row0 col0\" >75.00%</td>\n",
       "            </tr>\n",
       "    </tbody></table>"
      ],
      "text/plain": [
       "<pandas.io.formats.style.Styler at 0x231958c2370>"
      ]
     },
     "execution_count": 9,
     "metadata": {},
     "output_type": "execute_result"
    }
   ],
   "source": [
    "sva.dlr_parameters.salary_replacement_ratio().style.format('{:,.2%}')"
   ]
  },
  {
   "cell_type": "markdown",
   "metadata": {},
   "source": [
    "#### continuing_retirement_benefit"
   ]
  },
  {
   "cell_type": "code",
   "execution_count": 10,
   "metadata": {},
   "outputs": [
    {
     "data": {
      "text/html": [
       "<style  type=\"text/css\" >\n",
       "</style><table id=\"T_32098_\" ><thead>    <tr>        <th class=\"blank level0\" ></th>        <th class=\"col_heading level0 col0\" >Parameters</th>    </tr>    <tr>        <th class=\"index_name level0\" >Item</th>        <th class=\"blank\" ></th>    </tr></thead><tbody>\n",
       "                <tr>\n",
       "                        <th id=\"T_32098_level0_row0\" class=\"row_heading level0 row0\" >Continuing retirement benefit</th>\n",
       "                        <td id=\"T_32098_row0_col0\" class=\"data row0 col0\" >12.75%</td>\n",
       "            </tr>\n",
       "    </tbody></table>"
      ],
      "text/plain": [
       "<pandas.io.formats.style.Styler at 0x23195a78190>"
      ]
     },
     "execution_count": 10,
     "metadata": {},
     "output_type": "execute_result"
    }
   ],
   "source": [
    "sva.dlr_parameters.continuing_retirement_benefit().style.format('{:,.2%}')"
   ]
  },
  {
   "cell_type": "markdown",
   "metadata": {},
   "source": [
    "#### assumed_avg_age_at_disability"
   ]
  },
  {
   "cell_type": "code",
   "execution_count": 11,
   "metadata": {},
   "outputs": [
    {
     "data": {
      "text/html": [
       "<style  type=\"text/css\" >\n",
       "</style><table id=\"T_fafd7_\" ><thead>    <tr>        <th class=\"blank level0\" ></th>        <th class=\"col_heading level0 col0\" >Parameters</th>    </tr>    <tr>        <th class=\"index_name level0\" >Item</th>        <th class=\"blank\" ></th>    </tr></thead><tbody>\n",
       "                <tr>\n",
       "                        <th id=\"T_fafd7_level0_row0\" class=\"row_heading level0 row0\" >Assumed average age at disability</th>\n",
       "                        <td id=\"T_fafd7_row0_col0\" class=\"data row0 col0\" >47.0</td>\n",
       "            </tr>\n",
       "    </tbody></table>"
      ],
      "text/plain": [
       "<pandas.io.formats.style.Styler at 0x231959126d0>"
      ]
     },
     "execution_count": 11,
     "metadata": {},
     "output_type": "execute_result"
    }
   ],
   "source": [
    "sva.dlr_parameters.assumed_avg_age_at_disability().style.format('{:,}')"
   ]
  },
  {
   "cell_type": "markdown",
   "metadata": {},
   "source": [
    "#### payment_ratio"
   ]
  },
  {
   "cell_type": "code",
   "execution_count": 12,
   "metadata": {},
   "outputs": [
    {
     "data": {
      "text/html": [
       "<style  type=\"text/css\" >\n",
       "</style><table id=\"T_fe36b_\" ><thead>    <tr>        <th class=\"blank level0\" ></th>        <th class=\"col_heading level0 col0\" >Parameters</th>    </tr>    <tr>        <th class=\"index_name level0\" >Item</th>        <th class=\"blank\" ></th>    </tr></thead><tbody>\n",
       "                <tr>\n",
       "                        <th id=\"T_fe36b_level0_row0\" class=\"row_heading level0 row0\" >Payment ratio (for claim duration up to and including 3 m)</th>\n",
       "                        <td id=\"T_fe36b_row0_col0\" class=\"data row0 col0\" >87.90%</td>\n",
       "            </tr>\n",
       "    </tbody></table>"
      ],
      "text/plain": [
       "<pandas.io.formats.style.Styler at 0x23195a03670>"
      ]
     },
     "execution_count": 12,
     "metadata": {},
     "output_type": "execute_result"
    }
   ],
   "source": [
    "sva.dlr_parameters.payment_ratio().style.format('{:,.2%}')"
   ]
  },
  {
   "cell_type": "markdown",
   "metadata": {},
   "source": [
    "#### reopened_claims_reserves_loading"
   ]
  },
  {
   "cell_type": "code",
   "execution_count": 13,
   "metadata": {},
   "outputs": [
    {
     "data": {
      "text/html": [
       "<style  type=\"text/css\" >\n",
       "</style><table id=\"T_05fb1_\" ><thead>    <tr>        <th class=\"blank level0\" ></th>        <th class=\"col_heading level0 col0\" >Parameters</th>    </tr>    <tr>        <th class=\"index_name level0\" >Item</th>        <th class=\"blank\" ></th>    </tr></thead><tbody>\n",
       "                <tr>\n",
       "                        <th id=\"T_05fb1_level0_row0\" class=\"row_heading level0 row0\" >Reopened claims reserves loading</th>\n",
       "                        <td id=\"T_05fb1_row0_col0\" class=\"data row0 col0\" >1.00%</td>\n",
       "            </tr>\n",
       "    </tbody></table>"
      ],
      "text/plain": [
       "<pandas.io.formats.style.Styler at 0x23195a96df0>"
      ]
     },
     "execution_count": 13,
     "metadata": {},
     "output_type": "execute_result"
    }
   ],
   "source": [
    "sva.dlr_parameters.reopened_claims_reserves_loading().style.format('{:,.2%}')"
   ]
  },
  {
   "cell_type": "markdown",
   "metadata": {},
   "source": [
    "#### benefit_indexation_month"
   ]
  },
  {
   "cell_type": "code",
   "execution_count": 14,
   "metadata": {},
   "outputs": [
    {
     "data": {
      "text/html": [
       "<style  type=\"text/css\" >\n",
       "</style><table id=\"T_7f785_\" ><thead>    <tr>        <th class=\"blank level0\" ></th>        <th class=\"col_heading level0 col0\" >Parameters</th>    </tr>    <tr>        <th class=\"index_name level0\" >Item</th>        <th class=\"blank\" ></th>    </tr></thead><tbody>\n",
       "                <tr>\n",
       "                        <th id=\"T_7f785_level0_row0\" class=\"row_heading level0 row0\" >Benefit Indexation month</th>\n",
       "                        <td id=\"T_7f785_row0_col0\" class=\"data row0 col0\" >8.0</td>\n",
       "            </tr>\n",
       "    </tbody></table>"
      ],
      "text/plain": [
       "<pandas.io.formats.style.Styler at 0x23195996040>"
      ]
     },
     "execution_count": 14,
     "metadata": {},
     "output_type": "execute_result"
    }
   ],
   "source": [
    "sva.dlr_parameters.benefit_indexation_month().style.format('{:,}')"
   ]
  },
  {
   "cell_type": "markdown",
   "metadata": {},
   "source": [
    "### ip_ibnr_adjustment"
   ]
  },
  {
   "cell_type": "code",
   "execution_count": 15,
   "metadata": {},
   "outputs": [
    {
     "data": {
      "text/html": [
       "<style  type=\"text/css\" >\n",
       "</style><table id=\"T_cf0cc_\" ><thead>    <tr>        <th class=\"blank level0\" ></th>        <th class=\"col_heading level0 col0\" >DoD vs SLWP delay adjustment (5)</th>    </tr>    <tr>        <th class=\"index_name level0\" >WP</th>        <th class=\"blank\" ></th>    </tr></thead><tbody>\n",
       "                <tr>\n",
       "                        <th id=\"T_cf0cc_level0_row0\" class=\"row_heading level0 row0\" >30</th>\n",
       "                        <td id=\"T_cf0cc_row0_col0\" class=\"data row0 col0\" >0</td>\n",
       "            </tr>\n",
       "            <tr>\n",
       "                        <th id=\"T_cf0cc_level0_row1\" class=\"row_heading level0 row1\" >60</th>\n",
       "                        <td id=\"T_cf0cc_row1_col0\" class=\"data row1 col0\" >0</td>\n",
       "            </tr>\n",
       "            <tr>\n",
       "                        <th id=\"T_cf0cc_level0_row2\" class=\"row_heading level0 row2\" >90</th>\n",
       "                        <td id=\"T_cf0cc_row2_col0\" class=\"data row2 col0\" >0</td>\n",
       "            </tr>\n",
       "            <tr>\n",
       "                        <th id=\"T_cf0cc_level0_row3\" class=\"row_heading level0 row3\" >180</th>\n",
       "                        <td id=\"T_cf0cc_row3_col0\" class=\"data row3 col0\" >0</td>\n",
       "            </tr>\n",
       "    </tbody></table>"
      ],
      "text/plain": [
       "<pandas.io.formats.style.Styler at 0x2319599f340>"
      ]
     },
     "execution_count": 15,
     "metadata": {},
     "output_type": "execute_result"
    }
   ],
   "source": [
    "sva.ip_ibnr_adjustment().style.format('{:,}')"
   ]
  },
  {
   "cell_type": "markdown",
   "metadata": {},
   "source": [
    "___\n",
    "# 4\n",
    "### appeals_reserve_assumptions"
   ]
  },
  {
   "cell_type": "code",
   "execution_count": 16,
   "metadata": {},
   "outputs": [
    {
     "data": {
      "text/html": [
       "<style  type=\"text/css\" >\n",
       "</style><table id=\"T_8599a_\" ><thead>    <tr>        <th class=\"blank level0\" ></th>        <th class=\"col_heading level0 col0\" >Percentage of declined claims appealed (Gov)</th>        <th class=\"col_heading level0 col1\" >Percentage of declined claims appealed (Non-Gov)</th>    </tr>    <tr>        <th class=\"index_name level0\" >Curtate years since claim notified</th>        <th class=\"blank\" ></th>        <th class=\"blank\" ></th>    </tr></thead><tbody>\n",
       "                <tr>\n",
       "                        <th id=\"T_8599a_level0_row0\" class=\"row_heading level0 row0\" >0</th>\n",
       "                        <td id=\"T_8599a_row0_col0\" class=\"data row0 col0\" >32.00%</td>\n",
       "                        <td id=\"T_8599a_row0_col1\" class=\"data row0 col1\" >2.50%</td>\n",
       "            </tr>\n",
       "            <tr>\n",
       "                        <th id=\"T_8599a_level0_row1\" class=\"row_heading level0 row1\" >1</th>\n",
       "                        <td id=\"T_8599a_row1_col0\" class=\"data row1 col0\" >31.00%</td>\n",
       "                        <td id=\"T_8599a_row1_col1\" class=\"data row1 col1\" >2.50%</td>\n",
       "            </tr>\n",
       "            <tr>\n",
       "                        <th id=\"T_8599a_level0_row2\" class=\"row_heading level0 row2\" >2</th>\n",
       "                        <td id=\"T_8599a_row2_col0\" class=\"data row2 col0\" >22.00%</td>\n",
       "                        <td id=\"T_8599a_row2_col1\" class=\"data row2 col1\" >2.50%</td>\n",
       "            </tr>\n",
       "            <tr>\n",
       "                        <th id=\"T_8599a_level0_row3\" class=\"row_heading level0 row3\" >3</th>\n",
       "                        <td id=\"T_8599a_row3_col0\" class=\"data row3 col0\" >0.00%</td>\n",
       "                        <td id=\"T_8599a_row3_col1\" class=\"data row3 col1\" >0.00%</td>\n",
       "            </tr>\n",
       "    </tbody></table>"
      ],
      "text/plain": [
       "<pandas.io.formats.style.Styler at 0x23195a3bd60>"
      ]
     },
     "execution_count": 16,
     "metadata": {},
     "output_type": "execute_result"
    }
   ],
   "source": [
    "sva.appeals_reserve_assumptions().style.format('{:,.2%}')"
   ]
  },
  {
   "cell_type": "markdown",
   "metadata": {},
   "source": [
    "### perc_of_appealed_claims_accepted"
   ]
  },
  {
   "cell_type": "code",
   "execution_count": 17,
   "metadata": {},
   "outputs": [
    {
     "data": {
      "text/html": [
       "<style  type=\"text/css\" >\n",
       "</style><table id=\"T_e74fd_\" ><thead>    <tr>        <th class=\"blank level0\" ></th>        <th class=\"col_heading level0 col0\" >Percentage of declined claims appealed (Gov)</th>        <th class=\"col_heading level0 col1\" >Percentage of declined claims appealed (Non-Gov)</th>    </tr>    <tr>        <th class=\"index_name level0\" >Curtate years since claim notified</th>        <th class=\"blank\" ></th>        <th class=\"blank\" ></th>    </tr></thead><tbody>\n",
       "                <tr>\n",
       "                        <th id=\"T_e74fd_level0_row0\" class=\"row_heading level0 row0\" >Percentage of appealed claims accepted</th>\n",
       "                        <td id=\"T_e74fd_row0_col0\" class=\"data row0 col0\" >90.00%</td>\n",
       "                        <td id=\"T_e74fd_row0_col1\" class=\"data row0 col1\" >90.00%</td>\n",
       "            </tr>\n",
       "    </tbody></table>"
      ],
      "text/plain": [
       "<pandas.io.formats.style.Styler at 0x23195936b50>"
      ]
     },
     "execution_count": 17,
     "metadata": {},
     "output_type": "execute_result"
    }
   ],
   "source": [
    "sva.perc_of_appealed_claims_accepted().style.format('{:,.2%}')"
   ]
  },
  {
   "cell_type": "markdown",
   "metadata": {},
   "source": [
    "___\n",
    "# 5\n",
    "### decline_rate"
   ]
  },
  {
   "cell_type": "code",
   "execution_count": 18,
   "metadata": {},
   "outputs": [
    {
     "data": {
      "text/html": [
       "<style  type=\"text/css\" >\n",
       "</style><table id=\"T_9a7fc_\" ><thead>    <tr>        <th class=\"blank level0\" ></th>        <th class=\"col_heading level0 col0\" >Gov Death</th>        <th class=\"col_heading level0 col1\" >Non-Gov Death</th>        <th class=\"col_heading level0 col2\" >Non-Gov TPD</th>    </tr></thead><tbody>\n",
       "                <tr>\n",
       "                        <th id=\"T_9a7fc_level0_row0\" class=\"row_heading level0 row0\" >Decline rate</th>\n",
       "                        <td id=\"T_9a7fc_row0_col0\" class=\"data row0 col0\" >0.00%</td>\n",
       "                        <td id=\"T_9a7fc_row0_col1\" class=\"data row0 col1\" >5.00%</td>\n",
       "                        <td id=\"T_9a7fc_row0_col2\" class=\"data row0 col2\" >19.00%</td>\n",
       "            </tr>\n",
       "    </tbody></table>"
      ],
      "text/plain": [
       "<pandas.io.formats.style.Styler at 0x23195a78ca0>"
      ]
     },
     "execution_count": 18,
     "metadata": {},
     "output_type": "execute_result"
    }
   ],
   "source": [
    "sva.decline_rate().style.format('{:,.2%}')"
   ]
  },
  {
   "cell_type": "markdown",
   "metadata": {},
   "source": [
    "### decline_rate_delay"
   ]
  },
  {
   "cell_type": "code",
   "execution_count": 19,
   "metadata": {},
   "outputs": [
    {
     "data": {
      "text/html": [
       "<style  type=\"text/css\" >\n",
       "</style><table id=\"T_233b3_\" ><thead>    <tr>        <th class=\"blank level0\" ></th>        <th class=\"col_heading level0 col0\" >Gov TPD</th>    </tr>    <tr>        <th class=\"index_name level0\" >Delay Years</th>        <th class=\"blank\" ></th>    </tr></thead><tbody>\n",
       "                <tr>\n",
       "                        <th id=\"T_233b3_level0_row0\" class=\"row_heading level0 row0\" >0</th>\n",
       "                        <td id=\"T_233b3_row0_col0\" class=\"data row0 col0\" >18.00%</td>\n",
       "            </tr>\n",
       "            <tr>\n",
       "                        <th id=\"T_233b3_level0_row1\" class=\"row_heading level0 row1\" >0.5</th>\n",
       "                        <td id=\"T_233b3_row1_col0\" class=\"data row1 col0\" >18.00%</td>\n",
       "            </tr>\n",
       "            <tr>\n",
       "                        <th id=\"T_233b3_level0_row2\" class=\"row_heading level0 row2\" >1</th>\n",
       "                        <td id=\"T_233b3_row2_col0\" class=\"data row2 col0\" >18.00%</td>\n",
       "            </tr>\n",
       "            <tr>\n",
       "                        <th id=\"T_233b3_level0_row3\" class=\"row_heading level0 row3\" >1.5</th>\n",
       "                        <td id=\"T_233b3_row3_col0\" class=\"data row3 col0\" >18.00%</td>\n",
       "            </tr>\n",
       "            <tr>\n",
       "                        <th id=\"T_233b3_level0_row4\" class=\"row_heading level0 row4\" >2.5</th>\n",
       "                        <td id=\"T_233b3_row4_col0\" class=\"data row4 col0\" >18.00%</td>\n",
       "            </tr>\n",
       "            <tr>\n",
       "                        <th id=\"T_233b3_level0_row5\" class=\"row_heading level0 row5\" >3.5</th>\n",
       "                        <td id=\"T_233b3_row5_col0\" class=\"data row5 col0\" >18.00%</td>\n",
       "            </tr>\n",
       "            <tr>\n",
       "                        <th id=\"T_233b3_level0_row6\" class=\"row_heading level0 row6\" >4+</th>\n",
       "                        <td id=\"T_233b3_row6_col0\" class=\"data row6 col0\" >18.00%</td>\n",
       "            </tr>\n",
       "    </tbody></table>"
      ],
      "text/plain": [
       "<pandas.io.formats.style.Styler at 0x23195a96dc0>"
      ]
     },
     "execution_count": 19,
     "metadata": {},
     "output_type": "execute_result"
    }
   ],
   "source": [
    "sva.decline_rate_delay().style.format('{:,.2%}')"
   ]
  },
  {
   "cell_type": "markdown",
   "metadata": {},
   "source": [
    "### simultaneous_ip_tpd_decline"
   ]
  },
  {
   "cell_type": "code",
   "execution_count": 20,
   "metadata": {},
   "outputs": [
    {
     "data": {
      "text/html": [
       "<div>\n",
       "<style scoped>\n",
       "    .dataframe tbody tr th:only-of-type {\n",
       "        vertical-align: middle;\n",
       "    }\n",
       "\n",
       "    .dataframe tbody tr th {\n",
       "        vertical-align: top;\n",
       "    }\n",
       "\n",
       "    .dataframe thead th {\n",
       "        text-align: right;\n",
       "    }\n",
       "</style>\n",
       "<table border=\"1\" class=\"dataframe\">\n",
       "  <thead>\n",
       "    <tr style=\"text-align: right;\">\n",
       "      <th></th>\n",
       "      <th>WP</th>\n",
       "      <th>IP decline</th>\n",
       "    </tr>\n",
       "    <tr>\n",
       "      <th>Govcode</th>\n",
       "      <th></th>\n",
       "      <th></th>\n",
       "    </tr>\n",
       "  </thead>\n",
       "  <tbody>\n",
       "    <tr>\n",
       "      <th>Gov</th>\n",
       "      <td>30</td>\n",
       "      <td>0.06</td>\n",
       "    </tr>\n",
       "    <tr>\n",
       "      <th>Gov</th>\n",
       "      <td>60</td>\n",
       "      <td>0.06</td>\n",
       "    </tr>\n",
       "    <tr>\n",
       "      <th>Gov</th>\n",
       "      <td>90</td>\n",
       "      <td>0.15</td>\n",
       "    </tr>\n",
       "    <tr>\n",
       "      <th>Gov</th>\n",
       "      <td>180</td>\n",
       "      <td>0.15</td>\n",
       "    </tr>\n",
       "    <tr>\n",
       "      <th>Nongov</th>\n",
       "      <td>30</td>\n",
       "      <td>0.06</td>\n",
       "    </tr>\n",
       "    <tr>\n",
       "      <th>Nongov</th>\n",
       "      <td>60</td>\n",
       "      <td>0.06</td>\n",
       "    </tr>\n",
       "    <tr>\n",
       "      <th>Nongov</th>\n",
       "      <td>90</td>\n",
       "      <td>0.15</td>\n",
       "    </tr>\n",
       "    <tr>\n",
       "      <th>Nongov</th>\n",
       "      <td>180</td>\n",
       "      <td>0.15</td>\n",
       "    </tr>\n",
       "  </tbody>\n",
       "</table>\n",
       "</div>"
      ],
      "text/plain": [
       "          WP  IP decline\n",
       "Govcode                 \n",
       "Gov       30        0.06\n",
       "Gov       60        0.06\n",
       "Gov       90        0.15\n",
       "Gov      180        0.15\n",
       "Nongov    30        0.06\n",
       "Nongov    60        0.06\n",
       "Nongov    90        0.15\n",
       "Nongov   180        0.15"
      ]
     },
     "execution_count": 20,
     "metadata": {},
     "output_type": "execute_result"
    }
   ],
   "source": [
    "sva.simultaneous_ip_tpd_decline()#.style.format('{:,.2%}')"
   ]
  },
  {
   "cell_type": "markdown",
   "metadata": {},
   "source": [
    "___\n",
    "# 6\n",
    "### expected_loss_ratio_gov"
   ]
  },
  {
   "cell_type": "code",
   "execution_count": 21,
   "metadata": {},
   "outputs": [
    {
     "name": "stderr",
     "output_type": "stream",
     "text": [
      "C:\\Users\\adamw\\Documents\\GitHub\\Q\\sva.py:60: FutureWarning: The default value of regex will change from True to False in a future version.\n",
      "  table.columns = table.columns.str.replace(r'\\.\\d+$', '')\n"
     ]
    },
    {
     "data": {
      "text/html": [
       "<style  type=\"text/css\" >\n",
       "</style><table id=\"T_c6e97_\" ><thead>    <tr>        <th class=\"blank level0\" ></th>        <th class=\"col_heading level0 col0\" >Death</th>        <th class=\"col_heading level0 col1\" >TPD</th>        <th class=\"col_heading level0 col2\" >IP</th>    </tr>    <tr>        <th class=\"index_name level0\" >Month</th>        <th class=\"blank\" ></th>        <th class=\"blank\" ></th>        <th class=\"blank\" ></th>    </tr></thead><tbody>\n",
       "                <tr>\n",
       "                        <th id=\"T_c6e97_level0_row0\" class=\"row_heading level0 row0\" >2016-07-31 00:00:00</th>\n",
       "                        <td id=\"T_c6e97_row0_col0\" class=\"data row0 col0\" >0.00%</td>\n",
       "                        <td id=\"T_c6e97_row0_col1\" class=\"data row0 col1\" >0.00%</td>\n",
       "                        <td id=\"T_c6e97_row0_col2\" class=\"data row0 col2\" >0.00%</td>\n",
       "            </tr>\n",
       "            <tr>\n",
       "                        <th id=\"T_c6e97_level0_row1\" class=\"row_heading level0 row1\" >2016-08-31 00:00:00</th>\n",
       "                        <td id=\"T_c6e97_row1_col0\" class=\"data row1 col0\" >0.00%</td>\n",
       "                        <td id=\"T_c6e97_row1_col1\" class=\"data row1 col1\" >0.00%</td>\n",
       "                        <td id=\"T_c6e97_row1_col2\" class=\"data row1 col2\" >0.00%</td>\n",
       "            </tr>\n",
       "            <tr>\n",
       "                        <th id=\"T_c6e97_level0_row2\" class=\"row_heading level0 row2\" >2016-09-30 00:00:00</th>\n",
       "                        <td id=\"T_c6e97_row2_col0\" class=\"data row2 col0\" >0.00%</td>\n",
       "                        <td id=\"T_c6e97_row2_col1\" class=\"data row2 col1\" >0.00%</td>\n",
       "                        <td id=\"T_c6e97_row2_col2\" class=\"data row2 col2\" >0.00%</td>\n",
       "            </tr>\n",
       "            <tr>\n",
       "                        <th id=\"T_c6e97_level0_row3\" class=\"row_heading level0 row3\" >2016-10-31 00:00:00</th>\n",
       "                        <td id=\"T_c6e97_row3_col0\" class=\"data row3 col0\" >0.00%</td>\n",
       "                        <td id=\"T_c6e97_row3_col1\" class=\"data row3 col1\" >0.00%</td>\n",
       "                        <td id=\"T_c6e97_row3_col2\" class=\"data row3 col2\" >0.00%</td>\n",
       "            </tr>\n",
       "            <tr>\n",
       "                        <th id=\"T_c6e97_level0_row4\" class=\"row_heading level0 row4\" >2016-11-30 00:00:00</th>\n",
       "                        <td id=\"T_c6e97_row4_col0\" class=\"data row4 col0\" >0.00%</td>\n",
       "                        <td id=\"T_c6e97_row4_col1\" class=\"data row4 col1\" >0.00%</td>\n",
       "                        <td id=\"T_c6e97_row4_col2\" class=\"data row4 col2\" >0.00%</td>\n",
       "            </tr>\n",
       "            <tr>\n",
       "                        <th id=\"T_c6e97_level0_row5\" class=\"row_heading level0 row5\" >2016-12-31 00:00:00</th>\n",
       "                        <td id=\"T_c6e97_row5_col0\" class=\"data row5 col0\" >0.00%</td>\n",
       "                        <td id=\"T_c6e97_row5_col1\" class=\"data row5 col1\" >0.00%</td>\n",
       "                        <td id=\"T_c6e97_row5_col2\" class=\"data row5 col2\" >0.00%</td>\n",
       "            </tr>\n",
       "            <tr>\n",
       "                        <th id=\"T_c6e97_level0_row6\" class=\"row_heading level0 row6\" >2017-01-31 00:00:00</th>\n",
       "                        <td id=\"T_c6e97_row6_col0\" class=\"data row6 col0\" >0.00%</td>\n",
       "                        <td id=\"T_c6e97_row6_col1\" class=\"data row6 col1\" >0.00%</td>\n",
       "                        <td id=\"T_c6e97_row6_col2\" class=\"data row6 col2\" >0.00%</td>\n",
       "            </tr>\n",
       "            <tr>\n",
       "                        <th id=\"T_c6e97_level0_row7\" class=\"row_heading level0 row7\" >2017-02-28 00:00:00</th>\n",
       "                        <td id=\"T_c6e97_row7_col0\" class=\"data row7 col0\" >0.00%</td>\n",
       "                        <td id=\"T_c6e97_row7_col1\" class=\"data row7 col1\" >0.00%</td>\n",
       "                        <td id=\"T_c6e97_row7_col2\" class=\"data row7 col2\" >0.00%</td>\n",
       "            </tr>\n",
       "            <tr>\n",
       "                        <th id=\"T_c6e97_level0_row8\" class=\"row_heading level0 row8\" >2017-03-31 00:00:00</th>\n",
       "                        <td id=\"T_c6e97_row8_col0\" class=\"data row8 col0\" >0.00%</td>\n",
       "                        <td id=\"T_c6e97_row8_col1\" class=\"data row8 col1\" >0.00%</td>\n",
       "                        <td id=\"T_c6e97_row8_col2\" class=\"data row8 col2\" >0.00%</td>\n",
       "            </tr>\n",
       "            <tr>\n",
       "                        <th id=\"T_c6e97_level0_row9\" class=\"row_heading level0 row9\" >2017-04-30 00:00:00</th>\n",
       "                        <td id=\"T_c6e97_row9_col0\" class=\"data row9 col0\" >0.00%</td>\n",
       "                        <td id=\"T_c6e97_row9_col1\" class=\"data row9 col1\" >0.00%</td>\n",
       "                        <td id=\"T_c6e97_row9_col2\" class=\"data row9 col2\" >0.00%</td>\n",
       "            </tr>\n",
       "    </tbody></table>"
      ],
      "text/plain": [
       "<pandas.io.formats.style.Styler at 0x2319588bd30>"
      ]
     },
     "execution_count": 21,
     "metadata": {},
     "output_type": "execute_result"
    }
   ],
   "source": [
    "sva.expected_loss_ratio_gov().fillna(0).head(10).style.format('{:,.2%}')"
   ]
  },
  {
   "cell_type": "markdown",
   "metadata": {},
   "source": [
    "### expected_loss_ratio_nongov"
   ]
  },
  {
   "cell_type": "code",
   "execution_count": 22,
   "metadata": {},
   "outputs": [
    {
     "data": {
      "text/html": [
       "<style  type=\"text/css\" >\n",
       "</style><table id=\"T_a2ce4_\" ><thead>    <tr>        <th class=\"blank level0\" ></th>        <th class=\"col_heading level0 col0\" >Death</th>        <th class=\"col_heading level0 col1\" >TPD</th>        <th class=\"col_heading level0 col2\" >IP</th>    </tr>    <tr>        <th class=\"index_name level0\" >Month</th>        <th class=\"blank\" ></th>        <th class=\"blank\" ></th>        <th class=\"blank\" ></th>    </tr></thead><tbody>\n",
       "                <tr>\n",
       "                        <th id=\"T_a2ce4_level0_row0\" class=\"row_heading level0 row0\" >2017-01-31 00:00:00</th>\n",
       "                        <td id=\"T_a2ce4_row0_col0\" class=\"data row0 col0\" >0.00%</td>\n",
       "                        <td id=\"T_a2ce4_row0_col1\" class=\"data row0 col1\" >0.00%</td>\n",
       "                        <td id=\"T_a2ce4_row0_col2\" class=\"data row0 col2\" >0.00%</td>\n",
       "            </tr>\n",
       "            <tr>\n",
       "                        <th id=\"T_a2ce4_level0_row1\" class=\"row_heading level0 row1\" >2017-02-28 00:00:00</th>\n",
       "                        <td id=\"T_a2ce4_row1_col0\" class=\"data row1 col0\" >0.00%</td>\n",
       "                        <td id=\"T_a2ce4_row1_col1\" class=\"data row1 col1\" >0.00%</td>\n",
       "                        <td id=\"T_a2ce4_row1_col2\" class=\"data row1 col2\" >0.00%</td>\n",
       "            </tr>\n",
       "            <tr>\n",
       "                        <th id=\"T_a2ce4_level0_row2\" class=\"row_heading level0 row2\" >2017-03-31 00:00:00</th>\n",
       "                        <td id=\"T_a2ce4_row2_col0\" class=\"data row2 col0\" >0.00%</td>\n",
       "                        <td id=\"T_a2ce4_row2_col1\" class=\"data row2 col1\" >0.00%</td>\n",
       "                        <td id=\"T_a2ce4_row2_col2\" class=\"data row2 col2\" >0.00%</td>\n",
       "            </tr>\n",
       "            <tr>\n",
       "                        <th id=\"T_a2ce4_level0_row3\" class=\"row_heading level0 row3\" >2017-04-30 00:00:00</th>\n",
       "                        <td id=\"T_a2ce4_row3_col0\" class=\"data row3 col0\" >0.00%</td>\n",
       "                        <td id=\"T_a2ce4_row3_col1\" class=\"data row3 col1\" >0.00%</td>\n",
       "                        <td id=\"T_a2ce4_row3_col2\" class=\"data row3 col2\" >0.00%</td>\n",
       "            </tr>\n",
       "            <tr>\n",
       "                        <th id=\"T_a2ce4_level0_row4\" class=\"row_heading level0 row4\" >2017-05-31 00:00:00</th>\n",
       "                        <td id=\"T_a2ce4_row4_col0\" class=\"data row4 col0\" >0.00%</td>\n",
       "                        <td id=\"T_a2ce4_row4_col1\" class=\"data row4 col1\" >0.00%</td>\n",
       "                        <td id=\"T_a2ce4_row4_col2\" class=\"data row4 col2\" >0.00%</td>\n",
       "            </tr>\n",
       "            <tr>\n",
       "                        <th id=\"T_a2ce4_level0_row5\" class=\"row_heading level0 row5\" >2017-06-30 00:00:00</th>\n",
       "                        <td id=\"T_a2ce4_row5_col0\" class=\"data row5 col0\" >0.00%</td>\n",
       "                        <td id=\"T_a2ce4_row5_col1\" class=\"data row5 col1\" >0.00%</td>\n",
       "                        <td id=\"T_a2ce4_row5_col2\" class=\"data row5 col2\" >0.00%</td>\n",
       "            </tr>\n",
       "            <tr>\n",
       "                        <th id=\"T_a2ce4_level0_row6\" class=\"row_heading level0 row6\" >2017-07-31 00:00:00</th>\n",
       "                        <td id=\"T_a2ce4_row6_col0\" class=\"data row6 col0\" >0.00%</td>\n",
       "                        <td id=\"T_a2ce4_row6_col1\" class=\"data row6 col1\" >0.00%</td>\n",
       "                        <td id=\"T_a2ce4_row6_col2\" class=\"data row6 col2\" >0.00%</td>\n",
       "            </tr>\n",
       "            <tr>\n",
       "                        <th id=\"T_a2ce4_level0_row7\" class=\"row_heading level0 row7\" >2017-08-31 00:00:00</th>\n",
       "                        <td id=\"T_a2ce4_row7_col0\" class=\"data row7 col0\" >0.00%</td>\n",
       "                        <td id=\"T_a2ce4_row7_col1\" class=\"data row7 col1\" >0.00%</td>\n",
       "                        <td id=\"T_a2ce4_row7_col2\" class=\"data row7 col2\" >0.00%</td>\n",
       "            </tr>\n",
       "            <tr>\n",
       "                        <th id=\"T_a2ce4_level0_row8\" class=\"row_heading level0 row8\" >2017-09-30 00:00:00</th>\n",
       "                        <td id=\"T_a2ce4_row8_col0\" class=\"data row8 col0\" >0.00%</td>\n",
       "                        <td id=\"T_a2ce4_row8_col1\" class=\"data row8 col1\" >0.00%</td>\n",
       "                        <td id=\"T_a2ce4_row8_col2\" class=\"data row8 col2\" >0.00%</td>\n",
       "            </tr>\n",
       "            <tr>\n",
       "                        <th id=\"T_a2ce4_level0_row9\" class=\"row_heading level0 row9\" >2017-10-31 00:00:00</th>\n",
       "                        <td id=\"T_a2ce4_row9_col0\" class=\"data row9 col0\" >0.00%</td>\n",
       "                        <td id=\"T_a2ce4_row9_col1\" class=\"data row9 col1\" >0.00%</td>\n",
       "                        <td id=\"T_a2ce4_row9_col2\" class=\"data row9 col2\" >0.00%</td>\n",
       "            </tr>\n",
       "    </tbody></table>"
      ],
      "text/plain": [
       "<pandas.io.formats.style.Styler at 0x23195a29520>"
      ]
     },
     "execution_count": 22,
     "metadata": {},
     "output_type": "execute_result"
    }
   ],
   "source": [
    "sva.expected_loss_ratio_nongov().fillna(0).head(10).style.format('{:,.2%}')"
   ]
  },
  {
   "cell_type": "markdown",
   "metadata": {},
   "source": [
    "___\n",
    "# 7\n",
    "### payment_delay_factors"
   ]
  },
  {
   "cell_type": "code",
   "execution_count": 23,
   "metadata": {},
   "outputs": [
    {
     "data": {
      "text/html": [
       "<style  type=\"text/css\" >\n",
       "</style><table id=\"T_dbcc7_\" ><thead>    <tr>        <th class=\"blank level0\" ></th>        <th class=\"col_heading level0 col0\" >Gov Death</th>        <th class=\"col_heading level0 col1\" >Non-Gov Death</th>        <th class=\"col_heading level0 col2\" >Total Death</th>        <th class=\"col_heading level0 col3\" >Gov TPD</th>        <th class=\"col_heading level0 col4\" >Non-Gov TPD</th>        <th class=\"col_heading level0 col5\" >Total TPD</th>    </tr>    <tr>        <th class=\"index_name level0\" >Month</th>        <th class=\"blank\" ></th>        <th class=\"blank\" ></th>        <th class=\"blank\" ></th>        <th class=\"blank\" ></th>        <th class=\"blank\" ></th>        <th class=\"blank\" ></th>    </tr></thead><tbody>\n",
       "                <tr>\n",
       "                        <th id=\"T_dbcc7_level0_row0\" class=\"row_heading level0 row0\" >1</th>\n",
       "                        <td id=\"T_dbcc7_row0_col0\" class=\"data row0 col0\" >63.00%</td>\n",
       "                        <td id=\"T_dbcc7_row0_col1\" class=\"data row0 col1\" >63.00%</td>\n",
       "                        <td id=\"T_dbcc7_row0_col2\" class=\"data row0 col2\" >63.00%</td>\n",
       "                        <td id=\"T_dbcc7_row0_col3\" class=\"data row0 col3\" >63.00%</td>\n",
       "                        <td id=\"T_dbcc7_row0_col4\" class=\"data row0 col4\" >63.00%</td>\n",
       "                        <td id=\"T_dbcc7_row0_col5\" class=\"data row0 col5\" >63.00%</td>\n",
       "            </tr>\n",
       "            <tr>\n",
       "                        <th id=\"T_dbcc7_level0_row1\" class=\"row_heading level0 row1\" >2</th>\n",
       "                        <td id=\"T_dbcc7_row1_col0\" class=\"data row1 col0\" >47.25%</td>\n",
       "                        <td id=\"T_dbcc7_row1_col1\" class=\"data row1 col1\" >47.25%</td>\n",
       "                        <td id=\"T_dbcc7_row1_col2\" class=\"data row1 col2\" >47.25%</td>\n",
       "                        <td id=\"T_dbcc7_row1_col3\" class=\"data row1 col3\" >47.25%</td>\n",
       "                        <td id=\"T_dbcc7_row1_col4\" class=\"data row1 col4\" >47.25%</td>\n",
       "                        <td id=\"T_dbcc7_row1_col5\" class=\"data row1 col5\" >47.25%</td>\n",
       "            </tr>\n",
       "            <tr>\n",
       "                        <th id=\"T_dbcc7_level0_row2\" class=\"row_heading level0 row2\" >3</th>\n",
       "                        <td id=\"T_dbcc7_row2_col0\" class=\"data row2 col0\" >35.44%</td>\n",
       "                        <td id=\"T_dbcc7_row2_col1\" class=\"data row2 col1\" >35.44%</td>\n",
       "                        <td id=\"T_dbcc7_row2_col2\" class=\"data row2 col2\" >35.44%</td>\n",
       "                        <td id=\"T_dbcc7_row2_col3\" class=\"data row2 col3\" >35.44%</td>\n",
       "                        <td id=\"T_dbcc7_row2_col4\" class=\"data row2 col4\" >35.44%</td>\n",
       "                        <td id=\"T_dbcc7_row2_col5\" class=\"data row2 col5\" >35.44%</td>\n",
       "            </tr>\n",
       "            <tr>\n",
       "                        <th id=\"T_dbcc7_level0_row3\" class=\"row_heading level0 row3\" >4</th>\n",
       "                        <td id=\"T_dbcc7_row3_col0\" class=\"data row3 col0\" >26.58%</td>\n",
       "                        <td id=\"T_dbcc7_row3_col1\" class=\"data row3 col1\" >26.58%</td>\n",
       "                        <td id=\"T_dbcc7_row3_col2\" class=\"data row3 col2\" >26.58%</td>\n",
       "                        <td id=\"T_dbcc7_row3_col3\" class=\"data row3 col3\" >26.58%</td>\n",
       "                        <td id=\"T_dbcc7_row3_col4\" class=\"data row3 col4\" >26.58%</td>\n",
       "                        <td id=\"T_dbcc7_row3_col5\" class=\"data row3 col5\" >26.58%</td>\n",
       "            </tr>\n",
       "            <tr>\n",
       "                        <th id=\"T_dbcc7_level0_row4\" class=\"row_heading level0 row4\" >5</th>\n",
       "                        <td id=\"T_dbcc7_row4_col0\" class=\"data row4 col0\" >19.93%</td>\n",
       "                        <td id=\"T_dbcc7_row4_col1\" class=\"data row4 col1\" >19.93%</td>\n",
       "                        <td id=\"T_dbcc7_row4_col2\" class=\"data row4 col2\" >19.93%</td>\n",
       "                        <td id=\"T_dbcc7_row4_col3\" class=\"data row4 col3\" >19.93%</td>\n",
       "                        <td id=\"T_dbcc7_row4_col4\" class=\"data row4 col4\" >19.93%</td>\n",
       "                        <td id=\"T_dbcc7_row4_col5\" class=\"data row4 col5\" >19.93%</td>\n",
       "            </tr>\n",
       "            <tr>\n",
       "                        <th id=\"T_dbcc7_level0_row5\" class=\"row_heading level0 row5\" >6</th>\n",
       "                        <td id=\"T_dbcc7_row5_col0\" class=\"data row5 col0\" >14.95%</td>\n",
       "                        <td id=\"T_dbcc7_row5_col1\" class=\"data row5 col1\" >14.95%</td>\n",
       "                        <td id=\"T_dbcc7_row5_col2\" class=\"data row5 col2\" >14.95%</td>\n",
       "                        <td id=\"T_dbcc7_row5_col3\" class=\"data row5 col3\" >14.95%</td>\n",
       "                        <td id=\"T_dbcc7_row5_col4\" class=\"data row5 col4\" >14.95%</td>\n",
       "                        <td id=\"T_dbcc7_row5_col5\" class=\"data row5 col5\" >14.95%</td>\n",
       "            </tr>\n",
       "            <tr>\n",
       "                        <th id=\"T_dbcc7_level0_row6\" class=\"row_heading level0 row6\" >7</th>\n",
       "                        <td id=\"T_dbcc7_row6_col0\" class=\"data row6 col0\" >11.21%</td>\n",
       "                        <td id=\"T_dbcc7_row6_col1\" class=\"data row6 col1\" >11.21%</td>\n",
       "                        <td id=\"T_dbcc7_row6_col2\" class=\"data row6 col2\" >11.21%</td>\n",
       "                        <td id=\"T_dbcc7_row6_col3\" class=\"data row6 col3\" >11.21%</td>\n",
       "                        <td id=\"T_dbcc7_row6_col4\" class=\"data row6 col4\" >11.21%</td>\n",
       "                        <td id=\"T_dbcc7_row6_col5\" class=\"data row6 col5\" >11.21%</td>\n",
       "            </tr>\n",
       "            <tr>\n",
       "                        <th id=\"T_dbcc7_level0_row7\" class=\"row_heading level0 row7\" >8</th>\n",
       "                        <td id=\"T_dbcc7_row7_col0\" class=\"data row7 col0\" >8.41%</td>\n",
       "                        <td id=\"T_dbcc7_row7_col1\" class=\"data row7 col1\" >8.41%</td>\n",
       "                        <td id=\"T_dbcc7_row7_col2\" class=\"data row7 col2\" >8.41%</td>\n",
       "                        <td id=\"T_dbcc7_row7_col3\" class=\"data row7 col3\" >8.41%</td>\n",
       "                        <td id=\"T_dbcc7_row7_col4\" class=\"data row7 col4\" >8.41%</td>\n",
       "                        <td id=\"T_dbcc7_row7_col5\" class=\"data row7 col5\" >8.41%</td>\n",
       "            </tr>\n",
       "            <tr>\n",
       "                        <th id=\"T_dbcc7_level0_row8\" class=\"row_heading level0 row8\" >9</th>\n",
       "                        <td id=\"T_dbcc7_row8_col0\" class=\"data row8 col0\" >6.31%</td>\n",
       "                        <td id=\"T_dbcc7_row8_col1\" class=\"data row8 col1\" >6.31%</td>\n",
       "                        <td id=\"T_dbcc7_row8_col2\" class=\"data row8 col2\" >6.31%</td>\n",
       "                        <td id=\"T_dbcc7_row8_col3\" class=\"data row8 col3\" >6.31%</td>\n",
       "                        <td id=\"T_dbcc7_row8_col4\" class=\"data row8 col4\" >6.31%</td>\n",
       "                        <td id=\"T_dbcc7_row8_col5\" class=\"data row8 col5\" >6.31%</td>\n",
       "            </tr>\n",
       "            <tr>\n",
       "                        <th id=\"T_dbcc7_level0_row9\" class=\"row_heading level0 row9\" >10</th>\n",
       "                        <td id=\"T_dbcc7_row9_col0\" class=\"data row9 col0\" >4.73%</td>\n",
       "                        <td id=\"T_dbcc7_row9_col1\" class=\"data row9 col1\" >4.73%</td>\n",
       "                        <td id=\"T_dbcc7_row9_col2\" class=\"data row9 col2\" >4.73%</td>\n",
       "                        <td id=\"T_dbcc7_row9_col3\" class=\"data row9 col3\" >4.73%</td>\n",
       "                        <td id=\"T_dbcc7_row9_col4\" class=\"data row9 col4\" >4.73%</td>\n",
       "                        <td id=\"T_dbcc7_row9_col5\" class=\"data row9 col5\" >4.73%</td>\n",
       "            </tr>\n",
       "    </tbody></table>"
      ],
      "text/plain": [
       "<pandas.io.formats.style.Styler at 0x23195a3bb80>"
      ]
     },
     "execution_count": 23,
     "metadata": {},
     "output_type": "execute_result"
    }
   ],
   "source": [
    "sva.payment_delay_factors().head(10).style.format('{:,.2%}')"
   ]
  },
  {
   "cell_type": "markdown",
   "metadata": {},
   "source": [
    "### payment_delay_factors_discrete"
   ]
  },
  {
   "cell_type": "code",
   "execution_count": 24,
   "metadata": {},
   "outputs": [
    {
     "data": {
      "text/html": [
       "<style  type=\"text/css\" >\n",
       "</style><table id=\"T_231ce_\" ><thead>    <tr>        <th class=\"blank level0\" ></th>        <th class=\"col_heading level0 col0\" >Gov Death</th>        <th class=\"col_heading level0 col1\" >Non-Gov Death</th>        <th class=\"col_heading level0 col2\" >Total Death</th>        <th class=\"col_heading level0 col3\" >Gov TPD</th>        <th class=\"col_heading level0 col4\" >Non-Gov TPD</th>        <th class=\"col_heading level0 col5\" >Total TPD</th>    </tr>    <tr>        <th class=\"index_name level0\" >Month</th>        <th class=\"blank\" ></th>        <th class=\"blank\" ></th>        <th class=\"blank\" ></th>        <th class=\"blank\" ></th>        <th class=\"blank\" ></th>        <th class=\"blank\" ></th>    </tr></thead><tbody>\n",
       "                <tr>\n",
       "                        <th id=\"T_231ce_level0_row0\" class=\"row_heading level0 row0\" >1</th>\n",
       "                        <td id=\"T_231ce_row0_col0\" class=\"data row0 col0\" >39.00%</td>\n",
       "                        <td id=\"T_231ce_row0_col1\" class=\"data row0 col1\" >39.00%</td>\n",
       "                        <td id=\"T_231ce_row0_col2\" class=\"data row0 col2\" >39.00%</td>\n",
       "                        <td id=\"T_231ce_row0_col3\" class=\"data row0 col3\" >39.00%</td>\n",
       "                        <td id=\"T_231ce_row0_col4\" class=\"data row0 col4\" >39.00%</td>\n",
       "                        <td id=\"T_231ce_row0_col5\" class=\"data row0 col5\" >39.00%</td>\n",
       "            </tr>\n",
       "            <tr>\n",
       "                        <th id=\"T_231ce_level0_row1\" class=\"row_heading level0 row1\" >2</th>\n",
       "                        <td id=\"T_231ce_row1_col0\" class=\"data row1 col0\" >20.00%</td>\n",
       "                        <td id=\"T_231ce_row1_col1\" class=\"data row1 col1\" >20.00%</td>\n",
       "                        <td id=\"T_231ce_row1_col2\" class=\"data row1 col2\" >20.00%</td>\n",
       "                        <td id=\"T_231ce_row1_col3\" class=\"data row1 col3\" >20.00%</td>\n",
       "                        <td id=\"T_231ce_row1_col4\" class=\"data row1 col4\" >20.00%</td>\n",
       "                        <td id=\"T_231ce_row1_col5\" class=\"data row1 col5\" >20.00%</td>\n",
       "            </tr>\n",
       "            <tr>\n",
       "                        <th id=\"T_231ce_level0_row2\" class=\"row_heading level0 row2\" >3</th>\n",
       "                        <td id=\"T_231ce_row2_col0\" class=\"data row2 col0\" >12.00%</td>\n",
       "                        <td id=\"T_231ce_row2_col1\" class=\"data row2 col1\" >12.00%</td>\n",
       "                        <td id=\"T_231ce_row2_col2\" class=\"data row2 col2\" >12.00%</td>\n",
       "                        <td id=\"T_231ce_row2_col3\" class=\"data row2 col3\" >12.00%</td>\n",
       "                        <td id=\"T_231ce_row2_col4\" class=\"data row2 col4\" >12.00%</td>\n",
       "                        <td id=\"T_231ce_row2_col5\" class=\"data row2 col5\" >12.00%</td>\n",
       "            </tr>\n",
       "            <tr>\n",
       "                        <th id=\"T_231ce_level0_row3\" class=\"row_heading level0 row3\" >4</th>\n",
       "                        <td id=\"T_231ce_row3_col0\" class=\"data row3 col0\" >10.00%</td>\n",
       "                        <td id=\"T_231ce_row3_col1\" class=\"data row3 col1\" >10.00%</td>\n",
       "                        <td id=\"T_231ce_row3_col2\" class=\"data row3 col2\" >10.00%</td>\n",
       "                        <td id=\"T_231ce_row3_col3\" class=\"data row3 col3\" >10.00%</td>\n",
       "                        <td id=\"T_231ce_row3_col4\" class=\"data row3 col4\" >10.00%</td>\n",
       "                        <td id=\"T_231ce_row3_col5\" class=\"data row3 col5\" >10.00%</td>\n",
       "            </tr>\n",
       "            <tr>\n",
       "                        <th id=\"T_231ce_level0_row4\" class=\"row_heading level0 row4\" >5</th>\n",
       "                        <td id=\"T_231ce_row4_col0\" class=\"data row4 col0\" >6.00%</td>\n",
       "                        <td id=\"T_231ce_row4_col1\" class=\"data row4 col1\" >6.00%</td>\n",
       "                        <td id=\"T_231ce_row4_col2\" class=\"data row4 col2\" >6.00%</td>\n",
       "                        <td id=\"T_231ce_row4_col3\" class=\"data row4 col3\" >6.00%</td>\n",
       "                        <td id=\"T_231ce_row4_col4\" class=\"data row4 col4\" >6.00%</td>\n",
       "                        <td id=\"T_231ce_row4_col5\" class=\"data row4 col5\" >6.00%</td>\n",
       "            </tr>\n",
       "            <tr>\n",
       "                        <th id=\"T_231ce_level0_row5\" class=\"row_heading level0 row5\" >6</th>\n",
       "                        <td id=\"T_231ce_row5_col0\" class=\"data row5 col0\" >5.00%</td>\n",
       "                        <td id=\"T_231ce_row5_col1\" class=\"data row5 col1\" >5.00%</td>\n",
       "                        <td id=\"T_231ce_row5_col2\" class=\"data row5 col2\" >5.00%</td>\n",
       "                        <td id=\"T_231ce_row5_col3\" class=\"data row5 col3\" >5.00%</td>\n",
       "                        <td id=\"T_231ce_row5_col4\" class=\"data row5 col4\" >5.00%</td>\n",
       "                        <td id=\"T_231ce_row5_col5\" class=\"data row5 col5\" >5.00%</td>\n",
       "            </tr>\n",
       "            <tr>\n",
       "                        <th id=\"T_231ce_level0_row6\" class=\"row_heading level0 row6\" >7</th>\n",
       "                        <td id=\"T_231ce_row6_col0\" class=\"data row6 col0\" >4.00%</td>\n",
       "                        <td id=\"T_231ce_row6_col1\" class=\"data row6 col1\" >4.00%</td>\n",
       "                        <td id=\"T_231ce_row6_col2\" class=\"data row6 col2\" >4.00%</td>\n",
       "                        <td id=\"T_231ce_row6_col3\" class=\"data row6 col3\" >4.00%</td>\n",
       "                        <td id=\"T_231ce_row6_col4\" class=\"data row6 col4\" >4.00%</td>\n",
       "                        <td id=\"T_231ce_row6_col5\" class=\"data row6 col5\" >4.00%</td>\n",
       "            </tr>\n",
       "            <tr>\n",
       "                        <th id=\"T_231ce_level0_row7\" class=\"row_heading level0 row7\" >8</th>\n",
       "                        <td id=\"T_231ce_row7_col0\" class=\"data row7 col0\" >3.00%</td>\n",
       "                        <td id=\"T_231ce_row7_col1\" class=\"data row7 col1\" >3.00%</td>\n",
       "                        <td id=\"T_231ce_row7_col2\" class=\"data row7 col2\" >3.00%</td>\n",
       "                        <td id=\"T_231ce_row7_col3\" class=\"data row7 col3\" >3.00%</td>\n",
       "                        <td id=\"T_231ce_row7_col4\" class=\"data row7 col4\" >3.00%</td>\n",
       "                        <td id=\"T_231ce_row7_col5\" class=\"data row7 col5\" >3.00%</td>\n",
       "            </tr>\n",
       "            <tr>\n",
       "                        <th id=\"T_231ce_level0_row8\" class=\"row_heading level0 row8\" >9</th>\n",
       "                        <td id=\"T_231ce_row8_col0\" class=\"data row8 col0\" >1.00%</td>\n",
       "                        <td id=\"T_231ce_row8_col1\" class=\"data row8 col1\" >1.00%</td>\n",
       "                        <td id=\"T_231ce_row8_col2\" class=\"data row8 col2\" >1.00%</td>\n",
       "                        <td id=\"T_231ce_row8_col3\" class=\"data row8 col3\" >1.00%</td>\n",
       "                        <td id=\"T_231ce_row8_col4\" class=\"data row8 col4\" >1.00%</td>\n",
       "                        <td id=\"T_231ce_row8_col5\" class=\"data row8 col5\" >1.00%</td>\n",
       "            </tr>\n",
       "            <tr>\n",
       "                        <th id=\"T_231ce_level0_row9\" class=\"row_heading level0 row9\" >10</th>\n",
       "                        <td id=\"T_231ce_row9_col0\" class=\"data row9 col0\" >0.00%</td>\n",
       "                        <td id=\"T_231ce_row9_col1\" class=\"data row9 col1\" >0.00%</td>\n",
       "                        <td id=\"T_231ce_row9_col2\" class=\"data row9 col2\" >0.00%</td>\n",
       "                        <td id=\"T_231ce_row9_col3\" class=\"data row9 col3\" >0.00%</td>\n",
       "                        <td id=\"T_231ce_row9_col4\" class=\"data row9 col4\" >0.00%</td>\n",
       "                        <td id=\"T_231ce_row9_col5\" class=\"data row9 col5\" >0.00%</td>\n",
       "            </tr>\n",
       "    </tbody></table>"
      ],
      "text/plain": [
       "<pandas.io.formats.style.Styler at 0x23195a0ad60>"
      ]
     },
     "execution_count": 24,
     "metadata": {},
     "output_type": "execute_result"
    }
   ],
   "source": [
    "sva.payment_delay_factors_discrete().head(10).style.format('{:,.2%}')"
   ]
  },
  {
   "cell_type": "markdown",
   "metadata": {},
   "source": [
    "___\n",
    "# 8\n",
    "### average_claim_size"
   ]
  },
  {
   "cell_type": "code",
   "execution_count": 25,
   "metadata": {},
   "outputs": [
    {
     "data": {
      "text/html": [
       "<style  type=\"text/css\" >\n",
       "</style><table id=\"T_8eac7_\" ><thead>    <tr>        <th class=\"blank level0\" ></th>        <th class=\"col_heading level0 col0\" >Gov Death</th>        <th class=\"col_heading level0 col1\" >Gov TPD</th>        <th class=\"col_heading level0 col2\" >Gov IP</th>        <th class=\"col_heading level0 col3\" >Non-Gov Death</th>        <th class=\"col_heading level0 col4\" >Non-Gov TPD</th>        <th class=\"col_heading level0 col5\" >Non-Gov IP</th>        <th class=\"col_heading level0 col6\" >Total Death</th>        <th class=\"col_heading level0 col7\" >Total TPD</th>        <th class=\"col_heading level0 col8\" >Total IP</th>    </tr>    <tr>        <th class=\"index_name level0\" >Event Period</th>        <th class=\"blank\" ></th>        <th class=\"blank\" ></th>        <th class=\"blank\" ></th>        <th class=\"blank\" ></th>        <th class=\"blank\" ></th>        <th class=\"blank\" ></th>        <th class=\"blank\" ></th>        <th class=\"blank\" ></th>        <th class=\"blank\" ></th>    </tr></thead><tbody>\n",
       "                <tr>\n",
       "                        <th id=\"T_8eac7_level0_row0\" class=\"row_heading level0 row0\" >2018_Q4</th>\n",
       "                        <td id=\"T_8eac7_row0_col0\" class=\"data row0 col0\" >200,000</td>\n",
       "                        <td id=\"T_8eac7_row0_col1\" class=\"data row0 col1\" >184,715</td>\n",
       "                        <td id=\"T_8eac7_row0_col2\" class=\"data row0 col2\" >44,193</td>\n",
       "                        <td id=\"T_8eac7_row0_col3\" class=\"data row0 col3\" >175,000</td>\n",
       "                        <td id=\"T_8eac7_row0_col4\" class=\"data row0 col4\" >160,000</td>\n",
       "                        <td id=\"T_8eac7_row0_col5\" class=\"data row0 col5\" >44,168</td>\n",
       "                        <td id=\"T_8eac7_row0_col6\" class=\"data row0 col6\" >193,687</td>\n",
       "                        <td id=\"T_8eac7_row0_col7\" class=\"data row0 col7\" >178,449</td>\n",
       "                        <td id=\"T_8eac7_row0_col8\" class=\"data row0 col8\" >44,191</td>\n",
       "            </tr>\n",
       "    </tbody></table>"
      ],
      "text/plain": [
       "<pandas.io.formats.style.Styler at 0x23195a83a90>"
      ]
     },
     "execution_count": 25,
     "metadata": {},
     "output_type": "execute_result"
    }
   ],
   "source": [
    "sva.average_claim_size().style.format('{:,}')"
   ]
  },
  {
   "cell_type": "markdown",
   "metadata": {},
   "source": [
    "### acs_ip_linked_tpd"
   ]
  },
  {
   "cell_type": "code",
   "execution_count": 26,
   "metadata": {},
   "outputs": [
    {
     "data": {
      "text/html": [
       "<style  type=\"text/css\" >\n",
       "</style><table id=\"T_06d8c_\" ><thead>    <tr>        <th class=\"blank level0\" ></th>        <th class=\"col_heading level0 col0\" >Gov 30 Day WP</th>        <th class=\"col_heading level0 col1\" >Gov 60 WP</th>        <th class=\"col_heading level0 col2\" >Gov 9 WP</th>        <th class=\"col_heading level0 col3\" >Gov180 Day WP</th>    </tr>    <tr>        <th class=\"index_name level0\" >Incurred HY</th>        <th class=\"blank\" ></th>        <th class=\"blank\" ></th>        <th class=\"blank\" ></th>        <th class=\"blank\" ></th>    </tr></thead><tbody>\n",
       "                <tr>\n",
       "                        <th id=\"T_06d8c_level0_row0\" class=\"row_heading level0 row0\" >2016H2</th>\n",
       "                        <td id=\"T_06d8c_row0_col0\" class=\"data row0 col0\" >nan</td>\n",
       "                        <td id=\"T_06d8c_row0_col1\" class=\"data row0 col1\" >nan</td>\n",
       "                        <td id=\"T_06d8c_row0_col2\" class=\"data row0 col2\" >nan</td>\n",
       "                        <td id=\"T_06d8c_row0_col3\" class=\"data row0 col3\" >nan</td>\n",
       "            </tr>\n",
       "            <tr>\n",
       "                        <th id=\"T_06d8c_level0_row1\" class=\"row_heading level0 row1\" >2017H1</th>\n",
       "                        <td id=\"T_06d8c_row1_col0\" class=\"data row1 col0\" >nan</td>\n",
       "                        <td id=\"T_06d8c_row1_col1\" class=\"data row1 col1\" >nan</td>\n",
       "                        <td id=\"T_06d8c_row1_col2\" class=\"data row1 col2\" >nan</td>\n",
       "                        <td id=\"T_06d8c_row1_col3\" class=\"data row1 col3\" >nan</td>\n",
       "            </tr>\n",
       "            <tr>\n",
       "                        <th id=\"T_06d8c_level0_row2\" class=\"row_heading level0 row2\" >2017H2</th>\n",
       "                        <td id=\"T_06d8c_row2_col0\" class=\"data row2 col0\" >nan</td>\n",
       "                        <td id=\"T_06d8c_row2_col1\" class=\"data row2 col1\" >nan</td>\n",
       "                        <td id=\"T_06d8c_row2_col2\" class=\"data row2 col2\" >nan</td>\n",
       "                        <td id=\"T_06d8c_row2_col3\" class=\"data row2 col3\" >nan</td>\n",
       "            </tr>\n",
       "            <tr>\n",
       "                        <th id=\"T_06d8c_level0_row3\" class=\"row_heading level0 row3\" >2018H1</th>\n",
       "                        <td id=\"T_06d8c_row3_col0\" class=\"data row3 col0\" >nan</td>\n",
       "                        <td id=\"T_06d8c_row3_col1\" class=\"data row3 col1\" >nan</td>\n",
       "                        <td id=\"T_06d8c_row3_col2\" class=\"data row3 col2\" >nan</td>\n",
       "                        <td id=\"T_06d8c_row3_col3\" class=\"data row3 col3\" >nan</td>\n",
       "            </tr>\n",
       "            <tr>\n",
       "                        <th id=\"T_06d8c_level0_row4\" class=\"row_heading level0 row4\" >2018H2</th>\n",
       "                        <td id=\"T_06d8c_row4_col0\" class=\"data row4 col0\" >nan</td>\n",
       "                        <td id=\"T_06d8c_row4_col1\" class=\"data row4 col1\" >nan</td>\n",
       "                        <td id=\"T_06d8c_row4_col2\" class=\"data row4 col2\" >nan</td>\n",
       "                        <td id=\"T_06d8c_row4_col3\" class=\"data row4 col3\" >nan</td>\n",
       "            </tr>\n",
       "            <tr>\n",
       "                        <th id=\"T_06d8c_level0_row5\" class=\"row_heading level0 row5\" >2019H1</th>\n",
       "                        <td id=\"T_06d8c_row5_col0\" class=\"data row5 col0\" >nan</td>\n",
       "                        <td id=\"T_06d8c_row5_col1\" class=\"data row5 col1\" >nan</td>\n",
       "                        <td id=\"T_06d8c_row5_col2\" class=\"data row5 col2\" >nan</td>\n",
       "                        <td id=\"T_06d8c_row5_col3\" class=\"data row5 col3\" >nan</td>\n",
       "            </tr>\n",
       "            <tr>\n",
       "                        <th id=\"T_06d8c_level0_row6\" class=\"row_heading level0 row6\" >2019H2</th>\n",
       "                        <td id=\"T_06d8c_row6_col0\" class=\"data row6 col0\" >49,000.0</td>\n",
       "                        <td id=\"T_06d8c_row6_col1\" class=\"data row6 col1\" >49,000.0</td>\n",
       "                        <td id=\"T_06d8c_row6_col2\" class=\"data row6 col2\" >56,000.0</td>\n",
       "                        <td id=\"T_06d8c_row6_col3\" class=\"data row6 col3\" >56,000.0</td>\n",
       "            </tr>\n",
       "            <tr>\n",
       "                        <th id=\"T_06d8c_level0_row7\" class=\"row_heading level0 row7\" >2020H1</th>\n",
       "                        <td id=\"T_06d8c_row7_col0\" class=\"data row7 col0\" >49,000.0</td>\n",
       "                        <td id=\"T_06d8c_row7_col1\" class=\"data row7 col1\" >49,000.0</td>\n",
       "                        <td id=\"T_06d8c_row7_col2\" class=\"data row7 col2\" >56,000.0</td>\n",
       "                        <td id=\"T_06d8c_row7_col3\" class=\"data row7 col3\" >56,000.0</td>\n",
       "            </tr>\n",
       "            <tr>\n",
       "                        <th id=\"T_06d8c_level0_row8\" class=\"row_heading level0 row8\" >2020H2</th>\n",
       "                        <td id=\"T_06d8c_row8_col0\" class=\"data row8 col0\" >nan</td>\n",
       "                        <td id=\"T_06d8c_row8_col1\" class=\"data row8 col1\" >nan</td>\n",
       "                        <td id=\"T_06d8c_row8_col2\" class=\"data row8 col2\" >nan</td>\n",
       "                        <td id=\"T_06d8c_row8_col3\" class=\"data row8 col3\" >nan</td>\n",
       "            </tr>\n",
       "            <tr>\n",
       "                        <th id=\"T_06d8c_level0_row9\" class=\"row_heading level0 row9\" >2021H1</th>\n",
       "                        <td id=\"T_06d8c_row9_col0\" class=\"data row9 col0\" >nan</td>\n",
       "                        <td id=\"T_06d8c_row9_col1\" class=\"data row9 col1\" >nan</td>\n",
       "                        <td id=\"T_06d8c_row9_col2\" class=\"data row9 col2\" >nan</td>\n",
       "                        <td id=\"T_06d8c_row9_col3\" class=\"data row9 col3\" >nan</td>\n",
       "            </tr>\n",
       "            <tr>\n",
       "                        <th id=\"T_06d8c_level0_row10\" class=\"row_heading level0 row10\" >2021H2</th>\n",
       "                        <td id=\"T_06d8c_row10_col0\" class=\"data row10 col0\" >nan</td>\n",
       "                        <td id=\"T_06d8c_row10_col1\" class=\"data row10 col1\" >nan</td>\n",
       "                        <td id=\"T_06d8c_row10_col2\" class=\"data row10 col2\" >nan</td>\n",
       "                        <td id=\"T_06d8c_row10_col3\" class=\"data row10 col3\" >nan</td>\n",
       "            </tr>\n",
       "            <tr>\n",
       "                        <th id=\"T_06d8c_level0_row11\" class=\"row_heading level0 row11\" >2022H1</th>\n",
       "                        <td id=\"T_06d8c_row11_col0\" class=\"data row11 col0\" >nan</td>\n",
       "                        <td id=\"T_06d8c_row11_col1\" class=\"data row11 col1\" >nan</td>\n",
       "                        <td id=\"T_06d8c_row11_col2\" class=\"data row11 col2\" >nan</td>\n",
       "                        <td id=\"T_06d8c_row11_col3\" class=\"data row11 col3\" >nan</td>\n",
       "            </tr>\n",
       "    </tbody></table>"
      ],
      "text/plain": [
       "<pandas.io.formats.style.Styler at 0x2319589a610>"
      ]
     },
     "execution_count": 26,
     "metadata": {},
     "output_type": "execute_result"
    }
   ],
   "source": [
    "sva.acs_ip_linked_tpd().style.format('{:,}')"
   ]
  },
  {
   "cell_type": "markdown",
   "metadata": {},
   "source": [
    "### acs_by_notification_delay_q"
   ]
  },
  {
   "cell_type": "code",
   "execution_count": 27,
   "metadata": {},
   "outputs": [
    {
     "data": {
      "text/html": [
       "<style  type=\"text/css\" >\n",
       "</style><table id=\"T_634b4_\" ><thead>    <tr>        <th class=\"blank level0\" ></th>        <th class=\"col_heading level0 col0\" >Gov IP Linked ACS</th>        <th class=\"col_heading level0 col1\" >Gov Non-Linked ACS</th>    </tr>    <tr>        <th class=\"index_name level0\" >Notification Delay Q</th>        <th class=\"blank\" ></th>        <th class=\"blank\" ></th>    </tr></thead><tbody>\n",
       "                <tr>\n",
       "                        <th id=\"T_634b4_level0_row0\" class=\"row_heading level0 row0\" >0</th>\n",
       "                        <td id=\"T_634b4_row0_col0\" class=\"data row0 col0\" >175,000</td>\n",
       "                        <td id=\"T_634b4_row0_col1\" class=\"data row0 col1\" >200,000</td>\n",
       "            </tr>\n",
       "            <tr>\n",
       "                        <th id=\"T_634b4_level0_row1\" class=\"row_heading level0 row1\" >1</th>\n",
       "                        <td id=\"T_634b4_row1_col0\" class=\"data row1 col0\" >175,000</td>\n",
       "                        <td id=\"T_634b4_row1_col1\" class=\"data row1 col1\" >200,000</td>\n",
       "            </tr>\n",
       "            <tr>\n",
       "                        <th id=\"T_634b4_level0_row2\" class=\"row_heading level0 row2\" >2</th>\n",
       "                        <td id=\"T_634b4_row2_col0\" class=\"data row2 col0\" >175,000</td>\n",
       "                        <td id=\"T_634b4_row2_col1\" class=\"data row2 col1\" >200,000</td>\n",
       "            </tr>\n",
       "            <tr>\n",
       "                        <th id=\"T_634b4_level0_row3\" class=\"row_heading level0 row3\" >3</th>\n",
       "                        <td id=\"T_634b4_row3_col0\" class=\"data row3 col0\" >175,000</td>\n",
       "                        <td id=\"T_634b4_row3_col1\" class=\"data row3 col1\" >200,000</td>\n",
       "            </tr>\n",
       "            <tr>\n",
       "                        <th id=\"T_634b4_level0_row4\" class=\"row_heading level0 row4\" >4</th>\n",
       "                        <td id=\"T_634b4_row4_col0\" class=\"data row4 col0\" >175,000</td>\n",
       "                        <td id=\"T_634b4_row4_col1\" class=\"data row4 col1\" >200,000</td>\n",
       "            </tr>\n",
       "            <tr>\n",
       "                        <th id=\"T_634b4_level0_row5\" class=\"row_heading level0 row5\" >5</th>\n",
       "                        <td id=\"T_634b4_row5_col0\" class=\"data row5 col0\" >175,000</td>\n",
       "                        <td id=\"T_634b4_row5_col1\" class=\"data row5 col1\" >200,000</td>\n",
       "            </tr>\n",
       "            <tr>\n",
       "                        <th id=\"T_634b4_level0_row6\" class=\"row_heading level0 row6\" >6</th>\n",
       "                        <td id=\"T_634b4_row6_col0\" class=\"data row6 col0\" >175,000</td>\n",
       "                        <td id=\"T_634b4_row6_col1\" class=\"data row6 col1\" >200,000</td>\n",
       "            </tr>\n",
       "            <tr>\n",
       "                        <th id=\"T_634b4_level0_row7\" class=\"row_heading level0 row7\" >7</th>\n",
       "                        <td id=\"T_634b4_row7_col0\" class=\"data row7 col0\" >175,000</td>\n",
       "                        <td id=\"T_634b4_row7_col1\" class=\"data row7 col1\" >200,000</td>\n",
       "            </tr>\n",
       "            <tr>\n",
       "                        <th id=\"T_634b4_level0_row8\" class=\"row_heading level0 row8\" >8</th>\n",
       "                        <td id=\"T_634b4_row8_col0\" class=\"data row8 col0\" >175,000</td>\n",
       "                        <td id=\"T_634b4_row8_col1\" class=\"data row8 col1\" >200,000</td>\n",
       "            </tr>\n",
       "            <tr>\n",
       "                        <th id=\"T_634b4_level0_row9\" class=\"row_heading level0 row9\" >9</th>\n",
       "                        <td id=\"T_634b4_row9_col0\" class=\"data row9 col0\" >175,000</td>\n",
       "                        <td id=\"T_634b4_row9_col1\" class=\"data row9 col1\" >200,000</td>\n",
       "            </tr>\n",
       "    </tbody></table>"
      ],
      "text/plain": [
       "<pandas.io.formats.style.Styler at 0x23195a0adc0>"
      ]
     },
     "execution_count": 27,
     "metadata": {},
     "output_type": "execute_result"
    }
   ],
   "source": [
    "sva.acs_by_notification_delay_q().head(10).style.format('{:,}')"
   ]
  },
  {
   "cell_type": "markdown",
   "metadata": {},
   "source": [
    "### perc_si_at_ip_doe"
   ]
  },
  {
   "cell_type": "code",
   "execution_count": 28,
   "metadata": {},
   "outputs": [
    {
     "data": {
      "text/html": [
       "<style  type=\"text/css\" >\n",
       "</style><table id=\"T_24951_\" ><thead>    <tr>        <th class=\"blank level0\" ></th>        <th class=\"col_heading level0 col0\" >Unnamed: 104</th>    </tr></thead><tbody>\n",
       "                <tr>\n",
       "                        <th id=\"T_24951_level0_row0\" class=\"row_heading level0 row0\" >%SI at IP DoE</th>\n",
       "                        <td id=\"T_24951_row0_col0\" class=\"data row0 col0\" >70.00%</td>\n",
       "            </tr>\n",
       "    </tbody></table>"
      ],
      "text/plain": [
       "<pandas.io.formats.style.Styler at 0x23195a92280>"
      ]
     },
     "execution_count": 28,
     "metadata": {},
     "output_type": "execute_result"
    }
   ],
   "source": [
    "sva.perc_si_at_ip_doe().style.format('{:,.2%}')"
   ]
  },
  {
   "cell_type": "markdown",
   "metadata": {},
   "source": [
    "### tpd_si_scales_by_age"
   ]
  },
  {
   "cell_type": "code",
   "execution_count": 29,
   "metadata": {},
   "outputs": [
    {
     "data": {
      "text/html": [
       "<style  type=\"text/css\" >\n",
       "</style><table id=\"T_82b1d_\" ><thead>    <tr>        <th class=\"blank level0\" ></th>        <th class=\"col_heading level0 col0\" >TPD Cover /Unit</th>    </tr>    <tr>        <th class=\"index_name level0\" >Age</th>        <th class=\"blank\" ></th>    </tr></thead><tbody>\n",
       "                <tr>\n",
       "                        <th id=\"T_82b1d_level0_row0\" class=\"row_heading level0 row0\" >16</th>\n",
       "                        <td id=\"T_82b1d_row0_col0\" class=\"data row0 col0\" >100,000.0</td>\n",
       "            </tr>\n",
       "            <tr>\n",
       "                        <th id=\"T_82b1d_level0_row1\" class=\"row_heading level0 row1\" >17</th>\n",
       "                        <td id=\"T_82b1d_row1_col0\" class=\"data row1 col0\" >95,000.0</td>\n",
       "            </tr>\n",
       "            <tr>\n",
       "                        <th id=\"T_82b1d_level0_row2\" class=\"row_heading level0 row2\" >18</th>\n",
       "                        <td id=\"T_82b1d_row2_col0\" class=\"data row2 col0\" >90,250.0</td>\n",
       "            </tr>\n",
       "            <tr>\n",
       "                        <th id=\"T_82b1d_level0_row3\" class=\"row_heading level0 row3\" >19</th>\n",
       "                        <td id=\"T_82b1d_row3_col0\" class=\"data row3 col0\" >85,737.5</td>\n",
       "            </tr>\n",
       "            <tr>\n",
       "                        <th id=\"T_82b1d_level0_row4\" class=\"row_heading level0 row4\" >20</th>\n",
       "                        <td id=\"T_82b1d_row4_col0\" class=\"data row4 col0\" >81,450.62</td>\n",
       "            </tr>\n",
       "            <tr>\n",
       "                        <th id=\"T_82b1d_level0_row5\" class=\"row_heading level0 row5\" >21</th>\n",
       "                        <td id=\"T_82b1d_row5_col0\" class=\"data row5 col0\" >77,378.09</td>\n",
       "            </tr>\n",
       "            <tr>\n",
       "                        <th id=\"T_82b1d_level0_row6\" class=\"row_heading level0 row6\" >22</th>\n",
       "                        <td id=\"T_82b1d_row6_col0\" class=\"data row6 col0\" >73,509.19</td>\n",
       "            </tr>\n",
       "            <tr>\n",
       "                        <th id=\"T_82b1d_level0_row7\" class=\"row_heading level0 row7\" >23</th>\n",
       "                        <td id=\"T_82b1d_row7_col0\" class=\"data row7 col0\" >69,833.73</td>\n",
       "            </tr>\n",
       "            <tr>\n",
       "                        <th id=\"T_82b1d_level0_row8\" class=\"row_heading level0 row8\" >24</th>\n",
       "                        <td id=\"T_82b1d_row8_col0\" class=\"data row8 col0\" >66,342.04</td>\n",
       "            </tr>\n",
       "            <tr>\n",
       "                        <th id=\"T_82b1d_level0_row9\" class=\"row_heading level0 row9\" >25</th>\n",
       "                        <td id=\"T_82b1d_row9_col0\" class=\"data row9 col0\" >63,024.94</td>\n",
       "            </tr>\n",
       "    </tbody></table>"
      ],
      "text/plain": [
       "<pandas.io.formats.style.Styler at 0x23195996610>"
      ]
     },
     "execution_count": 29,
     "metadata": {},
     "output_type": "execute_result"
    }
   ],
   "source": [
    "sva.tpd_si_scales_by_age().head(10).round(2).style.format('{:,}')"
   ]
  },
  {
   "cell_type": "markdown",
   "metadata": {},
   "source": [
    "___\n",
    "# 9 \n",
    "### termination_rates"
   ]
  },
  {
   "cell_type": "markdown",
   "metadata": {},
   "source": [
    "#### age_rates"
   ]
  },
  {
   "cell_type": "code",
   "execution_count": 30,
   "metadata": {},
   "outputs": [
    {
     "data": {
      "text/html": [
       "<style  type=\"text/css\" >\n",
       "</style><table id=\"T_a02f0_\" ><thead>    <tr>        <th class=\"blank level0\" ></th>        <th class=\"col_heading level0 col0\" >Male</th>        <th class=\"col_heading level0 col1\" >Female</th>    </tr>    <tr>        <th class=\"index_name level0\" >Age*</th>        <th class=\"blank\" ></th>        <th class=\"blank\" ></th>    </tr></thead><tbody>\n",
       "                <tr>\n",
       "                        <th id=\"T_a02f0_level0_row0\" class=\"row_heading level0 row0\" >20.0</th>\n",
       "                        <td id=\"T_a02f0_row0_col0\" class=\"data row0 col0\" >93.00%</td>\n",
       "                        <td id=\"T_a02f0_row0_col1\" class=\"data row0 col1\" >102.00%</td>\n",
       "            </tr>\n",
       "            <tr>\n",
       "                        <th id=\"T_a02f0_level0_row1\" class=\"row_heading level0 row1\" >21.0</th>\n",
       "                        <td id=\"T_a02f0_row1_col0\" class=\"data row1 col0\" >93.00%</td>\n",
       "                        <td id=\"T_a02f0_row1_col1\" class=\"data row1 col1\" >102.00%</td>\n",
       "            </tr>\n",
       "            <tr>\n",
       "                        <th id=\"T_a02f0_level0_row2\" class=\"row_heading level0 row2\" >22.0</th>\n",
       "                        <td id=\"T_a02f0_row2_col0\" class=\"data row2 col0\" >93.00%</td>\n",
       "                        <td id=\"T_a02f0_row2_col1\" class=\"data row2 col1\" >102.00%</td>\n",
       "            </tr>\n",
       "            <tr>\n",
       "                        <th id=\"T_a02f0_level0_row3\" class=\"row_heading level0 row3\" >23.0</th>\n",
       "                        <td id=\"T_a02f0_row3_col0\" class=\"data row3 col0\" >93.00%</td>\n",
       "                        <td id=\"T_a02f0_row3_col1\" class=\"data row3 col1\" >102.00%</td>\n",
       "            </tr>\n",
       "            <tr>\n",
       "                        <th id=\"T_a02f0_level0_row4\" class=\"row_heading level0 row4\" >24.0</th>\n",
       "                        <td id=\"T_a02f0_row4_col0\" class=\"data row4 col0\" >93.00%</td>\n",
       "                        <td id=\"T_a02f0_row4_col1\" class=\"data row4 col1\" >102.00%</td>\n",
       "            </tr>\n",
       "            <tr>\n",
       "                        <th id=\"T_a02f0_level0_row5\" class=\"row_heading level0 row5\" >25.0</th>\n",
       "                        <td id=\"T_a02f0_row5_col0\" class=\"data row5 col0\" >93.00%</td>\n",
       "                        <td id=\"T_a02f0_row5_col1\" class=\"data row5 col1\" >102.00%</td>\n",
       "            </tr>\n",
       "            <tr>\n",
       "                        <th id=\"T_a02f0_level0_row6\" class=\"row_heading level0 row6\" >26.0</th>\n",
       "                        <td id=\"T_a02f0_row6_col0\" class=\"data row6 col0\" >93.00%</td>\n",
       "                        <td id=\"T_a02f0_row6_col1\" class=\"data row6 col1\" >102.00%</td>\n",
       "            </tr>\n",
       "            <tr>\n",
       "                        <th id=\"T_a02f0_level0_row7\" class=\"row_heading level0 row7\" >27.0</th>\n",
       "                        <td id=\"T_a02f0_row7_col0\" class=\"data row7 col0\" >93.00%</td>\n",
       "                        <td id=\"T_a02f0_row7_col1\" class=\"data row7 col1\" >102.00%</td>\n",
       "            </tr>\n",
       "            <tr>\n",
       "                        <th id=\"T_a02f0_level0_row8\" class=\"row_heading level0 row8\" >28.0</th>\n",
       "                        <td id=\"T_a02f0_row8_col0\" class=\"data row8 col0\" >93.00%</td>\n",
       "                        <td id=\"T_a02f0_row8_col1\" class=\"data row8 col1\" >102.00%</td>\n",
       "            </tr>\n",
       "            <tr>\n",
       "                        <th id=\"T_a02f0_level0_row9\" class=\"row_heading level0 row9\" >29.0</th>\n",
       "                        <td id=\"T_a02f0_row9_col0\" class=\"data row9 col0\" >93.00%</td>\n",
       "                        <td id=\"T_a02f0_row9_col1\" class=\"data row9 col1\" >102.00%</td>\n",
       "            </tr>\n",
       "    </tbody></table>"
      ],
      "text/plain": [
       "<pandas.io.formats.style.Styler at 0x23195912160>"
      ]
     },
     "execution_count": 30,
     "metadata": {},
     "output_type": "execute_result"
    }
   ],
   "source": [
    "sva.termination_rates.age_rates().head(10).style.format('{:,.2%}')"
   ]
  },
  {
   "cell_type": "markdown",
   "metadata": {},
   "source": [
    "#### duration_of_claim_g_wp_oc"
   ]
  },
  {
   "cell_type": "code",
   "execution_count": 31,
   "metadata": {},
   "outputs": [
    {
     "data": {
      "text/html": [
       "<style  type=\"text/css\" >\n",
       "</style><table id=\"T_e3e48_\" ><thead>    <tr>        <th class=\"blank level0\" ></th>        <th class=\"col_heading level0 col0\" colspan=\"12\">Male</th>        <th class=\"col_heading level0 col12\" colspan=\"12\">Female</th>    </tr>    <tr>        <th class=\"blank level1\" ></th>        <th class=\"col_heading level1 col0\" colspan=\"6\">Accident</th>        <th class=\"col_heading level1 col6\" colspan=\"6\">Sickness</th>        <th class=\"col_heading level1 col12\" colspan=\"6\">Accident</th>        <th class=\"col_heading level1 col18\" colspan=\"6\">Sickness</th>    </tr>    <tr>        <th class=\"blank level2\" ></th>        <th class=\"col_heading level2 col0\" colspan=\"2\">Professional / Medical</th>        <th class=\"col_heading level2 col2\" colspan=\"2\">White Collar / Sedentary</th>        <th class=\"col_heading level2 col4\" colspan=\"2\">Combined Blue Collar</th>        <th class=\"col_heading level2 col6\" colspan=\"2\">Professional / Medical</th>        <th class=\"col_heading level2 col8\" colspan=\"2\">White Collar / Sedentary</th>        <th class=\"col_heading level2 col10\" colspan=\"2\">Combined Blue Collar</th>        <th class=\"col_heading level2 col12\" colspan=\"2\">Professional / Medical</th>        <th class=\"col_heading level2 col14\" colspan=\"2\">White Collar / Sedentary</th>        <th class=\"col_heading level2 col16\" colspan=\"2\">Combined Blue Collar</th>        <th class=\"col_heading level2 col18\" colspan=\"2\">Professional / Medical</th>        <th class=\"col_heading level2 col20\" colspan=\"2\">White Collar / Sedentary</th>        <th class=\"col_heading level2 col22\" colspan=\"2\">Combined Blue Collar</th>    </tr>    <tr>        <th class=\"blank level3\" ></th>        <th class=\"col_heading level3 col0\" ><= 30 Day Wait</th>        <th class=\"col_heading level3 col1\" >90 Day Wait</th>        <th class=\"col_heading level3 col2\" ><= 30 Day Wait</th>        <th class=\"col_heading level3 col3\" >90 Day Wait</th>        <th class=\"col_heading level3 col4\" ><= 30 Day Wait</th>        <th class=\"col_heading level3 col5\" >90 Day Wait</th>        <th class=\"col_heading level3 col6\" ><= 30 Day Wait</th>        <th class=\"col_heading level3 col7\" >90 Day Wait</th>        <th class=\"col_heading level3 col8\" ><= 30 Day Wait</th>        <th class=\"col_heading level3 col9\" >90 Day Wait</th>        <th class=\"col_heading level3 col10\" ><= 30 Day Wait</th>        <th class=\"col_heading level3 col11\" >90 Day Wait</th>        <th class=\"col_heading level3 col12\" ><= 30 Day Wait</th>        <th class=\"col_heading level3 col13\" >90 Day Wait</th>        <th class=\"col_heading level3 col14\" ><= 30 Day Wait</th>        <th class=\"col_heading level3 col15\" >90 Day Wait</th>        <th class=\"col_heading level3 col16\" ><= 30 Day Wait</th>        <th class=\"col_heading level3 col17\" >90 Day Wait</th>        <th class=\"col_heading level3 col18\" ><= 30 Day Wait</th>        <th class=\"col_heading level3 col19\" >90 Day Wait</th>        <th class=\"col_heading level3 col20\" ><= 30 Day Wait</th>        <th class=\"col_heading level3 col21\" >90 Day Wait</th>        <th class=\"col_heading level3 col22\" ><= 30 Day Wait</th>        <th class=\"col_heading level3 col23\" >90 Day Wait</th>    </tr>    <tr>        <th class=\"index_name level0\" >Duration of Claim (months)</th>        <th class=\"blank\" ></th>        <th class=\"blank\" ></th>        <th class=\"blank\" ></th>        <th class=\"blank\" ></th>        <th class=\"blank\" ></th>        <th class=\"blank\" ></th>        <th class=\"blank\" ></th>        <th class=\"blank\" ></th>        <th class=\"blank\" ></th>        <th class=\"blank\" ></th>        <th class=\"blank\" ></th>        <th class=\"blank\" ></th>        <th class=\"blank\" ></th>        <th class=\"blank\" ></th>        <th class=\"blank\" ></th>        <th class=\"blank\" ></th>        <th class=\"blank\" ></th>        <th class=\"blank\" ></th>        <th class=\"blank\" ></th>        <th class=\"blank\" ></th>        <th class=\"blank\" ></th>        <th class=\"blank\" ></th>        <th class=\"blank\" ></th>        <th class=\"blank\" ></th>    </tr></thead><tbody>\n",
       "                <tr>\n",
       "                        <th id=\"T_e3e48_level0_row0\" class=\"row_heading level0 row0\" >1</th>\n",
       "                        <td id=\"T_e3e48_row0_col0\" class=\"data row0 col0\" >100.00%</td>\n",
       "                        <td id=\"T_e3e48_row0_col1\" class=\"data row0 col1\" >100.00%</td>\n",
       "                        <td id=\"T_e3e48_row0_col2\" class=\"data row0 col2\" >100.00%</td>\n",
       "                        <td id=\"T_e3e48_row0_col3\" class=\"data row0 col3\" >100.00%</td>\n",
       "                        <td id=\"T_e3e48_row0_col4\" class=\"data row0 col4\" >100.00%</td>\n",
       "                        <td id=\"T_e3e48_row0_col5\" class=\"data row0 col5\" >100.00%</td>\n",
       "                        <td id=\"T_e3e48_row0_col6\" class=\"data row0 col6\" >100.00%</td>\n",
       "                        <td id=\"T_e3e48_row0_col7\" class=\"data row0 col7\" >100.00%</td>\n",
       "                        <td id=\"T_e3e48_row0_col8\" class=\"data row0 col8\" >100.00%</td>\n",
       "                        <td id=\"T_e3e48_row0_col9\" class=\"data row0 col9\" >100.00%</td>\n",
       "                        <td id=\"T_e3e48_row0_col10\" class=\"data row0 col10\" >100.00%</td>\n",
       "                        <td id=\"T_e3e48_row0_col11\" class=\"data row0 col11\" >100.00%</td>\n",
       "                        <td id=\"T_e3e48_row0_col12\" class=\"data row0 col12\" >100.00%</td>\n",
       "                        <td id=\"T_e3e48_row0_col13\" class=\"data row0 col13\" >100.00%</td>\n",
       "                        <td id=\"T_e3e48_row0_col14\" class=\"data row0 col14\" >100.00%</td>\n",
       "                        <td id=\"T_e3e48_row0_col15\" class=\"data row0 col15\" >100.00%</td>\n",
       "                        <td id=\"T_e3e48_row0_col16\" class=\"data row0 col16\" >100.00%</td>\n",
       "                        <td id=\"T_e3e48_row0_col17\" class=\"data row0 col17\" >100.00%</td>\n",
       "                        <td id=\"T_e3e48_row0_col18\" class=\"data row0 col18\" >100.00%</td>\n",
       "                        <td id=\"T_e3e48_row0_col19\" class=\"data row0 col19\" >100.00%</td>\n",
       "                        <td id=\"T_e3e48_row0_col20\" class=\"data row0 col20\" >100.00%</td>\n",
       "                        <td id=\"T_e3e48_row0_col21\" class=\"data row0 col21\" >100.00%</td>\n",
       "                        <td id=\"T_e3e48_row0_col22\" class=\"data row0 col22\" >100.00%</td>\n",
       "                        <td id=\"T_e3e48_row0_col23\" class=\"data row0 col23\" >100.00%</td>\n",
       "            </tr>\n",
       "            <tr>\n",
       "                        <th id=\"T_e3e48_level0_row1\" class=\"row_heading level0 row1\" >2</th>\n",
       "                        <td id=\"T_e3e48_row1_col0\" class=\"data row1 col0\" >100.00%</td>\n",
       "                        <td id=\"T_e3e48_row1_col1\" class=\"data row1 col1\" >100.00%</td>\n",
       "                        <td id=\"T_e3e48_row1_col2\" class=\"data row1 col2\" >100.00%</td>\n",
       "                        <td id=\"T_e3e48_row1_col3\" class=\"data row1 col3\" >100.00%</td>\n",
       "                        <td id=\"T_e3e48_row1_col4\" class=\"data row1 col4\" >100.00%</td>\n",
       "                        <td id=\"T_e3e48_row1_col5\" class=\"data row1 col5\" >100.00%</td>\n",
       "                        <td id=\"T_e3e48_row1_col6\" class=\"data row1 col6\" >100.00%</td>\n",
       "                        <td id=\"T_e3e48_row1_col7\" class=\"data row1 col7\" >100.00%</td>\n",
       "                        <td id=\"T_e3e48_row1_col8\" class=\"data row1 col8\" >100.00%</td>\n",
       "                        <td id=\"T_e3e48_row1_col9\" class=\"data row1 col9\" >100.00%</td>\n",
       "                        <td id=\"T_e3e48_row1_col10\" class=\"data row1 col10\" >100.00%</td>\n",
       "                        <td id=\"T_e3e48_row1_col11\" class=\"data row1 col11\" >100.00%</td>\n",
       "                        <td id=\"T_e3e48_row1_col12\" class=\"data row1 col12\" >100.00%</td>\n",
       "                        <td id=\"T_e3e48_row1_col13\" class=\"data row1 col13\" >100.00%</td>\n",
       "                        <td id=\"T_e3e48_row1_col14\" class=\"data row1 col14\" >100.00%</td>\n",
       "                        <td id=\"T_e3e48_row1_col15\" class=\"data row1 col15\" >100.00%</td>\n",
       "                        <td id=\"T_e3e48_row1_col16\" class=\"data row1 col16\" >100.00%</td>\n",
       "                        <td id=\"T_e3e48_row1_col17\" class=\"data row1 col17\" >100.00%</td>\n",
       "                        <td id=\"T_e3e48_row1_col18\" class=\"data row1 col18\" >100.00%</td>\n",
       "                        <td id=\"T_e3e48_row1_col19\" class=\"data row1 col19\" >100.00%</td>\n",
       "                        <td id=\"T_e3e48_row1_col20\" class=\"data row1 col20\" >100.00%</td>\n",
       "                        <td id=\"T_e3e48_row1_col21\" class=\"data row1 col21\" >100.00%</td>\n",
       "                        <td id=\"T_e3e48_row1_col22\" class=\"data row1 col22\" >100.00%</td>\n",
       "                        <td id=\"T_e3e48_row1_col23\" class=\"data row1 col23\" >100.00%</td>\n",
       "            </tr>\n",
       "            <tr>\n",
       "                        <th id=\"T_e3e48_level0_row2\" class=\"row_heading level0 row2\" >3</th>\n",
       "                        <td id=\"T_e3e48_row2_col0\" class=\"data row2 col0\" >100.00%</td>\n",
       "                        <td id=\"T_e3e48_row2_col1\" class=\"data row2 col1\" >100.00%</td>\n",
       "                        <td id=\"T_e3e48_row2_col2\" class=\"data row2 col2\" >100.00%</td>\n",
       "                        <td id=\"T_e3e48_row2_col3\" class=\"data row2 col3\" >100.00%</td>\n",
       "                        <td id=\"T_e3e48_row2_col4\" class=\"data row2 col4\" >100.00%</td>\n",
       "                        <td id=\"T_e3e48_row2_col5\" class=\"data row2 col5\" >100.00%</td>\n",
       "                        <td id=\"T_e3e48_row2_col6\" class=\"data row2 col6\" >100.00%</td>\n",
       "                        <td id=\"T_e3e48_row2_col7\" class=\"data row2 col7\" >100.00%</td>\n",
       "                        <td id=\"T_e3e48_row2_col8\" class=\"data row2 col8\" >100.00%</td>\n",
       "                        <td id=\"T_e3e48_row2_col9\" class=\"data row2 col9\" >100.00%</td>\n",
       "                        <td id=\"T_e3e48_row2_col10\" class=\"data row2 col10\" >100.00%</td>\n",
       "                        <td id=\"T_e3e48_row2_col11\" class=\"data row2 col11\" >100.00%</td>\n",
       "                        <td id=\"T_e3e48_row2_col12\" class=\"data row2 col12\" >100.00%</td>\n",
       "                        <td id=\"T_e3e48_row2_col13\" class=\"data row2 col13\" >100.00%</td>\n",
       "                        <td id=\"T_e3e48_row2_col14\" class=\"data row2 col14\" >100.00%</td>\n",
       "                        <td id=\"T_e3e48_row2_col15\" class=\"data row2 col15\" >100.00%</td>\n",
       "                        <td id=\"T_e3e48_row2_col16\" class=\"data row2 col16\" >100.00%</td>\n",
       "                        <td id=\"T_e3e48_row2_col17\" class=\"data row2 col17\" >100.00%</td>\n",
       "                        <td id=\"T_e3e48_row2_col18\" class=\"data row2 col18\" >100.00%</td>\n",
       "                        <td id=\"T_e3e48_row2_col19\" class=\"data row2 col19\" >100.00%</td>\n",
       "                        <td id=\"T_e3e48_row2_col20\" class=\"data row2 col20\" >100.00%</td>\n",
       "                        <td id=\"T_e3e48_row2_col21\" class=\"data row2 col21\" >100.00%</td>\n",
       "                        <td id=\"T_e3e48_row2_col22\" class=\"data row2 col22\" >100.00%</td>\n",
       "                        <td id=\"T_e3e48_row2_col23\" class=\"data row2 col23\" >100.00%</td>\n",
       "            </tr>\n",
       "            <tr>\n",
       "                        <th id=\"T_e3e48_level0_row3\" class=\"row_heading level0 row3\" >4</th>\n",
       "                        <td id=\"T_e3e48_row3_col0\" class=\"data row3 col0\" >100.00%</td>\n",
       "                        <td id=\"T_e3e48_row3_col1\" class=\"data row3 col1\" >100.00%</td>\n",
       "                        <td id=\"T_e3e48_row3_col2\" class=\"data row3 col2\" >100.00%</td>\n",
       "                        <td id=\"T_e3e48_row3_col3\" class=\"data row3 col3\" >100.00%</td>\n",
       "                        <td id=\"T_e3e48_row3_col4\" class=\"data row3 col4\" >100.00%</td>\n",
       "                        <td id=\"T_e3e48_row3_col5\" class=\"data row3 col5\" >100.00%</td>\n",
       "                        <td id=\"T_e3e48_row3_col6\" class=\"data row3 col6\" >100.00%</td>\n",
       "                        <td id=\"T_e3e48_row3_col7\" class=\"data row3 col7\" >100.00%</td>\n",
       "                        <td id=\"T_e3e48_row3_col8\" class=\"data row3 col8\" >100.00%</td>\n",
       "                        <td id=\"T_e3e48_row3_col9\" class=\"data row3 col9\" >100.00%</td>\n",
       "                        <td id=\"T_e3e48_row3_col10\" class=\"data row3 col10\" >100.00%</td>\n",
       "                        <td id=\"T_e3e48_row3_col11\" class=\"data row3 col11\" >100.00%</td>\n",
       "                        <td id=\"T_e3e48_row3_col12\" class=\"data row3 col12\" >100.00%</td>\n",
       "                        <td id=\"T_e3e48_row3_col13\" class=\"data row3 col13\" >100.00%</td>\n",
       "                        <td id=\"T_e3e48_row3_col14\" class=\"data row3 col14\" >100.00%</td>\n",
       "                        <td id=\"T_e3e48_row3_col15\" class=\"data row3 col15\" >100.00%</td>\n",
       "                        <td id=\"T_e3e48_row3_col16\" class=\"data row3 col16\" >100.00%</td>\n",
       "                        <td id=\"T_e3e48_row3_col17\" class=\"data row3 col17\" >100.00%</td>\n",
       "                        <td id=\"T_e3e48_row3_col18\" class=\"data row3 col18\" >100.00%</td>\n",
       "                        <td id=\"T_e3e48_row3_col19\" class=\"data row3 col19\" >100.00%</td>\n",
       "                        <td id=\"T_e3e48_row3_col20\" class=\"data row3 col20\" >100.00%</td>\n",
       "                        <td id=\"T_e3e48_row3_col21\" class=\"data row3 col21\" >100.00%</td>\n",
       "                        <td id=\"T_e3e48_row3_col22\" class=\"data row3 col22\" >100.00%</td>\n",
       "                        <td id=\"T_e3e48_row3_col23\" class=\"data row3 col23\" >100.00%</td>\n",
       "            </tr>\n",
       "            <tr>\n",
       "                        <th id=\"T_e3e48_level0_row4\" class=\"row_heading level0 row4\" >5</th>\n",
       "                        <td id=\"T_e3e48_row4_col0\" class=\"data row4 col0\" >100.00%</td>\n",
       "                        <td id=\"T_e3e48_row4_col1\" class=\"data row4 col1\" >100.00%</td>\n",
       "                        <td id=\"T_e3e48_row4_col2\" class=\"data row4 col2\" >100.00%</td>\n",
       "                        <td id=\"T_e3e48_row4_col3\" class=\"data row4 col3\" >100.00%</td>\n",
       "                        <td id=\"T_e3e48_row4_col4\" class=\"data row4 col4\" >100.00%</td>\n",
       "                        <td id=\"T_e3e48_row4_col5\" class=\"data row4 col5\" >100.00%</td>\n",
       "                        <td id=\"T_e3e48_row4_col6\" class=\"data row4 col6\" >100.00%</td>\n",
       "                        <td id=\"T_e3e48_row4_col7\" class=\"data row4 col7\" >100.00%</td>\n",
       "                        <td id=\"T_e3e48_row4_col8\" class=\"data row4 col8\" >100.00%</td>\n",
       "                        <td id=\"T_e3e48_row4_col9\" class=\"data row4 col9\" >100.00%</td>\n",
       "                        <td id=\"T_e3e48_row4_col10\" class=\"data row4 col10\" >100.00%</td>\n",
       "                        <td id=\"T_e3e48_row4_col11\" class=\"data row4 col11\" >100.00%</td>\n",
       "                        <td id=\"T_e3e48_row4_col12\" class=\"data row4 col12\" >100.00%</td>\n",
       "                        <td id=\"T_e3e48_row4_col13\" class=\"data row4 col13\" >100.00%</td>\n",
       "                        <td id=\"T_e3e48_row4_col14\" class=\"data row4 col14\" >100.00%</td>\n",
       "                        <td id=\"T_e3e48_row4_col15\" class=\"data row4 col15\" >100.00%</td>\n",
       "                        <td id=\"T_e3e48_row4_col16\" class=\"data row4 col16\" >100.00%</td>\n",
       "                        <td id=\"T_e3e48_row4_col17\" class=\"data row4 col17\" >100.00%</td>\n",
       "                        <td id=\"T_e3e48_row4_col18\" class=\"data row4 col18\" >100.00%</td>\n",
       "                        <td id=\"T_e3e48_row4_col19\" class=\"data row4 col19\" >100.00%</td>\n",
       "                        <td id=\"T_e3e48_row4_col20\" class=\"data row4 col20\" >100.00%</td>\n",
       "                        <td id=\"T_e3e48_row4_col21\" class=\"data row4 col21\" >100.00%</td>\n",
       "                        <td id=\"T_e3e48_row4_col22\" class=\"data row4 col22\" >100.00%</td>\n",
       "                        <td id=\"T_e3e48_row4_col23\" class=\"data row4 col23\" >100.00%</td>\n",
       "            </tr>\n",
       "            <tr>\n",
       "                        <th id=\"T_e3e48_level0_row5\" class=\"row_heading level0 row5\" >6</th>\n",
       "                        <td id=\"T_e3e48_row5_col0\" class=\"data row5 col0\" >100.00%</td>\n",
       "                        <td id=\"T_e3e48_row5_col1\" class=\"data row5 col1\" >100.00%</td>\n",
       "                        <td id=\"T_e3e48_row5_col2\" class=\"data row5 col2\" >100.00%</td>\n",
       "                        <td id=\"T_e3e48_row5_col3\" class=\"data row5 col3\" >100.00%</td>\n",
       "                        <td id=\"T_e3e48_row5_col4\" class=\"data row5 col4\" >100.00%</td>\n",
       "                        <td id=\"T_e3e48_row5_col5\" class=\"data row5 col5\" >100.00%</td>\n",
       "                        <td id=\"T_e3e48_row5_col6\" class=\"data row5 col6\" >100.00%</td>\n",
       "                        <td id=\"T_e3e48_row5_col7\" class=\"data row5 col7\" >100.00%</td>\n",
       "                        <td id=\"T_e3e48_row5_col8\" class=\"data row5 col8\" >100.00%</td>\n",
       "                        <td id=\"T_e3e48_row5_col9\" class=\"data row5 col9\" >100.00%</td>\n",
       "                        <td id=\"T_e3e48_row5_col10\" class=\"data row5 col10\" >100.00%</td>\n",
       "                        <td id=\"T_e3e48_row5_col11\" class=\"data row5 col11\" >100.00%</td>\n",
       "                        <td id=\"T_e3e48_row5_col12\" class=\"data row5 col12\" >100.00%</td>\n",
       "                        <td id=\"T_e3e48_row5_col13\" class=\"data row5 col13\" >100.00%</td>\n",
       "                        <td id=\"T_e3e48_row5_col14\" class=\"data row5 col14\" >100.00%</td>\n",
       "                        <td id=\"T_e3e48_row5_col15\" class=\"data row5 col15\" >100.00%</td>\n",
       "                        <td id=\"T_e3e48_row5_col16\" class=\"data row5 col16\" >100.00%</td>\n",
       "                        <td id=\"T_e3e48_row5_col17\" class=\"data row5 col17\" >100.00%</td>\n",
       "                        <td id=\"T_e3e48_row5_col18\" class=\"data row5 col18\" >100.00%</td>\n",
       "                        <td id=\"T_e3e48_row5_col19\" class=\"data row5 col19\" >100.00%</td>\n",
       "                        <td id=\"T_e3e48_row5_col20\" class=\"data row5 col20\" >100.00%</td>\n",
       "                        <td id=\"T_e3e48_row5_col21\" class=\"data row5 col21\" >100.00%</td>\n",
       "                        <td id=\"T_e3e48_row5_col22\" class=\"data row5 col22\" >100.00%</td>\n",
       "                        <td id=\"T_e3e48_row5_col23\" class=\"data row5 col23\" >100.00%</td>\n",
       "            </tr>\n",
       "            <tr>\n",
       "                        <th id=\"T_e3e48_level0_row6\" class=\"row_heading level0 row6\" >7</th>\n",
       "                        <td id=\"T_e3e48_row6_col0\" class=\"data row6 col0\" >100.00%</td>\n",
       "                        <td id=\"T_e3e48_row6_col1\" class=\"data row6 col1\" >100.00%</td>\n",
       "                        <td id=\"T_e3e48_row6_col2\" class=\"data row6 col2\" >100.00%</td>\n",
       "                        <td id=\"T_e3e48_row6_col3\" class=\"data row6 col3\" >100.00%</td>\n",
       "                        <td id=\"T_e3e48_row6_col4\" class=\"data row6 col4\" >100.00%</td>\n",
       "                        <td id=\"T_e3e48_row6_col5\" class=\"data row6 col5\" >100.00%</td>\n",
       "                        <td id=\"T_e3e48_row6_col6\" class=\"data row6 col6\" >100.00%</td>\n",
       "                        <td id=\"T_e3e48_row6_col7\" class=\"data row6 col7\" >100.00%</td>\n",
       "                        <td id=\"T_e3e48_row6_col8\" class=\"data row6 col8\" >100.00%</td>\n",
       "                        <td id=\"T_e3e48_row6_col9\" class=\"data row6 col9\" >100.00%</td>\n",
       "                        <td id=\"T_e3e48_row6_col10\" class=\"data row6 col10\" >100.00%</td>\n",
       "                        <td id=\"T_e3e48_row6_col11\" class=\"data row6 col11\" >100.00%</td>\n",
       "                        <td id=\"T_e3e48_row6_col12\" class=\"data row6 col12\" >100.00%</td>\n",
       "                        <td id=\"T_e3e48_row6_col13\" class=\"data row6 col13\" >100.00%</td>\n",
       "                        <td id=\"T_e3e48_row6_col14\" class=\"data row6 col14\" >100.00%</td>\n",
       "                        <td id=\"T_e3e48_row6_col15\" class=\"data row6 col15\" >100.00%</td>\n",
       "                        <td id=\"T_e3e48_row6_col16\" class=\"data row6 col16\" >100.00%</td>\n",
       "                        <td id=\"T_e3e48_row6_col17\" class=\"data row6 col17\" >100.00%</td>\n",
       "                        <td id=\"T_e3e48_row6_col18\" class=\"data row6 col18\" >100.00%</td>\n",
       "                        <td id=\"T_e3e48_row6_col19\" class=\"data row6 col19\" >100.00%</td>\n",
       "                        <td id=\"T_e3e48_row6_col20\" class=\"data row6 col20\" >100.00%</td>\n",
       "                        <td id=\"T_e3e48_row6_col21\" class=\"data row6 col21\" >100.00%</td>\n",
       "                        <td id=\"T_e3e48_row6_col22\" class=\"data row6 col22\" >100.00%</td>\n",
       "                        <td id=\"T_e3e48_row6_col23\" class=\"data row6 col23\" >100.00%</td>\n",
       "            </tr>\n",
       "            <tr>\n",
       "                        <th id=\"T_e3e48_level0_row7\" class=\"row_heading level0 row7\" >8</th>\n",
       "                        <td id=\"T_e3e48_row7_col0\" class=\"data row7 col0\" >100.00%</td>\n",
       "                        <td id=\"T_e3e48_row7_col1\" class=\"data row7 col1\" >100.00%</td>\n",
       "                        <td id=\"T_e3e48_row7_col2\" class=\"data row7 col2\" >100.00%</td>\n",
       "                        <td id=\"T_e3e48_row7_col3\" class=\"data row7 col3\" >100.00%</td>\n",
       "                        <td id=\"T_e3e48_row7_col4\" class=\"data row7 col4\" >100.00%</td>\n",
       "                        <td id=\"T_e3e48_row7_col5\" class=\"data row7 col5\" >100.00%</td>\n",
       "                        <td id=\"T_e3e48_row7_col6\" class=\"data row7 col6\" >100.00%</td>\n",
       "                        <td id=\"T_e3e48_row7_col7\" class=\"data row7 col7\" >100.00%</td>\n",
       "                        <td id=\"T_e3e48_row7_col8\" class=\"data row7 col8\" >100.00%</td>\n",
       "                        <td id=\"T_e3e48_row7_col9\" class=\"data row7 col9\" >100.00%</td>\n",
       "                        <td id=\"T_e3e48_row7_col10\" class=\"data row7 col10\" >100.00%</td>\n",
       "                        <td id=\"T_e3e48_row7_col11\" class=\"data row7 col11\" >100.00%</td>\n",
       "                        <td id=\"T_e3e48_row7_col12\" class=\"data row7 col12\" >100.00%</td>\n",
       "                        <td id=\"T_e3e48_row7_col13\" class=\"data row7 col13\" >100.00%</td>\n",
       "                        <td id=\"T_e3e48_row7_col14\" class=\"data row7 col14\" >100.00%</td>\n",
       "                        <td id=\"T_e3e48_row7_col15\" class=\"data row7 col15\" >100.00%</td>\n",
       "                        <td id=\"T_e3e48_row7_col16\" class=\"data row7 col16\" >100.00%</td>\n",
       "                        <td id=\"T_e3e48_row7_col17\" class=\"data row7 col17\" >100.00%</td>\n",
       "                        <td id=\"T_e3e48_row7_col18\" class=\"data row7 col18\" >100.00%</td>\n",
       "                        <td id=\"T_e3e48_row7_col19\" class=\"data row7 col19\" >100.00%</td>\n",
       "                        <td id=\"T_e3e48_row7_col20\" class=\"data row7 col20\" >100.00%</td>\n",
       "                        <td id=\"T_e3e48_row7_col21\" class=\"data row7 col21\" >100.00%</td>\n",
       "                        <td id=\"T_e3e48_row7_col22\" class=\"data row7 col22\" >100.00%</td>\n",
       "                        <td id=\"T_e3e48_row7_col23\" class=\"data row7 col23\" >100.00%</td>\n",
       "            </tr>\n",
       "            <tr>\n",
       "                        <th id=\"T_e3e48_level0_row8\" class=\"row_heading level0 row8\" >9</th>\n",
       "                        <td id=\"T_e3e48_row8_col0\" class=\"data row8 col0\" >100.00%</td>\n",
       "                        <td id=\"T_e3e48_row8_col1\" class=\"data row8 col1\" >100.00%</td>\n",
       "                        <td id=\"T_e3e48_row8_col2\" class=\"data row8 col2\" >100.00%</td>\n",
       "                        <td id=\"T_e3e48_row8_col3\" class=\"data row8 col3\" >100.00%</td>\n",
       "                        <td id=\"T_e3e48_row8_col4\" class=\"data row8 col4\" >100.00%</td>\n",
       "                        <td id=\"T_e3e48_row8_col5\" class=\"data row8 col5\" >100.00%</td>\n",
       "                        <td id=\"T_e3e48_row8_col6\" class=\"data row8 col6\" >100.00%</td>\n",
       "                        <td id=\"T_e3e48_row8_col7\" class=\"data row8 col7\" >100.00%</td>\n",
       "                        <td id=\"T_e3e48_row8_col8\" class=\"data row8 col8\" >100.00%</td>\n",
       "                        <td id=\"T_e3e48_row8_col9\" class=\"data row8 col9\" >100.00%</td>\n",
       "                        <td id=\"T_e3e48_row8_col10\" class=\"data row8 col10\" >100.00%</td>\n",
       "                        <td id=\"T_e3e48_row8_col11\" class=\"data row8 col11\" >100.00%</td>\n",
       "                        <td id=\"T_e3e48_row8_col12\" class=\"data row8 col12\" >100.00%</td>\n",
       "                        <td id=\"T_e3e48_row8_col13\" class=\"data row8 col13\" >100.00%</td>\n",
       "                        <td id=\"T_e3e48_row8_col14\" class=\"data row8 col14\" >100.00%</td>\n",
       "                        <td id=\"T_e3e48_row8_col15\" class=\"data row8 col15\" >100.00%</td>\n",
       "                        <td id=\"T_e3e48_row8_col16\" class=\"data row8 col16\" >100.00%</td>\n",
       "                        <td id=\"T_e3e48_row8_col17\" class=\"data row8 col17\" >100.00%</td>\n",
       "                        <td id=\"T_e3e48_row8_col18\" class=\"data row8 col18\" >100.00%</td>\n",
       "                        <td id=\"T_e3e48_row8_col19\" class=\"data row8 col19\" >100.00%</td>\n",
       "                        <td id=\"T_e3e48_row8_col20\" class=\"data row8 col20\" >100.00%</td>\n",
       "                        <td id=\"T_e3e48_row8_col21\" class=\"data row8 col21\" >100.00%</td>\n",
       "                        <td id=\"T_e3e48_row8_col22\" class=\"data row8 col22\" >100.00%</td>\n",
       "                        <td id=\"T_e3e48_row8_col23\" class=\"data row8 col23\" >100.00%</td>\n",
       "            </tr>\n",
       "            <tr>\n",
       "                        <th id=\"T_e3e48_level0_row9\" class=\"row_heading level0 row9\" >10</th>\n",
       "                        <td id=\"T_e3e48_row9_col0\" class=\"data row9 col0\" >100.00%</td>\n",
       "                        <td id=\"T_e3e48_row9_col1\" class=\"data row9 col1\" >100.00%</td>\n",
       "                        <td id=\"T_e3e48_row9_col2\" class=\"data row9 col2\" >100.00%</td>\n",
       "                        <td id=\"T_e3e48_row9_col3\" class=\"data row9 col3\" >100.00%</td>\n",
       "                        <td id=\"T_e3e48_row9_col4\" class=\"data row9 col4\" >100.00%</td>\n",
       "                        <td id=\"T_e3e48_row9_col5\" class=\"data row9 col5\" >100.00%</td>\n",
       "                        <td id=\"T_e3e48_row9_col6\" class=\"data row9 col6\" >100.00%</td>\n",
       "                        <td id=\"T_e3e48_row9_col7\" class=\"data row9 col7\" >100.00%</td>\n",
       "                        <td id=\"T_e3e48_row9_col8\" class=\"data row9 col8\" >100.00%</td>\n",
       "                        <td id=\"T_e3e48_row9_col9\" class=\"data row9 col9\" >100.00%</td>\n",
       "                        <td id=\"T_e3e48_row9_col10\" class=\"data row9 col10\" >100.00%</td>\n",
       "                        <td id=\"T_e3e48_row9_col11\" class=\"data row9 col11\" >100.00%</td>\n",
       "                        <td id=\"T_e3e48_row9_col12\" class=\"data row9 col12\" >100.00%</td>\n",
       "                        <td id=\"T_e3e48_row9_col13\" class=\"data row9 col13\" >100.00%</td>\n",
       "                        <td id=\"T_e3e48_row9_col14\" class=\"data row9 col14\" >100.00%</td>\n",
       "                        <td id=\"T_e3e48_row9_col15\" class=\"data row9 col15\" >100.00%</td>\n",
       "                        <td id=\"T_e3e48_row9_col16\" class=\"data row9 col16\" >100.00%</td>\n",
       "                        <td id=\"T_e3e48_row9_col17\" class=\"data row9 col17\" >100.00%</td>\n",
       "                        <td id=\"T_e3e48_row9_col18\" class=\"data row9 col18\" >100.00%</td>\n",
       "                        <td id=\"T_e3e48_row9_col19\" class=\"data row9 col19\" >100.00%</td>\n",
       "                        <td id=\"T_e3e48_row9_col20\" class=\"data row9 col20\" >100.00%</td>\n",
       "                        <td id=\"T_e3e48_row9_col21\" class=\"data row9 col21\" >100.00%</td>\n",
       "                        <td id=\"T_e3e48_row9_col22\" class=\"data row9 col22\" >100.00%</td>\n",
       "                        <td id=\"T_e3e48_row9_col23\" class=\"data row9 col23\" >100.00%</td>\n",
       "            </tr>\n",
       "    </tbody></table>"
      ],
      "text/plain": [
       "<pandas.io.formats.style.Styler at 0x231959120d0>"
      ]
     },
     "execution_count": 31,
     "metadata": {},
     "output_type": "execute_result"
    }
   ],
   "source": [
    "sva.termination_rates.duration_of_claim_g_wp_oc().head(10).style.format('{:,.2%}')"
   ]
  },
  {
   "cell_type": "markdown",
   "metadata": {},
   "source": [
    "#### smoker_status"
   ]
  },
  {
   "cell_type": "code",
   "execution_count": 32,
   "metadata": {},
   "outputs": [
    {
     "data": {
      "text/html": [
       "<style  type=\"text/css\" >\n",
       "</style><table id=\"T_ef5a7_\" ><thead>    <tr>        <th class=\"blank level0\" ></th>        <th class=\"col_heading level0 col0\" >smoker_status</th>    </tr></thead><tbody>\n",
       "                <tr>\n",
       "                        <th id=\"T_ef5a7_level0_row0\" class=\"row_heading level0 row0\" >Non-Smoker</th>\n",
       "                        <td id=\"T_ef5a7_row0_col0\" class=\"data row0 col0\" >100.00%</td>\n",
       "            </tr>\n",
       "            <tr>\n",
       "                        <th id=\"T_ef5a7_level0_row1\" class=\"row_heading level0 row1\" >Smoker</th>\n",
       "                        <td id=\"T_ef5a7_row1_col0\" class=\"data row1 col0\" >100.00%</td>\n",
       "            </tr>\n",
       "    </tbody></table>"
      ],
      "text/plain": [
       "<pandas.io.formats.style.Styler at 0x23195883550>"
      ]
     },
     "execution_count": 32,
     "metadata": {},
     "output_type": "execute_result"
    }
   ],
   "source": [
    "sva.termination_rates.smoker_status().style.format('{:,.2%}')"
   ]
  },
  {
   "cell_type": "markdown",
   "metadata": {},
   "source": [
    "#### benefit_type"
   ]
  },
  {
   "cell_type": "code",
   "execution_count": 33,
   "metadata": {},
   "outputs": [
    {
     "data": {
      "text/html": [
       "<style  type=\"text/css\" >\n",
       "</style><table id=\"T_30368_\" ><thead>    <tr>        <th class=\"blank level0\" ></th>        <th class=\"col_heading level0 col0\" >benefit_type</th>    </tr></thead><tbody>\n",
       "                <tr>\n",
       "                        <th id=\"T_30368_level0_row0\" class=\"row_heading level0 row0\" >Agreed Value</th>\n",
       "                        <td id=\"T_30368_row0_col0\" class=\"data row0 col0\" >100.00%</td>\n",
       "            </tr>\n",
       "            <tr>\n",
       "                        <th id=\"T_30368_level0_row1\" class=\"row_heading level0 row1\" >Indemnity</th>\n",
       "                        <td id=\"T_30368_row1_col0\" class=\"data row1 col0\" >100.00%</td>\n",
       "            </tr>\n",
       "    </tbody></table>"
      ],
      "text/plain": [
       "<pandas.io.formats.style.Styler at 0x23195a3b850>"
      ]
     },
     "execution_count": 33,
     "metadata": {},
     "output_type": "execute_result"
    }
   ],
   "source": [
    "sva.termination_rates.benefit_type().style.format('{:,.2%}')"
   ]
  },
  {
   "cell_type": "markdown",
   "metadata": {},
   "source": [
    "#### policy_duration_factor"
   ]
  },
  {
   "cell_type": "code",
   "execution_count": 34,
   "metadata": {},
   "outputs": [
    {
     "data": {
      "text/html": [
       "<style  type=\"text/css\" >\n",
       "</style><table id=\"T_65735_\" ><thead>    <tr>        <th class=\"blank level0\" ></th>        <th class=\"col_heading level0 col0\" colspan=\"2\">Male</th>        <th class=\"col_heading level0 col2\" colspan=\"2\">Female</th>    </tr>    <tr>        <th class=\"blank level1\" ></th>        <th class=\"col_heading level1 col0\" >Accident</th>        <th class=\"col_heading level1 col1\" >Sickness</th>        <th class=\"col_heading level1 col2\" >Accident</th>        <th class=\"col_heading level1 col3\" >Sickness</th>    </tr>    <tr>        <th class=\"index_name level0\" >Curtate Policy Year</th>        <th class=\"blank\" ></th>        <th class=\"blank\" ></th>        <th class=\"blank\" ></th>        <th class=\"blank\" ></th>    </tr></thead><tbody>\n",
       "                <tr>\n",
       "                        <th id=\"T_65735_level0_row0\" class=\"row_heading level0 row0\" >0</th>\n",
       "                        <td id=\"T_65735_row0_col0\" class=\"data row0 col0\" >100.00%</td>\n",
       "                        <td id=\"T_65735_row0_col1\" class=\"data row0 col1\" >100.00%</td>\n",
       "                        <td id=\"T_65735_row0_col2\" class=\"data row0 col2\" >100.00%</td>\n",
       "                        <td id=\"T_65735_row0_col3\" class=\"data row0 col3\" >100.00%</td>\n",
       "            </tr>\n",
       "            <tr>\n",
       "                        <th id=\"T_65735_level0_row1\" class=\"row_heading level0 row1\" >1</th>\n",
       "                        <td id=\"T_65735_row1_col0\" class=\"data row1 col0\" >100.00%</td>\n",
       "                        <td id=\"T_65735_row1_col1\" class=\"data row1 col1\" >100.00%</td>\n",
       "                        <td id=\"T_65735_row1_col2\" class=\"data row1 col2\" >100.00%</td>\n",
       "                        <td id=\"T_65735_row1_col3\" class=\"data row1 col3\" >100.00%</td>\n",
       "            </tr>\n",
       "            <tr>\n",
       "                        <th id=\"T_65735_level0_row2\" class=\"row_heading level0 row2\" >2</th>\n",
       "                        <td id=\"T_65735_row2_col0\" class=\"data row2 col0\" >100.00%</td>\n",
       "                        <td id=\"T_65735_row2_col1\" class=\"data row2 col1\" >100.00%</td>\n",
       "                        <td id=\"T_65735_row2_col2\" class=\"data row2 col2\" >100.00%</td>\n",
       "                        <td id=\"T_65735_row2_col3\" class=\"data row2 col3\" >100.00%</td>\n",
       "            </tr>\n",
       "            <tr>\n",
       "                        <th id=\"T_65735_level0_row3\" class=\"row_heading level0 row3\" >3</th>\n",
       "                        <td id=\"T_65735_row3_col0\" class=\"data row3 col0\" >100.00%</td>\n",
       "                        <td id=\"T_65735_row3_col1\" class=\"data row3 col1\" >100.00%</td>\n",
       "                        <td id=\"T_65735_row3_col2\" class=\"data row3 col2\" >100.00%</td>\n",
       "                        <td id=\"T_65735_row3_col3\" class=\"data row3 col3\" >100.00%</td>\n",
       "            </tr>\n",
       "            <tr>\n",
       "                        <th id=\"T_65735_level0_row4\" class=\"row_heading level0 row4\" >4</th>\n",
       "                        <td id=\"T_65735_row4_col0\" class=\"data row4 col0\" >100.00%</td>\n",
       "                        <td id=\"T_65735_row4_col1\" class=\"data row4 col1\" >100.00%</td>\n",
       "                        <td id=\"T_65735_row4_col2\" class=\"data row4 col2\" >100.00%</td>\n",
       "                        <td id=\"T_65735_row4_col3\" class=\"data row4 col3\" >100.00%</td>\n",
       "            </tr>\n",
       "            <tr>\n",
       "                        <th id=\"T_65735_level0_row5\" class=\"row_heading level0 row5\" >5</th>\n",
       "                        <td id=\"T_65735_row5_col0\" class=\"data row5 col0\" >100.00%</td>\n",
       "                        <td id=\"T_65735_row5_col1\" class=\"data row5 col1\" >100.00%</td>\n",
       "                        <td id=\"T_65735_row5_col2\" class=\"data row5 col2\" >100.00%</td>\n",
       "                        <td id=\"T_65735_row5_col3\" class=\"data row5 col3\" >100.00%</td>\n",
       "            </tr>\n",
       "            <tr>\n",
       "                        <th id=\"T_65735_level0_row6\" class=\"row_heading level0 row6\" >6</th>\n",
       "                        <td id=\"T_65735_row6_col0\" class=\"data row6 col0\" >100.00%</td>\n",
       "                        <td id=\"T_65735_row6_col1\" class=\"data row6 col1\" >100.00%</td>\n",
       "                        <td id=\"T_65735_row6_col2\" class=\"data row6 col2\" >100.00%</td>\n",
       "                        <td id=\"T_65735_row6_col3\" class=\"data row6 col3\" >100.00%</td>\n",
       "            </tr>\n",
       "            <tr>\n",
       "                        <th id=\"T_65735_level0_row7\" class=\"row_heading level0 row7\" >7</th>\n",
       "                        <td id=\"T_65735_row7_col0\" class=\"data row7 col0\" >100.00%</td>\n",
       "                        <td id=\"T_65735_row7_col1\" class=\"data row7 col1\" >100.00%</td>\n",
       "                        <td id=\"T_65735_row7_col2\" class=\"data row7 col2\" >100.00%</td>\n",
       "                        <td id=\"T_65735_row7_col3\" class=\"data row7 col3\" >100.00%</td>\n",
       "            </tr>\n",
       "            <tr>\n",
       "                        <th id=\"T_65735_level0_row8\" class=\"row_heading level0 row8\" >8</th>\n",
       "                        <td id=\"T_65735_row8_col0\" class=\"data row8 col0\" >100.00%</td>\n",
       "                        <td id=\"T_65735_row8_col1\" class=\"data row8 col1\" >100.00%</td>\n",
       "                        <td id=\"T_65735_row8_col2\" class=\"data row8 col2\" >100.00%</td>\n",
       "                        <td id=\"T_65735_row8_col3\" class=\"data row8 col3\" >100.00%</td>\n",
       "            </tr>\n",
       "            <tr>\n",
       "                        <th id=\"T_65735_level0_row9\" class=\"row_heading level0 row9\" >9</th>\n",
       "                        <td id=\"T_65735_row9_col0\" class=\"data row9 col0\" >100.00%</td>\n",
       "                        <td id=\"T_65735_row9_col1\" class=\"data row9 col1\" >100.00%</td>\n",
       "                        <td id=\"T_65735_row9_col2\" class=\"data row9 col2\" >100.00%</td>\n",
       "                        <td id=\"T_65735_row9_col3\" class=\"data row9 col3\" >100.00%</td>\n",
       "            </tr>\n",
       "            <tr>\n",
       "                        <th id=\"T_65735_level0_row10\" class=\"row_heading level0 row10\" >10</th>\n",
       "                        <td id=\"T_65735_row10_col0\" class=\"data row10 col0\" >100.00%</td>\n",
       "                        <td id=\"T_65735_row10_col1\" class=\"data row10 col1\" >100.00%</td>\n",
       "                        <td id=\"T_65735_row10_col2\" class=\"data row10 col2\" >100.00%</td>\n",
       "                        <td id=\"T_65735_row10_col3\" class=\"data row10 col3\" >100.00%</td>\n",
       "            </tr>\n",
       "    </tbody></table>"
      ],
      "text/plain": [
       "<pandas.io.formats.style.Styler at 0x2319589a130>"
      ]
     },
     "execution_count": 34,
     "metadata": {},
     "output_type": "execute_result"
    }
   ],
   "source": [
    "sva.termination_rates.policy_duration_factor().style.format('{:,.2%}')"
   ]
  },
  {
   "cell_type": "markdown",
   "metadata": {},
   "source": [
    "___\n",
    "# 10\n",
    "\n",
    "### stress_margins"
   ]
  },
  {
   "cell_type": "markdown",
   "metadata": {},
   "source": [
    "#### random"
   ]
  },
  {
   "cell_type": "code",
   "execution_count": 35,
   "metadata": {},
   "outputs": [
    {
     "data": {
      "text/html": [
       "<style  type=\"text/css\" >\n",
       "</style><table id=\"T_b6a7e_\" ><thead>    <tr>        <th class=\"blank level0\" ></th>        <th class=\"col_heading level0 col0\" >Unnamed: 168</th>    </tr>    <tr>        <th class=\"index_name level0\" >Random stress</th>        <th class=\"blank\" ></th>    </tr></thead><tbody>\n",
       "                <tr>\n",
       "                        <th id=\"T_b6a7e_level0_row0\" class=\"row_heading level0 row0\" >Death</th>\n",
       "                        <td id=\"T_b6a7e_row0_col0\" class=\"data row0 col0\" >25.00%</td>\n",
       "            </tr>\n",
       "            <tr>\n",
       "                        <th id=\"T_b6a7e_level0_row1\" class=\"row_heading level0 row1\" >Death IBNR</th>\n",
       "                        <td id=\"T_b6a7e_row1_col0\" class=\"data row1 col0\" >22.50%</td>\n",
       "            </tr>\n",
       "            <tr>\n",
       "                        <th id=\"T_b6a7e_level0_row2\" class=\"row_heading level0 row2\" >Death RBNA</th>\n",
       "                        <td id=\"T_b6a7e_row2_col0\" class=\"data row2 col0\" >5.50%</td>\n",
       "            </tr>\n",
       "            <tr>\n",
       "                        <th id=\"T_b6a7e_level0_row3\" class=\"row_heading level0 row3\" >TPD</th>\n",
       "                        <td id=\"T_b6a7e_row3_col0\" class=\"data row3 col0\" >7.50%</td>\n",
       "            </tr>\n",
       "            <tr>\n",
       "                        <th id=\"T_b6a7e_level0_row4\" class=\"row_heading level0 row4\" >TPD IBNR</th>\n",
       "                        <td id=\"T_b6a7e_row4_col0\" class=\"data row4 col0\" >5.50%</td>\n",
       "            </tr>\n",
       "            <tr>\n",
       "                        <th id=\"T_b6a7e_level0_row5\" class=\"row_heading level0 row5\" >TPD RBNA</th>\n",
       "                        <td id=\"T_b6a7e_row5_col0\" class=\"data row5 col0\" >6.50%</td>\n",
       "            </tr>\n",
       "            <tr>\n",
       "                        <th id=\"T_b6a7e_level0_row6\" class=\"row_heading level0 row6\" >IP</th>\n",
       "                        <td id=\"T_b6a7e_row6_col0\" class=\"data row6 col0\" >7.50%</td>\n",
       "            </tr>\n",
       "            <tr>\n",
       "                        <th id=\"T_b6a7e_level0_row7\" class=\"row_heading level0 row7\" >IP DLR</th>\n",
       "                        <td id=\"T_b6a7e_row7_col0\" class=\"data row7 col0\" >2.50%</td>\n",
       "            </tr>\n",
       "            <tr>\n",
       "                        <th id=\"T_b6a7e_level0_row8\" class=\"row_heading level0 row8\" >IP IBNR</th>\n",
       "                        <td id=\"T_b6a7e_row8_col0\" class=\"data row8 col0\" >5.50%</td>\n",
       "            </tr>\n",
       "            <tr>\n",
       "                        <th id=\"T_b6a7e_level0_row9\" class=\"row_heading level0 row9\" >IP RBNA</th>\n",
       "                        <td id=\"T_b6a7e_row9_col0\" class=\"data row9 col0\" >6.50%</td>\n",
       "            </tr>\n",
       "    </tbody></table>"
      ],
      "text/plain": [
       "<pandas.io.formats.style.Styler at 0x23195b642b0>"
      ]
     },
     "execution_count": 35,
     "metadata": {},
     "output_type": "execute_result"
    }
   ],
   "source": [
    "sva.stress_margins.random.random_all().style.format('{:,.2%}')"
   ]
  },
  {
   "cell_type": "markdown",
   "metadata": {},
   "source": [
    "#### future"
   ]
  },
  {
   "cell_type": "code",
   "execution_count": 36,
   "metadata": {},
   "outputs": [
    {
     "data": {
      "text/html": [
       "<style  type=\"text/css\" >\n",
       "</style><table id=\"T_eac64_\" ><thead>    <tr>        <th class=\"blank level0\" ></th>        <th class=\"col_heading level0 col0\" >Unnamed: 168</th>    </tr>    <tr>        <th class=\"index_name level0\" >Future Stress</th>        <th class=\"blank\" ></th>    </tr></thead><tbody>\n",
       "                <tr>\n",
       "                        <th id=\"T_eac64_level0_row0\" class=\"row_heading level0 row0\" >Death</th>\n",
       "                        <td id=\"T_eac64_row0_col0\" class=\"data row0 col0\" >20.00%</td>\n",
       "            </tr>\n",
       "            <tr>\n",
       "                        <th id=\"T_eac64_level0_row1\" class=\"row_heading level0 row1\" >Death IBNR</th>\n",
       "                        <td id=\"T_eac64_row1_col0\" class=\"data row1 col0\" >20.00%</td>\n",
       "            </tr>\n",
       "            <tr>\n",
       "                        <th id=\"T_eac64_level0_row2\" class=\"row_heading level0 row2\" >Death RBNA</th>\n",
       "                        <td id=\"T_eac64_row2_col0\" class=\"data row2 col0\" >10.00%</td>\n",
       "            </tr>\n",
       "            <tr>\n",
       "                        <th id=\"T_eac64_level0_row3\" class=\"row_heading level0 row3\" >TPD</th>\n",
       "                        <td id=\"T_eac64_row3_col0\" class=\"data row3 col0\" >40.00%</td>\n",
       "            </tr>\n",
       "            <tr>\n",
       "                        <th id=\"T_eac64_level0_row4\" class=\"row_heading level0 row4\" >TPD IBNR</th>\n",
       "                        <td id=\"T_eac64_row4_col0\" class=\"data row4 col0\" >40.00%</td>\n",
       "            </tr>\n",
       "            <tr>\n",
       "                        <th id=\"T_eac64_level0_row5\" class=\"row_heading level0 row5\" >TPD RBNA</th>\n",
       "                        <td id=\"T_eac64_row5_col0\" class=\"data row5 col0\" >25.00%</td>\n",
       "            </tr>\n",
       "            <tr>\n",
       "                        <th id=\"T_eac64_level0_row6\" class=\"row_heading level0 row6\" >IP</th>\n",
       "                        <td id=\"T_eac64_row6_col0\" class=\"data row6 col0\" >40.00%</td>\n",
       "            </tr>\n",
       "            <tr>\n",
       "                        <th id=\"T_eac64_level0_row7\" class=\"row_heading level0 row7\" >IP DLR</th>\n",
       "                        <td id=\"T_eac64_row7_col0\" class=\"data row7 col0\" >25.00%</td>\n",
       "            </tr>\n",
       "            <tr>\n",
       "                        <th id=\"T_eac64_level0_row8\" class=\"row_heading level0 row8\" >IP IBNR</th>\n",
       "                        <td id=\"T_eac64_row8_col0\" class=\"data row8 col0\" >40.00%</td>\n",
       "            </tr>\n",
       "            <tr>\n",
       "                        <th id=\"T_eac64_level0_row9\" class=\"row_heading level0 row9\" >IP RBNA</th>\n",
       "                        <td id=\"T_eac64_row9_col0\" class=\"data row9 col0\" >25.00%</td>\n",
       "            </tr>\n",
       "    </tbody></table>"
      ],
      "text/plain": [
       "<pandas.io.formats.style.Styler at 0x23195864190>"
      ]
     },
     "execution_count": 36,
     "metadata": {},
     "output_type": "execute_result"
    }
   ],
   "source": [
    "sva.stress_margins.future.future_all().style.format('{:,.2%}')"
   ]
  },
  {
   "cell_type": "markdown",
   "metadata": {},
   "source": [
    "#### time_to_react_future"
   ]
  },
  {
   "cell_type": "code",
   "execution_count": 37,
   "metadata": {},
   "outputs": [
    {
     "data": {
      "text/plain": [
       "0.12"
      ]
     },
     "execution_count": 37,
     "metadata": {},
     "output_type": "execute_result"
    }
   ],
   "source": [
    "sva.stress_margins.time_to_react_future()"
   ]
  },
  {
   "cell_type": "markdown",
   "metadata": {},
   "source": [
    "#### event_pandemic_death"
   ]
  },
  {
   "cell_type": "code",
   "execution_count": 38,
   "metadata": {},
   "outputs": [
    {
     "data": {
      "text/plain": [
       "nan"
      ]
     },
     "execution_count": 38,
     "metadata": {},
     "output_type": "execute_result"
    }
   ],
   "source": [
    "sva.stress_margins.event_pandemic_death()"
   ]
  },
  {
   "cell_type": "markdown",
   "metadata": {},
   "source": [
    "#### event_pandemic_tpd"
   ]
  },
  {
   "cell_type": "code",
   "execution_count": 39,
   "metadata": {},
   "outputs": [
    {
     "data": {
      "text/plain": [
       "nan"
      ]
     },
     "execution_count": 39,
     "metadata": {},
     "output_type": "execute_result"
    }
   ],
   "source": [
    "sva.stress_margins.event_pandemic_tpd()"
   ]
  },
  {
   "cell_type": "markdown",
   "metadata": {},
   "source": [
    "#### event_pandemic_ip"
   ]
  },
  {
   "cell_type": "code",
   "execution_count": 40,
   "metadata": {},
   "outputs": [
    {
     "data": {
      "text/plain": [
       "0.1"
      ]
     },
     "execution_count": 40,
     "metadata": {},
     "output_type": "execute_result"
    }
   ],
   "source": [
    "sva.stress_margins.event_pandemic_ip()"
   ]
  },
  {
   "cell_type": "markdown",
   "metadata": {},
   "source": [
    "#### prop_disabled_after_wp"
   ]
  },
  {
   "cell_type": "code",
   "execution_count": 41,
   "metadata": {},
   "outputs": [
    {
     "data": {
      "text/plain": [
       "0.25"
      ]
     },
     "execution_count": 41,
     "metadata": {},
     "output_type": "execute_result"
    }
   ],
   "source": [
    "sva.stress_margins.prop_disabled_after_wp()"
   ]
  },
  {
   "cell_type": "markdown",
   "metadata": {},
   "source": [
    "#### lapse_stress"
   ]
  },
  {
   "cell_type": "code",
   "execution_count": 42,
   "metadata": {},
   "outputs": [
    {
     "data": {
      "text/plain": [
       "0.0"
      ]
     },
     "execution_count": 42,
     "metadata": {},
     "output_type": "execute_result"
    }
   ],
   "source": [
    "sva.stress_margins.lapse_stress()"
   ]
  },
  {
   "cell_type": "markdown",
   "metadata": {},
   "source": [
    "#### servicing_expense_stress"
   ]
  },
  {
   "cell_type": "code",
   "execution_count": 43,
   "metadata": {},
   "outputs": [
    {
     "data": {
      "text/plain": [
       "0.1"
      ]
     },
     "execution_count": 43,
     "metadata": {},
     "output_type": "execute_result"
    }
   ],
   "source": [
    "sva.stress_margins.servicing_expense_stress()"
   ]
  },
  {
   "cell_type": "markdown",
   "metadata": {},
   "source": [
    "___\n",
    "# 11\n",
    "### reinsurance"
   ]
  },
  {
   "cell_type": "code",
   "execution_count": 44,
   "metadata": {},
   "outputs": [
    {
     "data": {
      "text/html": [
       "<div>\n",
       "<style scoped>\n",
       "    .dataframe tbody tr th:only-of-type {\n",
       "        vertical-align: middle;\n",
       "    }\n",
       "\n",
       "    .dataframe tbody tr th {\n",
       "        vertical-align: top;\n",
       "    }\n",
       "\n",
       "    .dataframe thead th {\n",
       "        text-align: right;\n",
       "    }\n",
       "</style>\n",
       "<table border=\"1\" class=\"dataframe\">\n",
       "  <thead>\n",
       "    <tr style=\"text-align: right;\">\n",
       "      <th></th>\n",
       "      <th>SI Limit</th>\n",
       "      <th>Reinsurance recoveries</th>\n",
       "      <th>Reinsurance Premium</th>\n",
       "      <th>Reinsurance Commission</th>\n",
       "      <th>Reinsurance Claims Percentage</th>\n",
       "    </tr>\n",
       "  </thead>\n",
       "  <tbody>\n",
       "    <tr>\n",
       "      <th>Death</th>\n",
       "      <td>1000000</td>\n",
       "      <td>0.15</td>\n",
       "      <td>0.15</td>\n",
       "      <td>0.0281</td>\n",
       "      <td>0.15</td>\n",
       "    </tr>\n",
       "    <tr>\n",
       "      <th>TPD</th>\n",
       "      <td>1000000</td>\n",
       "      <td>0.15</td>\n",
       "      <td>0.15</td>\n",
       "      <td>0.0281</td>\n",
       "      <td>0.15</td>\n",
       "    </tr>\n",
       "    <tr>\n",
       "      <th>IP</th>\n",
       "      <td>10000</td>\n",
       "      <td>0.15</td>\n",
       "      <td>0.15</td>\n",
       "      <td>0.0300</td>\n",
       "      <td>0.15</td>\n",
       "    </tr>\n",
       "  </tbody>\n",
       "</table>\n",
       "</div>"
      ],
      "text/plain": [
       "       SI Limit  Reinsurance recoveries  Reinsurance Premium  \\\n",
       "Death   1000000                    0.15                 0.15   \n",
       "TPD     1000000                    0.15                 0.15   \n",
       "IP        10000                    0.15                 0.15   \n",
       "\n",
       "       Reinsurance Commission  Reinsurance Claims Percentage  \n",
       "Death                  0.0281                           0.15  \n",
       "TPD                    0.0281                           0.15  \n",
       "IP                     0.0300                           0.15  "
      ]
     },
     "execution_count": 44,
     "metadata": {},
     "output_type": "execute_result"
    }
   ],
   "source": [
    "sva.reinsurance()"
   ]
  },
  {
   "cell_type": "markdown",
   "metadata": {},
   "source": [
    "### catastrophe_pl"
   ]
  },
  {
   "cell_type": "code",
   "execution_count": 45,
   "metadata": {},
   "outputs": [
    {
     "name": "stderr",
     "output_type": "stream",
     "text": [
      "C:\\Users\\adamw\\Documents\\GitHub\\Q\\sva.py:60: FutureWarning: The default value of regex will change from True to False in a future version.\n",
      "  table.columns = table.columns.str.replace(r'\\.\\d+$', '')\n"
     ]
    },
    {
     "data": {
      "text/plain": [
       "450000"
      ]
     },
     "execution_count": 45,
     "metadata": {},
     "output_type": "execute_result"
    }
   ],
   "source": [
    "sva.catastrophe_pl()"
   ]
  },
  {
   "cell_type": "markdown",
   "metadata": {},
   "source": [
    "### catastrophe_capital"
   ]
  },
  {
   "cell_type": "code",
   "execution_count": 46,
   "metadata": {},
   "outputs": [
    {
     "data": {
      "text/plain": [
       "450000"
      ]
     },
     "execution_count": 46,
     "metadata": {},
     "output_type": "execute_result"
    }
   ],
   "source": [
    "sva.catastrophe_capital()"
   ]
  },
  {
   "cell_type": "markdown",
   "metadata": {},
   "source": [
    "___\n",
    "# 12\n",
    "\n",
    "### par_loadings"
   ]
  },
  {
   "cell_type": "code",
   "execution_count": 47,
   "metadata": {},
   "outputs": [
    {
     "data": {
      "text/plain": [
       "0.0675"
      ]
     },
     "execution_count": 47,
     "metadata": {},
     "output_type": "execute_result"
    }
   ],
   "source": [
    "sva.par_loadings()"
   ]
  },
  {
   "cell_type": "markdown",
   "metadata": {},
   "source": [
    "### stamp_duty"
   ]
  },
  {
   "cell_type": "code",
   "execution_count": 48,
   "metadata": {},
   "outputs": [
    {
     "data": {
      "text/html": [
       "<style  type=\"text/css\" >\n",
       "</style><table id=\"T_4e92f_\" ><thead>    <tr>        <th class=\"blank level0\" ></th>        <th class=\"col_heading level0 col0\" >Unnamed: 184</th>    </tr>    <tr>        <th class=\"index_name level0\" >Stamp Duty Rates</th>        <th class=\"blank\" ></th>    </tr></thead><tbody>\n",
       "                <tr>\n",
       "                        <th id=\"T_4e92f_level0_row0\" class=\"row_heading level0 row0\" >Death & TPD</th>\n",
       "                        <td id=\"T_4e92f_row0_col0\" class=\"data row0 col0\" >5.00%</td>\n",
       "            </tr>\n",
       "            <tr>\n",
       "                        <th id=\"T_4e92f_level0_row1\" class=\"row_heading level0 row1\" >IP</th>\n",
       "                        <td id=\"T_4e92f_row1_col0\" class=\"data row1 col0\" >9.00%</td>\n",
       "            </tr>\n",
       "    </tbody></table>"
      ],
      "text/plain": [
       "<pandas.io.formats.style.Styler at 0x23195a78ee0>"
      ]
     },
     "execution_count": 48,
     "metadata": {},
     "output_type": "execute_result"
    }
   ],
   "source": [
    "sva.stamp_duty().style.format('{:,.2%}')"
   ]
  },
  {
   "cell_type": "markdown",
   "metadata": {},
   "source": [
    "### investment_earnings_b0"
   ]
  },
  {
   "cell_type": "code",
   "execution_count": 49,
   "metadata": {},
   "outputs": [
    {
     "data": {
      "text/plain": [
       "0.0232"
      ]
     },
     "execution_count": 49,
     "metadata": {},
     "output_type": "execute_result"
    }
   ],
   "source": [
    "sva.investment_earnings_b0()"
   ]
  },
  {
   "cell_type": "markdown",
   "metadata": {},
   "source": [
    "___\n",
    "# 13\n",
    "### contingency_margin_start"
   ]
  },
  {
   "cell_type": "code",
   "execution_count": 50,
   "metadata": {},
   "outputs": [
    {
     "data": {
      "text/plain": [
       "Timestamp('2020-07-01 00:00:00')"
      ]
     },
     "execution_count": 50,
     "metadata": {},
     "output_type": "execute_result"
    }
   ],
   "source": [
    "sva.contingency_margin_start()"
   ]
  },
  {
   "cell_type": "markdown",
   "metadata": {},
   "source": [
    "### contingency_margin"
   ]
  },
  {
   "cell_type": "code",
   "execution_count": 51,
   "metadata": {},
   "outputs": [
    {
     "data": {
      "text/html": [
       "<style  type=\"text/css\" >\n",
       "</style><table id=\"T_831f7_\" ><thead>    <tr>        <th class=\"blank level0\" ></th>        <th class=\"col_heading level0 col0\" >Death</th>        <th class=\"col_heading level0 col1\" >TPD</th>        <th class=\"col_heading level0 col2\" >IP</th>    </tr></thead><tbody>\n",
       "                <tr>\n",
       "                        <th id=\"T_831f7_level0_row0\" class=\"row_heading level0 row0\" >0</th>\n",
       "                        <td id=\"T_831f7_row0_col0\" class=\"data row0 col0\" >3.00%</td>\n",
       "                        <td id=\"T_831f7_row0_col1\" class=\"data row0 col1\" >3.00%</td>\n",
       "                        <td id=\"T_831f7_row0_col2\" class=\"data row0 col2\" >5.00%</td>\n",
       "            </tr>\n",
       "    </tbody></table>"
      ],
      "text/plain": [
       "<pandas.io.formats.style.Styler at 0x23195a29280>"
      ]
     },
     "execution_count": 51,
     "metadata": {},
     "output_type": "execute_result"
    }
   ],
   "source": [
    "sva.contingency_margin().style.format('{:,.2%}')"
   ]
  },
  {
   "cell_type": "markdown",
   "metadata": {},
   "source": [
    "___\n",
    "# 14\n",
    "### notification_delay"
   ]
  },
  {
   "cell_type": "code",
   "execution_count": 52,
   "metadata": {},
   "outputs": [
    {
     "data": {
      "text/html": [
       "<div>\n",
       "<style scoped>\n",
       "    .dataframe tbody tr th:only-of-type {\n",
       "        vertical-align: middle;\n",
       "    }\n",
       "\n",
       "    .dataframe tbody tr th {\n",
       "        vertical-align: top;\n",
       "    }\n",
       "\n",
       "    .dataframe thead th {\n",
       "        text-align: right;\n",
       "    }\n",
       "</style>\n",
       "<table border=\"1\" class=\"dataframe\">\n",
       "  <thead>\n",
       "    <tr style=\"text-align: right;\">\n",
       "      <th></th>\n",
       "      <th>Death</th>\n",
       "      <th>TPD</th>\n",
       "      <th>IP</th>\n",
       "    </tr>\n",
       "  </thead>\n",
       "  <tbody>\n",
       "    <tr>\n",
       "      <th>0</th>\n",
       "      <td>39.2</td>\n",
       "      <td>39.2</td>\n",
       "      <td>39.2</td>\n",
       "    </tr>\n",
       "  </tbody>\n",
       "</table>\n",
       "</div>"
      ],
      "text/plain": [
       "   Death   TPD    IP\n",
       "0   39.2  39.2  39.2"
      ]
     },
     "execution_count": 52,
     "metadata": {},
     "output_type": "execute_result"
    }
   ],
   "source": [
    "sva.notification_delay()"
   ]
  },
  {
   "cell_type": "markdown",
   "metadata": {},
   "source": [
    "___\n",
    "# 15\n",
    "### cmm_impact_termination_rates_start"
   ]
  },
  {
   "cell_type": "code",
   "execution_count": 53,
   "metadata": {},
   "outputs": [
    {
     "name": "stderr",
     "output_type": "stream",
     "text": [
      "C:\\Users\\adamw\\Documents\\GitHub\\Q\\sva.py:60: FutureWarning: The default value of regex will change from True to False in a future version.\n",
      "  table.columns = table.columns.str.replace(r'\\.\\d+$', '')\n"
     ]
    },
    {
     "data": {
      "text/plain": [
       "Timestamp('2020-07-01 00:00:00')"
      ]
     },
     "execution_count": 53,
     "metadata": {},
     "output_type": "execute_result"
    }
   ],
   "source": [
    "sva.cmm_impact_termination_rates_start()"
   ]
  },
  {
   "cell_type": "markdown",
   "metadata": {},
   "source": [
    "### cmm_impact_termination_rates_perc"
   ]
  },
  {
   "cell_type": "code",
   "execution_count": 54,
   "metadata": {},
   "outputs": [
    {
     "data": {
      "text/plain": [
       "NaT"
      ]
     },
     "execution_count": 54,
     "metadata": {},
     "output_type": "execute_result"
    }
   ],
   "source": [
    "sva.cmm_impact_termination_rates_perc()"
   ]
  },
  {
   "cell_type": "markdown",
   "metadata": {},
   "source": [
    "___\n",
    "# 16\n",
    "### covid19_impact_termination_rates"
   ]
  },
  {
   "cell_type": "code",
   "execution_count": 55,
   "metadata": {},
   "outputs": [
    {
     "data": {
      "text/html": [
       "<div>\n",
       "<style scoped>\n",
       "    .dataframe tbody tr th:only-of-type {\n",
       "        vertical-align: middle;\n",
       "    }\n",
       "\n",
       "    .dataframe tbody tr th {\n",
       "        vertical-align: top;\n",
       "    }\n",
       "\n",
       "    .dataframe thead th {\n",
       "        text-align: right;\n",
       "    }\n",
       "</style>\n",
       "<table border=\"1\" class=\"dataframe\">\n",
       "  <thead>\n",
       "    <tr style=\"text-align: right;\">\n",
       "      <th></th>\n",
       "      <th>Unnamed: 201</th>\n",
       "    </tr>\n",
       "  </thead>\n",
       "  <tbody>\n",
       "    <tr>\n",
       "      <th>End Date</th>\n",
       "      <td>2021-07-01 00:00:00</td>\n",
       "    </tr>\n",
       "    <tr>\n",
       "      <th>Start Date</th>\n",
       "      <td>2020-05-01 00:00:00</td>\n",
       "    </tr>\n",
       "    <tr>\n",
       "      <th>% reduction in termination rate for closing</th>\n",
       "      <td>0.164</td>\n",
       "    </tr>\n",
       "    <tr>\n",
       "      <th>% reduction in termination rate for opening</th>\n",
       "      <td>NaN</td>\n",
       "    </tr>\n",
       "    <tr>\n",
       "      <th>% reduction in termination rate for inception DLR</th>\n",
       "      <td>NaN</td>\n",
       "    </tr>\n",
       "  </tbody>\n",
       "</table>\n",
       "</div>"
      ],
      "text/plain": [
       "                                                          Unnamed: 201\n",
       "End Date                                           2021-07-01 00:00:00\n",
       "Start Date                                         2020-05-01 00:00:00\n",
       "% reduction in termination rate for closing                      0.164\n",
       "% reduction in termination rate for opening                        NaN\n",
       "% reduction in termination rate for inception DLR                  NaN"
      ]
     },
     "execution_count": 55,
     "metadata": {},
     "output_type": "execute_result"
    }
   ],
   "source": [
    "sva.covid19_impact_termination_rates()"
   ]
  },
  {
   "cell_type": "markdown",
   "metadata": {},
   "source": [
    "___\n",
    "# 17 \n",
    "### covid19_adjustment_ip_dlr"
   ]
  },
  {
   "cell_type": "code",
   "execution_count": 56,
   "metadata": {},
   "outputs": [
    {
     "name": "stderr",
     "output_type": "stream",
     "text": [
      "C:\\Users\\adamw\\Documents\\GitHub\\Q\\sva.py:60: FutureWarning: The default value of regex will change from True to False in a future version.\n",
      "  table.columns = table.columns.str.replace(r'\\.\\d+$', '')\n"
     ]
    },
    {
     "data": {
      "text/html": [
       "<div>\n",
       "<style scoped>\n",
       "    .dataframe tbody tr th:only-of-type {\n",
       "        vertical-align: middle;\n",
       "    }\n",
       "\n",
       "    .dataframe tbody tr th {\n",
       "        vertical-align: top;\n",
       "    }\n",
       "\n",
       "    .dataframe thead th {\n",
       "        text-align: right;\n",
       "    }\n",
       "</style>\n",
       "<table border=\"1\" class=\"dataframe\">\n",
       "  <thead>\n",
       "    <tr style=\"text-align: right;\">\n",
       "      <th></th>\n",
       "      <th>DLR adjustment</th>\n",
       "    </tr>\n",
       "    <tr>\n",
       "      <th>Date</th>\n",
       "      <th></th>\n",
       "    </tr>\n",
       "  </thead>\n",
       "  <tbody>\n",
       "    <tr>\n",
       "      <th>NaT</th>\n",
       "      <td>NaN</td>\n",
       "    </tr>\n",
       "    <tr>\n",
       "      <th>2020-04-30</th>\n",
       "      <td>0.113</td>\n",
       "    </tr>\n",
       "    <tr>\n",
       "      <th>2020-05-31</th>\n",
       "      <td>0.113</td>\n",
       "    </tr>\n",
       "    <tr>\n",
       "      <th>2020-06-30</th>\n",
       "      <td>0.113</td>\n",
       "    </tr>\n",
       "    <tr>\n",
       "      <th>2020-07-31</th>\n",
       "      <td>NaN</td>\n",
       "    </tr>\n",
       "    <tr>\n",
       "      <th>2020-08-31</th>\n",
       "      <td>NaN</td>\n",
       "    </tr>\n",
       "    <tr>\n",
       "      <th>2020-09-30</th>\n",
       "      <td>NaN</td>\n",
       "    </tr>\n",
       "    <tr>\n",
       "      <th>2020-10-31</th>\n",
       "      <td>NaN</td>\n",
       "    </tr>\n",
       "    <tr>\n",
       "      <th>2020-11-30</th>\n",
       "      <td>NaN</td>\n",
       "    </tr>\n",
       "    <tr>\n",
       "      <th>2020-12-31</th>\n",
       "      <td>NaN</td>\n",
       "    </tr>\n",
       "    <tr>\n",
       "      <th>2021-01-31</th>\n",
       "      <td>NaN</td>\n",
       "    </tr>\n",
       "    <tr>\n",
       "      <th>2021-02-28</th>\n",
       "      <td>NaN</td>\n",
       "    </tr>\n",
       "    <tr>\n",
       "      <th>2021-03-31</th>\n",
       "      <td>NaN</td>\n",
       "    </tr>\n",
       "    <tr>\n",
       "      <th>2021-04-30</th>\n",
       "      <td>NaN</td>\n",
       "    </tr>\n",
       "    <tr>\n",
       "      <th>2021-05-31</th>\n",
       "      <td>NaN</td>\n",
       "    </tr>\n",
       "    <tr>\n",
       "      <th>2021-06-30</th>\n",
       "      <td>NaN</td>\n",
       "    </tr>\n",
       "  </tbody>\n",
       "</table>\n",
       "</div>"
      ],
      "text/plain": [
       "            DLR adjustment\n",
       "Date                      \n",
       "NaT                    NaN\n",
       "2020-04-30           0.113\n",
       "2020-05-31           0.113\n",
       "2020-06-30           0.113\n",
       "2020-07-31             NaN\n",
       "2020-08-31             NaN\n",
       "2020-09-30             NaN\n",
       "2020-10-31             NaN\n",
       "2020-11-30             NaN\n",
       "2020-12-31             NaN\n",
       "2021-01-31             NaN\n",
       "2021-02-28             NaN\n",
       "2021-03-31             NaN\n",
       "2021-04-30             NaN\n",
       "2021-05-31             NaN\n",
       "2021-06-30             NaN"
      ]
     },
     "execution_count": 56,
     "metadata": {},
     "output_type": "execute_result"
    }
   ],
   "source": [
    "sva.covid19_adjustment_ip_dlr()"
   ]
  },
  {
   "cell_type": "markdown",
   "metadata": {},
   "source": [
    "___\n",
    "# 18\n",
    "### expected_lr_combined_capital"
   ]
  },
  {
   "cell_type": "code",
   "execution_count": 57,
   "metadata": {},
   "outputs": [
    {
     "name": "stderr",
     "output_type": "stream",
     "text": [
      "C:\\Users\\adamw\\Documents\\GitHub\\Q\\sva.py:60: FutureWarning: The default value of regex will change from True to False in a future version.\n",
      "  table.columns = table.columns.str.replace(r'\\.\\d+$', '')\n"
     ]
    },
    {
     "data": {
      "text/html": [
       "<style  type=\"text/css\" >\n",
       "</style><table id=\"T_b0f75_\" ><thead>    <tr>        <th class=\"blank level0\" ></th>        <th class=\"col_heading level0 col0\" >Death</th>        <th class=\"col_heading level0 col1\" >TPD</th>        <th class=\"col_heading level0 col2\" >IP</th>    </tr>    <tr>        <th class=\"index_name level0\" >Month.5</th>        <th class=\"blank\" ></th>        <th class=\"blank\" ></th>        <th class=\"blank\" ></th>    </tr></thead><tbody>\n",
       "                <tr>\n",
       "                        <th id=\"T_b0f75_level0_row0\" class=\"row_heading level0 row0\" >2022-03-31 00:00:00</th>\n",
       "                        <td id=\"T_b0f75_row0_col0\" class=\"data row0 col0\" >55.00%</td>\n",
       "                        <td id=\"T_b0f75_row0_col1\" class=\"data row0 col1\" >100.00%</td>\n",
       "                        <td id=\"T_b0f75_row0_col2\" class=\"data row0 col2\" >80.00%</td>\n",
       "            </tr>\n",
       "            <tr>\n",
       "                        <th id=\"T_b0f75_level0_row1\" class=\"row_heading level0 row1\" >2022-04-30 00:00:00</th>\n",
       "                        <td id=\"T_b0f75_row1_col0\" class=\"data row1 col0\" >55.00%</td>\n",
       "                        <td id=\"T_b0f75_row1_col1\" class=\"data row1 col1\" >100.00%</td>\n",
       "                        <td id=\"T_b0f75_row1_col2\" class=\"data row1 col2\" >80.00%</td>\n",
       "            </tr>\n",
       "            <tr>\n",
       "                        <th id=\"T_b0f75_level0_row2\" class=\"row_heading level0 row2\" >2022-05-31 00:00:00</th>\n",
       "                        <td id=\"T_b0f75_row2_col0\" class=\"data row2 col0\" >55.00%</td>\n",
       "                        <td id=\"T_b0f75_row2_col1\" class=\"data row2 col1\" >100.00%</td>\n",
       "                        <td id=\"T_b0f75_row2_col2\" class=\"data row2 col2\" >80.00%</td>\n",
       "            </tr>\n",
       "            <tr>\n",
       "                        <th id=\"T_b0f75_level0_row3\" class=\"row_heading level0 row3\" >2022-06-30 00:00:00</th>\n",
       "                        <td id=\"T_b0f75_row3_col0\" class=\"data row3 col0\" >55.00%</td>\n",
       "                        <td id=\"T_b0f75_row3_col1\" class=\"data row3 col1\" >100.00%</td>\n",
       "                        <td id=\"T_b0f75_row3_col2\" class=\"data row3 col2\" >80.00%</td>\n",
       "            </tr>\n",
       "            <tr>\n",
       "                        <th id=\"T_b0f75_level0_row4\" class=\"row_heading level0 row4\" >2022-07-31 00:00:00</th>\n",
       "                        <td id=\"T_b0f75_row4_col0\" class=\"data row4 col0\" >55.00%</td>\n",
       "                        <td id=\"T_b0f75_row4_col1\" class=\"data row4 col1\" >100.00%</td>\n",
       "                        <td id=\"T_b0f75_row4_col2\" class=\"data row4 col2\" >80.00%</td>\n",
       "            </tr>\n",
       "            <tr>\n",
       "                        <th id=\"T_b0f75_level0_row5\" class=\"row_heading level0 row5\" >2022-08-31 00:00:00</th>\n",
       "                        <td id=\"T_b0f75_row5_col0\" class=\"data row5 col0\" >55.00%</td>\n",
       "                        <td id=\"T_b0f75_row5_col1\" class=\"data row5 col1\" >100.00%</td>\n",
       "                        <td id=\"T_b0f75_row5_col2\" class=\"data row5 col2\" >80.00%</td>\n",
       "            </tr>\n",
       "            <tr>\n",
       "                        <th id=\"T_b0f75_level0_row6\" class=\"row_heading level0 row6\" >2022-09-30 00:00:00</th>\n",
       "                        <td id=\"T_b0f75_row6_col0\" class=\"data row6 col0\" >55.00%</td>\n",
       "                        <td id=\"T_b0f75_row6_col1\" class=\"data row6 col1\" >100.00%</td>\n",
       "                        <td id=\"T_b0f75_row6_col2\" class=\"data row6 col2\" >80.00%</td>\n",
       "            </tr>\n",
       "            <tr>\n",
       "                        <th id=\"T_b0f75_level0_row7\" class=\"row_heading level0 row7\" >2022-10-31 00:00:00</th>\n",
       "                        <td id=\"T_b0f75_row7_col0\" class=\"data row7 col0\" >55.00%</td>\n",
       "                        <td id=\"T_b0f75_row7_col1\" class=\"data row7 col1\" >100.00%</td>\n",
       "                        <td id=\"T_b0f75_row7_col2\" class=\"data row7 col2\" >80.00%</td>\n",
       "            </tr>\n",
       "            <tr>\n",
       "                        <th id=\"T_b0f75_level0_row8\" class=\"row_heading level0 row8\" >2022-11-30 00:00:00</th>\n",
       "                        <td id=\"T_b0f75_row8_col0\" class=\"data row8 col0\" >55.00%</td>\n",
       "                        <td id=\"T_b0f75_row8_col1\" class=\"data row8 col1\" >100.00%</td>\n",
       "                        <td id=\"T_b0f75_row8_col2\" class=\"data row8 col2\" >80.00%</td>\n",
       "            </tr>\n",
       "            <tr>\n",
       "                        <th id=\"T_b0f75_level0_row9\" class=\"row_heading level0 row9\" >2022-12-31 00:00:00</th>\n",
       "                        <td id=\"T_b0f75_row9_col0\" class=\"data row9 col0\" >55.00%</td>\n",
       "                        <td id=\"T_b0f75_row9_col1\" class=\"data row9 col1\" >100.00%</td>\n",
       "                        <td id=\"T_b0f75_row9_col2\" class=\"data row9 col2\" >80.00%</td>\n",
       "            </tr>\n",
       "    </tbody></table>"
      ],
      "text/plain": [
       "<pandas.io.formats.style.Styler at 0x231958d75e0>"
      ]
     },
     "execution_count": 57,
     "metadata": {},
     "output_type": "execute_result"
    }
   ],
   "source": [
    "sva.expected_lr_combined_capital().tail(10).fillna(0).style.format('{:,.2%}')"
   ]
  },
  {
   "cell_type": "markdown",
   "metadata": {},
   "source": [
    "___ \n",
    "# 19\n",
    "### gov_tpd_linked_to_ip"
   ]
  },
  {
   "cell_type": "code",
   "execution_count": 58,
   "metadata": {},
   "outputs": [
    {
     "data": {
      "text/html": [
       "<style  type=\"text/css\" >\n",
       "</style><table id=\"T_f0403_\" ><thead>    <tr>        <th class=\"blank level0\" ></th>        <th class=\"col_heading level0 col0\" >IP-linked</th>        <th class=\"col_heading level0 col1\" >Non-linked</th>    </tr></thead><tbody>\n",
       "                <tr>\n",
       "                        <th id=\"T_f0403_level0_row0\" class=\"row_heading level0 row0\" >FY17H1</th>\n",
       "                        <td id=\"T_f0403_row0_col0\" class=\"data row0 col0\" >0.00%</td>\n",
       "                        <td id=\"T_f0403_row0_col1\" class=\"data row0 col1\" >0.00%</td>\n",
       "            </tr>\n",
       "            <tr>\n",
       "                        <th id=\"T_f0403_level0_row1\" class=\"row_heading level0 row1\" >FY17H2</th>\n",
       "                        <td id=\"T_f0403_row1_col0\" class=\"data row1 col0\" >0.00%</td>\n",
       "                        <td id=\"T_f0403_row1_col1\" class=\"data row1 col1\" >0.00%</td>\n",
       "            </tr>\n",
       "            <tr>\n",
       "                        <th id=\"T_f0403_level0_row2\" class=\"row_heading level0 row2\" >FY18H1</th>\n",
       "                        <td id=\"T_f0403_row2_col0\" class=\"data row2 col0\" >0.00%</td>\n",
       "                        <td id=\"T_f0403_row2_col1\" class=\"data row2 col1\" >0.00%</td>\n",
       "            </tr>\n",
       "            <tr>\n",
       "                        <th id=\"T_f0403_level0_row3\" class=\"row_heading level0 row3\" >FY18H2</th>\n",
       "                        <td id=\"T_f0403_row3_col0\" class=\"data row3 col0\" >0.00%</td>\n",
       "                        <td id=\"T_f0403_row3_col1\" class=\"data row3 col1\" >0.00%</td>\n",
       "            </tr>\n",
       "            <tr>\n",
       "                        <th id=\"T_f0403_level0_row4\" class=\"row_heading level0 row4\" >FY19H1</th>\n",
       "                        <td id=\"T_f0403_row4_col0\" class=\"data row4 col0\" >0.00%</td>\n",
       "                        <td id=\"T_f0403_row4_col1\" class=\"data row4 col1\" >0.00%</td>\n",
       "            </tr>\n",
       "            <tr>\n",
       "                        <th id=\"T_f0403_level0_row5\" class=\"row_heading level0 row5\" >FY19H2</th>\n",
       "                        <td id=\"T_f0403_row5_col0\" class=\"data row5 col0\" >0.00%</td>\n",
       "                        <td id=\"T_f0403_row5_col1\" class=\"data row5 col1\" >0.00%</td>\n",
       "            </tr>\n",
       "            <tr>\n",
       "                        <th id=\"T_f0403_level0_row6\" class=\"row_heading level0 row6\" >FY20H1</th>\n",
       "                        <td id=\"T_f0403_row6_col0\" class=\"data row6 col0\" >65.00%</td>\n",
       "                        <td id=\"T_f0403_row6_col1\" class=\"data row6 col1\" >35.00%</td>\n",
       "            </tr>\n",
       "            <tr>\n",
       "                        <th id=\"T_f0403_level0_row7\" class=\"row_heading level0 row7\" >FY20H2</th>\n",
       "                        <td id=\"T_f0403_row7_col0\" class=\"data row7 col0\" >65.00%</td>\n",
       "                        <td id=\"T_f0403_row7_col1\" class=\"data row7 col1\" >35.00%</td>\n",
       "            </tr>\n",
       "            <tr>\n",
       "                        <th id=\"T_f0403_level0_row8\" class=\"row_heading level0 row8\" >FY21H1</th>\n",
       "                        <td id=\"T_f0403_row8_col0\" class=\"data row8 col0\" >0.00%</td>\n",
       "                        <td id=\"T_f0403_row8_col1\" class=\"data row8 col1\" >0.00%</td>\n",
       "            </tr>\n",
       "            <tr>\n",
       "                        <th id=\"T_f0403_level0_row9\" class=\"row_heading level0 row9\" >FY21H2</th>\n",
       "                        <td id=\"T_f0403_row9_col0\" class=\"data row9 col0\" >0.00%</td>\n",
       "                        <td id=\"T_f0403_row9_col1\" class=\"data row9 col1\" >0.00%</td>\n",
       "            </tr>\n",
       "            <tr>\n",
       "                        <th id=\"T_f0403_level0_row10\" class=\"row_heading level0 row10\" >FY22H1</th>\n",
       "                        <td id=\"T_f0403_row10_col0\" class=\"data row10 col0\" >0.00%</td>\n",
       "                        <td id=\"T_f0403_row10_col1\" class=\"data row10 col1\" >0.00%</td>\n",
       "            </tr>\n",
       "            <tr>\n",
       "                        <th id=\"T_f0403_level0_row11\" class=\"row_heading level0 row11\" >FY22H2</th>\n",
       "                        <td id=\"T_f0403_row11_col0\" class=\"data row11 col0\" >0.00%</td>\n",
       "                        <td id=\"T_f0403_row11_col1\" class=\"data row11 col1\" >0.00%</td>\n",
       "            </tr>\n",
       "    </tbody></table>"
      ],
      "text/plain": [
       "<pandas.io.formats.style.Styler at 0x23195a169d0>"
      ]
     },
     "execution_count": 58,
     "metadata": {},
     "output_type": "execute_result"
    }
   ],
   "source": [
    "sva.gov_tpd_linked_to_ip().fillna(0).style.format('{:,.2%}')"
   ]
  },
  {
   "cell_type": "markdown",
   "metadata": {},
   "source": [
    "### tpd_linked_reporting_delay"
   ]
  },
  {
   "cell_type": "code",
   "execution_count": 59,
   "metadata": {},
   "outputs": [
    {
     "data": {
      "text/html": [
       "<style  type=\"text/css\" >\n",
       "</style><table id=\"T_8df23_\" ><thead>    <tr>        <th class=\"blank level0\" ></th>        <th class=\"col_heading level0 col0\" >Percentage Unknown</th>    </tr>    <tr>        <th class=\"index_name level0\" >Months</th>        <th class=\"blank\" ></th>    </tr></thead><tbody>\n",
       "                <tr>\n",
       "                        <th id=\"T_8df23_level0_row0\" class=\"row_heading level0 row0\" >-13</th>\n",
       "                        <td id=\"T_8df23_row0_col0\" class=\"data row0 col0\" >100.00%</td>\n",
       "            </tr>\n",
       "            <tr>\n",
       "                        <th id=\"T_8df23_level0_row1\" class=\"row_heading level0 row1\" >-12</th>\n",
       "                        <td id=\"T_8df23_row1_col0\" class=\"data row1 col0\" >50.00%</td>\n",
       "            </tr>\n",
       "            <tr>\n",
       "                        <th id=\"T_8df23_level0_row2\" class=\"row_heading level0 row2\" >-11</th>\n",
       "                        <td id=\"T_8df23_row2_col0\" class=\"data row2 col0\" >25.00%</td>\n",
       "            </tr>\n",
       "            <tr>\n",
       "                        <th id=\"T_8df23_level0_row3\" class=\"row_heading level0 row3\" >-10</th>\n",
       "                        <td id=\"T_8df23_row3_col0\" class=\"data row3 col0\" >12.50%</td>\n",
       "            </tr>\n",
       "            <tr>\n",
       "                        <th id=\"T_8df23_level0_row4\" class=\"row_heading level0 row4\" >-9</th>\n",
       "                        <td id=\"T_8df23_row4_col0\" class=\"data row4 col0\" >6.25%</td>\n",
       "            </tr>\n",
       "            <tr>\n",
       "                        <th id=\"T_8df23_level0_row5\" class=\"row_heading level0 row5\" >-8</th>\n",
       "                        <td id=\"T_8df23_row5_col0\" class=\"data row5 col0\" >3.12%</td>\n",
       "            </tr>\n",
       "            <tr>\n",
       "                        <th id=\"T_8df23_level0_row6\" class=\"row_heading level0 row6\" >-7</th>\n",
       "                        <td id=\"T_8df23_row6_col0\" class=\"data row6 col0\" >1.56%</td>\n",
       "            </tr>\n",
       "            <tr>\n",
       "                        <th id=\"T_8df23_level0_row7\" class=\"row_heading level0 row7\" >-6</th>\n",
       "                        <td id=\"T_8df23_row7_col0\" class=\"data row7 col0\" >0.78%</td>\n",
       "            </tr>\n",
       "            <tr>\n",
       "                        <th id=\"T_8df23_level0_row8\" class=\"row_heading level0 row8\" >-5</th>\n",
       "                        <td id=\"T_8df23_row8_col0\" class=\"data row8 col0\" >0.39%</td>\n",
       "            </tr>\n",
       "            <tr>\n",
       "                        <th id=\"T_8df23_level0_row9\" class=\"row_heading level0 row9\" >-4</th>\n",
       "                        <td id=\"T_8df23_row9_col0\" class=\"data row9 col0\" >0.20%</td>\n",
       "            </tr>\n",
       "    </tbody></table>"
      ],
      "text/plain": [
       "<pandas.io.formats.style.Styler at 0x23195a168e0>"
      ]
     },
     "execution_count": 59,
     "metadata": {},
     "output_type": "execute_result"
    }
   ],
   "source": [
    "sva.tpd_linked_reporting_delay().head(10).style.format('{:,.2%}')"
   ]
  },
  {
   "cell_type": "markdown",
   "metadata": {},
   "source": [
    "### conversion_rates"
   ]
  },
  {
   "cell_type": "code",
   "execution_count": 60,
   "metadata": {},
   "outputs": [
    {
     "data": {
      "text/html": [
       "<style  type=\"text/css\" >\n",
       "</style><table id=\"T_b8c9b_\" ><thead>    <tr>        <th class=\"blank level0\" ></th>        <th class=\"col_heading level0 col0\" >30 Day WP</th>        <th class=\"col_heading level0 col1\" >90 Day WP</th>    </tr>    <tr>        <th class=\"index_name level0\" >Duration</th>        <th class=\"blank\" ></th>        <th class=\"blank\" ></th>    </tr></thead><tbody>\n",
       "                <tr>\n",
       "                        <th id=\"T_b8c9b_level0_row0\" class=\"row_heading level0 row0\" >0-3</th>\n",
       "                        <td id=\"T_b8c9b_row0_col0\" class=\"data row0 col0\" >1.00%</td>\n",
       "                        <td id=\"T_b8c9b_row0_col1\" class=\"data row0 col1\" >1.00%</td>\n",
       "            </tr>\n",
       "            <tr>\n",
       "                        <th id=\"T_b8c9b_level0_row1\" class=\"row_heading level0 row1\" >4-6</th>\n",
       "                        <td id=\"T_b8c9b_row1_col0\" class=\"data row1 col0\" >5.00%</td>\n",
       "                        <td id=\"T_b8c9b_row1_col1\" class=\"data row1 col1\" >5.00%</td>\n",
       "            </tr>\n",
       "            <tr>\n",
       "                        <th id=\"T_b8c9b_level0_row2\" class=\"row_heading level0 row2\" >7-9</th>\n",
       "                        <td id=\"T_b8c9b_row2_col0\" class=\"data row2 col0\" >9.00%</td>\n",
       "                        <td id=\"T_b8c9b_row2_col1\" class=\"data row2 col1\" >9.00%</td>\n",
       "            </tr>\n",
       "            <tr>\n",
       "                        <th id=\"T_b8c9b_level0_row3\" class=\"row_heading level0 row3\" >10-12</th>\n",
       "                        <td id=\"T_b8c9b_row3_col0\" class=\"data row3 col0\" >15.00%</td>\n",
       "                        <td id=\"T_b8c9b_row3_col1\" class=\"data row3 col1\" >15.00%</td>\n",
       "            </tr>\n",
       "            <tr>\n",
       "                        <th id=\"T_b8c9b_level0_row4\" class=\"row_heading level0 row4\" >13-15</th>\n",
       "                        <td id=\"T_b8c9b_row4_col0\" class=\"data row4 col0\" >23.00%</td>\n",
       "                        <td id=\"T_b8c9b_row4_col1\" class=\"data row4 col1\" >23.00%</td>\n",
       "            </tr>\n",
       "            <tr>\n",
       "                        <th id=\"T_b8c9b_level0_row5\" class=\"row_heading level0 row5\" >16-18</th>\n",
       "                        <td id=\"T_b8c9b_row5_col0\" class=\"data row5 col0\" >28.00%</td>\n",
       "                        <td id=\"T_b8c9b_row5_col1\" class=\"data row5 col1\" >28.00%</td>\n",
       "            </tr>\n",
       "            <tr>\n",
       "                        <th id=\"T_b8c9b_level0_row6\" class=\"row_heading level0 row6\" >19-21</th>\n",
       "                        <td id=\"T_b8c9b_row6_col0\" class=\"data row6 col0\" >34.00%</td>\n",
       "                        <td id=\"T_b8c9b_row6_col1\" class=\"data row6 col1\" >34.00%</td>\n",
       "            </tr>\n",
       "            <tr>\n",
       "                        <th id=\"T_b8c9b_level0_row7\" class=\"row_heading level0 row7\" >22-24</th>\n",
       "                        <td id=\"T_b8c9b_row7_col0\" class=\"data row7 col0\" >34.00%</td>\n",
       "                        <td id=\"T_b8c9b_row7_col1\" class=\"data row7 col1\" >34.00%</td>\n",
       "            </tr>\n",
       "            <tr>\n",
       "                        <th id=\"T_b8c9b_level0_row8\" class=\"row_heading level0 row8\" >25-27</th>\n",
       "                        <td id=\"T_b8c9b_row8_col0\" class=\"data row8 col0\" >34.00%</td>\n",
       "                        <td id=\"T_b8c9b_row8_col1\" class=\"data row8 col1\" >34.00%</td>\n",
       "            </tr>\n",
       "            <tr>\n",
       "                        <th id=\"T_b8c9b_level0_row9\" class=\"row_heading level0 row9\" >28-30</th>\n",
       "                        <td id=\"T_b8c9b_row9_col0\" class=\"data row9 col0\" >34.00%</td>\n",
       "                        <td id=\"T_b8c9b_row9_col1\" class=\"data row9 col1\" >34.00%</td>\n",
       "            </tr>\n",
       "            <tr>\n",
       "                        <th id=\"T_b8c9b_level0_row10\" class=\"row_heading level0 row10\" >31-33</th>\n",
       "                        <td id=\"T_b8c9b_row10_col0\" class=\"data row10 col0\" >34.00%</td>\n",
       "                        <td id=\"T_b8c9b_row10_col1\" class=\"data row10 col1\" >34.00%</td>\n",
       "            </tr>\n",
       "            <tr>\n",
       "                        <th id=\"T_b8c9b_level0_row11\" class=\"row_heading level0 row11\" >34-36</th>\n",
       "                        <td id=\"T_b8c9b_row11_col0\" class=\"data row11 col0\" >34.00%</td>\n",
       "                        <td id=\"T_b8c9b_row11_col1\" class=\"data row11 col1\" >34.00%</td>\n",
       "            </tr>\n",
       "            <tr>\n",
       "                        <th id=\"T_b8c9b_level0_row12\" class=\"row_heading level0 row12\" >37-39</th>\n",
       "                        <td id=\"T_b8c9b_row12_col0\" class=\"data row12 col0\" >34.00%</td>\n",
       "                        <td id=\"T_b8c9b_row12_col1\" class=\"data row12 col1\" >34.00%</td>\n",
       "            </tr>\n",
       "            <tr>\n",
       "                        <th id=\"T_b8c9b_level0_row13\" class=\"row_heading level0 row13\" >40-42</th>\n",
       "                        <td id=\"T_b8c9b_row13_col0\" class=\"data row13 col0\" >34.00%</td>\n",
       "                        <td id=\"T_b8c9b_row13_col1\" class=\"data row13 col1\" >34.00%</td>\n",
       "            </tr>\n",
       "            <tr>\n",
       "                        <th id=\"T_b8c9b_level0_row14\" class=\"row_heading level0 row14\" >43+</th>\n",
       "                        <td id=\"T_b8c9b_row14_col0\" class=\"data row14 col0\" >34.00%</td>\n",
       "                        <td id=\"T_b8c9b_row14_col1\" class=\"data row14 col1\" >34.00%</td>\n",
       "            </tr>\n",
       "    </tbody></table>"
      ],
      "text/plain": [
       "<pandas.io.formats.style.Styler at 0x23195a44e80>"
      ]
     },
     "execution_count": 60,
     "metadata": {},
     "output_type": "execute_result"
    }
   ],
   "source": [
    "sva.conversion_rates().style.format('{:,.2%}')"
   ]
  },
  {
   "cell_type": "markdown",
   "metadata": {},
   "source": [
    "___\n",
    "# 20 \n",
    "### claims_reporting_delay_tpd_ip"
   ]
  },
  {
   "cell_type": "code",
   "execution_count": 61,
   "metadata": {},
   "outputs": [
    {
     "data": {
      "text/html": [
       "<style  type=\"text/css\" >\n",
       "</style><table id=\"T_daae0_\" ><thead>    <tr>        <th class=\"blank level0\" ></th>        <th class=\"col_heading level0 col0\" >Linked</th>        <th class=\"col_heading level0 col1\" >NonLinked</th>    </tr>    <tr>        <th class=\"index_name level0\" >End of month.2</th>        <th class=\"blank\" ></th>        <th class=\"blank\" ></th>    </tr></thead><tbody>\n",
       "                <tr>\n",
       "                        <th id=\"T_daae0_level0_row0\" class=\"row_heading level0 row0\" >0.0</th>\n",
       "                        <td id=\"T_daae0_row0_col0\" class=\"data row0 col0\" >95.00%</td>\n",
       "                        <td id=\"T_daae0_row0_col1\" class=\"data row0 col1\" >95.00%</td>\n",
       "            </tr>\n",
       "            <tr>\n",
       "                        <th id=\"T_daae0_level0_row1\" class=\"row_heading level0 row1\" >1.0</th>\n",
       "                        <td id=\"T_daae0_row1_col0\" class=\"data row1 col0\" >92.60%</td>\n",
       "                        <td id=\"T_daae0_row1_col1\" class=\"data row1 col1\" >92.60%</td>\n",
       "            </tr>\n",
       "            <tr>\n",
       "                        <th id=\"T_daae0_level0_row2\" class=\"row_heading level0 row2\" >2.0</th>\n",
       "                        <td id=\"T_daae0_row2_col0\" class=\"data row2 col0\" >90.20%</td>\n",
       "                        <td id=\"T_daae0_row2_col1\" class=\"data row2 col1\" >90.20%</td>\n",
       "            </tr>\n",
       "            <tr>\n",
       "                        <th id=\"T_daae0_level0_row3\" class=\"row_heading level0 row3\" >3.0</th>\n",
       "                        <td id=\"T_daae0_row3_col0\" class=\"data row3 col0\" >87.80%</td>\n",
       "                        <td id=\"T_daae0_row3_col1\" class=\"data row3 col1\" >87.80%</td>\n",
       "            </tr>\n",
       "            <tr>\n",
       "                        <th id=\"T_daae0_level0_row4\" class=\"row_heading level0 row4\" >4.0</th>\n",
       "                        <td id=\"T_daae0_row4_col0\" class=\"data row4 col0\" >85.40%</td>\n",
       "                        <td id=\"T_daae0_row4_col1\" class=\"data row4 col1\" >85.40%</td>\n",
       "            </tr>\n",
       "            <tr>\n",
       "                        <th id=\"T_daae0_level0_row5\" class=\"row_heading level0 row5\" >5.0</th>\n",
       "                        <td id=\"T_daae0_row5_col0\" class=\"data row5 col0\" >83.00%</td>\n",
       "                        <td id=\"T_daae0_row5_col1\" class=\"data row5 col1\" >83.00%</td>\n",
       "            </tr>\n",
       "            <tr>\n",
       "                        <th id=\"T_daae0_level0_row6\" class=\"row_heading level0 row6\" >6.0</th>\n",
       "                        <td id=\"T_daae0_row6_col0\" class=\"data row6 col0\" >80.60%</td>\n",
       "                        <td id=\"T_daae0_row6_col1\" class=\"data row6 col1\" >80.60%</td>\n",
       "            </tr>\n",
       "            <tr>\n",
       "                        <th id=\"T_daae0_level0_row7\" class=\"row_heading level0 row7\" >7.0</th>\n",
       "                        <td id=\"T_daae0_row7_col0\" class=\"data row7 col0\" >78.20%</td>\n",
       "                        <td id=\"T_daae0_row7_col1\" class=\"data row7 col1\" >78.20%</td>\n",
       "            </tr>\n",
       "            <tr>\n",
       "                        <th id=\"T_daae0_level0_row8\" class=\"row_heading level0 row8\" >8.0</th>\n",
       "                        <td id=\"T_daae0_row8_col0\" class=\"data row8 col0\" >75.80%</td>\n",
       "                        <td id=\"T_daae0_row8_col1\" class=\"data row8 col1\" >75.80%</td>\n",
       "            </tr>\n",
       "            <tr>\n",
       "                        <th id=\"T_daae0_level0_row9\" class=\"row_heading level0 row9\" >9.0</th>\n",
       "                        <td id=\"T_daae0_row9_col0\" class=\"data row9 col0\" >73.40%</td>\n",
       "                        <td id=\"T_daae0_row9_col1\" class=\"data row9 col1\" >73.40%</td>\n",
       "            </tr>\n",
       "    </tbody></table>"
      ],
      "text/plain": [
       "<pandas.io.formats.style.Styler at 0x23195b03340>"
      ]
     },
     "execution_count": 61,
     "metadata": {},
     "output_type": "execute_result"
    }
   ],
   "source": [
    "sva.claims_reporting_delay_tpd_ip().head(10).style.format('{:,.2%}')"
   ]
  },
  {
   "cell_type": "markdown",
   "metadata": {},
   "source": [
    "### claims_delay_factors_tpd_ip"
   ]
  },
  {
   "cell_type": "code",
   "execution_count": 62,
   "metadata": {},
   "outputs": [
    {
     "data": {
      "text/html": [
       "<style  type=\"text/css\" >\n",
       "</style><table id=\"T_eba74_\" ><thead>    <tr>        <th class=\"blank level0\" ></th>        <th class=\"col_heading level0 col0\" >Linked</th>        <th class=\"col_heading level0 col1\" >NonLinked</th>    </tr>    <tr>        <th class=\"index_name level0\" >End of month.3</th>        <th class=\"blank\" ></th>        <th class=\"blank\" ></th>    </tr></thead><tbody>\n",
       "                <tr>\n",
       "                        <th id=\"T_eba74_level0_row0\" class=\"row_heading level0 row0\" >0.0</th>\n",
       "                        <td id=\"T_eba74_row0_col0\" class=\"data row0 col0\" >7.00%</td>\n",
       "                        <td id=\"T_eba74_row0_col1\" class=\"data row0 col1\" >10.00%</td>\n",
       "            </tr>\n",
       "            <tr>\n",
       "                        <th id=\"T_eba74_level0_row1\" class=\"row_heading level0 row1\" >1.0</th>\n",
       "                        <td id=\"T_eba74_row1_col0\" class=\"data row1 col0\" >6.00%</td>\n",
       "                        <td id=\"T_eba74_row1_col1\" class=\"data row1 col1\" >9.00%</td>\n",
       "            </tr>\n",
       "            <tr>\n",
       "                        <th id=\"T_eba74_level0_row2\" class=\"row_heading level0 row2\" >2.0</th>\n",
       "                        <td id=\"T_eba74_row2_col0\" class=\"data row2 col0\" >5.00%</td>\n",
       "                        <td id=\"T_eba74_row2_col1\" class=\"data row2 col1\" >8.00%</td>\n",
       "            </tr>\n",
       "            <tr>\n",
       "                        <th id=\"T_eba74_level0_row3\" class=\"row_heading level0 row3\" >3.0</th>\n",
       "                        <td id=\"T_eba74_row3_col0\" class=\"data row3 col0\" >4.00%</td>\n",
       "                        <td id=\"T_eba74_row3_col1\" class=\"data row3 col1\" >7.00%</td>\n",
       "            </tr>\n",
       "            <tr>\n",
       "                        <th id=\"T_eba74_level0_row4\" class=\"row_heading level0 row4\" >4.0</th>\n",
       "                        <td id=\"T_eba74_row4_col0\" class=\"data row4 col0\" >3.00%</td>\n",
       "                        <td id=\"T_eba74_row4_col1\" class=\"data row4 col1\" >6.00%</td>\n",
       "            </tr>\n",
       "            <tr>\n",
       "                        <th id=\"T_eba74_level0_row5\" class=\"row_heading level0 row5\" >5.0</th>\n",
       "                        <td id=\"T_eba74_row5_col0\" class=\"data row5 col0\" >2.00%</td>\n",
       "                        <td id=\"T_eba74_row5_col1\" class=\"data row5 col1\" >5.00%</td>\n",
       "            </tr>\n",
       "            <tr>\n",
       "                        <th id=\"T_eba74_level0_row6\" class=\"row_heading level0 row6\" >6.0</th>\n",
       "                        <td id=\"T_eba74_row6_col0\" class=\"data row6 col0\" >1.00%</td>\n",
       "                        <td id=\"T_eba74_row6_col1\" class=\"data row6 col1\" >4.00%</td>\n",
       "            </tr>\n",
       "            <tr>\n",
       "                        <th id=\"T_eba74_level0_row7\" class=\"row_heading level0 row7\" >7.0</th>\n",
       "                        <td id=\"T_eba74_row7_col0\" class=\"data row7 col0\" >0.00%</td>\n",
       "                        <td id=\"T_eba74_row7_col1\" class=\"data row7 col1\" >3.00%</td>\n",
       "            </tr>\n",
       "            <tr>\n",
       "                        <th id=\"T_eba74_level0_row8\" class=\"row_heading level0 row8\" >8.0</th>\n",
       "                        <td id=\"T_eba74_row8_col0\" class=\"data row8 col0\" >0.00%</td>\n",
       "                        <td id=\"T_eba74_row8_col1\" class=\"data row8 col1\" >2.00%</td>\n",
       "            </tr>\n",
       "            <tr>\n",
       "                        <th id=\"T_eba74_level0_row9\" class=\"row_heading level0 row9\" >9.0</th>\n",
       "                        <td id=\"T_eba74_row9_col0\" class=\"data row9 col0\" >0.00%</td>\n",
       "                        <td id=\"T_eba74_row9_col1\" class=\"data row9 col1\" >1.00%</td>\n",
       "            </tr>\n",
       "    </tbody></table>"
      ],
      "text/plain": [
       "<pandas.io.formats.style.Styler at 0x2319581b640>"
      ]
     },
     "execution_count": 62,
     "metadata": {},
     "output_type": "execute_result"
    }
   ],
   "source": [
    "sva.claims_delay_factors_tpd_ip().head(10).style.format('{:,.2%}')"
   ]
  },
  {
   "cell_type": "markdown",
   "metadata": {},
   "source": [
    "___\n",
    "# 21 \n",
    "### missing_subcase_reserve"
   ]
  },
  {
   "cell_type": "code",
   "execution_count": 63,
   "metadata": {},
   "outputs": [
    {
     "data": {
      "text/html": [
       "<div>\n",
       "<style scoped>\n",
       "    .dataframe tbody tr th:only-of-type {\n",
       "        vertical-align: middle;\n",
       "    }\n",
       "\n",
       "    .dataframe tbody tr th {\n",
       "        vertical-align: top;\n",
       "    }\n",
       "\n",
       "    .dataframe thead th {\n",
       "        text-align: right;\n",
       "    }\n",
       "</style>\n",
       "<table border=\"1\" class=\"dataframe\">\n",
       "  <thead>\n",
       "    <tr style=\"text-align: right;\">\n",
       "      <th></th>\n",
       "      <th>NonLinked</th>\n",
       "    </tr>\n",
       "    <tr>\n",
       "      <th>Product</th>\n",
       "      <th></th>\n",
       "    </tr>\n",
       "  </thead>\n",
       "  <tbody>\n",
       "    <tr>\n",
       "      <th>Death</th>\n",
       "      <td>NaN</td>\n",
       "    </tr>\n",
       "    <tr>\n",
       "      <th>TPD</th>\n",
       "      <td>2000000.0</td>\n",
       "    </tr>\n",
       "    <tr>\n",
       "      <th>IP</th>\n",
       "      <td>1000000.0</td>\n",
       "    </tr>\n",
       "  </tbody>\n",
       "</table>\n",
       "</div>"
      ],
      "text/plain": [
       "         NonLinked\n",
       "Product           \n",
       "Death          NaN\n",
       "TPD      2000000.0\n",
       "IP       1000000.0"
      ]
     },
     "execution_count": 63,
     "metadata": {},
     "output_type": "execute_result"
    }
   ],
   "source": [
    "sva.missing_subcase_reserve()"
   ]
  }
 ],
 "metadata": {
  "kernelspec": {
   "display_name": "Python 3",
   "language": "python",
   "name": "python3"
  },
  "language_info": {
   "codemirror_mode": {
    "name": "ipython",
    "version": 3
   },
   "file_extension": ".py",
   "mimetype": "text/x-python",
   "name": "python",
   "nbconvert_exporter": "python",
   "pygments_lexer": "ipython3",
   "version": "3.8.8"
  }
 },
 "nbformat": 4,
 "nbformat_minor": 4
}
