{
 "cells": [
  {
   "cell_type": "markdown",
   "metadata": {},
   "source": [
    "# sva.\n",
    "\n",
    "#### _Table 1_\n",
    "* [claim_reporting_delay](#claim_reporting_delay)\n",
    "* [claim__delay_factors](#claim__delay_factors)\n",
    "\n",
    "#### _Table 2_\n",
    "* [claims_expense_reserve](#claims_expense_reserve)\n",
    "* [operating_expense_perc_premium](#operating_expense_perc_premium)\n",
    "* [budgeted_trustee_expense](#budgeted_trustee_expense)\n",
    "* [projected_trustee_expense](#projected_trustee_expense)\n",
    "\n",
    "#### Table 3\n",
    "* [ip_continuance_rates](#ip_continuance_rates)\n",
    "* [dlr_parameters](#dlr_parameters)\n",
    "    * [salary_replacement_ratio](#salary_replacement_ratio)\n",
    "    * [continuing_retirement_benefit](#continuing_retirement_benefit)\n",
    "    * [assumed_avg_age_at_disability](#assumed_avg_age_at_disability)\n",
    "    * [payment_ratio](#payment_ratio)\n",
    "    * [reopened_claims_reserves_loading](#reopened_claims_reserves_loading)\n",
    "    * [benefit_indexation_month](#benefit_indexation_month)\n",
    "    * [ip_ibnr_adjustment](#ip_ibnr_adjustment)\n",
    "\n",
    "\n",
    "#### _Table 4_\n",
    "* [appeals_reserve_assumptions](#appeals_reserve_assumptions)\n",
    "* [perc_of_appealed_claims_accepted](#perc_of_appealed_claims_accepted)\n",
    "\n",
    "\n",
    "#### _Table 5_\n",
    "* [decline_rate](#decline_rate)\n",
    "* [decline_rate_delay](#decline_rate_delay)\n",
    "* [simultaneous_ip_tpd_decline](#simultaneous_ip_tpd_decline)\n",
    "\n",
    "\n",
    "#### _Table 6_\n",
    "* [expected_loss_ratio_gov](#expected_loss_ratio_gov)\n",
    "* [expected_loss_ratio_nongov](#expected_loss_ratio_nongov)\n",
    "\n",
    "\n",
    "#### _Table 7_\n",
    "* [payment_delay_factors](#payment_delay_factors)\n",
    "* [payment_delay_factors_discrete](#payment_delay_factors_discrete)\n",
    "\n",
    "\n",
    "\n",
    "#### _Table 8_\n",
    "* [average_claim_size](#average_claim_size)\n",
    "* [acs_ip_linked_tpd](#acs_ip_linked_tpd)\n",
    "* [acs_by_notification_delay_q](#acs_by_notification_delay_q)\n",
    "* [perc_si_at_ip_doe](#perc_si_at_ip_doe)\n",
    "* [tpd_si_scales_by_age](#tpd_si_scales_by_age)\n",
    "\n",
    "\n",
    "\n",
    "#### _Table 9_\n",
    "* [termination_rates](#termination_rates)\n",
    "* [age_rates](#age_rates)\n",
    "* [duration_of_claim_g_wp_oc](#duration_of_claim_g_wp_oc)\n",
    "* [smoker_status](#smoker_status)\n",
    "* [benefit_type](#benefit_type)\n",
    "* [policy_duration_factor](#policy_duration_factor)\n",
    "\n",
    "\n",
    "#### _Table 10_\n",
    "* [stress_margins](#stress_margins)\n",
    "    * [random](#random)\n",
    "        * [random_all](#random_all)\n",
    "        * [death](#r_death)\n",
    "        * [death_ibnr](#r_death_ibnr)\n",
    "        * [death_rbna](#r_death_rbna)\n",
    "        * [tpd](#r_tpd)\n",
    "        * [tpd_ibnr](#r_tpd_ibnr)\n",
    "        * [tpd_rbna](#r_tpd_rbna)\n",
    "        * [ip](#r_ip)\n",
    "        * [ip_dlr](#r_ip_dlr)\n",
    "        * [ip_ibnr](#r_ip_ibnr)\n",
    "        * [ip_rbna](#r_ip_rbna)\n",
    "    * [future](#future)\n",
    "        * [future_all](#future_all)\n",
    "        * [death](#f_death)\n",
    "        * [death_ibnr](#f_death_ibnr)\n",
    "        * [death_rbna](#f_death_rbna)\n",
    "        * [tpd](#f_tpd)\n",
    "        * [tpd_ibnr](#f_tpd_ibnr)\n",
    "        * [tpd_rbna](#f_tpd_rbna)\n",
    "        * [ip](#f_ip)\n",
    "        * [ip_dlr](#f_ip_dlr)\n",
    "        * [ip_ibnr](#f_ip_ibnr)\n",
    "        * [ip_rbna](#f_ip_rbna)\n",
    "\n",
    "\n",
    "\n",
    "\n",
    "\n"
   ]
  },
  {
   "cell_type": "code",
   "execution_count": 47,
   "metadata": {},
   "outputs": [
    {
     "data": {
      "text/plain": [
       "['future', 'path', 'random', 'sheet_name']"
      ]
     },
     "execution_count": 47,
     "metadata": {},
     "output_type": "execute_result"
    }
   ],
   "source": [
    "import os\n",
    "os.chdir(r\"C:\\Users\\adamw\\Documents\\GitHub\\Q\")\n",
    "path = r\"C:\\Users\\adamw\\Documents\\SVA replica.xlsx\"\n",
    "from sva import sva\n",
    "# # Initialise with path and sheetname\n",
    "sva = sva(path=path, sheet_name='NewProduct')\n",
    "a = dir(sva.termination_rates)\n",
    "dir_sva = dir(sva.stress_margins)\n",
    "[dir_sva for dir_sva in dir_sva if '__' not in dir_sva]"
   ]
  },
  {
   "cell_type": "markdown",
   "metadata": {},
   "source": [
    "# random"
   ]
  },
  {
   "cell_type": "code",
   "execution_count": null,
   "metadata": {},
   "outputs": [],
   "source": []
  },
  {
   "cell_type": "code",
   "execution_count": null,
   "metadata": {},
   "outputs": [],
   "source": []
  },
  {
   "cell_type": "code",
   "execution_count": null,
   "metadata": {},
   "outputs": [],
   "source": []
  },
  {
   "cell_type": "code",
   "execution_count": null,
   "metadata": {},
   "outputs": [],
   "source": []
  },
  {
   "cell_type": "code",
   "execution_count": null,
   "metadata": {},
   "outputs": [],
   "source": []
  },
  {
   "cell_type": "code",
   "execution_count": null,
   "metadata": {},
   "outputs": [],
   "source": []
  },
  {
   "cell_type": "code",
   "execution_count": null,
   "metadata": {},
   "outputs": [],
   "source": []
  },
  {
   "cell_type": "code",
   "execution_count": null,
   "metadata": {},
   "outputs": [],
   "source": []
  },
  {
   "cell_type": "code",
   "execution_count": null,
   "metadata": {},
   "outputs": [],
   "source": []
  },
  {
   "cell_type": "code",
   "execution_count": null,
   "metadata": {},
   "outputs": [],
   "source": []
  },
  {
   "cell_type": "code",
   "execution_count": null,
   "metadata": {},
   "outputs": [],
   "source": []
  },
  {
   "cell_type": "code",
   "execution_count": null,
   "metadata": {},
   "outputs": [],
   "source": []
  },
  {
   "cell_type": "code",
   "execution_count": null,
   "metadata": {},
   "outputs": [],
   "source": []
  },
  {
   "cell_type": "code",
   "execution_count": null,
   "metadata": {},
   "outputs": [],
   "source": []
  }
 ],
 "metadata": {
  "kernelspec": {
   "display_name": "Python 3",
   "language": "python",
   "name": "python3"
  },
  "language_info": {
   "codemirror_mode": {
    "name": "ipython",
    "version": 3
   },
   "file_extension": ".py",
   "mimetype": "text/x-python",
   "name": "python",
   "nbconvert_exporter": "python",
   "pygments_lexer": "ipython3",
   "version": "3.7.6"
  }
 },
 "nbformat": 4,
 "nbformat_minor": 4
}
