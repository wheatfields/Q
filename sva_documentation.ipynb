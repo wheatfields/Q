{
 "cells": [
  {
   "cell_type": "markdown",
   "metadata": {},
   "source": [
    "# sva.\n",
    "Usage of class ```sva```:\n",
    "1. initialise with path and sheet_name\n",
    "2. refer to table below for assumption hierarchy. Indentation represents a different level within sva. \n",
    "    * for example: \n",
    "        * to access the _claims_reporting_delay_, ```sva.claims_reporting_delay()``` is called. \n",
    "        * to access the _salary_replacement_ratios_ in the dlr_parameters, ```sva.dlr_parameters.salary_replacement_ratio()``` is called.\n",
    "        * to access the _death_ibnr_ in the stress_margins, ```sva.dlr_parameters.salary_replacement_ratio()``` is called.\n",
    "\n",
    "#### _Table 1_\n",
    "* [claims_reporting_delay](#claims_reporting_delay)\n",
    "* [claim_delay_factors](#claims_delay_factors)\n",
    "\n",
    "#### _Table 2_\n",
    "* [claims_expense_reserve](#claims_expense_reserve)\n",
    "* [operating_expense_perc_premium](#operating_expense_perc_premium)\n",
    "* [budgeted_trustee_expense](#budgeted_trustee_expense)\n",
    "* [projected_trustee_expense](#projected_trustee_expense)\n",
    "\n",
    "#### Table 3\n",
    "* [ip_continuance_rates](#ip_continuance_rates)\n",
    "* [dlr_parameters](#dlr_parameters)\n",
    "    * [salary_replacement_ratio](#salary_replacement_ratio)\n",
    "    * [continuing_retirement_benefit](#continuing_retirement_benefit)\n",
    "    * [assumed_avg_age_at_disability](#assumed_avg_age_at_disability)\n",
    "    * [payment_ratio](#payment_ratio)\n",
    "    * [reopened_claims_reserves_loading](#reopened_claims_reserves_loading)\n",
    "    * [benefit_indexation_month](#benefit_indexation_month)\n",
    "* [ip_ibnr_adjustment](#ip_ibnr_adjustment)\n",
    "\n",
    "\n",
    "#### _Table 4_\n",
    "* [appeals_reserve_assumptions](#appeals_reserve_assumptions)\n",
    "* [perc_of_appealed_claims_accepted](#perc_of_appealed_claims_accepted)\n",
    "\n",
    "\n",
    "#### _Table 5_\n",
    "* [decline_rate](#decline_rate)\n",
    "* [decline_rate_delay](#decline_rate_delay)\n",
    "* [simultaneous_ip_tpd_decline](#simultaneous_ip_tpd_decline)\n",
    "\n",
    "\n",
    "#### _Table 6_\n",
    "* [expected_loss_ratio_gov](#expected_loss_ratio_gov)\n",
    "* [expected_loss_ratio_nongov](#expected_loss_ratio_nongov)\n",
    "\n",
    "\n",
    "#### _Table 7_\n",
    "* [payment_delay_factors](#payment_delay_factors)\n",
    "* [payment_delay_factors_discrete](#payment_delay_factors_discrete)\n",
    "\n",
    "\n",
    "\n",
    "#### _Table 8_\n",
    "* [average_claim_size](#average_claim_size)\n",
    "* [acs_ip_linked_tpd](#acs_ip_linked_tpd)\n",
    "* [acs_by_notification_delay_q](#acs_by_notification_delay_q)\n",
    "* [perc_si_at_ip_doe](#perc_si_at_ip_doe)\n",
    "* [tpd_si_scales_by_age](#tpd_si_scales_by_age)\n",
    "\n",
    "\n",
    "\n",
    "#### _Table 9_\n",
    "* [termination_rates](#termination_rates)\n",
    "* [age_rates](#age_rates)\n",
    "* [duration_of_claim_g_wp_oc](#duration_of_claim_g_wp_oc)\n",
    "* [smoker_status](#smoker_status)\n",
    "* [benefit_type](#benefit_type)\n",
    "* [policy_duration_factor](#policy_duration_factor)\n",
    "\n",
    "\n",
    "#### _Table 10_\n",
    "* [stress_margins](#stress_margins)\n",
    "    * [random](#random)\n",
    "        * [random_all](#random_all)\n",
    "        * [death](#r_death)\n",
    "        * [death_ibnr](#r_death_ibnr)\n",
    "        * [death_rbna](#r_death_rbna)\n",
    "        * [tpd](#r_tpd)\n",
    "        * [tpd_ibnr](#r_tpd_ibnr)\n",
    "        * [tpd_rbna](#r_tpd_rbna)\n",
    "        * [ip](#r_ip)\n",
    "        * [ip_dlr](#r_ip_dlr)\n",
    "        * [ip_ibnr](#r_ip_ibnr)\n",
    "        * [ip_rbna](#r_ip_rbna)\n",
    "    * [future](#future)\n",
    "        * [future_all](#future_all)\n",
    "        * [death](#f_death)\n",
    "        * [death_ibnr](#f_death_ibnr)\n",
    "        * [death_rbna](#f_death_rbna)\n",
    "        * [tpd](#f_tpd)\n",
    "        * [tpd_ibnr](#f_tpd_ibnr)\n",
    "        * [tpd_rbna](#f_tpd_rbna)\n",
    "        * [ip](#f_ip)\n",
    "        * [ip_dlr](#f_ip_dlr)\n",
    "        * [ip_ibnr](#f_ip_ibnr)\n",
    "        * [ip_rbna](#f_ip_rbna)\n",
    "\n",
    "\n",
    "\n",
    "\n",
    "\n"
   ]
  },
  {
   "cell_type": "code",
   "execution_count": 13,
   "metadata": {},
   "outputs": [],
   "source": [
    "import os\n",
    "os.chdir(r\"C:\\Users\\adamw\\Documents\\GitHub\\Q\")\n",
    "path = r\"C:\\Users\\adamw\\Documents\\SVA replica.xlsx\"\n",
    "from sva import sva\n",
    "# # Initialise with path and sheetname\n",
    "sva = sva(path=path, sheet_name='NewProduct')"
   ]
  },
  {
   "cell_type": "markdown",
   "metadata": {},
   "source": [
    "### claims_reporting_delay"
   ]
  },
  {
   "cell_type": "code",
   "execution_count": 14,
   "metadata": {},
   "outputs": [
    {
     "data": {
      "text/html": [
       "<style  type=\"text/css\" >\n",
       "</style><table id=\"T_d64d83e4_da06_11eb_98a4_c8348e310a39\" ><thead>    <tr>        <th class=\"blank level0\" ></th>        <th class=\"col_heading level0 col0\" >Gov Death</th>        <th class=\"col_heading level0 col1\" >Gov TPD*</th>        <th class=\"col_heading level0 col2\" >Non-Gov Death</th>        <th class=\"col_heading level0 col3\" >Non-Gov TPD</th>        <th class=\"col_heading level0 col4\" >IP WP 30**</th>        <th class=\"col_heading level0 col5\" >IP WP 60**</th>        <th class=\"col_heading level0 col6\" >IP WP 90**</th>        <th class=\"col_heading level0 col7\" >IP WP 180**</th>    </tr>    <tr>        <th class=\"index_name level0\" >End of month</th>        <th class=\"blank\" ></th>        <th class=\"blank\" ></th>        <th class=\"blank\" ></th>        <th class=\"blank\" ></th>        <th class=\"blank\" ></th>        <th class=\"blank\" ></th>        <th class=\"blank\" ></th>        <th class=\"blank\" ></th>    </tr></thead><tbody>\n",
       "                <tr>\n",
       "                        <th id=\"T_d64d83e4_da06_11eb_98a4_c8348e310a39level0_row0\" class=\"row_heading level0 row0\" >0.0</th>\n",
       "                        <td id=\"T_d64d83e4_da06_11eb_98a4_c8348e310a39row0_col0\" class=\"data row0 col0\" >90.00%</td>\n",
       "                        <td id=\"T_d64d83e4_da06_11eb_98a4_c8348e310a39row0_col1\" class=\"data row0 col1\" >67.00%</td>\n",
       "                        <td id=\"T_d64d83e4_da06_11eb_98a4_c8348e310a39row0_col2\" class=\"data row0 col2\" >89.00%</td>\n",
       "                        <td id=\"T_d64d83e4_da06_11eb_98a4_c8348e310a39row0_col3\" class=\"data row0 col3\" >55.00%</td>\n",
       "                        <td id=\"T_d64d83e4_da06_11eb_98a4_c8348e310a39row0_col4\" class=\"data row0 col4\" >40.00%</td>\n",
       "                        <td id=\"T_d64d83e4_da06_11eb_98a4_c8348e310a39row0_col5\" class=\"data row0 col5\" >91.00%</td>\n",
       "                        <td id=\"T_d64d83e4_da06_11eb_98a4_c8348e310a39row0_col6\" class=\"data row0 col6\" >45.00%</td>\n",
       "                        <td id=\"T_d64d83e4_da06_11eb_98a4_c8348e310a39row0_col7\" class=\"data row0 col7\" >99.00%</td>\n",
       "            </tr>\n",
       "            <tr>\n",
       "                        <th id=\"T_d64d83e4_da06_11eb_98a4_c8348e310a39level0_row1\" class=\"row_heading level0 row1\" >1.0</th>\n",
       "                        <td id=\"T_d64d83e4_da06_11eb_98a4_c8348e310a39row1_col0\" class=\"data row1 col0\" >72.00%</td>\n",
       "                        <td id=\"T_d64d83e4_da06_11eb_98a4_c8348e310a39row1_col1\" class=\"data row1 col1\" >53.60%</td>\n",
       "                        <td id=\"T_d64d83e4_da06_11eb_98a4_c8348e310a39row1_col2\" class=\"data row1 col2\" >71.20%</td>\n",
       "                        <td id=\"T_d64d83e4_da06_11eb_98a4_c8348e310a39row1_col3\" class=\"data row1 col3\" >44.00%</td>\n",
       "                        <td id=\"T_d64d83e4_da06_11eb_98a4_c8348e310a39row1_col4\" class=\"data row1 col4\" >32.00%</td>\n",
       "                        <td id=\"T_d64d83e4_da06_11eb_98a4_c8348e310a39row1_col5\" class=\"data row1 col5\" >72.80%</td>\n",
       "                        <td id=\"T_d64d83e4_da06_11eb_98a4_c8348e310a39row1_col6\" class=\"data row1 col6\" >36.00%</td>\n",
       "                        <td id=\"T_d64d83e4_da06_11eb_98a4_c8348e310a39row1_col7\" class=\"data row1 col7\" >79.20%</td>\n",
       "            </tr>\n",
       "            <tr>\n",
       "                        <th id=\"T_d64d83e4_da06_11eb_98a4_c8348e310a39level0_row2\" class=\"row_heading level0 row2\" >2.0</th>\n",
       "                        <td id=\"T_d64d83e4_da06_11eb_98a4_c8348e310a39row2_col0\" class=\"data row2 col0\" >57.60%</td>\n",
       "                        <td id=\"T_d64d83e4_da06_11eb_98a4_c8348e310a39row2_col1\" class=\"data row2 col1\" >42.88%</td>\n",
       "                        <td id=\"T_d64d83e4_da06_11eb_98a4_c8348e310a39row2_col2\" class=\"data row2 col2\" >56.96%</td>\n",
       "                        <td id=\"T_d64d83e4_da06_11eb_98a4_c8348e310a39row2_col3\" class=\"data row2 col3\" >35.20%</td>\n",
       "                        <td id=\"T_d64d83e4_da06_11eb_98a4_c8348e310a39row2_col4\" class=\"data row2 col4\" >25.60%</td>\n",
       "                        <td id=\"T_d64d83e4_da06_11eb_98a4_c8348e310a39row2_col5\" class=\"data row2 col5\" >58.24%</td>\n",
       "                        <td id=\"T_d64d83e4_da06_11eb_98a4_c8348e310a39row2_col6\" class=\"data row2 col6\" >28.80%</td>\n",
       "                        <td id=\"T_d64d83e4_da06_11eb_98a4_c8348e310a39row2_col7\" class=\"data row2 col7\" >63.36%</td>\n",
       "            </tr>\n",
       "            <tr>\n",
       "                        <th id=\"T_d64d83e4_da06_11eb_98a4_c8348e310a39level0_row3\" class=\"row_heading level0 row3\" >3.0</th>\n",
       "                        <td id=\"T_d64d83e4_da06_11eb_98a4_c8348e310a39row3_col0\" class=\"data row3 col0\" >46.08%</td>\n",
       "                        <td id=\"T_d64d83e4_da06_11eb_98a4_c8348e310a39row3_col1\" class=\"data row3 col1\" >34.30%</td>\n",
       "                        <td id=\"T_d64d83e4_da06_11eb_98a4_c8348e310a39row3_col2\" class=\"data row3 col2\" >45.57%</td>\n",
       "                        <td id=\"T_d64d83e4_da06_11eb_98a4_c8348e310a39row3_col3\" class=\"data row3 col3\" >28.16%</td>\n",
       "                        <td id=\"T_d64d83e4_da06_11eb_98a4_c8348e310a39row3_col4\" class=\"data row3 col4\" >20.48%</td>\n",
       "                        <td id=\"T_d64d83e4_da06_11eb_98a4_c8348e310a39row3_col5\" class=\"data row3 col5\" >46.59%</td>\n",
       "                        <td id=\"T_d64d83e4_da06_11eb_98a4_c8348e310a39row3_col6\" class=\"data row3 col6\" >23.04%</td>\n",
       "                        <td id=\"T_d64d83e4_da06_11eb_98a4_c8348e310a39row3_col7\" class=\"data row3 col7\" >50.69%</td>\n",
       "            </tr>\n",
       "            <tr>\n",
       "                        <th id=\"T_d64d83e4_da06_11eb_98a4_c8348e310a39level0_row4\" class=\"row_heading level0 row4\" >4.0</th>\n",
       "                        <td id=\"T_d64d83e4_da06_11eb_98a4_c8348e310a39row4_col0\" class=\"data row4 col0\" >36.86%</td>\n",
       "                        <td id=\"T_d64d83e4_da06_11eb_98a4_c8348e310a39row4_col1\" class=\"data row4 col1\" >27.44%</td>\n",
       "                        <td id=\"T_d64d83e4_da06_11eb_98a4_c8348e310a39row4_col2\" class=\"data row4 col2\" >36.45%</td>\n",
       "                        <td id=\"T_d64d83e4_da06_11eb_98a4_c8348e310a39row4_col3\" class=\"data row4 col3\" >22.53%</td>\n",
       "                        <td id=\"T_d64d83e4_da06_11eb_98a4_c8348e310a39row4_col4\" class=\"data row4 col4\" >16.38%</td>\n",
       "                        <td id=\"T_d64d83e4_da06_11eb_98a4_c8348e310a39row4_col5\" class=\"data row4 col5\" >37.27%</td>\n",
       "                        <td id=\"T_d64d83e4_da06_11eb_98a4_c8348e310a39row4_col6\" class=\"data row4 col6\" >18.43%</td>\n",
       "                        <td id=\"T_d64d83e4_da06_11eb_98a4_c8348e310a39row4_col7\" class=\"data row4 col7\" >40.55%</td>\n",
       "            </tr>\n",
       "            <tr>\n",
       "                        <th id=\"T_d64d83e4_da06_11eb_98a4_c8348e310a39level0_row5\" class=\"row_heading level0 row5\" >5.0</th>\n",
       "                        <td id=\"T_d64d83e4_da06_11eb_98a4_c8348e310a39row5_col0\" class=\"data row5 col0\" >29.49%</td>\n",
       "                        <td id=\"T_d64d83e4_da06_11eb_98a4_c8348e310a39row5_col1\" class=\"data row5 col1\" >21.95%</td>\n",
       "                        <td id=\"T_d64d83e4_da06_11eb_98a4_c8348e310a39row5_col2\" class=\"data row5 col2\" >29.16%</td>\n",
       "                        <td id=\"T_d64d83e4_da06_11eb_98a4_c8348e310a39row5_col3\" class=\"data row5 col3\" >18.02%</td>\n",
       "                        <td id=\"T_d64d83e4_da06_11eb_98a4_c8348e310a39row5_col4\" class=\"data row5 col4\" >13.11%</td>\n",
       "                        <td id=\"T_d64d83e4_da06_11eb_98a4_c8348e310a39row5_col5\" class=\"data row5 col5\" >29.82%</td>\n",
       "                        <td id=\"T_d64d83e4_da06_11eb_98a4_c8348e310a39row5_col6\" class=\"data row5 col6\" >14.75%</td>\n",
       "                        <td id=\"T_d64d83e4_da06_11eb_98a4_c8348e310a39row5_col7\" class=\"data row5 col7\" >32.44%</td>\n",
       "            </tr>\n",
       "            <tr>\n",
       "                        <th id=\"T_d64d83e4_da06_11eb_98a4_c8348e310a39level0_row6\" class=\"row_heading level0 row6\" >6.0</th>\n",
       "                        <td id=\"T_d64d83e4_da06_11eb_98a4_c8348e310a39row6_col0\" class=\"data row6 col0\" >23.59%</td>\n",
       "                        <td id=\"T_d64d83e4_da06_11eb_98a4_c8348e310a39row6_col1\" class=\"data row6 col1\" >17.56%</td>\n",
       "                        <td id=\"T_d64d83e4_da06_11eb_98a4_c8348e310a39row6_col2\" class=\"data row6 col2\" >23.33%</td>\n",
       "                        <td id=\"T_d64d83e4_da06_11eb_98a4_c8348e310a39row6_col3\" class=\"data row6 col3\" >14.42%</td>\n",
       "                        <td id=\"T_d64d83e4_da06_11eb_98a4_c8348e310a39row6_col4\" class=\"data row6 col4\" >10.49%</td>\n",
       "                        <td id=\"T_d64d83e4_da06_11eb_98a4_c8348e310a39row6_col5\" class=\"data row6 col5\" >23.86%</td>\n",
       "                        <td id=\"T_d64d83e4_da06_11eb_98a4_c8348e310a39row6_col6\" class=\"data row6 col6\" >11.80%</td>\n",
       "                        <td id=\"T_d64d83e4_da06_11eb_98a4_c8348e310a39row6_col7\" class=\"data row6 col7\" >25.95%</td>\n",
       "            </tr>\n",
       "            <tr>\n",
       "                        <th id=\"T_d64d83e4_da06_11eb_98a4_c8348e310a39level0_row7\" class=\"row_heading level0 row7\" >7.0</th>\n",
       "                        <td id=\"T_d64d83e4_da06_11eb_98a4_c8348e310a39row7_col0\" class=\"data row7 col0\" >18.87%</td>\n",
       "                        <td id=\"T_d64d83e4_da06_11eb_98a4_c8348e310a39row7_col1\" class=\"data row7 col1\" >14.05%</td>\n",
       "                        <td id=\"T_d64d83e4_da06_11eb_98a4_c8348e310a39row7_col2\" class=\"data row7 col2\" >18.66%</td>\n",
       "                        <td id=\"T_d64d83e4_da06_11eb_98a4_c8348e310a39row7_col3\" class=\"data row7 col3\" >11.53%</td>\n",
       "                        <td id=\"T_d64d83e4_da06_11eb_98a4_c8348e310a39row7_col4\" class=\"data row7 col4\" >8.39%</td>\n",
       "                        <td id=\"T_d64d83e4_da06_11eb_98a4_c8348e310a39row7_col5\" class=\"data row7 col5\" >19.08%</td>\n",
       "                        <td id=\"T_d64d83e4_da06_11eb_98a4_c8348e310a39row7_col6\" class=\"data row7 col6\" >9.44%</td>\n",
       "                        <td id=\"T_d64d83e4_da06_11eb_98a4_c8348e310a39row7_col7\" class=\"data row7 col7\" >20.76%</td>\n",
       "            </tr>\n",
       "            <tr>\n",
       "                        <th id=\"T_d64d83e4_da06_11eb_98a4_c8348e310a39level0_row8\" class=\"row_heading level0 row8\" >8.0</th>\n",
       "                        <td id=\"T_d64d83e4_da06_11eb_98a4_c8348e310a39row8_col0\" class=\"data row8 col0\" >15.10%</td>\n",
       "                        <td id=\"T_d64d83e4_da06_11eb_98a4_c8348e310a39row8_col1\" class=\"data row8 col1\" >11.24%</td>\n",
       "                        <td id=\"T_d64d83e4_da06_11eb_98a4_c8348e310a39row8_col2\" class=\"data row8 col2\" >14.93%</td>\n",
       "                        <td id=\"T_d64d83e4_da06_11eb_98a4_c8348e310a39row8_col3\" class=\"data row8 col3\" >9.23%</td>\n",
       "                        <td id=\"T_d64d83e4_da06_11eb_98a4_c8348e310a39row8_col4\" class=\"data row8 col4\" >6.71%</td>\n",
       "                        <td id=\"T_d64d83e4_da06_11eb_98a4_c8348e310a39row8_col5\" class=\"data row8 col5\" >15.27%</td>\n",
       "                        <td id=\"T_d64d83e4_da06_11eb_98a4_c8348e310a39row8_col6\" class=\"data row8 col6\" >7.55%</td>\n",
       "                        <td id=\"T_d64d83e4_da06_11eb_98a4_c8348e310a39row8_col7\" class=\"data row8 col7\" >16.61%</td>\n",
       "            </tr>\n",
       "            <tr>\n",
       "                        <th id=\"T_d64d83e4_da06_11eb_98a4_c8348e310a39level0_row9\" class=\"row_heading level0 row9\" >9.0</th>\n",
       "                        <td id=\"T_d64d83e4_da06_11eb_98a4_c8348e310a39row9_col0\" class=\"data row9 col0\" >12.08%</td>\n",
       "                        <td id=\"T_d64d83e4_da06_11eb_98a4_c8348e310a39row9_col1\" class=\"data row9 col1\" >8.99%</td>\n",
       "                        <td id=\"T_d64d83e4_da06_11eb_98a4_c8348e310a39row9_col2\" class=\"data row9 col2\" >11.95%</td>\n",
       "                        <td id=\"T_d64d83e4_da06_11eb_98a4_c8348e310a39row9_col3\" class=\"data row9 col3\" >7.38%</td>\n",
       "                        <td id=\"T_d64d83e4_da06_11eb_98a4_c8348e310a39row9_col4\" class=\"data row9 col4\" >5.37%</td>\n",
       "                        <td id=\"T_d64d83e4_da06_11eb_98a4_c8348e310a39row9_col5\" class=\"data row9 col5\" >12.21%</td>\n",
       "                        <td id=\"T_d64d83e4_da06_11eb_98a4_c8348e310a39row9_col6\" class=\"data row9 col6\" >6.04%</td>\n",
       "                        <td id=\"T_d64d83e4_da06_11eb_98a4_c8348e310a39row9_col7\" class=\"data row9 col7\" >13.29%</td>\n",
       "            </tr>\n",
       "    </tbody></table>"
      ],
      "text/plain": [
       "<pandas.io.formats.style.Styler at 0x17320472a08>"
      ]
     },
     "execution_count": 14,
     "metadata": {},
     "output_type": "execute_result"
    }
   ],
   "source": [
    "sva.claims_reporting_delay().head(10).style.format('{:,.2%}')"
   ]
  },
  {
   "cell_type": "markdown",
   "metadata": {},
   "source": [
    "### claim_delay_factors"
   ]
  },
  {
   "cell_type": "code",
   "execution_count": 15,
   "metadata": {},
   "outputs": [
    {
     "data": {
      "text/html": [
       "<style  type=\"text/css\" >\n",
       "</style><table id=\"T_d70720a6_da06_11eb_b90e_c8348e310a39\" ><thead>    <tr>        <th class=\"blank level0\" ></th>        <th class=\"col_heading level0 col0\" >Gov Death</th>        <th class=\"col_heading level0 col1\" >Gov TPD*</th>        <th class=\"col_heading level0 col2\" >Non-Gov Death</th>        <th class=\"col_heading level0 col3\" >Non-Gov TPD</th>        <th class=\"col_heading level0 col4\" >IP WP 30**</th>        <th class=\"col_heading level0 col5\" >IP WP 60**</th>        <th class=\"col_heading level0 col6\" >IP WP 90**</th>        <th class=\"col_heading level0 col7\" >IP WP 180**</th>    </tr>    <tr>        <th class=\"index_name level0\" >End of month</th>        <th class=\"blank\" ></th>        <th class=\"blank\" ></th>        <th class=\"blank\" ></th>        <th class=\"blank\" ></th>        <th class=\"blank\" ></th>        <th class=\"blank\" ></th>        <th class=\"blank\" ></th>        <th class=\"blank\" ></th>    </tr></thead><tbody>\n",
       "                <tr>\n",
       "                        <th id=\"T_d70720a6_da06_11eb_b90e_c8348e310a39level0_row0\" class=\"row_heading level0 row0\" >0.0</th>\n",
       "                        <td id=\"T_d70720a6_da06_11eb_b90e_c8348e310a39row0_col0\" class=\"data row0 col0\" >10.00%</td>\n",
       "                        <td id=\"T_d70720a6_da06_11eb_b90e_c8348e310a39row0_col1\" class=\"data row0 col1\" >15.00%</td>\n",
       "                        <td id=\"T_d70720a6_da06_11eb_b90e_c8348e310a39row0_col2\" class=\"data row0 col2\" >20.00%</td>\n",
       "                        <td id=\"T_d70720a6_da06_11eb_b90e_c8348e310a39row0_col3\" class=\"data row0 col3\" >12.00%</td>\n",
       "                        <td id=\"T_d70720a6_da06_11eb_b90e_c8348e310a39row0_col4\" class=\"data row0 col4\" >14.00%</td>\n",
       "                        <td id=\"T_d70720a6_da06_11eb_b90e_c8348e310a39row0_col5\" class=\"data row0 col5\" >16.00%</td>\n",
       "                        <td id=\"T_d70720a6_da06_11eb_b90e_c8348e310a39row0_col6\" class=\"data row0 col6\" >19.00%</td>\n",
       "                        <td id=\"T_d70720a6_da06_11eb_b90e_c8348e310a39row0_col7\" class=\"data row0 col7\" >18.00%</td>\n",
       "            </tr>\n",
       "            <tr>\n",
       "                        <th id=\"T_d70720a6_da06_11eb_b90e_c8348e310a39level0_row1\" class=\"row_heading level0 row1\" >1.0</th>\n",
       "                        <td id=\"T_d70720a6_da06_11eb_b90e_c8348e310a39row1_col0\" class=\"data row1 col0\" >8.00%</td>\n",
       "                        <td id=\"T_d70720a6_da06_11eb_b90e_c8348e310a39row1_col1\" class=\"data row1 col1\" >12.00%</td>\n",
       "                        <td id=\"T_d70720a6_da06_11eb_b90e_c8348e310a39row1_col2\" class=\"data row1 col2\" >16.00%</td>\n",
       "                        <td id=\"T_d70720a6_da06_11eb_b90e_c8348e310a39row1_col3\" class=\"data row1 col3\" >9.60%</td>\n",
       "                        <td id=\"T_d70720a6_da06_11eb_b90e_c8348e310a39row1_col4\" class=\"data row1 col4\" >11.20%</td>\n",
       "                        <td id=\"T_d70720a6_da06_11eb_b90e_c8348e310a39row1_col5\" class=\"data row1 col5\" >12.80%</td>\n",
       "                        <td id=\"T_d70720a6_da06_11eb_b90e_c8348e310a39row1_col6\" class=\"data row1 col6\" >15.20%</td>\n",
       "                        <td id=\"T_d70720a6_da06_11eb_b90e_c8348e310a39row1_col7\" class=\"data row1 col7\" >14.40%</td>\n",
       "            </tr>\n",
       "            <tr>\n",
       "                        <th id=\"T_d70720a6_da06_11eb_b90e_c8348e310a39level0_row2\" class=\"row_heading level0 row2\" >2.0</th>\n",
       "                        <td id=\"T_d70720a6_da06_11eb_b90e_c8348e310a39row2_col0\" class=\"data row2 col0\" >6.40%</td>\n",
       "                        <td id=\"T_d70720a6_da06_11eb_b90e_c8348e310a39row2_col1\" class=\"data row2 col1\" >9.60%</td>\n",
       "                        <td id=\"T_d70720a6_da06_11eb_b90e_c8348e310a39row2_col2\" class=\"data row2 col2\" >12.80%</td>\n",
       "                        <td id=\"T_d70720a6_da06_11eb_b90e_c8348e310a39row2_col3\" class=\"data row2 col3\" >7.68%</td>\n",
       "                        <td id=\"T_d70720a6_da06_11eb_b90e_c8348e310a39row2_col4\" class=\"data row2 col4\" >8.96%</td>\n",
       "                        <td id=\"T_d70720a6_da06_11eb_b90e_c8348e310a39row2_col5\" class=\"data row2 col5\" >10.24%</td>\n",
       "                        <td id=\"T_d70720a6_da06_11eb_b90e_c8348e310a39row2_col6\" class=\"data row2 col6\" >12.16%</td>\n",
       "                        <td id=\"T_d70720a6_da06_11eb_b90e_c8348e310a39row2_col7\" class=\"data row2 col7\" >11.52%</td>\n",
       "            </tr>\n",
       "            <tr>\n",
       "                        <th id=\"T_d70720a6_da06_11eb_b90e_c8348e310a39level0_row3\" class=\"row_heading level0 row3\" >3.0</th>\n",
       "                        <td id=\"T_d70720a6_da06_11eb_b90e_c8348e310a39row3_col0\" class=\"data row3 col0\" >5.12%</td>\n",
       "                        <td id=\"T_d70720a6_da06_11eb_b90e_c8348e310a39row3_col1\" class=\"data row3 col1\" >7.68%</td>\n",
       "                        <td id=\"T_d70720a6_da06_11eb_b90e_c8348e310a39row3_col2\" class=\"data row3 col2\" >10.24%</td>\n",
       "                        <td id=\"T_d70720a6_da06_11eb_b90e_c8348e310a39row3_col3\" class=\"data row3 col3\" >6.14%</td>\n",
       "                        <td id=\"T_d70720a6_da06_11eb_b90e_c8348e310a39row3_col4\" class=\"data row3 col4\" >7.17%</td>\n",
       "                        <td id=\"T_d70720a6_da06_11eb_b90e_c8348e310a39row3_col5\" class=\"data row3 col5\" >8.19%</td>\n",
       "                        <td id=\"T_d70720a6_da06_11eb_b90e_c8348e310a39row3_col6\" class=\"data row3 col6\" >9.73%</td>\n",
       "                        <td id=\"T_d70720a6_da06_11eb_b90e_c8348e310a39row3_col7\" class=\"data row3 col7\" >9.22%</td>\n",
       "            </tr>\n",
       "            <tr>\n",
       "                        <th id=\"T_d70720a6_da06_11eb_b90e_c8348e310a39level0_row4\" class=\"row_heading level0 row4\" >4.0</th>\n",
       "                        <td id=\"T_d70720a6_da06_11eb_b90e_c8348e310a39row4_col0\" class=\"data row4 col0\" >4.10%</td>\n",
       "                        <td id=\"T_d70720a6_da06_11eb_b90e_c8348e310a39row4_col1\" class=\"data row4 col1\" >6.14%</td>\n",
       "                        <td id=\"T_d70720a6_da06_11eb_b90e_c8348e310a39row4_col2\" class=\"data row4 col2\" >8.19%</td>\n",
       "                        <td id=\"T_d70720a6_da06_11eb_b90e_c8348e310a39row4_col3\" class=\"data row4 col3\" >4.92%</td>\n",
       "                        <td id=\"T_d70720a6_da06_11eb_b90e_c8348e310a39row4_col4\" class=\"data row4 col4\" >5.73%</td>\n",
       "                        <td id=\"T_d70720a6_da06_11eb_b90e_c8348e310a39row4_col5\" class=\"data row4 col5\" >6.55%</td>\n",
       "                        <td id=\"T_d70720a6_da06_11eb_b90e_c8348e310a39row4_col6\" class=\"data row4 col6\" >7.78%</td>\n",
       "                        <td id=\"T_d70720a6_da06_11eb_b90e_c8348e310a39row4_col7\" class=\"data row4 col7\" >7.37%</td>\n",
       "            </tr>\n",
       "            <tr>\n",
       "                        <th id=\"T_d70720a6_da06_11eb_b90e_c8348e310a39level0_row5\" class=\"row_heading level0 row5\" >5.0</th>\n",
       "                        <td id=\"T_d70720a6_da06_11eb_b90e_c8348e310a39row5_col0\" class=\"data row5 col0\" >3.28%</td>\n",
       "                        <td id=\"T_d70720a6_da06_11eb_b90e_c8348e310a39row5_col1\" class=\"data row5 col1\" >4.92%</td>\n",
       "                        <td id=\"T_d70720a6_da06_11eb_b90e_c8348e310a39row5_col2\" class=\"data row5 col2\" >6.55%</td>\n",
       "                        <td id=\"T_d70720a6_da06_11eb_b90e_c8348e310a39row5_col3\" class=\"data row5 col3\" >3.93%</td>\n",
       "                        <td id=\"T_d70720a6_da06_11eb_b90e_c8348e310a39row5_col4\" class=\"data row5 col4\" >4.59%</td>\n",
       "                        <td id=\"T_d70720a6_da06_11eb_b90e_c8348e310a39row5_col5\" class=\"data row5 col5\" >5.24%</td>\n",
       "                        <td id=\"T_d70720a6_da06_11eb_b90e_c8348e310a39row5_col6\" class=\"data row5 col6\" >6.23%</td>\n",
       "                        <td id=\"T_d70720a6_da06_11eb_b90e_c8348e310a39row5_col7\" class=\"data row5 col7\" >5.90%</td>\n",
       "            </tr>\n",
       "            <tr>\n",
       "                        <th id=\"T_d70720a6_da06_11eb_b90e_c8348e310a39level0_row6\" class=\"row_heading level0 row6\" >6.0</th>\n",
       "                        <td id=\"T_d70720a6_da06_11eb_b90e_c8348e310a39row6_col0\" class=\"data row6 col0\" >2.62%</td>\n",
       "                        <td id=\"T_d70720a6_da06_11eb_b90e_c8348e310a39row6_col1\" class=\"data row6 col1\" >3.93%</td>\n",
       "                        <td id=\"T_d70720a6_da06_11eb_b90e_c8348e310a39row6_col2\" class=\"data row6 col2\" >5.24%</td>\n",
       "                        <td id=\"T_d70720a6_da06_11eb_b90e_c8348e310a39row6_col3\" class=\"data row6 col3\" >3.15%</td>\n",
       "                        <td id=\"T_d70720a6_da06_11eb_b90e_c8348e310a39row6_col4\" class=\"data row6 col4\" >3.67%</td>\n",
       "                        <td id=\"T_d70720a6_da06_11eb_b90e_c8348e310a39row6_col5\" class=\"data row6 col5\" >4.19%</td>\n",
       "                        <td id=\"T_d70720a6_da06_11eb_b90e_c8348e310a39row6_col6\" class=\"data row6 col6\" >4.98%</td>\n",
       "                        <td id=\"T_d70720a6_da06_11eb_b90e_c8348e310a39row6_col7\" class=\"data row6 col7\" >4.72%</td>\n",
       "            </tr>\n",
       "            <tr>\n",
       "                        <th id=\"T_d70720a6_da06_11eb_b90e_c8348e310a39level0_row7\" class=\"row_heading level0 row7\" >7.0</th>\n",
       "                        <td id=\"T_d70720a6_da06_11eb_b90e_c8348e310a39row7_col0\" class=\"data row7 col0\" >2.10%</td>\n",
       "                        <td id=\"T_d70720a6_da06_11eb_b90e_c8348e310a39row7_col1\" class=\"data row7 col1\" >3.15%</td>\n",
       "                        <td id=\"T_d70720a6_da06_11eb_b90e_c8348e310a39row7_col2\" class=\"data row7 col2\" >4.19%</td>\n",
       "                        <td id=\"T_d70720a6_da06_11eb_b90e_c8348e310a39row7_col3\" class=\"data row7 col3\" >2.52%</td>\n",
       "                        <td id=\"T_d70720a6_da06_11eb_b90e_c8348e310a39row7_col4\" class=\"data row7 col4\" >2.94%</td>\n",
       "                        <td id=\"T_d70720a6_da06_11eb_b90e_c8348e310a39row7_col5\" class=\"data row7 col5\" >3.36%</td>\n",
       "                        <td id=\"T_d70720a6_da06_11eb_b90e_c8348e310a39row7_col6\" class=\"data row7 col6\" >3.98%</td>\n",
       "                        <td id=\"T_d70720a6_da06_11eb_b90e_c8348e310a39row7_col7\" class=\"data row7 col7\" >3.77%</td>\n",
       "            </tr>\n",
       "            <tr>\n",
       "                        <th id=\"T_d70720a6_da06_11eb_b90e_c8348e310a39level0_row8\" class=\"row_heading level0 row8\" >8.0</th>\n",
       "                        <td id=\"T_d70720a6_da06_11eb_b90e_c8348e310a39row8_col0\" class=\"data row8 col0\" >1.68%</td>\n",
       "                        <td id=\"T_d70720a6_da06_11eb_b90e_c8348e310a39row8_col1\" class=\"data row8 col1\" >2.52%</td>\n",
       "                        <td id=\"T_d70720a6_da06_11eb_b90e_c8348e310a39row8_col2\" class=\"data row8 col2\" >3.36%</td>\n",
       "                        <td id=\"T_d70720a6_da06_11eb_b90e_c8348e310a39row8_col3\" class=\"data row8 col3\" >2.01%</td>\n",
       "                        <td id=\"T_d70720a6_da06_11eb_b90e_c8348e310a39row8_col4\" class=\"data row8 col4\" >2.35%</td>\n",
       "                        <td id=\"T_d70720a6_da06_11eb_b90e_c8348e310a39row8_col5\" class=\"data row8 col5\" >2.68%</td>\n",
       "                        <td id=\"T_d70720a6_da06_11eb_b90e_c8348e310a39row8_col6\" class=\"data row8 col6\" >3.19%</td>\n",
       "                        <td id=\"T_d70720a6_da06_11eb_b90e_c8348e310a39row8_col7\" class=\"data row8 col7\" >3.02%</td>\n",
       "            </tr>\n",
       "            <tr>\n",
       "                        <th id=\"T_d70720a6_da06_11eb_b90e_c8348e310a39level0_row9\" class=\"row_heading level0 row9\" >9.0</th>\n",
       "                        <td id=\"T_d70720a6_da06_11eb_b90e_c8348e310a39row9_col0\" class=\"data row9 col0\" >1.34%</td>\n",
       "                        <td id=\"T_d70720a6_da06_11eb_b90e_c8348e310a39row9_col1\" class=\"data row9 col1\" >2.01%</td>\n",
       "                        <td id=\"T_d70720a6_da06_11eb_b90e_c8348e310a39row9_col2\" class=\"data row9 col2\" >2.68%</td>\n",
       "                        <td id=\"T_d70720a6_da06_11eb_b90e_c8348e310a39row9_col3\" class=\"data row9 col3\" >1.61%</td>\n",
       "                        <td id=\"T_d70720a6_da06_11eb_b90e_c8348e310a39row9_col4\" class=\"data row9 col4\" >1.88%</td>\n",
       "                        <td id=\"T_d70720a6_da06_11eb_b90e_c8348e310a39row9_col5\" class=\"data row9 col5\" >2.15%</td>\n",
       "                        <td id=\"T_d70720a6_da06_11eb_b90e_c8348e310a39row9_col6\" class=\"data row9 col6\" >2.55%</td>\n",
       "                        <td id=\"T_d70720a6_da06_11eb_b90e_c8348e310a39row9_col7\" class=\"data row9 col7\" >2.42%</td>\n",
       "            </tr>\n",
       "    </tbody></table>"
      ],
      "text/plain": [
       "<pandas.io.formats.style.Styler at 0x17320850f08>"
      ]
     },
     "execution_count": 15,
     "metadata": {},
     "output_type": "execute_result"
    }
   ],
   "source": [
    "sva.claim_delay_factors().head(10).style.format('{:,.2%}')"
   ]
  },
  {
   "cell_type": "markdown",
   "metadata": {},
   "source": [
    "### claims_expense_reserve"
   ]
  },
  {
   "cell_type": "code",
   "execution_count": 16,
   "metadata": {},
   "outputs": [
    {
     "data": {
      "text/html": [
       "<style  type=\"text/css\" >\n",
       "</style><table id=\"T_d7b6cf68_da06_11eb_a368_c8348e310a39\" ><thead>    <tr>        <th class=\"blank level0\" ></th>        <th class=\"col_heading level0 col0\" >Death</th>        <th class=\"col_heading level0 col1\" >TPD</th>        <th class=\"col_heading level0 col2\" >IP</th>    </tr>    <tr>        <th class=\"index_name level0\" >Year</th>        <th class=\"blank\" ></th>        <th class=\"blank\" ></th>        <th class=\"blank\" ></th>    </tr></thead><tbody>\n",
       "                <tr>\n",
       "                        <th id=\"T_d7b6cf68_da06_11eb_a368_c8348e310a39level0_row0\" class=\"row_heading level0 row0\" >Current</th>\n",
       "                        <td id=\"T_d7b6cf68_da06_11eb_a368_c8348e310a39row0_col0\" class=\"data row0 col0\" >1.90%</td>\n",
       "                        <td id=\"T_d7b6cf68_da06_11eb_a368_c8348e310a39row0_col1\" class=\"data row0 col1\" >1.90%</td>\n",
       "                        <td id=\"T_d7b6cf68_da06_11eb_a368_c8348e310a39row0_col2\" class=\"data row0 col2\" >11.50%</td>\n",
       "            </tr>\n",
       "            <tr>\n",
       "                        <th id=\"T_d7b6cf68_da06_11eb_a368_c8348e310a39level0_row1\" class=\"row_heading level0 row1\" >1</th>\n",
       "                        <td id=\"T_d7b6cf68_da06_11eb_a368_c8348e310a39row1_col0\" class=\"data row1 col0\" >1.90%</td>\n",
       "                        <td id=\"T_d7b6cf68_da06_11eb_a368_c8348e310a39row1_col1\" class=\"data row1 col1\" >1.90%</td>\n",
       "                        <td id=\"T_d7b6cf68_da06_11eb_a368_c8348e310a39row1_col2\" class=\"data row1 col2\" >11.50%</td>\n",
       "            </tr>\n",
       "            <tr>\n",
       "                        <th id=\"T_d7b6cf68_da06_11eb_a368_c8348e310a39level0_row2\" class=\"row_heading level0 row2\" >2</th>\n",
       "                        <td id=\"T_d7b6cf68_da06_11eb_a368_c8348e310a39row2_col0\" class=\"data row2 col0\" >1.90%</td>\n",
       "                        <td id=\"T_d7b6cf68_da06_11eb_a368_c8348e310a39row2_col1\" class=\"data row2 col1\" >1.90%</td>\n",
       "                        <td id=\"T_d7b6cf68_da06_11eb_a368_c8348e310a39row2_col2\" class=\"data row2 col2\" >11.50%</td>\n",
       "            </tr>\n",
       "            <tr>\n",
       "                        <th id=\"T_d7b6cf68_da06_11eb_a368_c8348e310a39level0_row3\" class=\"row_heading level0 row3\" >3</th>\n",
       "                        <td id=\"T_d7b6cf68_da06_11eb_a368_c8348e310a39row3_col0\" class=\"data row3 col0\" >1.90%</td>\n",
       "                        <td id=\"T_d7b6cf68_da06_11eb_a368_c8348e310a39row3_col1\" class=\"data row3 col1\" >1.90%</td>\n",
       "                        <td id=\"T_d7b6cf68_da06_11eb_a368_c8348e310a39row3_col2\" class=\"data row3 col2\" >11.50%</td>\n",
       "            </tr>\n",
       "            <tr>\n",
       "                        <th id=\"T_d7b6cf68_da06_11eb_a368_c8348e310a39level0_row4\" class=\"row_heading level0 row4\" >4</th>\n",
       "                        <td id=\"T_d7b6cf68_da06_11eb_a368_c8348e310a39row4_col0\" class=\"data row4 col0\" >1.90%</td>\n",
       "                        <td id=\"T_d7b6cf68_da06_11eb_a368_c8348e310a39row4_col1\" class=\"data row4 col1\" >1.90%</td>\n",
       "                        <td id=\"T_d7b6cf68_da06_11eb_a368_c8348e310a39row4_col2\" class=\"data row4 col2\" >11.50%</td>\n",
       "            </tr>\n",
       "            <tr>\n",
       "                        <th id=\"T_d7b6cf68_da06_11eb_a368_c8348e310a39level0_row5\" class=\"row_heading level0 row5\" >5</th>\n",
       "                        <td id=\"T_d7b6cf68_da06_11eb_a368_c8348e310a39row5_col0\" class=\"data row5 col0\" >1.90%</td>\n",
       "                        <td id=\"T_d7b6cf68_da06_11eb_a368_c8348e310a39row5_col1\" class=\"data row5 col1\" >1.90%</td>\n",
       "                        <td id=\"T_d7b6cf68_da06_11eb_a368_c8348e310a39row5_col2\" class=\"data row5 col2\" >11.50%</td>\n",
       "            </tr>\n",
       "            <tr>\n",
       "                        <th id=\"T_d7b6cf68_da06_11eb_a368_c8348e310a39level0_row6\" class=\"row_heading level0 row6\" >6</th>\n",
       "                        <td id=\"T_d7b6cf68_da06_11eb_a368_c8348e310a39row6_col0\" class=\"data row6 col0\" >1.90%</td>\n",
       "                        <td id=\"T_d7b6cf68_da06_11eb_a368_c8348e310a39row6_col1\" class=\"data row6 col1\" >1.90%</td>\n",
       "                        <td id=\"T_d7b6cf68_da06_11eb_a368_c8348e310a39row6_col2\" class=\"data row6 col2\" >11.50%</td>\n",
       "            </tr>\n",
       "    </tbody></table>"
      ],
      "text/plain": [
       "<pandas.io.formats.style.Styler at 0x1732082a448>"
      ]
     },
     "execution_count": 16,
     "metadata": {},
     "output_type": "execute_result"
    }
   ],
   "source": [
    "sva.claims_expense_reserve().style.format('{:,.2%}')"
   ]
  },
  {
   "cell_type": "markdown",
   "metadata": {},
   "source": [
    "### operating_expense_perc_premium"
   ]
  },
  {
   "cell_type": "code",
   "execution_count": 17,
   "metadata": {},
   "outputs": [
    {
     "data": {
      "text/html": [
       "<style  type=\"text/css\" >\n",
       "</style><table id=\"T_d862c55c_da06_11eb_9b16_c8348e310a39\" ><thead>    <tr>        <th class=\"blank level0\" ></th>        <th class=\"col_heading level0 col0\" >Death</th>        <th class=\"col_heading level0 col1\" >TPD</th>        <th class=\"col_heading level0 col2\" >IP</th>    </tr>    <tr>        <th class=\"index_name level0\" >Year</th>        <th class=\"blank\" ></th>        <th class=\"blank\" ></th>        <th class=\"blank\" ></th>    </tr></thead><tbody>\n",
       "                <tr>\n",
       "                        <th id=\"T_d862c55c_da06_11eb_9b16_c8348e310a39level0_row0\" class=\"row_heading level0 row0\" >Current</th>\n",
       "                        <td id=\"T_d862c55c_da06_11eb_9b16_c8348e310a39row0_col0\" class=\"data row0 col0\" >4.00%</td>\n",
       "                        <td id=\"T_d862c55c_da06_11eb_9b16_c8348e310a39row0_col1\" class=\"data row0 col1\" >4.00%</td>\n",
       "                        <td id=\"T_d862c55c_da06_11eb_9b16_c8348e310a39row0_col2\" class=\"data row0 col2\" >4.00%</td>\n",
       "            </tr>\n",
       "            <tr>\n",
       "                        <th id=\"T_d862c55c_da06_11eb_9b16_c8348e310a39level0_row1\" class=\"row_heading level0 row1\" >1</th>\n",
       "                        <td id=\"T_d862c55c_da06_11eb_9b16_c8348e310a39row1_col0\" class=\"data row1 col0\" >4.00%</td>\n",
       "                        <td id=\"T_d862c55c_da06_11eb_9b16_c8348e310a39row1_col1\" class=\"data row1 col1\" >4.00%</td>\n",
       "                        <td id=\"T_d862c55c_da06_11eb_9b16_c8348e310a39row1_col2\" class=\"data row1 col2\" >4.00%</td>\n",
       "            </tr>\n",
       "            <tr>\n",
       "                        <th id=\"T_d862c55c_da06_11eb_9b16_c8348e310a39level0_row2\" class=\"row_heading level0 row2\" >2</th>\n",
       "                        <td id=\"T_d862c55c_da06_11eb_9b16_c8348e310a39row2_col0\" class=\"data row2 col0\" >4.00%</td>\n",
       "                        <td id=\"T_d862c55c_da06_11eb_9b16_c8348e310a39row2_col1\" class=\"data row2 col1\" >4.00%</td>\n",
       "                        <td id=\"T_d862c55c_da06_11eb_9b16_c8348e310a39row2_col2\" class=\"data row2 col2\" >4.00%</td>\n",
       "            </tr>\n",
       "            <tr>\n",
       "                        <th id=\"T_d862c55c_da06_11eb_9b16_c8348e310a39level0_row3\" class=\"row_heading level0 row3\" >3</th>\n",
       "                        <td id=\"T_d862c55c_da06_11eb_9b16_c8348e310a39row3_col0\" class=\"data row3 col0\" >4.00%</td>\n",
       "                        <td id=\"T_d862c55c_da06_11eb_9b16_c8348e310a39row3_col1\" class=\"data row3 col1\" >4.00%</td>\n",
       "                        <td id=\"T_d862c55c_da06_11eb_9b16_c8348e310a39row3_col2\" class=\"data row3 col2\" >4.00%</td>\n",
       "            </tr>\n",
       "            <tr>\n",
       "                        <th id=\"T_d862c55c_da06_11eb_9b16_c8348e310a39level0_row4\" class=\"row_heading level0 row4\" >4</th>\n",
       "                        <td id=\"T_d862c55c_da06_11eb_9b16_c8348e310a39row4_col0\" class=\"data row4 col0\" >4.00%</td>\n",
       "                        <td id=\"T_d862c55c_da06_11eb_9b16_c8348e310a39row4_col1\" class=\"data row4 col1\" >4.00%</td>\n",
       "                        <td id=\"T_d862c55c_da06_11eb_9b16_c8348e310a39row4_col2\" class=\"data row4 col2\" >4.00%</td>\n",
       "            </tr>\n",
       "            <tr>\n",
       "                        <th id=\"T_d862c55c_da06_11eb_9b16_c8348e310a39level0_row5\" class=\"row_heading level0 row5\" >5</th>\n",
       "                        <td id=\"T_d862c55c_da06_11eb_9b16_c8348e310a39row5_col0\" class=\"data row5 col0\" >4.00%</td>\n",
       "                        <td id=\"T_d862c55c_da06_11eb_9b16_c8348e310a39row5_col1\" class=\"data row5 col1\" >4.00%</td>\n",
       "                        <td id=\"T_d862c55c_da06_11eb_9b16_c8348e310a39row5_col2\" class=\"data row5 col2\" >4.00%</td>\n",
       "            </tr>\n",
       "            <tr>\n",
       "                        <th id=\"T_d862c55c_da06_11eb_9b16_c8348e310a39level0_row6\" class=\"row_heading level0 row6\" >6</th>\n",
       "                        <td id=\"T_d862c55c_da06_11eb_9b16_c8348e310a39row6_col0\" class=\"data row6 col0\" >4.00%</td>\n",
       "                        <td id=\"T_d862c55c_da06_11eb_9b16_c8348e310a39row6_col1\" class=\"data row6 col1\" >4.00%</td>\n",
       "                        <td id=\"T_d862c55c_da06_11eb_9b16_c8348e310a39row6_col2\" class=\"data row6 col2\" >4.00%</td>\n",
       "            </tr>\n",
       "    </tbody></table>"
      ],
      "text/plain": [
       "<pandas.io.formats.style.Styler at 0x1732044f7c8>"
      ]
     },
     "execution_count": 17,
     "metadata": {},
     "output_type": "execute_result"
    }
   ],
   "source": [
    "sva.operating_expense_perc_premium().style.format('{:,.2%}')"
   ]
  },
  {
   "cell_type": "markdown",
   "metadata": {},
   "source": [
    "### budgeted_trustee_expense"
   ]
  },
  {
   "cell_type": "code",
   "execution_count": 18,
   "metadata": {},
   "outputs": [
    {
     "data": {
      "text/html": [
       "<style  type=\"text/css\" >\n",
       "</style><table id=\"T_d9178c1c_da06_11eb_81ba_c8348e310a39\" ><thead>    <tr>        <th class=\"blank level0\" ></th>        <th class=\"col_heading level0 col0\" >Death & TPD</th>        <th class=\"col_heading level0 col1\" >IP</th>    </tr>    <tr>        <th class=\"index_name level0\" >Month</th>        <th class=\"blank\" ></th>        <th class=\"blank\" ></th>    </tr></thead><tbody>\n",
       "                <tr>\n",
       "                        <th id=\"T_d9178c1c_da06_11eb_81ba_c8348e310a39level0_row0\" class=\"row_heading level0 row0\" >1</th>\n",
       "                        <td id=\"T_d9178c1c_da06_11eb_81ba_c8348e310a39row0_col0\" class=\"data row0 col0\" >-230,000</td>\n",
       "                        <td id=\"T_d9178c1c_da06_11eb_81ba_c8348e310a39row0_col1\" class=\"data row0 col1\" >-230,000</td>\n",
       "            </tr>\n",
       "            <tr>\n",
       "                        <th id=\"T_d9178c1c_da06_11eb_81ba_c8348e310a39level0_row1\" class=\"row_heading level0 row1\" >2</th>\n",
       "                        <td id=\"T_d9178c1c_da06_11eb_81ba_c8348e310a39row1_col0\" class=\"data row1 col0\" >-230,000</td>\n",
       "                        <td id=\"T_d9178c1c_da06_11eb_81ba_c8348e310a39row1_col1\" class=\"data row1 col1\" >-230,000</td>\n",
       "            </tr>\n",
       "            <tr>\n",
       "                        <th id=\"T_d9178c1c_da06_11eb_81ba_c8348e310a39level0_row2\" class=\"row_heading level0 row2\" >3</th>\n",
       "                        <td id=\"T_d9178c1c_da06_11eb_81ba_c8348e310a39row2_col0\" class=\"data row2 col0\" >-230,000</td>\n",
       "                        <td id=\"T_d9178c1c_da06_11eb_81ba_c8348e310a39row2_col1\" class=\"data row2 col1\" >-230,000</td>\n",
       "            </tr>\n",
       "            <tr>\n",
       "                        <th id=\"T_d9178c1c_da06_11eb_81ba_c8348e310a39level0_row3\" class=\"row_heading level0 row3\" >4</th>\n",
       "                        <td id=\"T_d9178c1c_da06_11eb_81ba_c8348e310a39row3_col0\" class=\"data row3 col0\" >-230,000</td>\n",
       "                        <td id=\"T_d9178c1c_da06_11eb_81ba_c8348e310a39row3_col1\" class=\"data row3 col1\" >-230,000</td>\n",
       "            </tr>\n",
       "            <tr>\n",
       "                        <th id=\"T_d9178c1c_da06_11eb_81ba_c8348e310a39level0_row4\" class=\"row_heading level0 row4\" >5</th>\n",
       "                        <td id=\"T_d9178c1c_da06_11eb_81ba_c8348e310a39row4_col0\" class=\"data row4 col0\" >-230,000</td>\n",
       "                        <td id=\"T_d9178c1c_da06_11eb_81ba_c8348e310a39row4_col1\" class=\"data row4 col1\" >-230,000</td>\n",
       "            </tr>\n",
       "            <tr>\n",
       "                        <th id=\"T_d9178c1c_da06_11eb_81ba_c8348e310a39level0_row5\" class=\"row_heading level0 row5\" >6</th>\n",
       "                        <td id=\"T_d9178c1c_da06_11eb_81ba_c8348e310a39row5_col0\" class=\"data row5 col0\" >-230,000</td>\n",
       "                        <td id=\"T_d9178c1c_da06_11eb_81ba_c8348e310a39row5_col1\" class=\"data row5 col1\" >-230,000</td>\n",
       "            </tr>\n",
       "            <tr>\n",
       "                        <th id=\"T_d9178c1c_da06_11eb_81ba_c8348e310a39level0_row6\" class=\"row_heading level0 row6\" >7</th>\n",
       "                        <td id=\"T_d9178c1c_da06_11eb_81ba_c8348e310a39row6_col0\" class=\"data row6 col0\" >-230,000</td>\n",
       "                        <td id=\"T_d9178c1c_da06_11eb_81ba_c8348e310a39row6_col1\" class=\"data row6 col1\" >-230,000</td>\n",
       "            </tr>\n",
       "            <tr>\n",
       "                        <th id=\"T_d9178c1c_da06_11eb_81ba_c8348e310a39level0_row7\" class=\"row_heading level0 row7\" >8</th>\n",
       "                        <td id=\"T_d9178c1c_da06_11eb_81ba_c8348e310a39row7_col0\" class=\"data row7 col0\" >-230,000</td>\n",
       "                        <td id=\"T_d9178c1c_da06_11eb_81ba_c8348e310a39row7_col1\" class=\"data row7 col1\" >-230,000</td>\n",
       "            </tr>\n",
       "            <tr>\n",
       "                        <th id=\"T_d9178c1c_da06_11eb_81ba_c8348e310a39level0_row8\" class=\"row_heading level0 row8\" >9</th>\n",
       "                        <td id=\"T_d9178c1c_da06_11eb_81ba_c8348e310a39row8_col0\" class=\"data row8 col0\" >-230,000</td>\n",
       "                        <td id=\"T_d9178c1c_da06_11eb_81ba_c8348e310a39row8_col1\" class=\"data row8 col1\" >-230,000</td>\n",
       "            </tr>\n",
       "            <tr>\n",
       "                        <th id=\"T_d9178c1c_da06_11eb_81ba_c8348e310a39level0_row9\" class=\"row_heading level0 row9\" >10</th>\n",
       "                        <td id=\"T_d9178c1c_da06_11eb_81ba_c8348e310a39row9_col0\" class=\"data row9 col0\" >-230,000</td>\n",
       "                        <td id=\"T_d9178c1c_da06_11eb_81ba_c8348e310a39row9_col1\" class=\"data row9 col1\" >-230,000</td>\n",
       "            </tr>\n",
       "            <tr>\n",
       "                        <th id=\"T_d9178c1c_da06_11eb_81ba_c8348e310a39level0_row10\" class=\"row_heading level0 row10\" >11</th>\n",
       "                        <td id=\"T_d9178c1c_da06_11eb_81ba_c8348e310a39row10_col0\" class=\"data row10 col0\" >-230,000</td>\n",
       "                        <td id=\"T_d9178c1c_da06_11eb_81ba_c8348e310a39row10_col1\" class=\"data row10 col1\" >-230,000</td>\n",
       "            </tr>\n",
       "            <tr>\n",
       "                        <th id=\"T_d9178c1c_da06_11eb_81ba_c8348e310a39level0_row11\" class=\"row_heading level0 row11\" >12</th>\n",
       "                        <td id=\"T_d9178c1c_da06_11eb_81ba_c8348e310a39row11_col0\" class=\"data row11 col0\" >-230,000</td>\n",
       "                        <td id=\"T_d9178c1c_da06_11eb_81ba_c8348e310a39row11_col1\" class=\"data row11 col1\" >-230,000</td>\n",
       "            </tr>\n",
       "    </tbody></table>"
      ],
      "text/plain": [
       "<pandas.io.formats.style.Styler at 0x173204639c8>"
      ]
     },
     "execution_count": 18,
     "metadata": {},
     "output_type": "execute_result"
    }
   ],
   "source": [
    "sva.budgeted_trustee_expense().style.format('{:,}')"
   ]
  },
  {
   "cell_type": "markdown",
   "metadata": {},
   "source": [
    "### projected_trustee_expense"
   ]
  },
  {
   "cell_type": "code",
   "execution_count": 19,
   "metadata": {},
   "outputs": [
    {
     "data": {
      "text/html": [
       "<style  type=\"text/css\" >\n",
       "</style><table id=\"T_d9c66658_da06_11eb_bf9a_c8348e310a39\" ><thead>    <tr>        <th class=\"blank level0\" ></th>        <th class=\"col_heading level0 col0\" >Death & TPD</th>        <th class=\"col_heading level0 col1\" >IP</th>    </tr>    <tr>        <th class=\"index_name level0\" >Year</th>        <th class=\"blank\" ></th>        <th class=\"blank\" ></th>    </tr></thead><tbody>\n",
       "                <tr>\n",
       "                        <th id=\"T_d9c66658_da06_11eb_bf9a_c8348e310a39level0_row0\" class=\"row_heading level0 row0\" >1</th>\n",
       "                        <td id=\"T_d9c66658_da06_11eb_bf9a_c8348e310a39row0_col0\" class=\"data row0 col0\" >1.00%</td>\n",
       "                        <td id=\"T_d9c66658_da06_11eb_bf9a_c8348e310a39row0_col1\" class=\"data row0 col1\" >1.00%</td>\n",
       "            </tr>\n",
       "            <tr>\n",
       "                        <th id=\"T_d9c66658_da06_11eb_bf9a_c8348e310a39level0_row1\" class=\"row_heading level0 row1\" >2</th>\n",
       "                        <td id=\"T_d9c66658_da06_11eb_bf9a_c8348e310a39row1_col0\" class=\"data row1 col0\" >1.00%</td>\n",
       "                        <td id=\"T_d9c66658_da06_11eb_bf9a_c8348e310a39row1_col1\" class=\"data row1 col1\" >1.00%</td>\n",
       "            </tr>\n",
       "            <tr>\n",
       "                        <th id=\"T_d9c66658_da06_11eb_bf9a_c8348e310a39level0_row2\" class=\"row_heading level0 row2\" >3</th>\n",
       "                        <td id=\"T_d9c66658_da06_11eb_bf9a_c8348e310a39row2_col0\" class=\"data row2 col0\" >1.00%</td>\n",
       "                        <td id=\"T_d9c66658_da06_11eb_bf9a_c8348e310a39row2_col1\" class=\"data row2 col1\" >1.00%</td>\n",
       "            </tr>\n",
       "            <tr>\n",
       "                        <th id=\"T_d9c66658_da06_11eb_bf9a_c8348e310a39level0_row3\" class=\"row_heading level0 row3\" >4</th>\n",
       "                        <td id=\"T_d9c66658_da06_11eb_bf9a_c8348e310a39row3_col0\" class=\"data row3 col0\" >1.00%</td>\n",
       "                        <td id=\"T_d9c66658_da06_11eb_bf9a_c8348e310a39row3_col1\" class=\"data row3 col1\" >1.00%</td>\n",
       "            </tr>\n",
       "            <tr>\n",
       "                        <th id=\"T_d9c66658_da06_11eb_bf9a_c8348e310a39level0_row4\" class=\"row_heading level0 row4\" >5</th>\n",
       "                        <td id=\"T_d9c66658_da06_11eb_bf9a_c8348e310a39row4_col0\" class=\"data row4 col0\" >1.00%</td>\n",
       "                        <td id=\"T_d9c66658_da06_11eb_bf9a_c8348e310a39row4_col1\" class=\"data row4 col1\" >1.00%</td>\n",
       "            </tr>\n",
       "            <tr>\n",
       "                        <th id=\"T_d9c66658_da06_11eb_bf9a_c8348e310a39level0_row5\" class=\"row_heading level0 row5\" >6</th>\n",
       "                        <td id=\"T_d9c66658_da06_11eb_bf9a_c8348e310a39row5_col0\" class=\"data row5 col0\" >1.00%</td>\n",
       "                        <td id=\"T_d9c66658_da06_11eb_bf9a_c8348e310a39row5_col1\" class=\"data row5 col1\" >1.00%</td>\n",
       "            </tr>\n",
       "            <tr>\n",
       "                        <th id=\"T_d9c66658_da06_11eb_bf9a_c8348e310a39level0_row6\" class=\"row_heading level0 row6\" >7</th>\n",
       "                        <td id=\"T_d9c66658_da06_11eb_bf9a_c8348e310a39row6_col0\" class=\"data row6 col0\" >1.00%</td>\n",
       "                        <td id=\"T_d9c66658_da06_11eb_bf9a_c8348e310a39row6_col1\" class=\"data row6 col1\" >1.00%</td>\n",
       "            </tr>\n",
       "            <tr>\n",
       "                        <th id=\"T_d9c66658_da06_11eb_bf9a_c8348e310a39level0_row7\" class=\"row_heading level0 row7\" >8</th>\n",
       "                        <td id=\"T_d9c66658_da06_11eb_bf9a_c8348e310a39row7_col0\" class=\"data row7 col0\" >1.00%</td>\n",
       "                        <td id=\"T_d9c66658_da06_11eb_bf9a_c8348e310a39row7_col1\" class=\"data row7 col1\" >1.00%</td>\n",
       "            </tr>\n",
       "            <tr>\n",
       "                        <th id=\"T_d9c66658_da06_11eb_bf9a_c8348e310a39level0_row8\" class=\"row_heading level0 row8\" >9</th>\n",
       "                        <td id=\"T_d9c66658_da06_11eb_bf9a_c8348e310a39row8_col0\" class=\"data row8 col0\" >1.00%</td>\n",
       "                        <td id=\"T_d9c66658_da06_11eb_bf9a_c8348e310a39row8_col1\" class=\"data row8 col1\" >1.00%</td>\n",
       "            </tr>\n",
       "            <tr>\n",
       "                        <th id=\"T_d9c66658_da06_11eb_bf9a_c8348e310a39level0_row9\" class=\"row_heading level0 row9\" >10</th>\n",
       "                        <td id=\"T_d9c66658_da06_11eb_bf9a_c8348e310a39row9_col0\" class=\"data row9 col0\" >1.00%</td>\n",
       "                        <td id=\"T_d9c66658_da06_11eb_bf9a_c8348e310a39row9_col1\" class=\"data row9 col1\" >1.00%</td>\n",
       "            </tr>\n",
       "    </tbody></table>"
      ],
      "text/plain": [
       "<pandas.io.formats.style.Styler at 0x17320434448>"
      ]
     },
     "execution_count": 19,
     "metadata": {},
     "output_type": "execute_result"
    }
   ],
   "source": [
    "sva.projected_trustee_expense().style.format('{:,.2%}')"
   ]
  },
  {
   "cell_type": "markdown",
   "metadata": {},
   "source": [
    "### ip_continuance_rates"
   ]
  },
  {
   "cell_type": "code",
   "execution_count": 20,
   "metadata": {},
   "outputs": [
    {
     "data": {
      "text/html": [
       "<style  type=\"text/css\" >\n",
       "</style><table id=\"T_da76801c_da06_11eb_9591_c8348e310a39\" ><thead>    <tr>        <th class=\"blank level0\" ></th>        <th class=\"col_heading level0 col0\" >30</th>        <th class=\"col_heading level0 col1\" >60</th>        <th class=\"col_heading level0 col2\" >90</th>        <th class=\"col_heading level0 col3\" >180</th>    </tr>    <tr>        <th class=\"index_name level0\" >Month</th>        <th class=\"blank\" ></th>        <th class=\"blank\" ></th>        <th class=\"blank\" ></th>        <th class=\"blank\" ></th>    </tr></thead><tbody>\n",
       "                <tr>\n",
       "                        <th id=\"T_da76801c_da06_11eb_9591_c8348e310a39level0_row0\" class=\"row_heading level0 row0\" >1</th>\n",
       "                        <td id=\"T_da76801c_da06_11eb_9591_c8348e310a39row0_col0\" class=\"data row0 col0\" >100.00%</td>\n",
       "                        <td id=\"T_da76801c_da06_11eb_9591_c8348e310a39row0_col1\" class=\"data row0 col1\" >100.00%</td>\n",
       "                        <td id=\"T_da76801c_da06_11eb_9591_c8348e310a39row0_col2\" class=\"data row0 col2\" >100.00%</td>\n",
       "                        <td id=\"T_da76801c_da06_11eb_9591_c8348e310a39row0_col3\" class=\"data row0 col3\" >100.00%</td>\n",
       "            </tr>\n",
       "            <tr>\n",
       "                        <th id=\"T_da76801c_da06_11eb_9591_c8348e310a39level0_row1\" class=\"row_heading level0 row1\" >2</th>\n",
       "                        <td id=\"T_da76801c_da06_11eb_9591_c8348e310a39row1_col0\" class=\"data row1 col0\" >70.00%</td>\n",
       "                        <td id=\"T_da76801c_da06_11eb_9591_c8348e310a39row1_col1\" class=\"data row1 col1\" >70.00%</td>\n",
       "                        <td id=\"T_da76801c_da06_11eb_9591_c8348e310a39row1_col2\" class=\"data row1 col2\" >70.00%</td>\n",
       "                        <td id=\"T_da76801c_da06_11eb_9591_c8348e310a39row1_col3\" class=\"data row1 col3\" >70.00%</td>\n",
       "            </tr>\n",
       "            <tr>\n",
       "                        <th id=\"T_da76801c_da06_11eb_9591_c8348e310a39level0_row2\" class=\"row_heading level0 row2\" >3</th>\n",
       "                        <td id=\"T_da76801c_da06_11eb_9591_c8348e310a39row2_col0\" class=\"data row2 col0\" >49.00%</td>\n",
       "                        <td id=\"T_da76801c_da06_11eb_9591_c8348e310a39row2_col1\" class=\"data row2 col1\" >49.00%</td>\n",
       "                        <td id=\"T_da76801c_da06_11eb_9591_c8348e310a39row2_col2\" class=\"data row2 col2\" >49.00%</td>\n",
       "                        <td id=\"T_da76801c_da06_11eb_9591_c8348e310a39row2_col3\" class=\"data row2 col3\" >49.00%</td>\n",
       "            </tr>\n",
       "            <tr>\n",
       "                        <th id=\"T_da76801c_da06_11eb_9591_c8348e310a39level0_row3\" class=\"row_heading level0 row3\" >4</th>\n",
       "                        <td id=\"T_da76801c_da06_11eb_9591_c8348e310a39row3_col0\" class=\"data row3 col0\" >34.30%</td>\n",
       "                        <td id=\"T_da76801c_da06_11eb_9591_c8348e310a39row3_col1\" class=\"data row3 col1\" >34.30%</td>\n",
       "                        <td id=\"T_da76801c_da06_11eb_9591_c8348e310a39row3_col2\" class=\"data row3 col2\" >34.30%</td>\n",
       "                        <td id=\"T_da76801c_da06_11eb_9591_c8348e310a39row3_col3\" class=\"data row3 col3\" >34.30%</td>\n",
       "            </tr>\n",
       "            <tr>\n",
       "                        <th id=\"T_da76801c_da06_11eb_9591_c8348e310a39level0_row4\" class=\"row_heading level0 row4\" >5</th>\n",
       "                        <td id=\"T_da76801c_da06_11eb_9591_c8348e310a39row4_col0\" class=\"data row4 col0\" >24.01%</td>\n",
       "                        <td id=\"T_da76801c_da06_11eb_9591_c8348e310a39row4_col1\" class=\"data row4 col1\" >24.01%</td>\n",
       "                        <td id=\"T_da76801c_da06_11eb_9591_c8348e310a39row4_col2\" class=\"data row4 col2\" >24.01%</td>\n",
       "                        <td id=\"T_da76801c_da06_11eb_9591_c8348e310a39row4_col3\" class=\"data row4 col3\" >24.01%</td>\n",
       "            </tr>\n",
       "            <tr>\n",
       "                        <th id=\"T_da76801c_da06_11eb_9591_c8348e310a39level0_row5\" class=\"row_heading level0 row5\" >6</th>\n",
       "                        <td id=\"T_da76801c_da06_11eb_9591_c8348e310a39row5_col0\" class=\"data row5 col0\" >16.81%</td>\n",
       "                        <td id=\"T_da76801c_da06_11eb_9591_c8348e310a39row5_col1\" class=\"data row5 col1\" >16.81%</td>\n",
       "                        <td id=\"T_da76801c_da06_11eb_9591_c8348e310a39row5_col2\" class=\"data row5 col2\" >16.81%</td>\n",
       "                        <td id=\"T_da76801c_da06_11eb_9591_c8348e310a39row5_col3\" class=\"data row5 col3\" >16.81%</td>\n",
       "            </tr>\n",
       "            <tr>\n",
       "                        <th id=\"T_da76801c_da06_11eb_9591_c8348e310a39level0_row6\" class=\"row_heading level0 row6\" >7</th>\n",
       "                        <td id=\"T_da76801c_da06_11eb_9591_c8348e310a39row6_col0\" class=\"data row6 col0\" >11.76%</td>\n",
       "                        <td id=\"T_da76801c_da06_11eb_9591_c8348e310a39row6_col1\" class=\"data row6 col1\" >11.76%</td>\n",
       "                        <td id=\"T_da76801c_da06_11eb_9591_c8348e310a39row6_col2\" class=\"data row6 col2\" >11.76%</td>\n",
       "                        <td id=\"T_da76801c_da06_11eb_9591_c8348e310a39row6_col3\" class=\"data row6 col3\" >11.76%</td>\n",
       "            </tr>\n",
       "            <tr>\n",
       "                        <th id=\"T_da76801c_da06_11eb_9591_c8348e310a39level0_row7\" class=\"row_heading level0 row7\" >8</th>\n",
       "                        <td id=\"T_da76801c_da06_11eb_9591_c8348e310a39row7_col0\" class=\"data row7 col0\" >8.24%</td>\n",
       "                        <td id=\"T_da76801c_da06_11eb_9591_c8348e310a39row7_col1\" class=\"data row7 col1\" >8.24%</td>\n",
       "                        <td id=\"T_da76801c_da06_11eb_9591_c8348e310a39row7_col2\" class=\"data row7 col2\" >8.24%</td>\n",
       "                        <td id=\"T_da76801c_da06_11eb_9591_c8348e310a39row7_col3\" class=\"data row7 col3\" >8.24%</td>\n",
       "            </tr>\n",
       "            <tr>\n",
       "                        <th id=\"T_da76801c_da06_11eb_9591_c8348e310a39level0_row8\" class=\"row_heading level0 row8\" >9</th>\n",
       "                        <td id=\"T_da76801c_da06_11eb_9591_c8348e310a39row8_col0\" class=\"data row8 col0\" >5.76%</td>\n",
       "                        <td id=\"T_da76801c_da06_11eb_9591_c8348e310a39row8_col1\" class=\"data row8 col1\" >5.76%</td>\n",
       "                        <td id=\"T_da76801c_da06_11eb_9591_c8348e310a39row8_col2\" class=\"data row8 col2\" >5.76%</td>\n",
       "                        <td id=\"T_da76801c_da06_11eb_9591_c8348e310a39row8_col3\" class=\"data row8 col3\" >5.76%</td>\n",
       "            </tr>\n",
       "            <tr>\n",
       "                        <th id=\"T_da76801c_da06_11eb_9591_c8348e310a39level0_row9\" class=\"row_heading level0 row9\" >10</th>\n",
       "                        <td id=\"T_da76801c_da06_11eb_9591_c8348e310a39row9_col0\" class=\"data row9 col0\" >4.04%</td>\n",
       "                        <td id=\"T_da76801c_da06_11eb_9591_c8348e310a39row9_col1\" class=\"data row9 col1\" >4.04%</td>\n",
       "                        <td id=\"T_da76801c_da06_11eb_9591_c8348e310a39row9_col2\" class=\"data row9 col2\" >4.04%</td>\n",
       "                        <td id=\"T_da76801c_da06_11eb_9591_c8348e310a39row9_col3\" class=\"data row9 col3\" >4.04%</td>\n",
       "            </tr>\n",
       "    </tbody></table>"
      ],
      "text/plain": [
       "<pandas.io.formats.style.Styler at 0x173203f1908>"
      ]
     },
     "execution_count": 20,
     "metadata": {},
     "output_type": "execute_result"
    }
   ],
   "source": [
    "sva.ip_continuance_rates().head(10).style.format('{:,.2%}')"
   ]
  },
  {
   "cell_type": "markdown",
   "metadata": {},
   "source": [
    "### dlr_parameters"
   ]
  },
  {
   "cell_type": "markdown",
   "metadata": {},
   "source": [
    "#### salary_replacement_ratio"
   ]
  },
  {
   "cell_type": "code",
   "execution_count": 21,
   "metadata": {},
   "outputs": [
    {
     "data": {
      "text/html": [
       "<style  type=\"text/css\" >\n",
       "</style><table id=\"T_db3c61ae_da06_11eb_9cfb_c8348e310a39\" ><thead>    <tr>        <th class=\"blank level0\" ></th>        <th class=\"col_heading level0 col0\" >Parameters</th>    </tr>    <tr>        <th class=\"index_name level0\" >Item</th>        <th class=\"blank\" ></th>    </tr></thead><tbody>\n",
       "                <tr>\n",
       "                        <th id=\"T_db3c61ae_da06_11eb_9cfb_c8348e310a39level0_row0\" class=\"row_heading level0 row0\" >Salary replacement ratio</th>\n",
       "                        <td id=\"T_db3c61ae_da06_11eb_9cfb_c8348e310a39row0_col0\" class=\"data row0 col0\" >75.00%</td>\n",
       "            </tr>\n",
       "    </tbody></table>"
      ],
      "text/plain": [
       "<pandas.io.formats.style.Styler at 0x17320449cc8>"
      ]
     },
     "execution_count": 21,
     "metadata": {},
     "output_type": "execute_result"
    }
   ],
   "source": [
    "sva.dlr_parameters.salary_replacement_ratio().style.format('{:,.2%}')"
   ]
  },
  {
   "cell_type": "markdown",
   "metadata": {},
   "source": [
    "#### continuing_retirement_benefit"
   ]
  },
  {
   "cell_type": "code",
   "execution_count": 22,
   "metadata": {},
   "outputs": [
    {
     "data": {
      "text/html": [
       "<style  type=\"text/css\" >\n",
       "</style><table id=\"T_dbe5896c_da06_11eb_83d7_c8348e310a39\" ><thead>    <tr>        <th class=\"blank level0\" ></th>        <th class=\"col_heading level0 col0\" >Parameters</th>    </tr>    <tr>        <th class=\"index_name level0\" >Item</th>        <th class=\"blank\" ></th>    </tr></thead><tbody>\n",
       "                <tr>\n",
       "                        <th id=\"T_dbe5896c_da06_11eb_83d7_c8348e310a39level0_row0\" class=\"row_heading level0 row0\" >Continuing retirement benefit</th>\n",
       "                        <td id=\"T_dbe5896c_da06_11eb_83d7_c8348e310a39row0_col0\" class=\"data row0 col0\" >12.75%</td>\n",
       "            </tr>\n",
       "    </tbody></table>"
      ],
      "text/plain": [
       "<pandas.io.formats.style.Styler at 0x17320948188>"
      ]
     },
     "execution_count": 22,
     "metadata": {},
     "output_type": "execute_result"
    }
   ],
   "source": [
    "sva.dlr_parameters.continuing_retirement_benefit().style.format('{:,.2%}')"
   ]
  },
  {
   "cell_type": "markdown",
   "metadata": {},
   "source": [
    "#### assumed_avg_age_at_disability"
   ]
  },
  {
   "cell_type": "code",
   "execution_count": 23,
   "metadata": {},
   "outputs": [
    {
     "data": {
      "text/html": [
       "<style  type=\"text/css\" >\n",
       "</style><table id=\"T_dc92c34c_da06_11eb_863a_c8348e310a39\" ><thead>    <tr>        <th class=\"blank level0\" ></th>        <th class=\"col_heading level0 col0\" >Parameters</th>    </tr>    <tr>        <th class=\"index_name level0\" >Item</th>        <th class=\"blank\" ></th>    </tr></thead><tbody>\n",
       "                <tr>\n",
       "                        <th id=\"T_dc92c34c_da06_11eb_863a_c8348e310a39level0_row0\" class=\"row_heading level0 row0\" >Assumed average age at disability</th>\n",
       "                        <td id=\"T_dc92c34c_da06_11eb_863a_c8348e310a39row0_col0\" class=\"data row0 col0\" >47.0</td>\n",
       "            </tr>\n",
       "    </tbody></table>"
      ],
      "text/plain": [
       "<pandas.io.formats.style.Styler at 0x17320959048>"
      ]
     },
     "execution_count": 23,
     "metadata": {},
     "output_type": "execute_result"
    }
   ],
   "source": [
    "sva.dlr_parameters.assumed_avg_age_at_disability().style.format('{:,}')"
   ]
  },
  {
   "cell_type": "markdown",
   "metadata": {},
   "source": [
    "#### payment_ratio"
   ]
  },
  {
   "cell_type": "code",
   "execution_count": 24,
   "metadata": {},
   "outputs": [
    {
     "data": {
      "text/html": [
       "<style  type=\"text/css\" >\n",
       "</style><table id=\"T_dd4a7102_da06_11eb_80ff_c8348e310a39\" ><thead>    <tr>        <th class=\"blank level0\" ></th>        <th class=\"col_heading level0 col0\" >Parameters</th>    </tr>    <tr>        <th class=\"index_name level0\" >Item</th>        <th class=\"blank\" ></th>    </tr></thead><tbody>\n",
       "                <tr>\n",
       "                        <th id=\"T_dd4a7102_da06_11eb_80ff_c8348e310a39level0_row0\" class=\"row_heading level0 row0\" >Payment ratio (for claim duration up to and including 3 m)</th>\n",
       "                        <td id=\"T_dd4a7102_da06_11eb_80ff_c8348e310a39row0_col0\" class=\"data row0 col0\" >87.90%</td>\n",
       "            </tr>\n",
       "    </tbody></table>"
      ],
      "text/plain": [
       "<pandas.io.formats.style.Styler at 0x173209ca588>"
      ]
     },
     "execution_count": 24,
     "metadata": {},
     "output_type": "execute_result"
    }
   ],
   "source": [
    "sva.dlr_parameters.payment_ratio().style.format('{:,.2%}')"
   ]
  },
  {
   "cell_type": "markdown",
   "metadata": {},
   "source": [
    "#### reopened_claims_reserves_loading"
   ]
  },
  {
   "cell_type": "code",
   "execution_count": 25,
   "metadata": {},
   "outputs": [
    {
     "data": {
      "text/html": [
       "<style  type=\"text/css\" >\n",
       "</style><table id=\"T_ddf6255c_da06_11eb_94e6_c8348e310a39\" ><thead>    <tr>        <th class=\"blank level0\" ></th>        <th class=\"col_heading level0 col0\" >Parameters</th>    </tr>    <tr>        <th class=\"index_name level0\" >Item</th>        <th class=\"blank\" ></th>    </tr></thead><tbody>\n",
       "                <tr>\n",
       "                        <th id=\"T_ddf6255c_da06_11eb_94e6_c8348e310a39level0_row0\" class=\"row_heading level0 row0\" >Reopened claims reserves loading</th>\n",
       "                        <td id=\"T_ddf6255c_da06_11eb_94e6_c8348e310a39row0_col0\" class=\"data row0 col0\" >1.00%</td>\n",
       "            </tr>\n",
       "    </tbody></table>"
      ],
      "text/plain": [
       "<pandas.io.formats.style.Styler at 0x173203d7948>"
      ]
     },
     "execution_count": 25,
     "metadata": {},
     "output_type": "execute_result"
    }
   ],
   "source": [
    "sva.dlr_parameters.reopened_claims_reserves_loading().style.format('{:,.2%}')"
   ]
  },
  {
   "cell_type": "markdown",
   "metadata": {},
   "source": [
    "#### benefit_indexation_month"
   ]
  },
  {
   "cell_type": "code",
   "execution_count": 26,
   "metadata": {},
   "outputs": [
    {
     "data": {
      "text/html": [
       "<style  type=\"text/css\" >\n",
       "</style><table id=\"T_dea2ff6e_da06_11eb_82c5_c8348e310a39\" ><thead>    <tr>        <th class=\"blank level0\" ></th>        <th class=\"col_heading level0 col0\" >Parameters</th>    </tr>    <tr>        <th class=\"index_name level0\" >Item</th>        <th class=\"blank\" ></th>    </tr></thead><tbody>\n",
       "                <tr>\n",
       "                        <th id=\"T_dea2ff6e_da06_11eb_82c5_c8348e310a39level0_row0\" class=\"row_heading level0 row0\" >Benefit Indexation month</th>\n",
       "                        <td id=\"T_dea2ff6e_da06_11eb_82c5_c8348e310a39row0_col0\" class=\"data row0 col0\" >8.0</td>\n",
       "            </tr>\n",
       "    </tbody></table>"
      ],
      "text/plain": [
       "<pandas.io.formats.style.Styler at 0x173208defc8>"
      ]
     },
     "execution_count": 26,
     "metadata": {},
     "output_type": "execute_result"
    }
   ],
   "source": [
    "sva.dlr_parameters.benefit_indexation_month().style.format('{:,}')"
   ]
  },
  {
   "cell_type": "markdown",
   "metadata": {},
   "source": [
    "### ip_ibnr_adjustment"
   ]
  },
  {
   "cell_type": "code",
   "execution_count": 27,
   "metadata": {},
   "outputs": [
    {
     "data": {
      "text/html": [
       "<style  type=\"text/css\" >\n",
       "</style><table id=\"T_df5633ba_da06_11eb_b3d5_c8348e310a39\" ><thead>    <tr>        <th class=\"blank level0\" ></th>        <th class=\"col_heading level0 col0\" >DoD vs SLWP delay adjustment (5)</th>    </tr>    <tr>        <th class=\"index_name level0\" >WP</th>        <th class=\"blank\" ></th>    </tr></thead><tbody>\n",
       "                <tr>\n",
       "                        <th id=\"T_df5633ba_da06_11eb_b3d5_c8348e310a39level0_row0\" class=\"row_heading level0 row0\" >30</th>\n",
       "                        <td id=\"T_df5633ba_da06_11eb_b3d5_c8348e310a39row0_col0\" class=\"data row0 col0\" >0</td>\n",
       "            </tr>\n",
       "            <tr>\n",
       "                        <th id=\"T_df5633ba_da06_11eb_b3d5_c8348e310a39level0_row1\" class=\"row_heading level0 row1\" >60</th>\n",
       "                        <td id=\"T_df5633ba_da06_11eb_b3d5_c8348e310a39row1_col0\" class=\"data row1 col0\" >0</td>\n",
       "            </tr>\n",
       "            <tr>\n",
       "                        <th id=\"T_df5633ba_da06_11eb_b3d5_c8348e310a39level0_row2\" class=\"row_heading level0 row2\" >90</th>\n",
       "                        <td id=\"T_df5633ba_da06_11eb_b3d5_c8348e310a39row2_col0\" class=\"data row2 col0\" >0</td>\n",
       "            </tr>\n",
       "            <tr>\n",
       "                        <th id=\"T_df5633ba_da06_11eb_b3d5_c8348e310a39level0_row3\" class=\"row_heading level0 row3\" >180</th>\n",
       "                        <td id=\"T_df5633ba_da06_11eb_b3d5_c8348e310a39row3_col0\" class=\"data row3 col0\" >0</td>\n",
       "            </tr>\n",
       "    </tbody></table>"
      ],
      "text/plain": [
       "<pandas.io.formats.style.Styler at 0x173208ae088>"
      ]
     },
     "execution_count": 27,
     "metadata": {},
     "output_type": "execute_result"
    }
   ],
   "source": [
    "sva.ip_ibnr_adjustment().style.format('{:,}')"
   ]
  },
  {
   "cell_type": "markdown",
   "metadata": {},
   "source": [
    "### appeals_reserve_assumptions"
   ]
  },
  {
   "cell_type": "code",
   "execution_count": 28,
   "metadata": {},
   "outputs": [
    {
     "data": {
      "text/html": [
       "<style  type=\"text/css\" >\n",
       "</style><table id=\"T_e0024058_da06_11eb_a0ae_c8348e310a39\" ><thead>    <tr>        <th class=\"blank level0\" ></th>        <th class=\"col_heading level0 col0\" >Percentage of declined claims appealed (Gov)</th>        <th class=\"col_heading level0 col1\" >Percentage of declined claims appealed (Non-Gov)</th>    </tr>    <tr>        <th class=\"index_name level0\" >Curtate years since claim notified</th>        <th class=\"blank\" ></th>        <th class=\"blank\" ></th>    </tr></thead><tbody>\n",
       "                <tr>\n",
       "                        <th id=\"T_e0024058_da06_11eb_a0ae_c8348e310a39level0_row0\" class=\"row_heading level0 row0\" >0</th>\n",
       "                        <td id=\"T_e0024058_da06_11eb_a0ae_c8348e310a39row0_col0\" class=\"data row0 col0\" >32.00%</td>\n",
       "                        <td id=\"T_e0024058_da06_11eb_a0ae_c8348e310a39row0_col1\" class=\"data row0 col1\" >2.50%</td>\n",
       "            </tr>\n",
       "            <tr>\n",
       "                        <th id=\"T_e0024058_da06_11eb_a0ae_c8348e310a39level0_row1\" class=\"row_heading level0 row1\" >1</th>\n",
       "                        <td id=\"T_e0024058_da06_11eb_a0ae_c8348e310a39row1_col0\" class=\"data row1 col0\" >31.00%</td>\n",
       "                        <td id=\"T_e0024058_da06_11eb_a0ae_c8348e310a39row1_col1\" class=\"data row1 col1\" >2.50%</td>\n",
       "            </tr>\n",
       "            <tr>\n",
       "                        <th id=\"T_e0024058_da06_11eb_a0ae_c8348e310a39level0_row2\" class=\"row_heading level0 row2\" >2</th>\n",
       "                        <td id=\"T_e0024058_da06_11eb_a0ae_c8348e310a39row2_col0\" class=\"data row2 col0\" >22.00%</td>\n",
       "                        <td id=\"T_e0024058_da06_11eb_a0ae_c8348e310a39row2_col1\" class=\"data row2 col1\" >2.50%</td>\n",
       "            </tr>\n",
       "            <tr>\n",
       "                        <th id=\"T_e0024058_da06_11eb_a0ae_c8348e310a39level0_row3\" class=\"row_heading level0 row3\" >3</th>\n",
       "                        <td id=\"T_e0024058_da06_11eb_a0ae_c8348e310a39row3_col0\" class=\"data row3 col0\" >0.00%</td>\n",
       "                        <td id=\"T_e0024058_da06_11eb_a0ae_c8348e310a39row3_col1\" class=\"data row3 col1\" >0.00%</td>\n",
       "            </tr>\n",
       "    </tbody></table>"
      ],
      "text/plain": [
       "<pandas.io.formats.style.Styler at 0x1732073b988>"
      ]
     },
     "execution_count": 28,
     "metadata": {},
     "output_type": "execute_result"
    }
   ],
   "source": [
    "sva.appeals_reserve_assumptions().style.format('{:,.2%}')"
   ]
  },
  {
   "cell_type": "markdown",
   "metadata": {},
   "source": [
    "### perc_of_appealed_claims_accepted"
   ]
  },
  {
   "cell_type": "code",
   "execution_count": 29,
   "metadata": {},
   "outputs": [
    {
     "data": {
      "text/html": [
       "<style  type=\"text/css\" >\n",
       "</style><table id=\"T_e0abc2e4_da06_11eb_a49f_c8348e310a39\" ><thead>    <tr>        <th class=\"blank level0\" ></th>        <th class=\"col_heading level0 col0\" >Percentage of declined claims appealed (Gov)</th>        <th class=\"col_heading level0 col1\" >Percentage of declined claims appealed (Non-Gov)</th>    </tr>    <tr>        <th class=\"index_name level0\" >Curtate years since claim notified</th>        <th class=\"blank\" ></th>        <th class=\"blank\" ></th>    </tr></thead><tbody>\n",
       "                <tr>\n",
       "                        <th id=\"T_e0abc2e4_da06_11eb_a49f_c8348e310a39level0_row0\" class=\"row_heading level0 row0\" >Percentage of appealed claims accepted</th>\n",
       "                        <td id=\"T_e0abc2e4_da06_11eb_a49f_c8348e310a39row0_col0\" class=\"data row0 col0\" >90.00%</td>\n",
       "                        <td id=\"T_e0abc2e4_da06_11eb_a49f_c8348e310a39row0_col1\" class=\"data row0 col1\" >90.00%</td>\n",
       "            </tr>\n",
       "    </tbody></table>"
      ],
      "text/plain": [
       "<pandas.io.formats.style.Styler at 0x17320898f88>"
      ]
     },
     "execution_count": 29,
     "metadata": {},
     "output_type": "execute_result"
    }
   ],
   "source": [
    "sva.perc_of_appealed_claims_accepted().style.format('{:,.2%}')"
   ]
  },
  {
   "cell_type": "markdown",
   "metadata": {},
   "source": [
    "### decline_rate"
   ]
  },
  {
   "cell_type": "code",
   "execution_count": 30,
   "metadata": {},
   "outputs": [
    {
     "data": {
      "text/html": [
       "<style  type=\"text/css\" >\n",
       "</style><table id=\"T_e1624a86_da06_11eb_9ecc_c8348e310a39\" ><thead>    <tr>        <th class=\"blank level0\" ></th>        <th class=\"col_heading level0 col0\" >Gov Death</th>        <th class=\"col_heading level0 col1\" >Non-Gov Death</th>        <th class=\"col_heading level0 col2\" >Non-Gov TPD</th>    </tr></thead><tbody>\n",
       "                <tr>\n",
       "                        <th id=\"T_e1624a86_da06_11eb_9ecc_c8348e310a39level0_row0\" class=\"row_heading level0 row0\" >Decline rate</th>\n",
       "                        <td id=\"T_e1624a86_da06_11eb_9ecc_c8348e310a39row0_col0\" class=\"data row0 col0\" >0.00%</td>\n",
       "                        <td id=\"T_e1624a86_da06_11eb_9ecc_c8348e310a39row0_col1\" class=\"data row0 col1\" >5.00%</td>\n",
       "                        <td id=\"T_e1624a86_da06_11eb_9ecc_c8348e310a39row0_col2\" class=\"data row0 col2\" >19.00%</td>\n",
       "            </tr>\n",
       "    </tbody></table>"
      ],
      "text/plain": [
       "<pandas.io.formats.style.Styler at 0x17320869e48>"
      ]
     },
     "execution_count": 30,
     "metadata": {},
     "output_type": "execute_result"
    }
   ],
   "source": [
    "sva.decline_rate().style.format('{:,.2%}')"
   ]
  },
  {
   "cell_type": "markdown",
   "metadata": {},
   "source": [
    "### decline_rate_delay"
   ]
  },
  {
   "cell_type": "code",
   "execution_count": 31,
   "metadata": {},
   "outputs": [
    {
     "data": {
      "text/html": [
       "<style  type=\"text/css\" >\n",
       "</style><table id=\"T_e2183c68_da06_11eb_b381_c8348e310a39\" ><thead>    <tr>        <th class=\"blank level0\" ></th>        <th class=\"col_heading level0 col0\" >Gov TPD</th>    </tr>    <tr>        <th class=\"index_name level0\" >Delay Years</th>        <th class=\"blank\" ></th>    </tr></thead><tbody>\n",
       "                <tr>\n",
       "                        <th id=\"T_e2183c68_da06_11eb_b381_c8348e310a39level0_row0\" class=\"row_heading level0 row0\" >0</th>\n",
       "                        <td id=\"T_e2183c68_da06_11eb_b381_c8348e310a39row0_col0\" class=\"data row0 col0\" >18.00%</td>\n",
       "            </tr>\n",
       "            <tr>\n",
       "                        <th id=\"T_e2183c68_da06_11eb_b381_c8348e310a39level0_row1\" class=\"row_heading level0 row1\" >0.5</th>\n",
       "                        <td id=\"T_e2183c68_da06_11eb_b381_c8348e310a39row1_col0\" class=\"data row1 col0\" >18.00%</td>\n",
       "            </tr>\n",
       "            <tr>\n",
       "                        <th id=\"T_e2183c68_da06_11eb_b381_c8348e310a39level0_row2\" class=\"row_heading level0 row2\" >1</th>\n",
       "                        <td id=\"T_e2183c68_da06_11eb_b381_c8348e310a39row2_col0\" class=\"data row2 col0\" >18.00%</td>\n",
       "            </tr>\n",
       "            <tr>\n",
       "                        <th id=\"T_e2183c68_da06_11eb_b381_c8348e310a39level0_row3\" class=\"row_heading level0 row3\" >1.5</th>\n",
       "                        <td id=\"T_e2183c68_da06_11eb_b381_c8348e310a39row3_col0\" class=\"data row3 col0\" >18.00%</td>\n",
       "            </tr>\n",
       "            <tr>\n",
       "                        <th id=\"T_e2183c68_da06_11eb_b381_c8348e310a39level0_row4\" class=\"row_heading level0 row4\" >2.5</th>\n",
       "                        <td id=\"T_e2183c68_da06_11eb_b381_c8348e310a39row4_col0\" class=\"data row4 col0\" >18.00%</td>\n",
       "            </tr>\n",
       "            <tr>\n",
       "                        <th id=\"T_e2183c68_da06_11eb_b381_c8348e310a39level0_row5\" class=\"row_heading level0 row5\" >3.5</th>\n",
       "                        <td id=\"T_e2183c68_da06_11eb_b381_c8348e310a39row5_col0\" class=\"data row5 col0\" >18.00%</td>\n",
       "            </tr>\n",
       "            <tr>\n",
       "                        <th id=\"T_e2183c68_da06_11eb_b381_c8348e310a39level0_row6\" class=\"row_heading level0 row6\" >4+</th>\n",
       "                        <td id=\"T_e2183c68_da06_11eb_b381_c8348e310a39row6_col0\" class=\"data row6 col0\" >18.00%</td>\n",
       "            </tr>\n",
       "    </tbody></table>"
      ],
      "text/plain": [
       "<pandas.io.formats.style.Styler at 0x173204f53c8>"
      ]
     },
     "execution_count": 31,
     "metadata": {},
     "output_type": "execute_result"
    }
   ],
   "source": [
    "sva.decline_rate_delay().style.format('{:,.2%}')"
   ]
  },
  {
   "cell_type": "markdown",
   "metadata": {},
   "source": [
    "### simultaneous_ip_tpd_decline"
   ]
  },
  {
   "cell_type": "code",
   "execution_count": 32,
   "metadata": {},
   "outputs": [
    {
     "data": {
      "text/html": [
       "<div>\n",
       "<style scoped>\n",
       "    .dataframe tbody tr th:only-of-type {\n",
       "        vertical-align: middle;\n",
       "    }\n",
       "\n",
       "    .dataframe tbody tr th {\n",
       "        vertical-align: top;\n",
       "    }\n",
       "\n",
       "    .dataframe thead th {\n",
       "        text-align: right;\n",
       "    }\n",
       "</style>\n",
       "<table border=\"1\" class=\"dataframe\">\n",
       "  <thead>\n",
       "    <tr style=\"text-align: right;\">\n",
       "      <th></th>\n",
       "      <th>WP</th>\n",
       "      <th>IP decline</th>\n",
       "    </tr>\n",
       "    <tr>\n",
       "      <th>Govcode</th>\n",
       "      <th></th>\n",
       "      <th></th>\n",
       "    </tr>\n",
       "  </thead>\n",
       "  <tbody>\n",
       "    <tr>\n",
       "      <th>Gov</th>\n",
       "      <td>30</td>\n",
       "      <td>0.06</td>\n",
       "    </tr>\n",
       "    <tr>\n",
       "      <th>Gov</th>\n",
       "      <td>60</td>\n",
       "      <td>0.06</td>\n",
       "    </tr>\n",
       "    <tr>\n",
       "      <th>Gov</th>\n",
       "      <td>90</td>\n",
       "      <td>0.15</td>\n",
       "    </tr>\n",
       "    <tr>\n",
       "      <th>Gov</th>\n",
       "      <td>180</td>\n",
       "      <td>0.15</td>\n",
       "    </tr>\n",
       "    <tr>\n",
       "      <th>Nongov</th>\n",
       "      <td>30</td>\n",
       "      <td>0.06</td>\n",
       "    </tr>\n",
       "    <tr>\n",
       "      <th>Nongov</th>\n",
       "      <td>60</td>\n",
       "      <td>0.06</td>\n",
       "    </tr>\n",
       "    <tr>\n",
       "      <th>Nongov</th>\n",
       "      <td>90</td>\n",
       "      <td>0.15</td>\n",
       "    </tr>\n",
       "    <tr>\n",
       "      <th>Nongov</th>\n",
       "      <td>180</td>\n",
       "      <td>0.15</td>\n",
       "    </tr>\n",
       "  </tbody>\n",
       "</table>\n",
       "</div>"
      ],
      "text/plain": [
       "          WP  IP decline\n",
       "Govcode                 \n",
       "Gov       30        0.06\n",
       "Gov       60        0.06\n",
       "Gov       90        0.15\n",
       "Gov      180        0.15\n",
       "Nongov    30        0.06\n",
       "Nongov    60        0.06\n",
       "Nongov    90        0.15\n",
       "Nongov   180        0.15"
      ]
     },
     "execution_count": 32,
     "metadata": {},
     "output_type": "execute_result"
    }
   ],
   "source": [
    "sva.simultaneous_ip_tpd_decline()#.style.format('{:,.2%}')"
   ]
  },
  {
   "cell_type": "markdown",
   "metadata": {},
   "source": [
    "### expected_loss_ratio_gov"
   ]
  },
  {
   "cell_type": "code",
   "execution_count": 33,
   "metadata": {},
   "outputs": [
    {
     "data": {
      "text/html": [
       "<style  type=\"text/css\" >\n",
       "</style><table id=\"T_e38695ca_da06_11eb_ba6f_c8348e310a39\" ><thead>    <tr>        <th class=\"blank level0\" ></th>        <th class=\"col_heading level0 col0\" >Death</th>        <th class=\"col_heading level0 col1\" >TPD</th>        <th class=\"col_heading level0 col2\" >IP</th>    </tr>    <tr>        <th class=\"index_name level0\" >Month</th>        <th class=\"blank\" ></th>        <th class=\"blank\" ></th>        <th class=\"blank\" ></th>    </tr></thead><tbody>\n",
       "                <tr>\n",
       "                        <th id=\"T_e38695ca_da06_11eb_ba6f_c8348e310a39level0_row0\" class=\"row_heading level0 row0\" >2016-07-31 00:00:00</th>\n",
       "                        <td id=\"T_e38695ca_da06_11eb_ba6f_c8348e310a39row0_col0\" class=\"data row0 col0\" >0.00%</td>\n",
       "                        <td id=\"T_e38695ca_da06_11eb_ba6f_c8348e310a39row0_col1\" class=\"data row0 col1\" >0.00%</td>\n",
       "                        <td id=\"T_e38695ca_da06_11eb_ba6f_c8348e310a39row0_col2\" class=\"data row0 col2\" >0.00%</td>\n",
       "            </tr>\n",
       "            <tr>\n",
       "                        <th id=\"T_e38695ca_da06_11eb_ba6f_c8348e310a39level0_row1\" class=\"row_heading level0 row1\" >2016-08-31 00:00:00</th>\n",
       "                        <td id=\"T_e38695ca_da06_11eb_ba6f_c8348e310a39row1_col0\" class=\"data row1 col0\" >0.00%</td>\n",
       "                        <td id=\"T_e38695ca_da06_11eb_ba6f_c8348e310a39row1_col1\" class=\"data row1 col1\" >0.00%</td>\n",
       "                        <td id=\"T_e38695ca_da06_11eb_ba6f_c8348e310a39row1_col2\" class=\"data row1 col2\" >0.00%</td>\n",
       "            </tr>\n",
       "            <tr>\n",
       "                        <th id=\"T_e38695ca_da06_11eb_ba6f_c8348e310a39level0_row2\" class=\"row_heading level0 row2\" >2016-09-30 00:00:00</th>\n",
       "                        <td id=\"T_e38695ca_da06_11eb_ba6f_c8348e310a39row2_col0\" class=\"data row2 col0\" >0.00%</td>\n",
       "                        <td id=\"T_e38695ca_da06_11eb_ba6f_c8348e310a39row2_col1\" class=\"data row2 col1\" >0.00%</td>\n",
       "                        <td id=\"T_e38695ca_da06_11eb_ba6f_c8348e310a39row2_col2\" class=\"data row2 col2\" >0.00%</td>\n",
       "            </tr>\n",
       "            <tr>\n",
       "                        <th id=\"T_e38695ca_da06_11eb_ba6f_c8348e310a39level0_row3\" class=\"row_heading level0 row3\" >2016-10-31 00:00:00</th>\n",
       "                        <td id=\"T_e38695ca_da06_11eb_ba6f_c8348e310a39row3_col0\" class=\"data row3 col0\" >0.00%</td>\n",
       "                        <td id=\"T_e38695ca_da06_11eb_ba6f_c8348e310a39row3_col1\" class=\"data row3 col1\" >0.00%</td>\n",
       "                        <td id=\"T_e38695ca_da06_11eb_ba6f_c8348e310a39row3_col2\" class=\"data row3 col2\" >0.00%</td>\n",
       "            </tr>\n",
       "            <tr>\n",
       "                        <th id=\"T_e38695ca_da06_11eb_ba6f_c8348e310a39level0_row4\" class=\"row_heading level0 row4\" >2016-11-30 00:00:00</th>\n",
       "                        <td id=\"T_e38695ca_da06_11eb_ba6f_c8348e310a39row4_col0\" class=\"data row4 col0\" >0.00%</td>\n",
       "                        <td id=\"T_e38695ca_da06_11eb_ba6f_c8348e310a39row4_col1\" class=\"data row4 col1\" >0.00%</td>\n",
       "                        <td id=\"T_e38695ca_da06_11eb_ba6f_c8348e310a39row4_col2\" class=\"data row4 col2\" >0.00%</td>\n",
       "            </tr>\n",
       "            <tr>\n",
       "                        <th id=\"T_e38695ca_da06_11eb_ba6f_c8348e310a39level0_row5\" class=\"row_heading level0 row5\" >2016-12-31 00:00:00</th>\n",
       "                        <td id=\"T_e38695ca_da06_11eb_ba6f_c8348e310a39row5_col0\" class=\"data row5 col0\" >0.00%</td>\n",
       "                        <td id=\"T_e38695ca_da06_11eb_ba6f_c8348e310a39row5_col1\" class=\"data row5 col1\" >0.00%</td>\n",
       "                        <td id=\"T_e38695ca_da06_11eb_ba6f_c8348e310a39row5_col2\" class=\"data row5 col2\" >0.00%</td>\n",
       "            </tr>\n",
       "            <tr>\n",
       "                        <th id=\"T_e38695ca_da06_11eb_ba6f_c8348e310a39level0_row6\" class=\"row_heading level0 row6\" >2017-01-31 00:00:00</th>\n",
       "                        <td id=\"T_e38695ca_da06_11eb_ba6f_c8348e310a39row6_col0\" class=\"data row6 col0\" >0.00%</td>\n",
       "                        <td id=\"T_e38695ca_da06_11eb_ba6f_c8348e310a39row6_col1\" class=\"data row6 col1\" >0.00%</td>\n",
       "                        <td id=\"T_e38695ca_da06_11eb_ba6f_c8348e310a39row6_col2\" class=\"data row6 col2\" >0.00%</td>\n",
       "            </tr>\n",
       "            <tr>\n",
       "                        <th id=\"T_e38695ca_da06_11eb_ba6f_c8348e310a39level0_row7\" class=\"row_heading level0 row7\" >2017-02-28 00:00:00</th>\n",
       "                        <td id=\"T_e38695ca_da06_11eb_ba6f_c8348e310a39row7_col0\" class=\"data row7 col0\" >0.00%</td>\n",
       "                        <td id=\"T_e38695ca_da06_11eb_ba6f_c8348e310a39row7_col1\" class=\"data row7 col1\" >0.00%</td>\n",
       "                        <td id=\"T_e38695ca_da06_11eb_ba6f_c8348e310a39row7_col2\" class=\"data row7 col2\" >0.00%</td>\n",
       "            </tr>\n",
       "            <tr>\n",
       "                        <th id=\"T_e38695ca_da06_11eb_ba6f_c8348e310a39level0_row8\" class=\"row_heading level0 row8\" >2017-03-31 00:00:00</th>\n",
       "                        <td id=\"T_e38695ca_da06_11eb_ba6f_c8348e310a39row8_col0\" class=\"data row8 col0\" >0.00%</td>\n",
       "                        <td id=\"T_e38695ca_da06_11eb_ba6f_c8348e310a39row8_col1\" class=\"data row8 col1\" >0.00%</td>\n",
       "                        <td id=\"T_e38695ca_da06_11eb_ba6f_c8348e310a39row8_col2\" class=\"data row8 col2\" >0.00%</td>\n",
       "            </tr>\n",
       "            <tr>\n",
       "                        <th id=\"T_e38695ca_da06_11eb_ba6f_c8348e310a39level0_row9\" class=\"row_heading level0 row9\" >2017-04-30 00:00:00</th>\n",
       "                        <td id=\"T_e38695ca_da06_11eb_ba6f_c8348e310a39row9_col0\" class=\"data row9 col0\" >0.00%</td>\n",
       "                        <td id=\"T_e38695ca_da06_11eb_ba6f_c8348e310a39row9_col1\" class=\"data row9 col1\" >0.00%</td>\n",
       "                        <td id=\"T_e38695ca_da06_11eb_ba6f_c8348e310a39row9_col2\" class=\"data row9 col2\" >0.00%</td>\n",
       "            </tr>\n",
       "    </tbody></table>"
      ],
      "text/plain": [
       "<pandas.io.formats.style.Styler at 0x1731ffbdb88>"
      ]
     },
     "execution_count": 33,
     "metadata": {},
     "output_type": "execute_result"
    }
   ],
   "source": [
    "sva.expected_loss_ratio_gov().fillna(0).head(10).style.format('{:,.2%}')"
   ]
  },
  {
   "cell_type": "markdown",
   "metadata": {},
   "source": [
    "### expected_loss_ratio_nongov"
   ]
  },
  {
   "cell_type": "code",
   "execution_count": 34,
   "metadata": {},
   "outputs": [
    {
     "data": {
      "text/html": [
       "<style  type=\"text/css\" >\n",
       "</style><table id=\"T_e435d980_da06_11eb_86de_c8348e310a39\" ><thead>    <tr>        <th class=\"blank level0\" ></th>        <th class=\"col_heading level0 col0\" >Death</th>        <th class=\"col_heading level0 col1\" >TPD</th>        <th class=\"col_heading level0 col2\" >IP</th>    </tr>    <tr>        <th class=\"index_name level0\" >Month</th>        <th class=\"blank\" ></th>        <th class=\"blank\" ></th>        <th class=\"blank\" ></th>    </tr></thead><tbody>\n",
       "                <tr>\n",
       "                        <th id=\"T_e435d980_da06_11eb_86de_c8348e310a39level0_row0\" class=\"row_heading level0 row0\" >2017-01-31 00:00:00</th>\n",
       "                        <td id=\"T_e435d980_da06_11eb_86de_c8348e310a39row0_col0\" class=\"data row0 col0\" >0.00%</td>\n",
       "                        <td id=\"T_e435d980_da06_11eb_86de_c8348e310a39row0_col1\" class=\"data row0 col1\" >0.00%</td>\n",
       "                        <td id=\"T_e435d980_da06_11eb_86de_c8348e310a39row0_col2\" class=\"data row0 col2\" >0.00%</td>\n",
       "            </tr>\n",
       "            <tr>\n",
       "                        <th id=\"T_e435d980_da06_11eb_86de_c8348e310a39level0_row1\" class=\"row_heading level0 row1\" >2017-02-28 00:00:00</th>\n",
       "                        <td id=\"T_e435d980_da06_11eb_86de_c8348e310a39row1_col0\" class=\"data row1 col0\" >0.00%</td>\n",
       "                        <td id=\"T_e435d980_da06_11eb_86de_c8348e310a39row1_col1\" class=\"data row1 col1\" >0.00%</td>\n",
       "                        <td id=\"T_e435d980_da06_11eb_86de_c8348e310a39row1_col2\" class=\"data row1 col2\" >0.00%</td>\n",
       "            </tr>\n",
       "            <tr>\n",
       "                        <th id=\"T_e435d980_da06_11eb_86de_c8348e310a39level0_row2\" class=\"row_heading level0 row2\" >2017-03-31 00:00:00</th>\n",
       "                        <td id=\"T_e435d980_da06_11eb_86de_c8348e310a39row2_col0\" class=\"data row2 col0\" >0.00%</td>\n",
       "                        <td id=\"T_e435d980_da06_11eb_86de_c8348e310a39row2_col1\" class=\"data row2 col1\" >0.00%</td>\n",
       "                        <td id=\"T_e435d980_da06_11eb_86de_c8348e310a39row2_col2\" class=\"data row2 col2\" >0.00%</td>\n",
       "            </tr>\n",
       "            <tr>\n",
       "                        <th id=\"T_e435d980_da06_11eb_86de_c8348e310a39level0_row3\" class=\"row_heading level0 row3\" >2017-04-30 00:00:00</th>\n",
       "                        <td id=\"T_e435d980_da06_11eb_86de_c8348e310a39row3_col0\" class=\"data row3 col0\" >0.00%</td>\n",
       "                        <td id=\"T_e435d980_da06_11eb_86de_c8348e310a39row3_col1\" class=\"data row3 col1\" >0.00%</td>\n",
       "                        <td id=\"T_e435d980_da06_11eb_86de_c8348e310a39row3_col2\" class=\"data row3 col2\" >0.00%</td>\n",
       "            </tr>\n",
       "            <tr>\n",
       "                        <th id=\"T_e435d980_da06_11eb_86de_c8348e310a39level0_row4\" class=\"row_heading level0 row4\" >2017-05-31 00:00:00</th>\n",
       "                        <td id=\"T_e435d980_da06_11eb_86de_c8348e310a39row4_col0\" class=\"data row4 col0\" >0.00%</td>\n",
       "                        <td id=\"T_e435d980_da06_11eb_86de_c8348e310a39row4_col1\" class=\"data row4 col1\" >0.00%</td>\n",
       "                        <td id=\"T_e435d980_da06_11eb_86de_c8348e310a39row4_col2\" class=\"data row4 col2\" >0.00%</td>\n",
       "            </tr>\n",
       "            <tr>\n",
       "                        <th id=\"T_e435d980_da06_11eb_86de_c8348e310a39level0_row5\" class=\"row_heading level0 row5\" >2017-06-30 00:00:00</th>\n",
       "                        <td id=\"T_e435d980_da06_11eb_86de_c8348e310a39row5_col0\" class=\"data row5 col0\" >0.00%</td>\n",
       "                        <td id=\"T_e435d980_da06_11eb_86de_c8348e310a39row5_col1\" class=\"data row5 col1\" >0.00%</td>\n",
       "                        <td id=\"T_e435d980_da06_11eb_86de_c8348e310a39row5_col2\" class=\"data row5 col2\" >0.00%</td>\n",
       "            </tr>\n",
       "            <tr>\n",
       "                        <th id=\"T_e435d980_da06_11eb_86de_c8348e310a39level0_row6\" class=\"row_heading level0 row6\" >2017-07-31 00:00:00</th>\n",
       "                        <td id=\"T_e435d980_da06_11eb_86de_c8348e310a39row6_col0\" class=\"data row6 col0\" >0.00%</td>\n",
       "                        <td id=\"T_e435d980_da06_11eb_86de_c8348e310a39row6_col1\" class=\"data row6 col1\" >0.00%</td>\n",
       "                        <td id=\"T_e435d980_da06_11eb_86de_c8348e310a39row6_col2\" class=\"data row6 col2\" >0.00%</td>\n",
       "            </tr>\n",
       "            <tr>\n",
       "                        <th id=\"T_e435d980_da06_11eb_86de_c8348e310a39level0_row7\" class=\"row_heading level0 row7\" >2017-08-31 00:00:00</th>\n",
       "                        <td id=\"T_e435d980_da06_11eb_86de_c8348e310a39row7_col0\" class=\"data row7 col0\" >0.00%</td>\n",
       "                        <td id=\"T_e435d980_da06_11eb_86de_c8348e310a39row7_col1\" class=\"data row7 col1\" >0.00%</td>\n",
       "                        <td id=\"T_e435d980_da06_11eb_86de_c8348e310a39row7_col2\" class=\"data row7 col2\" >0.00%</td>\n",
       "            </tr>\n",
       "            <tr>\n",
       "                        <th id=\"T_e435d980_da06_11eb_86de_c8348e310a39level0_row8\" class=\"row_heading level0 row8\" >2017-09-30 00:00:00</th>\n",
       "                        <td id=\"T_e435d980_da06_11eb_86de_c8348e310a39row8_col0\" class=\"data row8 col0\" >0.00%</td>\n",
       "                        <td id=\"T_e435d980_da06_11eb_86de_c8348e310a39row8_col1\" class=\"data row8 col1\" >0.00%</td>\n",
       "                        <td id=\"T_e435d980_da06_11eb_86de_c8348e310a39row8_col2\" class=\"data row8 col2\" >0.00%</td>\n",
       "            </tr>\n",
       "            <tr>\n",
       "                        <th id=\"T_e435d980_da06_11eb_86de_c8348e310a39level0_row9\" class=\"row_heading level0 row9\" >2017-10-31 00:00:00</th>\n",
       "                        <td id=\"T_e435d980_da06_11eb_86de_c8348e310a39row9_col0\" class=\"data row9 col0\" >0.00%</td>\n",
       "                        <td id=\"T_e435d980_da06_11eb_86de_c8348e310a39row9_col1\" class=\"data row9 col1\" >0.00%</td>\n",
       "                        <td id=\"T_e435d980_da06_11eb_86de_c8348e310a39row9_col2\" class=\"data row9 col2\" >0.00%</td>\n",
       "            </tr>\n",
       "    </tbody></table>"
      ],
      "text/plain": [
       "<pandas.io.formats.style.Styler at 0x17320911708>"
      ]
     },
     "execution_count": 34,
     "metadata": {},
     "output_type": "execute_result"
    }
   ],
   "source": [
    "sva.expected_loss_ratio_nongov().fillna(0).head(10).style.format('{:,.2%}')"
   ]
  },
  {
   "cell_type": "markdown",
   "metadata": {},
   "source": [
    "### payment_delay_factors"
   ]
  },
  {
   "cell_type": "code",
   "execution_count": 35,
   "metadata": {},
   "outputs": [
    {
     "data": {
      "text/html": [
       "<style  type=\"text/css\" >\n",
       "</style><table id=\"T_e4eb515a_da06_11eb_9c7e_c8348e310a39\" ><thead>    <tr>        <th class=\"blank level0\" ></th>        <th class=\"col_heading level0 col0\" >Gov Death</th>        <th class=\"col_heading level0 col1\" >Non-Gov Death</th>        <th class=\"col_heading level0 col2\" >Total Death</th>        <th class=\"col_heading level0 col3\" >Gov TPD</th>        <th class=\"col_heading level0 col4\" >Non-Gov TPD</th>        <th class=\"col_heading level0 col5\" >Total TPD</th>    </tr>    <tr>        <th class=\"index_name level0\" >Month</th>        <th class=\"blank\" ></th>        <th class=\"blank\" ></th>        <th class=\"blank\" ></th>        <th class=\"blank\" ></th>        <th class=\"blank\" ></th>        <th class=\"blank\" ></th>    </tr></thead><tbody>\n",
       "                <tr>\n",
       "                        <th id=\"T_e4eb515a_da06_11eb_9c7e_c8348e310a39level0_row0\" class=\"row_heading level0 row0\" >1</th>\n",
       "                        <td id=\"T_e4eb515a_da06_11eb_9c7e_c8348e310a39row0_col0\" class=\"data row0 col0\" >63.00%</td>\n",
       "                        <td id=\"T_e4eb515a_da06_11eb_9c7e_c8348e310a39row0_col1\" class=\"data row0 col1\" >63.00%</td>\n",
       "                        <td id=\"T_e4eb515a_da06_11eb_9c7e_c8348e310a39row0_col2\" class=\"data row0 col2\" >63.00%</td>\n",
       "                        <td id=\"T_e4eb515a_da06_11eb_9c7e_c8348e310a39row0_col3\" class=\"data row0 col3\" >63.00%</td>\n",
       "                        <td id=\"T_e4eb515a_da06_11eb_9c7e_c8348e310a39row0_col4\" class=\"data row0 col4\" >63.00%</td>\n",
       "                        <td id=\"T_e4eb515a_da06_11eb_9c7e_c8348e310a39row0_col5\" class=\"data row0 col5\" >63.00%</td>\n",
       "            </tr>\n",
       "            <tr>\n",
       "                        <th id=\"T_e4eb515a_da06_11eb_9c7e_c8348e310a39level0_row1\" class=\"row_heading level0 row1\" >2</th>\n",
       "                        <td id=\"T_e4eb515a_da06_11eb_9c7e_c8348e310a39row1_col0\" class=\"data row1 col0\" >47.25%</td>\n",
       "                        <td id=\"T_e4eb515a_da06_11eb_9c7e_c8348e310a39row1_col1\" class=\"data row1 col1\" >47.25%</td>\n",
       "                        <td id=\"T_e4eb515a_da06_11eb_9c7e_c8348e310a39row1_col2\" class=\"data row1 col2\" >47.25%</td>\n",
       "                        <td id=\"T_e4eb515a_da06_11eb_9c7e_c8348e310a39row1_col3\" class=\"data row1 col3\" >47.25%</td>\n",
       "                        <td id=\"T_e4eb515a_da06_11eb_9c7e_c8348e310a39row1_col4\" class=\"data row1 col4\" >47.25%</td>\n",
       "                        <td id=\"T_e4eb515a_da06_11eb_9c7e_c8348e310a39row1_col5\" class=\"data row1 col5\" >47.25%</td>\n",
       "            </tr>\n",
       "            <tr>\n",
       "                        <th id=\"T_e4eb515a_da06_11eb_9c7e_c8348e310a39level0_row2\" class=\"row_heading level0 row2\" >3</th>\n",
       "                        <td id=\"T_e4eb515a_da06_11eb_9c7e_c8348e310a39row2_col0\" class=\"data row2 col0\" >35.44%</td>\n",
       "                        <td id=\"T_e4eb515a_da06_11eb_9c7e_c8348e310a39row2_col1\" class=\"data row2 col1\" >35.44%</td>\n",
       "                        <td id=\"T_e4eb515a_da06_11eb_9c7e_c8348e310a39row2_col2\" class=\"data row2 col2\" >35.44%</td>\n",
       "                        <td id=\"T_e4eb515a_da06_11eb_9c7e_c8348e310a39row2_col3\" class=\"data row2 col3\" >35.44%</td>\n",
       "                        <td id=\"T_e4eb515a_da06_11eb_9c7e_c8348e310a39row2_col4\" class=\"data row2 col4\" >35.44%</td>\n",
       "                        <td id=\"T_e4eb515a_da06_11eb_9c7e_c8348e310a39row2_col5\" class=\"data row2 col5\" >35.44%</td>\n",
       "            </tr>\n",
       "            <tr>\n",
       "                        <th id=\"T_e4eb515a_da06_11eb_9c7e_c8348e310a39level0_row3\" class=\"row_heading level0 row3\" >4</th>\n",
       "                        <td id=\"T_e4eb515a_da06_11eb_9c7e_c8348e310a39row3_col0\" class=\"data row3 col0\" >26.58%</td>\n",
       "                        <td id=\"T_e4eb515a_da06_11eb_9c7e_c8348e310a39row3_col1\" class=\"data row3 col1\" >26.58%</td>\n",
       "                        <td id=\"T_e4eb515a_da06_11eb_9c7e_c8348e310a39row3_col2\" class=\"data row3 col2\" >26.58%</td>\n",
       "                        <td id=\"T_e4eb515a_da06_11eb_9c7e_c8348e310a39row3_col3\" class=\"data row3 col3\" >26.58%</td>\n",
       "                        <td id=\"T_e4eb515a_da06_11eb_9c7e_c8348e310a39row3_col4\" class=\"data row3 col4\" >26.58%</td>\n",
       "                        <td id=\"T_e4eb515a_da06_11eb_9c7e_c8348e310a39row3_col5\" class=\"data row3 col5\" >26.58%</td>\n",
       "            </tr>\n",
       "            <tr>\n",
       "                        <th id=\"T_e4eb515a_da06_11eb_9c7e_c8348e310a39level0_row4\" class=\"row_heading level0 row4\" >5</th>\n",
       "                        <td id=\"T_e4eb515a_da06_11eb_9c7e_c8348e310a39row4_col0\" class=\"data row4 col0\" >19.93%</td>\n",
       "                        <td id=\"T_e4eb515a_da06_11eb_9c7e_c8348e310a39row4_col1\" class=\"data row4 col1\" >19.93%</td>\n",
       "                        <td id=\"T_e4eb515a_da06_11eb_9c7e_c8348e310a39row4_col2\" class=\"data row4 col2\" >19.93%</td>\n",
       "                        <td id=\"T_e4eb515a_da06_11eb_9c7e_c8348e310a39row4_col3\" class=\"data row4 col3\" >19.93%</td>\n",
       "                        <td id=\"T_e4eb515a_da06_11eb_9c7e_c8348e310a39row4_col4\" class=\"data row4 col4\" >19.93%</td>\n",
       "                        <td id=\"T_e4eb515a_da06_11eb_9c7e_c8348e310a39row4_col5\" class=\"data row4 col5\" >19.93%</td>\n",
       "            </tr>\n",
       "            <tr>\n",
       "                        <th id=\"T_e4eb515a_da06_11eb_9c7e_c8348e310a39level0_row5\" class=\"row_heading level0 row5\" >6</th>\n",
       "                        <td id=\"T_e4eb515a_da06_11eb_9c7e_c8348e310a39row5_col0\" class=\"data row5 col0\" >14.95%</td>\n",
       "                        <td id=\"T_e4eb515a_da06_11eb_9c7e_c8348e310a39row5_col1\" class=\"data row5 col1\" >14.95%</td>\n",
       "                        <td id=\"T_e4eb515a_da06_11eb_9c7e_c8348e310a39row5_col2\" class=\"data row5 col2\" >14.95%</td>\n",
       "                        <td id=\"T_e4eb515a_da06_11eb_9c7e_c8348e310a39row5_col3\" class=\"data row5 col3\" >14.95%</td>\n",
       "                        <td id=\"T_e4eb515a_da06_11eb_9c7e_c8348e310a39row5_col4\" class=\"data row5 col4\" >14.95%</td>\n",
       "                        <td id=\"T_e4eb515a_da06_11eb_9c7e_c8348e310a39row5_col5\" class=\"data row5 col5\" >14.95%</td>\n",
       "            </tr>\n",
       "            <tr>\n",
       "                        <th id=\"T_e4eb515a_da06_11eb_9c7e_c8348e310a39level0_row6\" class=\"row_heading level0 row6\" >7</th>\n",
       "                        <td id=\"T_e4eb515a_da06_11eb_9c7e_c8348e310a39row6_col0\" class=\"data row6 col0\" >11.21%</td>\n",
       "                        <td id=\"T_e4eb515a_da06_11eb_9c7e_c8348e310a39row6_col1\" class=\"data row6 col1\" >11.21%</td>\n",
       "                        <td id=\"T_e4eb515a_da06_11eb_9c7e_c8348e310a39row6_col2\" class=\"data row6 col2\" >11.21%</td>\n",
       "                        <td id=\"T_e4eb515a_da06_11eb_9c7e_c8348e310a39row6_col3\" class=\"data row6 col3\" >11.21%</td>\n",
       "                        <td id=\"T_e4eb515a_da06_11eb_9c7e_c8348e310a39row6_col4\" class=\"data row6 col4\" >11.21%</td>\n",
       "                        <td id=\"T_e4eb515a_da06_11eb_9c7e_c8348e310a39row6_col5\" class=\"data row6 col5\" >11.21%</td>\n",
       "            </tr>\n",
       "            <tr>\n",
       "                        <th id=\"T_e4eb515a_da06_11eb_9c7e_c8348e310a39level0_row7\" class=\"row_heading level0 row7\" >8</th>\n",
       "                        <td id=\"T_e4eb515a_da06_11eb_9c7e_c8348e310a39row7_col0\" class=\"data row7 col0\" >8.41%</td>\n",
       "                        <td id=\"T_e4eb515a_da06_11eb_9c7e_c8348e310a39row7_col1\" class=\"data row7 col1\" >8.41%</td>\n",
       "                        <td id=\"T_e4eb515a_da06_11eb_9c7e_c8348e310a39row7_col2\" class=\"data row7 col2\" >8.41%</td>\n",
       "                        <td id=\"T_e4eb515a_da06_11eb_9c7e_c8348e310a39row7_col3\" class=\"data row7 col3\" >8.41%</td>\n",
       "                        <td id=\"T_e4eb515a_da06_11eb_9c7e_c8348e310a39row7_col4\" class=\"data row7 col4\" >8.41%</td>\n",
       "                        <td id=\"T_e4eb515a_da06_11eb_9c7e_c8348e310a39row7_col5\" class=\"data row7 col5\" >8.41%</td>\n",
       "            </tr>\n",
       "            <tr>\n",
       "                        <th id=\"T_e4eb515a_da06_11eb_9c7e_c8348e310a39level0_row8\" class=\"row_heading level0 row8\" >9</th>\n",
       "                        <td id=\"T_e4eb515a_da06_11eb_9c7e_c8348e310a39row8_col0\" class=\"data row8 col0\" >6.31%</td>\n",
       "                        <td id=\"T_e4eb515a_da06_11eb_9c7e_c8348e310a39row8_col1\" class=\"data row8 col1\" >6.31%</td>\n",
       "                        <td id=\"T_e4eb515a_da06_11eb_9c7e_c8348e310a39row8_col2\" class=\"data row8 col2\" >6.31%</td>\n",
       "                        <td id=\"T_e4eb515a_da06_11eb_9c7e_c8348e310a39row8_col3\" class=\"data row8 col3\" >6.31%</td>\n",
       "                        <td id=\"T_e4eb515a_da06_11eb_9c7e_c8348e310a39row8_col4\" class=\"data row8 col4\" >6.31%</td>\n",
       "                        <td id=\"T_e4eb515a_da06_11eb_9c7e_c8348e310a39row8_col5\" class=\"data row8 col5\" >6.31%</td>\n",
       "            </tr>\n",
       "            <tr>\n",
       "                        <th id=\"T_e4eb515a_da06_11eb_9c7e_c8348e310a39level0_row9\" class=\"row_heading level0 row9\" >10</th>\n",
       "                        <td id=\"T_e4eb515a_da06_11eb_9c7e_c8348e310a39row9_col0\" class=\"data row9 col0\" >4.73%</td>\n",
       "                        <td id=\"T_e4eb515a_da06_11eb_9c7e_c8348e310a39row9_col1\" class=\"data row9 col1\" >4.73%</td>\n",
       "                        <td id=\"T_e4eb515a_da06_11eb_9c7e_c8348e310a39row9_col2\" class=\"data row9 col2\" >4.73%</td>\n",
       "                        <td id=\"T_e4eb515a_da06_11eb_9c7e_c8348e310a39row9_col3\" class=\"data row9 col3\" >4.73%</td>\n",
       "                        <td id=\"T_e4eb515a_da06_11eb_9c7e_c8348e310a39row9_col4\" class=\"data row9 col4\" >4.73%</td>\n",
       "                        <td id=\"T_e4eb515a_da06_11eb_9c7e_c8348e310a39row9_col5\" class=\"data row9 col5\" >4.73%</td>\n",
       "            </tr>\n",
       "    </tbody></table>"
      ],
      "text/plain": [
       "<pandas.io.formats.style.Styler at 0x173209cf608>"
      ]
     },
     "execution_count": 35,
     "metadata": {},
     "output_type": "execute_result"
    }
   ],
   "source": [
    "sva.payment_delay_factors().head(10).style.format('{:,.2%}')"
   ]
  },
  {
   "cell_type": "markdown",
   "metadata": {},
   "source": [
    "### payment_delay_factors_discrete"
   ]
  },
  {
   "cell_type": "code",
   "execution_count": 36,
   "metadata": {},
   "outputs": [
    {
     "data": {
      "text/html": [
       "<style  type=\"text/css\" >\n",
       "</style><table id=\"T_e5a2386e_da06_11eb_913a_c8348e310a39\" ><thead>    <tr>        <th class=\"blank level0\" ></th>        <th class=\"col_heading level0 col0\" >Gov Death</th>        <th class=\"col_heading level0 col1\" >Non-Gov Death</th>        <th class=\"col_heading level0 col2\" >Total Death</th>        <th class=\"col_heading level0 col3\" >Gov TPD</th>        <th class=\"col_heading level0 col4\" >Non-Gov TPD</th>        <th class=\"col_heading level0 col5\" >Total TPD</th>    </tr>    <tr>        <th class=\"index_name level0\" >Month</th>        <th class=\"blank\" ></th>        <th class=\"blank\" ></th>        <th class=\"blank\" ></th>        <th class=\"blank\" ></th>        <th class=\"blank\" ></th>        <th class=\"blank\" ></th>    </tr></thead><tbody>\n",
       "                <tr>\n",
       "                        <th id=\"T_e5a2386e_da06_11eb_913a_c8348e310a39level0_row0\" class=\"row_heading level0 row0\" >1</th>\n",
       "                        <td id=\"T_e5a2386e_da06_11eb_913a_c8348e310a39row0_col0\" class=\"data row0 col0\" >39.00%</td>\n",
       "                        <td id=\"T_e5a2386e_da06_11eb_913a_c8348e310a39row0_col1\" class=\"data row0 col1\" >39.00%</td>\n",
       "                        <td id=\"T_e5a2386e_da06_11eb_913a_c8348e310a39row0_col2\" class=\"data row0 col2\" >39.00%</td>\n",
       "                        <td id=\"T_e5a2386e_da06_11eb_913a_c8348e310a39row0_col3\" class=\"data row0 col3\" >39.00%</td>\n",
       "                        <td id=\"T_e5a2386e_da06_11eb_913a_c8348e310a39row0_col4\" class=\"data row0 col4\" >39.00%</td>\n",
       "                        <td id=\"T_e5a2386e_da06_11eb_913a_c8348e310a39row0_col5\" class=\"data row0 col5\" >39.00%</td>\n",
       "            </tr>\n",
       "            <tr>\n",
       "                        <th id=\"T_e5a2386e_da06_11eb_913a_c8348e310a39level0_row1\" class=\"row_heading level0 row1\" >2</th>\n",
       "                        <td id=\"T_e5a2386e_da06_11eb_913a_c8348e310a39row1_col0\" class=\"data row1 col0\" >20.00%</td>\n",
       "                        <td id=\"T_e5a2386e_da06_11eb_913a_c8348e310a39row1_col1\" class=\"data row1 col1\" >20.00%</td>\n",
       "                        <td id=\"T_e5a2386e_da06_11eb_913a_c8348e310a39row1_col2\" class=\"data row1 col2\" >20.00%</td>\n",
       "                        <td id=\"T_e5a2386e_da06_11eb_913a_c8348e310a39row1_col3\" class=\"data row1 col3\" >20.00%</td>\n",
       "                        <td id=\"T_e5a2386e_da06_11eb_913a_c8348e310a39row1_col4\" class=\"data row1 col4\" >20.00%</td>\n",
       "                        <td id=\"T_e5a2386e_da06_11eb_913a_c8348e310a39row1_col5\" class=\"data row1 col5\" >20.00%</td>\n",
       "            </tr>\n",
       "            <tr>\n",
       "                        <th id=\"T_e5a2386e_da06_11eb_913a_c8348e310a39level0_row2\" class=\"row_heading level0 row2\" >3</th>\n",
       "                        <td id=\"T_e5a2386e_da06_11eb_913a_c8348e310a39row2_col0\" class=\"data row2 col0\" >12.00%</td>\n",
       "                        <td id=\"T_e5a2386e_da06_11eb_913a_c8348e310a39row2_col1\" class=\"data row2 col1\" >12.00%</td>\n",
       "                        <td id=\"T_e5a2386e_da06_11eb_913a_c8348e310a39row2_col2\" class=\"data row2 col2\" >12.00%</td>\n",
       "                        <td id=\"T_e5a2386e_da06_11eb_913a_c8348e310a39row2_col3\" class=\"data row2 col3\" >12.00%</td>\n",
       "                        <td id=\"T_e5a2386e_da06_11eb_913a_c8348e310a39row2_col4\" class=\"data row2 col4\" >12.00%</td>\n",
       "                        <td id=\"T_e5a2386e_da06_11eb_913a_c8348e310a39row2_col5\" class=\"data row2 col5\" >12.00%</td>\n",
       "            </tr>\n",
       "            <tr>\n",
       "                        <th id=\"T_e5a2386e_da06_11eb_913a_c8348e310a39level0_row3\" class=\"row_heading level0 row3\" >4</th>\n",
       "                        <td id=\"T_e5a2386e_da06_11eb_913a_c8348e310a39row3_col0\" class=\"data row3 col0\" >10.00%</td>\n",
       "                        <td id=\"T_e5a2386e_da06_11eb_913a_c8348e310a39row3_col1\" class=\"data row3 col1\" >10.00%</td>\n",
       "                        <td id=\"T_e5a2386e_da06_11eb_913a_c8348e310a39row3_col2\" class=\"data row3 col2\" >10.00%</td>\n",
       "                        <td id=\"T_e5a2386e_da06_11eb_913a_c8348e310a39row3_col3\" class=\"data row3 col3\" >10.00%</td>\n",
       "                        <td id=\"T_e5a2386e_da06_11eb_913a_c8348e310a39row3_col4\" class=\"data row3 col4\" >10.00%</td>\n",
       "                        <td id=\"T_e5a2386e_da06_11eb_913a_c8348e310a39row3_col5\" class=\"data row3 col5\" >10.00%</td>\n",
       "            </tr>\n",
       "            <tr>\n",
       "                        <th id=\"T_e5a2386e_da06_11eb_913a_c8348e310a39level0_row4\" class=\"row_heading level0 row4\" >5</th>\n",
       "                        <td id=\"T_e5a2386e_da06_11eb_913a_c8348e310a39row4_col0\" class=\"data row4 col0\" >6.00%</td>\n",
       "                        <td id=\"T_e5a2386e_da06_11eb_913a_c8348e310a39row4_col1\" class=\"data row4 col1\" >6.00%</td>\n",
       "                        <td id=\"T_e5a2386e_da06_11eb_913a_c8348e310a39row4_col2\" class=\"data row4 col2\" >6.00%</td>\n",
       "                        <td id=\"T_e5a2386e_da06_11eb_913a_c8348e310a39row4_col3\" class=\"data row4 col3\" >6.00%</td>\n",
       "                        <td id=\"T_e5a2386e_da06_11eb_913a_c8348e310a39row4_col4\" class=\"data row4 col4\" >6.00%</td>\n",
       "                        <td id=\"T_e5a2386e_da06_11eb_913a_c8348e310a39row4_col5\" class=\"data row4 col5\" >6.00%</td>\n",
       "            </tr>\n",
       "            <tr>\n",
       "                        <th id=\"T_e5a2386e_da06_11eb_913a_c8348e310a39level0_row5\" class=\"row_heading level0 row5\" >6</th>\n",
       "                        <td id=\"T_e5a2386e_da06_11eb_913a_c8348e310a39row5_col0\" class=\"data row5 col0\" >5.00%</td>\n",
       "                        <td id=\"T_e5a2386e_da06_11eb_913a_c8348e310a39row5_col1\" class=\"data row5 col1\" >5.00%</td>\n",
       "                        <td id=\"T_e5a2386e_da06_11eb_913a_c8348e310a39row5_col2\" class=\"data row5 col2\" >5.00%</td>\n",
       "                        <td id=\"T_e5a2386e_da06_11eb_913a_c8348e310a39row5_col3\" class=\"data row5 col3\" >5.00%</td>\n",
       "                        <td id=\"T_e5a2386e_da06_11eb_913a_c8348e310a39row5_col4\" class=\"data row5 col4\" >5.00%</td>\n",
       "                        <td id=\"T_e5a2386e_da06_11eb_913a_c8348e310a39row5_col5\" class=\"data row5 col5\" >5.00%</td>\n",
       "            </tr>\n",
       "            <tr>\n",
       "                        <th id=\"T_e5a2386e_da06_11eb_913a_c8348e310a39level0_row6\" class=\"row_heading level0 row6\" >7</th>\n",
       "                        <td id=\"T_e5a2386e_da06_11eb_913a_c8348e310a39row6_col0\" class=\"data row6 col0\" >4.00%</td>\n",
       "                        <td id=\"T_e5a2386e_da06_11eb_913a_c8348e310a39row6_col1\" class=\"data row6 col1\" >4.00%</td>\n",
       "                        <td id=\"T_e5a2386e_da06_11eb_913a_c8348e310a39row6_col2\" class=\"data row6 col2\" >4.00%</td>\n",
       "                        <td id=\"T_e5a2386e_da06_11eb_913a_c8348e310a39row6_col3\" class=\"data row6 col3\" >4.00%</td>\n",
       "                        <td id=\"T_e5a2386e_da06_11eb_913a_c8348e310a39row6_col4\" class=\"data row6 col4\" >4.00%</td>\n",
       "                        <td id=\"T_e5a2386e_da06_11eb_913a_c8348e310a39row6_col5\" class=\"data row6 col5\" >4.00%</td>\n",
       "            </tr>\n",
       "            <tr>\n",
       "                        <th id=\"T_e5a2386e_da06_11eb_913a_c8348e310a39level0_row7\" class=\"row_heading level0 row7\" >8</th>\n",
       "                        <td id=\"T_e5a2386e_da06_11eb_913a_c8348e310a39row7_col0\" class=\"data row7 col0\" >3.00%</td>\n",
       "                        <td id=\"T_e5a2386e_da06_11eb_913a_c8348e310a39row7_col1\" class=\"data row7 col1\" >3.00%</td>\n",
       "                        <td id=\"T_e5a2386e_da06_11eb_913a_c8348e310a39row7_col2\" class=\"data row7 col2\" >3.00%</td>\n",
       "                        <td id=\"T_e5a2386e_da06_11eb_913a_c8348e310a39row7_col3\" class=\"data row7 col3\" >3.00%</td>\n",
       "                        <td id=\"T_e5a2386e_da06_11eb_913a_c8348e310a39row7_col4\" class=\"data row7 col4\" >3.00%</td>\n",
       "                        <td id=\"T_e5a2386e_da06_11eb_913a_c8348e310a39row7_col5\" class=\"data row7 col5\" >3.00%</td>\n",
       "            </tr>\n",
       "            <tr>\n",
       "                        <th id=\"T_e5a2386e_da06_11eb_913a_c8348e310a39level0_row8\" class=\"row_heading level0 row8\" >9</th>\n",
       "                        <td id=\"T_e5a2386e_da06_11eb_913a_c8348e310a39row8_col0\" class=\"data row8 col0\" >1.00%</td>\n",
       "                        <td id=\"T_e5a2386e_da06_11eb_913a_c8348e310a39row8_col1\" class=\"data row8 col1\" >1.00%</td>\n",
       "                        <td id=\"T_e5a2386e_da06_11eb_913a_c8348e310a39row8_col2\" class=\"data row8 col2\" >1.00%</td>\n",
       "                        <td id=\"T_e5a2386e_da06_11eb_913a_c8348e310a39row8_col3\" class=\"data row8 col3\" >1.00%</td>\n",
       "                        <td id=\"T_e5a2386e_da06_11eb_913a_c8348e310a39row8_col4\" class=\"data row8 col4\" >1.00%</td>\n",
       "                        <td id=\"T_e5a2386e_da06_11eb_913a_c8348e310a39row8_col5\" class=\"data row8 col5\" >1.00%</td>\n",
       "            </tr>\n",
       "            <tr>\n",
       "                        <th id=\"T_e5a2386e_da06_11eb_913a_c8348e310a39level0_row9\" class=\"row_heading level0 row9\" >10</th>\n",
       "                        <td id=\"T_e5a2386e_da06_11eb_913a_c8348e310a39row9_col0\" class=\"data row9 col0\" >0.00%</td>\n",
       "                        <td id=\"T_e5a2386e_da06_11eb_913a_c8348e310a39row9_col1\" class=\"data row9 col1\" >0.00%</td>\n",
       "                        <td id=\"T_e5a2386e_da06_11eb_913a_c8348e310a39row9_col2\" class=\"data row9 col2\" >0.00%</td>\n",
       "                        <td id=\"T_e5a2386e_da06_11eb_913a_c8348e310a39row9_col3\" class=\"data row9 col3\" >0.00%</td>\n",
       "                        <td id=\"T_e5a2386e_da06_11eb_913a_c8348e310a39row9_col4\" class=\"data row9 col4\" >0.00%</td>\n",
       "                        <td id=\"T_e5a2386e_da06_11eb_913a_c8348e310a39row9_col5\" class=\"data row9 col5\" >0.00%</td>\n",
       "            </tr>\n",
       "    </tbody></table>"
      ],
      "text/plain": [
       "<pandas.io.formats.style.Styler at 0x1730f2002c8>"
      ]
     },
     "execution_count": 36,
     "metadata": {},
     "output_type": "execute_result"
    }
   ],
   "source": [
    "sva.payment_delay_factors_discrete().head(10).style.format('{:,.2%}')"
   ]
  },
  {
   "cell_type": "markdown",
   "metadata": {},
   "source": [
    "### average_claim_size"
   ]
  },
  {
   "cell_type": "code",
   "execution_count": 37,
   "metadata": {},
   "outputs": [
    {
     "data": {
      "text/html": [
       "<style  type=\"text/css\" >\n",
       "</style><table id=\"T_e6505e8c_da06_11eb_bd28_c8348e310a39\" ><thead>    <tr>        <th class=\"blank level0\" ></th>        <th class=\"col_heading level0 col0\" >Gov Death</th>        <th class=\"col_heading level0 col1\" >Gov TPD</th>        <th class=\"col_heading level0 col2\" >Gov IP</th>        <th class=\"col_heading level0 col3\" >Non-Gov Death</th>        <th class=\"col_heading level0 col4\" >Non-Gov TPD</th>        <th class=\"col_heading level0 col5\" >Non-Gov IP</th>        <th class=\"col_heading level0 col6\" >Total Death</th>        <th class=\"col_heading level0 col7\" >Total TPD</th>        <th class=\"col_heading level0 col8\" >Total IP</th>    </tr>    <tr>        <th class=\"index_name level0\" >Event Period</th>        <th class=\"blank\" ></th>        <th class=\"blank\" ></th>        <th class=\"blank\" ></th>        <th class=\"blank\" ></th>        <th class=\"blank\" ></th>        <th class=\"blank\" ></th>        <th class=\"blank\" ></th>        <th class=\"blank\" ></th>        <th class=\"blank\" ></th>    </tr></thead><tbody>\n",
       "                <tr>\n",
       "                        <th id=\"T_e6505e8c_da06_11eb_bd28_c8348e310a39level0_row0\" class=\"row_heading level0 row0\" >2018_Q4</th>\n",
       "                        <td id=\"T_e6505e8c_da06_11eb_bd28_c8348e310a39row0_col0\" class=\"data row0 col0\" >200,000</td>\n",
       "                        <td id=\"T_e6505e8c_da06_11eb_bd28_c8348e310a39row0_col1\" class=\"data row0 col1\" >184,715</td>\n",
       "                        <td id=\"T_e6505e8c_da06_11eb_bd28_c8348e310a39row0_col2\" class=\"data row0 col2\" >44,193</td>\n",
       "                        <td id=\"T_e6505e8c_da06_11eb_bd28_c8348e310a39row0_col3\" class=\"data row0 col3\" >175,000</td>\n",
       "                        <td id=\"T_e6505e8c_da06_11eb_bd28_c8348e310a39row0_col4\" class=\"data row0 col4\" >160,000</td>\n",
       "                        <td id=\"T_e6505e8c_da06_11eb_bd28_c8348e310a39row0_col5\" class=\"data row0 col5\" >44,168</td>\n",
       "                        <td id=\"T_e6505e8c_da06_11eb_bd28_c8348e310a39row0_col6\" class=\"data row0 col6\" >193,687</td>\n",
       "                        <td id=\"T_e6505e8c_da06_11eb_bd28_c8348e310a39row0_col7\" class=\"data row0 col7\" >178,449</td>\n",
       "                        <td id=\"T_e6505e8c_da06_11eb_bd28_c8348e310a39row0_col8\" class=\"data row0 col8\" >44,191</td>\n",
       "            </tr>\n",
       "    </tbody></table>"
      ],
      "text/plain": [
       "<pandas.io.formats.style.Styler at 0x17321a23648>"
      ]
     },
     "execution_count": 37,
     "metadata": {},
     "output_type": "execute_result"
    }
   ],
   "source": [
    "sva.average_claim_size().style.format('{:,}')"
   ]
  },
  {
   "cell_type": "markdown",
   "metadata": {},
   "source": [
    "### acs_ip_linked_tpd"
   ]
  },
  {
   "cell_type": "code",
   "execution_count": 38,
   "metadata": {},
   "outputs": [
    {
     "data": {
      "text/html": [
       "<style  type=\"text/css\" >\n",
       "</style><table id=\"T_e7040f5a_da06_11eb_84d7_c8348e310a39\" ><thead>    <tr>        <th class=\"blank level0\" ></th>        <th class=\"col_heading level0 col0\" >Gov 30 Day WP</th>        <th class=\"col_heading level0 col1\" >Gov 60 WP</th>        <th class=\"col_heading level0 col2\" >Gov 9 WP</th>        <th class=\"col_heading level0 col3\" >Gov180 Day WP</th>    </tr>    <tr>        <th class=\"index_name level0\" >Incurred HY</th>        <th class=\"blank\" ></th>        <th class=\"blank\" ></th>        <th class=\"blank\" ></th>        <th class=\"blank\" ></th>    </tr></thead><tbody>\n",
       "                <tr>\n",
       "                        <th id=\"T_e7040f5a_da06_11eb_84d7_c8348e310a39level0_row0\" class=\"row_heading level0 row0\" >2016H2</th>\n",
       "                        <td id=\"T_e7040f5a_da06_11eb_84d7_c8348e310a39row0_col0\" class=\"data row0 col0\" >nan</td>\n",
       "                        <td id=\"T_e7040f5a_da06_11eb_84d7_c8348e310a39row0_col1\" class=\"data row0 col1\" >nan</td>\n",
       "                        <td id=\"T_e7040f5a_da06_11eb_84d7_c8348e310a39row0_col2\" class=\"data row0 col2\" >nan</td>\n",
       "                        <td id=\"T_e7040f5a_da06_11eb_84d7_c8348e310a39row0_col3\" class=\"data row0 col3\" >nan</td>\n",
       "            </tr>\n",
       "            <tr>\n",
       "                        <th id=\"T_e7040f5a_da06_11eb_84d7_c8348e310a39level0_row1\" class=\"row_heading level0 row1\" >2017H1</th>\n",
       "                        <td id=\"T_e7040f5a_da06_11eb_84d7_c8348e310a39row1_col0\" class=\"data row1 col0\" >nan</td>\n",
       "                        <td id=\"T_e7040f5a_da06_11eb_84d7_c8348e310a39row1_col1\" class=\"data row1 col1\" >nan</td>\n",
       "                        <td id=\"T_e7040f5a_da06_11eb_84d7_c8348e310a39row1_col2\" class=\"data row1 col2\" >nan</td>\n",
       "                        <td id=\"T_e7040f5a_da06_11eb_84d7_c8348e310a39row1_col3\" class=\"data row1 col3\" >nan</td>\n",
       "            </tr>\n",
       "            <tr>\n",
       "                        <th id=\"T_e7040f5a_da06_11eb_84d7_c8348e310a39level0_row2\" class=\"row_heading level0 row2\" >2017H2</th>\n",
       "                        <td id=\"T_e7040f5a_da06_11eb_84d7_c8348e310a39row2_col0\" class=\"data row2 col0\" >nan</td>\n",
       "                        <td id=\"T_e7040f5a_da06_11eb_84d7_c8348e310a39row2_col1\" class=\"data row2 col1\" >nan</td>\n",
       "                        <td id=\"T_e7040f5a_da06_11eb_84d7_c8348e310a39row2_col2\" class=\"data row2 col2\" >nan</td>\n",
       "                        <td id=\"T_e7040f5a_da06_11eb_84d7_c8348e310a39row2_col3\" class=\"data row2 col3\" >nan</td>\n",
       "            </tr>\n",
       "            <tr>\n",
       "                        <th id=\"T_e7040f5a_da06_11eb_84d7_c8348e310a39level0_row3\" class=\"row_heading level0 row3\" >2018H1</th>\n",
       "                        <td id=\"T_e7040f5a_da06_11eb_84d7_c8348e310a39row3_col0\" class=\"data row3 col0\" >nan</td>\n",
       "                        <td id=\"T_e7040f5a_da06_11eb_84d7_c8348e310a39row3_col1\" class=\"data row3 col1\" >nan</td>\n",
       "                        <td id=\"T_e7040f5a_da06_11eb_84d7_c8348e310a39row3_col2\" class=\"data row3 col2\" >nan</td>\n",
       "                        <td id=\"T_e7040f5a_da06_11eb_84d7_c8348e310a39row3_col3\" class=\"data row3 col3\" >nan</td>\n",
       "            </tr>\n",
       "            <tr>\n",
       "                        <th id=\"T_e7040f5a_da06_11eb_84d7_c8348e310a39level0_row4\" class=\"row_heading level0 row4\" >2018H2</th>\n",
       "                        <td id=\"T_e7040f5a_da06_11eb_84d7_c8348e310a39row4_col0\" class=\"data row4 col0\" >nan</td>\n",
       "                        <td id=\"T_e7040f5a_da06_11eb_84d7_c8348e310a39row4_col1\" class=\"data row4 col1\" >nan</td>\n",
       "                        <td id=\"T_e7040f5a_da06_11eb_84d7_c8348e310a39row4_col2\" class=\"data row4 col2\" >nan</td>\n",
       "                        <td id=\"T_e7040f5a_da06_11eb_84d7_c8348e310a39row4_col3\" class=\"data row4 col3\" >nan</td>\n",
       "            </tr>\n",
       "            <tr>\n",
       "                        <th id=\"T_e7040f5a_da06_11eb_84d7_c8348e310a39level0_row5\" class=\"row_heading level0 row5\" >2019H1</th>\n",
       "                        <td id=\"T_e7040f5a_da06_11eb_84d7_c8348e310a39row5_col0\" class=\"data row5 col0\" >nan</td>\n",
       "                        <td id=\"T_e7040f5a_da06_11eb_84d7_c8348e310a39row5_col1\" class=\"data row5 col1\" >nan</td>\n",
       "                        <td id=\"T_e7040f5a_da06_11eb_84d7_c8348e310a39row5_col2\" class=\"data row5 col2\" >nan</td>\n",
       "                        <td id=\"T_e7040f5a_da06_11eb_84d7_c8348e310a39row5_col3\" class=\"data row5 col3\" >nan</td>\n",
       "            </tr>\n",
       "            <tr>\n",
       "                        <th id=\"T_e7040f5a_da06_11eb_84d7_c8348e310a39level0_row6\" class=\"row_heading level0 row6\" >2019H2</th>\n",
       "                        <td id=\"T_e7040f5a_da06_11eb_84d7_c8348e310a39row6_col0\" class=\"data row6 col0\" >49,000.0</td>\n",
       "                        <td id=\"T_e7040f5a_da06_11eb_84d7_c8348e310a39row6_col1\" class=\"data row6 col1\" >49,000.0</td>\n",
       "                        <td id=\"T_e7040f5a_da06_11eb_84d7_c8348e310a39row6_col2\" class=\"data row6 col2\" >56,000.0</td>\n",
       "                        <td id=\"T_e7040f5a_da06_11eb_84d7_c8348e310a39row6_col3\" class=\"data row6 col3\" >56,000.0</td>\n",
       "            </tr>\n",
       "            <tr>\n",
       "                        <th id=\"T_e7040f5a_da06_11eb_84d7_c8348e310a39level0_row7\" class=\"row_heading level0 row7\" >2020H1</th>\n",
       "                        <td id=\"T_e7040f5a_da06_11eb_84d7_c8348e310a39row7_col0\" class=\"data row7 col0\" >49,000.0</td>\n",
       "                        <td id=\"T_e7040f5a_da06_11eb_84d7_c8348e310a39row7_col1\" class=\"data row7 col1\" >49,000.0</td>\n",
       "                        <td id=\"T_e7040f5a_da06_11eb_84d7_c8348e310a39row7_col2\" class=\"data row7 col2\" >56,000.0</td>\n",
       "                        <td id=\"T_e7040f5a_da06_11eb_84d7_c8348e310a39row7_col3\" class=\"data row7 col3\" >56,000.0</td>\n",
       "            </tr>\n",
       "            <tr>\n",
       "                        <th id=\"T_e7040f5a_da06_11eb_84d7_c8348e310a39level0_row8\" class=\"row_heading level0 row8\" >2020H2</th>\n",
       "                        <td id=\"T_e7040f5a_da06_11eb_84d7_c8348e310a39row8_col0\" class=\"data row8 col0\" >nan</td>\n",
       "                        <td id=\"T_e7040f5a_da06_11eb_84d7_c8348e310a39row8_col1\" class=\"data row8 col1\" >nan</td>\n",
       "                        <td id=\"T_e7040f5a_da06_11eb_84d7_c8348e310a39row8_col2\" class=\"data row8 col2\" >nan</td>\n",
       "                        <td id=\"T_e7040f5a_da06_11eb_84d7_c8348e310a39row8_col3\" class=\"data row8 col3\" >nan</td>\n",
       "            </tr>\n",
       "            <tr>\n",
       "                        <th id=\"T_e7040f5a_da06_11eb_84d7_c8348e310a39level0_row9\" class=\"row_heading level0 row9\" >2021H1</th>\n",
       "                        <td id=\"T_e7040f5a_da06_11eb_84d7_c8348e310a39row9_col0\" class=\"data row9 col0\" >nan</td>\n",
       "                        <td id=\"T_e7040f5a_da06_11eb_84d7_c8348e310a39row9_col1\" class=\"data row9 col1\" >nan</td>\n",
       "                        <td id=\"T_e7040f5a_da06_11eb_84d7_c8348e310a39row9_col2\" class=\"data row9 col2\" >nan</td>\n",
       "                        <td id=\"T_e7040f5a_da06_11eb_84d7_c8348e310a39row9_col3\" class=\"data row9 col3\" >nan</td>\n",
       "            </tr>\n",
       "            <tr>\n",
       "                        <th id=\"T_e7040f5a_da06_11eb_84d7_c8348e310a39level0_row10\" class=\"row_heading level0 row10\" >2021H2</th>\n",
       "                        <td id=\"T_e7040f5a_da06_11eb_84d7_c8348e310a39row10_col0\" class=\"data row10 col0\" >nan</td>\n",
       "                        <td id=\"T_e7040f5a_da06_11eb_84d7_c8348e310a39row10_col1\" class=\"data row10 col1\" >nan</td>\n",
       "                        <td id=\"T_e7040f5a_da06_11eb_84d7_c8348e310a39row10_col2\" class=\"data row10 col2\" >nan</td>\n",
       "                        <td id=\"T_e7040f5a_da06_11eb_84d7_c8348e310a39row10_col3\" class=\"data row10 col3\" >nan</td>\n",
       "            </tr>\n",
       "            <tr>\n",
       "                        <th id=\"T_e7040f5a_da06_11eb_84d7_c8348e310a39level0_row11\" class=\"row_heading level0 row11\" >2022H1</th>\n",
       "                        <td id=\"T_e7040f5a_da06_11eb_84d7_c8348e310a39row11_col0\" class=\"data row11 col0\" >nan</td>\n",
       "                        <td id=\"T_e7040f5a_da06_11eb_84d7_c8348e310a39row11_col1\" class=\"data row11 col1\" >nan</td>\n",
       "                        <td id=\"T_e7040f5a_da06_11eb_84d7_c8348e310a39row11_col2\" class=\"data row11 col2\" >nan</td>\n",
       "                        <td id=\"T_e7040f5a_da06_11eb_84d7_c8348e310a39row11_col3\" class=\"data row11 col3\" >nan</td>\n",
       "            </tr>\n",
       "    </tbody></table>"
      ],
      "text/plain": [
       "<pandas.io.formats.style.Styler at 0x173208de308>"
      ]
     },
     "execution_count": 38,
     "metadata": {},
     "output_type": "execute_result"
    }
   ],
   "source": [
    "sva.acs_ip_linked_tpd().style.format('{:,}')"
   ]
  },
  {
   "cell_type": "markdown",
   "metadata": {},
   "source": [
    "### acs_by_notification_delay_q"
   ]
  },
  {
   "cell_type": "code",
   "execution_count": 39,
   "metadata": {},
   "outputs": [
    {
     "data": {
      "text/html": [
       "<style  type=\"text/css\" >\n",
       "</style><table id=\"T_e7bcfe46_da06_11eb_a652_c8348e310a39\" ><thead>    <tr>        <th class=\"blank level0\" ></th>        <th class=\"col_heading level0 col0\" >Gov IP Linked ACS</th>        <th class=\"col_heading level0 col1\" >Gov Non-Linked ACS</th>    </tr>    <tr>        <th class=\"index_name level0\" >Notification Delay Q</th>        <th class=\"blank\" ></th>        <th class=\"blank\" ></th>    </tr></thead><tbody>\n",
       "                <tr>\n",
       "                        <th id=\"T_e7bcfe46_da06_11eb_a652_c8348e310a39level0_row0\" class=\"row_heading level0 row0\" >0</th>\n",
       "                        <td id=\"T_e7bcfe46_da06_11eb_a652_c8348e310a39row0_col0\" class=\"data row0 col0\" >175,000</td>\n",
       "                        <td id=\"T_e7bcfe46_da06_11eb_a652_c8348e310a39row0_col1\" class=\"data row0 col1\" >200,000</td>\n",
       "            </tr>\n",
       "            <tr>\n",
       "                        <th id=\"T_e7bcfe46_da06_11eb_a652_c8348e310a39level0_row1\" class=\"row_heading level0 row1\" >1</th>\n",
       "                        <td id=\"T_e7bcfe46_da06_11eb_a652_c8348e310a39row1_col0\" class=\"data row1 col0\" >175,000</td>\n",
       "                        <td id=\"T_e7bcfe46_da06_11eb_a652_c8348e310a39row1_col1\" class=\"data row1 col1\" >200,000</td>\n",
       "            </tr>\n",
       "            <tr>\n",
       "                        <th id=\"T_e7bcfe46_da06_11eb_a652_c8348e310a39level0_row2\" class=\"row_heading level0 row2\" >2</th>\n",
       "                        <td id=\"T_e7bcfe46_da06_11eb_a652_c8348e310a39row2_col0\" class=\"data row2 col0\" >175,000</td>\n",
       "                        <td id=\"T_e7bcfe46_da06_11eb_a652_c8348e310a39row2_col1\" class=\"data row2 col1\" >200,000</td>\n",
       "            </tr>\n",
       "            <tr>\n",
       "                        <th id=\"T_e7bcfe46_da06_11eb_a652_c8348e310a39level0_row3\" class=\"row_heading level0 row3\" >3</th>\n",
       "                        <td id=\"T_e7bcfe46_da06_11eb_a652_c8348e310a39row3_col0\" class=\"data row3 col0\" >175,000</td>\n",
       "                        <td id=\"T_e7bcfe46_da06_11eb_a652_c8348e310a39row3_col1\" class=\"data row3 col1\" >200,000</td>\n",
       "            </tr>\n",
       "            <tr>\n",
       "                        <th id=\"T_e7bcfe46_da06_11eb_a652_c8348e310a39level0_row4\" class=\"row_heading level0 row4\" >4</th>\n",
       "                        <td id=\"T_e7bcfe46_da06_11eb_a652_c8348e310a39row4_col0\" class=\"data row4 col0\" >175,000</td>\n",
       "                        <td id=\"T_e7bcfe46_da06_11eb_a652_c8348e310a39row4_col1\" class=\"data row4 col1\" >200,000</td>\n",
       "            </tr>\n",
       "            <tr>\n",
       "                        <th id=\"T_e7bcfe46_da06_11eb_a652_c8348e310a39level0_row5\" class=\"row_heading level0 row5\" >5</th>\n",
       "                        <td id=\"T_e7bcfe46_da06_11eb_a652_c8348e310a39row5_col0\" class=\"data row5 col0\" >175,000</td>\n",
       "                        <td id=\"T_e7bcfe46_da06_11eb_a652_c8348e310a39row5_col1\" class=\"data row5 col1\" >200,000</td>\n",
       "            </tr>\n",
       "            <tr>\n",
       "                        <th id=\"T_e7bcfe46_da06_11eb_a652_c8348e310a39level0_row6\" class=\"row_heading level0 row6\" >6</th>\n",
       "                        <td id=\"T_e7bcfe46_da06_11eb_a652_c8348e310a39row6_col0\" class=\"data row6 col0\" >175,000</td>\n",
       "                        <td id=\"T_e7bcfe46_da06_11eb_a652_c8348e310a39row6_col1\" class=\"data row6 col1\" >200,000</td>\n",
       "            </tr>\n",
       "            <tr>\n",
       "                        <th id=\"T_e7bcfe46_da06_11eb_a652_c8348e310a39level0_row7\" class=\"row_heading level0 row7\" >7</th>\n",
       "                        <td id=\"T_e7bcfe46_da06_11eb_a652_c8348e310a39row7_col0\" class=\"data row7 col0\" >175,000</td>\n",
       "                        <td id=\"T_e7bcfe46_da06_11eb_a652_c8348e310a39row7_col1\" class=\"data row7 col1\" >200,000</td>\n",
       "            </tr>\n",
       "            <tr>\n",
       "                        <th id=\"T_e7bcfe46_da06_11eb_a652_c8348e310a39level0_row8\" class=\"row_heading level0 row8\" >8</th>\n",
       "                        <td id=\"T_e7bcfe46_da06_11eb_a652_c8348e310a39row8_col0\" class=\"data row8 col0\" >175,000</td>\n",
       "                        <td id=\"T_e7bcfe46_da06_11eb_a652_c8348e310a39row8_col1\" class=\"data row8 col1\" >200,000</td>\n",
       "            </tr>\n",
       "            <tr>\n",
       "                        <th id=\"T_e7bcfe46_da06_11eb_a652_c8348e310a39level0_row9\" class=\"row_heading level0 row9\" >9</th>\n",
       "                        <td id=\"T_e7bcfe46_da06_11eb_a652_c8348e310a39row9_col0\" class=\"data row9 col0\" >175,000</td>\n",
       "                        <td id=\"T_e7bcfe46_da06_11eb_a652_c8348e310a39row9_col1\" class=\"data row9 col1\" >200,000</td>\n",
       "            </tr>\n",
       "    </tbody></table>"
      ],
      "text/plain": [
       "<pandas.io.formats.style.Styler at 0x173203f3788>"
      ]
     },
     "execution_count": 39,
     "metadata": {},
     "output_type": "execute_result"
    }
   ],
   "source": [
    "sva.acs_by_notification_delay_q().head(10).style.format('{:,}')"
   ]
  },
  {
   "cell_type": "markdown",
   "metadata": {},
   "source": [
    "### perc_si_at_ip_doe"
   ]
  },
  {
   "cell_type": "code",
   "execution_count": 40,
   "metadata": {},
   "outputs": [
    {
     "data": {
      "text/html": [
       "<style  type=\"text/css\" >\n",
       "</style><table id=\"T_e869b4f0_da06_11eb_b306_c8348e310a39\" ><thead>    <tr>        <th class=\"blank level0\" ></th>        <th class=\"col_heading level0 col0\" >Unnamed: 104</th>    </tr></thead><tbody>\n",
       "                <tr>\n",
       "                        <th id=\"T_e869b4f0_da06_11eb_b306_c8348e310a39level0_row0\" class=\"row_heading level0 row0\" >%SI at IP DoE</th>\n",
       "                        <td id=\"T_e869b4f0_da06_11eb_b306_c8348e310a39row0_col0\" class=\"data row0 col0\" >70.00%</td>\n",
       "            </tr>\n",
       "    </tbody></table>"
      ],
      "text/plain": [
       "<pandas.io.formats.style.Styler at 0x17321a56a48>"
      ]
     },
     "execution_count": 40,
     "metadata": {},
     "output_type": "execute_result"
    }
   ],
   "source": [
    "sva.perc_si_at_ip_doe().style.format('{:,.2%}')"
   ]
  },
  {
   "cell_type": "markdown",
   "metadata": {},
   "source": [
    "### tpd_si_scales_by_age"
   ]
  },
  {
   "cell_type": "code",
   "execution_count": 41,
   "metadata": {},
   "outputs": [
    {
     "data": {
      "text/html": [
       "<style  type=\"text/css\" >\n",
       "</style><table id=\"T_e91cabb8_da06_11eb_961a_c8348e310a39\" ><thead>    <tr>        <th class=\"blank level0\" ></th>        <th class=\"col_heading level0 col0\" >TPD Cover /Unit</th>    </tr>    <tr>        <th class=\"index_name level0\" >Age</th>        <th class=\"blank\" ></th>    </tr></thead><tbody>\n",
       "                <tr>\n",
       "                        <th id=\"T_e91cabb8_da06_11eb_961a_c8348e310a39level0_row0\" class=\"row_heading level0 row0\" >16</th>\n",
       "                        <td id=\"T_e91cabb8_da06_11eb_961a_c8348e310a39row0_col0\" class=\"data row0 col0\" >100,000.0</td>\n",
       "            </tr>\n",
       "            <tr>\n",
       "                        <th id=\"T_e91cabb8_da06_11eb_961a_c8348e310a39level0_row1\" class=\"row_heading level0 row1\" >17</th>\n",
       "                        <td id=\"T_e91cabb8_da06_11eb_961a_c8348e310a39row1_col0\" class=\"data row1 col0\" >95,000.0</td>\n",
       "            </tr>\n",
       "            <tr>\n",
       "                        <th id=\"T_e91cabb8_da06_11eb_961a_c8348e310a39level0_row2\" class=\"row_heading level0 row2\" >18</th>\n",
       "                        <td id=\"T_e91cabb8_da06_11eb_961a_c8348e310a39row2_col0\" class=\"data row2 col0\" >90,250.0</td>\n",
       "            </tr>\n",
       "            <tr>\n",
       "                        <th id=\"T_e91cabb8_da06_11eb_961a_c8348e310a39level0_row3\" class=\"row_heading level0 row3\" >19</th>\n",
       "                        <td id=\"T_e91cabb8_da06_11eb_961a_c8348e310a39row3_col0\" class=\"data row3 col0\" >85,737.5</td>\n",
       "            </tr>\n",
       "            <tr>\n",
       "                        <th id=\"T_e91cabb8_da06_11eb_961a_c8348e310a39level0_row4\" class=\"row_heading level0 row4\" >20</th>\n",
       "                        <td id=\"T_e91cabb8_da06_11eb_961a_c8348e310a39row4_col0\" class=\"data row4 col0\" >81,450.62</td>\n",
       "            </tr>\n",
       "            <tr>\n",
       "                        <th id=\"T_e91cabb8_da06_11eb_961a_c8348e310a39level0_row5\" class=\"row_heading level0 row5\" >21</th>\n",
       "                        <td id=\"T_e91cabb8_da06_11eb_961a_c8348e310a39row5_col0\" class=\"data row5 col0\" >77,378.09</td>\n",
       "            </tr>\n",
       "            <tr>\n",
       "                        <th id=\"T_e91cabb8_da06_11eb_961a_c8348e310a39level0_row6\" class=\"row_heading level0 row6\" >22</th>\n",
       "                        <td id=\"T_e91cabb8_da06_11eb_961a_c8348e310a39row6_col0\" class=\"data row6 col0\" >73,509.19</td>\n",
       "            </tr>\n",
       "            <tr>\n",
       "                        <th id=\"T_e91cabb8_da06_11eb_961a_c8348e310a39level0_row7\" class=\"row_heading level0 row7\" >23</th>\n",
       "                        <td id=\"T_e91cabb8_da06_11eb_961a_c8348e310a39row7_col0\" class=\"data row7 col0\" >69,833.73</td>\n",
       "            </tr>\n",
       "            <tr>\n",
       "                        <th id=\"T_e91cabb8_da06_11eb_961a_c8348e310a39level0_row8\" class=\"row_heading level0 row8\" >24</th>\n",
       "                        <td id=\"T_e91cabb8_da06_11eb_961a_c8348e310a39row8_col0\" class=\"data row8 col0\" >66,342.04</td>\n",
       "            </tr>\n",
       "            <tr>\n",
       "                        <th id=\"T_e91cabb8_da06_11eb_961a_c8348e310a39level0_row9\" class=\"row_heading level0 row9\" >25</th>\n",
       "                        <td id=\"T_e91cabb8_da06_11eb_961a_c8348e310a39row9_col0\" class=\"data row9 col0\" >63,024.94</td>\n",
       "            </tr>\n",
       "    </tbody></table>"
      ],
      "text/plain": [
       "<pandas.io.formats.style.Styler at 0x17320861108>"
      ]
     },
     "execution_count": 41,
     "metadata": {},
     "output_type": "execute_result"
    }
   ],
   "source": [
    "sva.tpd_si_scales_by_age().head(10).round(2).style.format('{:,}')"
   ]
  },
  {
   "cell_type": "markdown",
   "metadata": {},
   "source": [
    "### termination_rates"
   ]
  },
  {
   "cell_type": "markdown",
   "metadata": {},
   "source": [
    "#### age_rates"
   ]
  },
  {
   "cell_type": "code",
   "execution_count": 42,
   "metadata": {},
   "outputs": [
    {
     "data": {
      "text/html": [
       "<style  type=\"text/css\" >\n",
       "</style><table id=\"T_e9d62052_da06_11eb_b80c_c8348e310a39\" ><thead>    <tr>        <th class=\"blank level0\" ></th>        <th class=\"col_heading level0 col0\" >Male</th>        <th class=\"col_heading level0 col1\" >Female</th>    </tr>    <tr>        <th class=\"index_name level0\" >Age*</th>        <th class=\"blank\" ></th>        <th class=\"blank\" ></th>    </tr></thead><tbody>\n",
       "                <tr>\n",
       "                        <th id=\"T_e9d62052_da06_11eb_b80c_c8348e310a39level0_row0\" class=\"row_heading level0 row0\" >20.0</th>\n",
       "                        <td id=\"T_e9d62052_da06_11eb_b80c_c8348e310a39row0_col0\" class=\"data row0 col0\" >93.00%</td>\n",
       "                        <td id=\"T_e9d62052_da06_11eb_b80c_c8348e310a39row0_col1\" class=\"data row0 col1\" >102.00%</td>\n",
       "            </tr>\n",
       "            <tr>\n",
       "                        <th id=\"T_e9d62052_da06_11eb_b80c_c8348e310a39level0_row1\" class=\"row_heading level0 row1\" >21.0</th>\n",
       "                        <td id=\"T_e9d62052_da06_11eb_b80c_c8348e310a39row1_col0\" class=\"data row1 col0\" >93.00%</td>\n",
       "                        <td id=\"T_e9d62052_da06_11eb_b80c_c8348e310a39row1_col1\" class=\"data row1 col1\" >102.00%</td>\n",
       "            </tr>\n",
       "            <tr>\n",
       "                        <th id=\"T_e9d62052_da06_11eb_b80c_c8348e310a39level0_row2\" class=\"row_heading level0 row2\" >22.0</th>\n",
       "                        <td id=\"T_e9d62052_da06_11eb_b80c_c8348e310a39row2_col0\" class=\"data row2 col0\" >93.00%</td>\n",
       "                        <td id=\"T_e9d62052_da06_11eb_b80c_c8348e310a39row2_col1\" class=\"data row2 col1\" >102.00%</td>\n",
       "            </tr>\n",
       "            <tr>\n",
       "                        <th id=\"T_e9d62052_da06_11eb_b80c_c8348e310a39level0_row3\" class=\"row_heading level0 row3\" >23.0</th>\n",
       "                        <td id=\"T_e9d62052_da06_11eb_b80c_c8348e310a39row3_col0\" class=\"data row3 col0\" >93.00%</td>\n",
       "                        <td id=\"T_e9d62052_da06_11eb_b80c_c8348e310a39row3_col1\" class=\"data row3 col1\" >102.00%</td>\n",
       "            </tr>\n",
       "            <tr>\n",
       "                        <th id=\"T_e9d62052_da06_11eb_b80c_c8348e310a39level0_row4\" class=\"row_heading level0 row4\" >24.0</th>\n",
       "                        <td id=\"T_e9d62052_da06_11eb_b80c_c8348e310a39row4_col0\" class=\"data row4 col0\" >93.00%</td>\n",
       "                        <td id=\"T_e9d62052_da06_11eb_b80c_c8348e310a39row4_col1\" class=\"data row4 col1\" >102.00%</td>\n",
       "            </tr>\n",
       "            <tr>\n",
       "                        <th id=\"T_e9d62052_da06_11eb_b80c_c8348e310a39level0_row5\" class=\"row_heading level0 row5\" >25.0</th>\n",
       "                        <td id=\"T_e9d62052_da06_11eb_b80c_c8348e310a39row5_col0\" class=\"data row5 col0\" >93.00%</td>\n",
       "                        <td id=\"T_e9d62052_da06_11eb_b80c_c8348e310a39row5_col1\" class=\"data row5 col1\" >102.00%</td>\n",
       "            </tr>\n",
       "            <tr>\n",
       "                        <th id=\"T_e9d62052_da06_11eb_b80c_c8348e310a39level0_row6\" class=\"row_heading level0 row6\" >26.0</th>\n",
       "                        <td id=\"T_e9d62052_da06_11eb_b80c_c8348e310a39row6_col0\" class=\"data row6 col0\" >93.00%</td>\n",
       "                        <td id=\"T_e9d62052_da06_11eb_b80c_c8348e310a39row6_col1\" class=\"data row6 col1\" >102.00%</td>\n",
       "            </tr>\n",
       "            <tr>\n",
       "                        <th id=\"T_e9d62052_da06_11eb_b80c_c8348e310a39level0_row7\" class=\"row_heading level0 row7\" >27.0</th>\n",
       "                        <td id=\"T_e9d62052_da06_11eb_b80c_c8348e310a39row7_col0\" class=\"data row7 col0\" >93.00%</td>\n",
       "                        <td id=\"T_e9d62052_da06_11eb_b80c_c8348e310a39row7_col1\" class=\"data row7 col1\" >102.00%</td>\n",
       "            </tr>\n",
       "            <tr>\n",
       "                        <th id=\"T_e9d62052_da06_11eb_b80c_c8348e310a39level0_row8\" class=\"row_heading level0 row8\" >28.0</th>\n",
       "                        <td id=\"T_e9d62052_da06_11eb_b80c_c8348e310a39row8_col0\" class=\"data row8 col0\" >93.00%</td>\n",
       "                        <td id=\"T_e9d62052_da06_11eb_b80c_c8348e310a39row8_col1\" class=\"data row8 col1\" >102.00%</td>\n",
       "            </tr>\n",
       "            <tr>\n",
       "                        <th id=\"T_e9d62052_da06_11eb_b80c_c8348e310a39level0_row9\" class=\"row_heading level0 row9\" >29.0</th>\n",
       "                        <td id=\"T_e9d62052_da06_11eb_b80c_c8348e310a39row9_col0\" class=\"data row9 col0\" >93.00%</td>\n",
       "                        <td id=\"T_e9d62052_da06_11eb_b80c_c8348e310a39row9_col1\" class=\"data row9 col1\" >102.00%</td>\n",
       "            </tr>\n",
       "    </tbody></table>"
      ],
      "text/plain": [
       "<pandas.io.formats.style.Styler at 0x173207817c8>"
      ]
     },
     "execution_count": 42,
     "metadata": {},
     "output_type": "execute_result"
    }
   ],
   "source": [
    "sva.termination_rates.age_rates().head(10).style.format('{:,.2%}')"
   ]
  },
  {
   "cell_type": "markdown",
   "metadata": {},
   "source": [
    "#### duration_of_claim_g_wp_oc"
   ]
  },
  {
   "cell_type": "code",
   "execution_count": 43,
   "metadata": {},
   "outputs": [
    {
     "data": {
      "text/html": [
       "<style  type=\"text/css\" >\n",
       "</style><table id=\"T_ea8f36d8_da06_11eb_9870_c8348e310a39\" ><thead>    <tr>        <th class=\"blank level0\" ></th>        <th class=\"col_heading level0 col0\" colspan=12>Male</th>        <th class=\"col_heading level0 col12\" colspan=12>Female</th>    </tr>    <tr>        <th class=\"blank level1\" ></th>        <th class=\"col_heading level1 col0\" colspan=6>Accident</th>        <th class=\"col_heading level1 col6\" colspan=6>Sickness</th>        <th class=\"col_heading level1 col12\" colspan=6>Accident</th>        <th class=\"col_heading level1 col18\" colspan=6>Sickness</th>    </tr>    <tr>        <th class=\"blank level2\" ></th>        <th class=\"col_heading level2 col0\" colspan=2>Professional / Medical</th>        <th class=\"col_heading level2 col2\" colspan=2>White Collar / Sedentary</th>        <th class=\"col_heading level2 col4\" colspan=2>Combined Blue Collar</th>        <th class=\"col_heading level2 col6\" colspan=2>Professional / Medical</th>        <th class=\"col_heading level2 col8\" colspan=2>White Collar / Sedentary</th>        <th class=\"col_heading level2 col10\" colspan=2>Combined Blue Collar</th>        <th class=\"col_heading level2 col12\" colspan=2>Professional / Medical</th>        <th class=\"col_heading level2 col14\" colspan=2>White Collar / Sedentary</th>        <th class=\"col_heading level2 col16\" colspan=2>Combined Blue Collar</th>        <th class=\"col_heading level2 col18\" colspan=2>Professional / Medical</th>        <th class=\"col_heading level2 col20\" colspan=2>White Collar / Sedentary</th>        <th class=\"col_heading level2 col22\" colspan=2>Combined Blue Collar</th>    </tr>    <tr>        <th class=\"blank level3\" ></th>        <th class=\"col_heading level3 col0\" ><= 30 Day Wait</th>        <th class=\"col_heading level3 col1\" >90 Day Wait</th>        <th class=\"col_heading level3 col2\" ><= 30 Day Wait</th>        <th class=\"col_heading level3 col3\" >90 Day Wait</th>        <th class=\"col_heading level3 col4\" ><= 30 Day Wait</th>        <th class=\"col_heading level3 col5\" >90 Day Wait</th>        <th class=\"col_heading level3 col6\" ><= 30 Day Wait</th>        <th class=\"col_heading level3 col7\" >90 Day Wait</th>        <th class=\"col_heading level3 col8\" ><= 30 Day Wait</th>        <th class=\"col_heading level3 col9\" >90 Day Wait</th>        <th class=\"col_heading level3 col10\" ><= 30 Day Wait</th>        <th class=\"col_heading level3 col11\" >90 Day Wait</th>        <th class=\"col_heading level3 col12\" ><= 30 Day Wait</th>        <th class=\"col_heading level3 col13\" >90 Day Wait</th>        <th class=\"col_heading level3 col14\" ><= 30 Day Wait</th>        <th class=\"col_heading level3 col15\" >90 Day Wait</th>        <th class=\"col_heading level3 col16\" ><= 30 Day Wait</th>        <th class=\"col_heading level3 col17\" >90 Day Wait</th>        <th class=\"col_heading level3 col18\" ><= 30 Day Wait</th>        <th class=\"col_heading level3 col19\" >90 Day Wait</th>        <th class=\"col_heading level3 col20\" ><= 30 Day Wait</th>        <th class=\"col_heading level3 col21\" >90 Day Wait</th>        <th class=\"col_heading level3 col22\" ><= 30 Day Wait</th>        <th class=\"col_heading level3 col23\" >90 Day Wait</th>    </tr>    <tr>        <th class=\"index_name level0\" >Duration of Claim (months)</th>        <th class=\"blank\" ></th>        <th class=\"blank\" ></th>        <th class=\"blank\" ></th>        <th class=\"blank\" ></th>        <th class=\"blank\" ></th>        <th class=\"blank\" ></th>        <th class=\"blank\" ></th>        <th class=\"blank\" ></th>        <th class=\"blank\" ></th>        <th class=\"blank\" ></th>        <th class=\"blank\" ></th>        <th class=\"blank\" ></th>        <th class=\"blank\" ></th>        <th class=\"blank\" ></th>        <th class=\"blank\" ></th>        <th class=\"blank\" ></th>        <th class=\"blank\" ></th>        <th class=\"blank\" ></th>        <th class=\"blank\" ></th>        <th class=\"blank\" ></th>        <th class=\"blank\" ></th>        <th class=\"blank\" ></th>        <th class=\"blank\" ></th>        <th class=\"blank\" ></th>    </tr></thead><tbody>\n",
       "                <tr>\n",
       "                        <th id=\"T_ea8f36d8_da06_11eb_9870_c8348e310a39level0_row0\" class=\"row_heading level0 row0\" >1</th>\n",
       "                        <td id=\"T_ea8f36d8_da06_11eb_9870_c8348e310a39row0_col0\" class=\"data row0 col0\" >100.00%</td>\n",
       "                        <td id=\"T_ea8f36d8_da06_11eb_9870_c8348e310a39row0_col1\" class=\"data row0 col1\" >100.00%</td>\n",
       "                        <td id=\"T_ea8f36d8_da06_11eb_9870_c8348e310a39row0_col2\" class=\"data row0 col2\" >100.00%</td>\n",
       "                        <td id=\"T_ea8f36d8_da06_11eb_9870_c8348e310a39row0_col3\" class=\"data row0 col3\" >100.00%</td>\n",
       "                        <td id=\"T_ea8f36d8_da06_11eb_9870_c8348e310a39row0_col4\" class=\"data row0 col4\" >100.00%</td>\n",
       "                        <td id=\"T_ea8f36d8_da06_11eb_9870_c8348e310a39row0_col5\" class=\"data row0 col5\" >100.00%</td>\n",
       "                        <td id=\"T_ea8f36d8_da06_11eb_9870_c8348e310a39row0_col6\" class=\"data row0 col6\" >100.00%</td>\n",
       "                        <td id=\"T_ea8f36d8_da06_11eb_9870_c8348e310a39row0_col7\" class=\"data row0 col7\" >100.00%</td>\n",
       "                        <td id=\"T_ea8f36d8_da06_11eb_9870_c8348e310a39row0_col8\" class=\"data row0 col8\" >100.00%</td>\n",
       "                        <td id=\"T_ea8f36d8_da06_11eb_9870_c8348e310a39row0_col9\" class=\"data row0 col9\" >100.00%</td>\n",
       "                        <td id=\"T_ea8f36d8_da06_11eb_9870_c8348e310a39row0_col10\" class=\"data row0 col10\" >100.00%</td>\n",
       "                        <td id=\"T_ea8f36d8_da06_11eb_9870_c8348e310a39row0_col11\" class=\"data row0 col11\" >100.00%</td>\n",
       "                        <td id=\"T_ea8f36d8_da06_11eb_9870_c8348e310a39row0_col12\" class=\"data row0 col12\" >100.00%</td>\n",
       "                        <td id=\"T_ea8f36d8_da06_11eb_9870_c8348e310a39row0_col13\" class=\"data row0 col13\" >100.00%</td>\n",
       "                        <td id=\"T_ea8f36d8_da06_11eb_9870_c8348e310a39row0_col14\" class=\"data row0 col14\" >100.00%</td>\n",
       "                        <td id=\"T_ea8f36d8_da06_11eb_9870_c8348e310a39row0_col15\" class=\"data row0 col15\" >100.00%</td>\n",
       "                        <td id=\"T_ea8f36d8_da06_11eb_9870_c8348e310a39row0_col16\" class=\"data row0 col16\" >100.00%</td>\n",
       "                        <td id=\"T_ea8f36d8_da06_11eb_9870_c8348e310a39row0_col17\" class=\"data row0 col17\" >100.00%</td>\n",
       "                        <td id=\"T_ea8f36d8_da06_11eb_9870_c8348e310a39row0_col18\" class=\"data row0 col18\" >100.00%</td>\n",
       "                        <td id=\"T_ea8f36d8_da06_11eb_9870_c8348e310a39row0_col19\" class=\"data row0 col19\" >100.00%</td>\n",
       "                        <td id=\"T_ea8f36d8_da06_11eb_9870_c8348e310a39row0_col20\" class=\"data row0 col20\" >100.00%</td>\n",
       "                        <td id=\"T_ea8f36d8_da06_11eb_9870_c8348e310a39row0_col21\" class=\"data row0 col21\" >100.00%</td>\n",
       "                        <td id=\"T_ea8f36d8_da06_11eb_9870_c8348e310a39row0_col22\" class=\"data row0 col22\" >100.00%</td>\n",
       "                        <td id=\"T_ea8f36d8_da06_11eb_9870_c8348e310a39row0_col23\" class=\"data row0 col23\" >100.00%</td>\n",
       "            </tr>\n",
       "            <tr>\n",
       "                        <th id=\"T_ea8f36d8_da06_11eb_9870_c8348e310a39level0_row1\" class=\"row_heading level0 row1\" >2</th>\n",
       "                        <td id=\"T_ea8f36d8_da06_11eb_9870_c8348e310a39row1_col0\" class=\"data row1 col0\" >100.00%</td>\n",
       "                        <td id=\"T_ea8f36d8_da06_11eb_9870_c8348e310a39row1_col1\" class=\"data row1 col1\" >100.00%</td>\n",
       "                        <td id=\"T_ea8f36d8_da06_11eb_9870_c8348e310a39row1_col2\" class=\"data row1 col2\" >100.00%</td>\n",
       "                        <td id=\"T_ea8f36d8_da06_11eb_9870_c8348e310a39row1_col3\" class=\"data row1 col3\" >100.00%</td>\n",
       "                        <td id=\"T_ea8f36d8_da06_11eb_9870_c8348e310a39row1_col4\" class=\"data row1 col4\" >100.00%</td>\n",
       "                        <td id=\"T_ea8f36d8_da06_11eb_9870_c8348e310a39row1_col5\" class=\"data row1 col5\" >100.00%</td>\n",
       "                        <td id=\"T_ea8f36d8_da06_11eb_9870_c8348e310a39row1_col6\" class=\"data row1 col6\" >100.00%</td>\n",
       "                        <td id=\"T_ea8f36d8_da06_11eb_9870_c8348e310a39row1_col7\" class=\"data row1 col7\" >100.00%</td>\n",
       "                        <td id=\"T_ea8f36d8_da06_11eb_9870_c8348e310a39row1_col8\" class=\"data row1 col8\" >100.00%</td>\n",
       "                        <td id=\"T_ea8f36d8_da06_11eb_9870_c8348e310a39row1_col9\" class=\"data row1 col9\" >100.00%</td>\n",
       "                        <td id=\"T_ea8f36d8_da06_11eb_9870_c8348e310a39row1_col10\" class=\"data row1 col10\" >100.00%</td>\n",
       "                        <td id=\"T_ea8f36d8_da06_11eb_9870_c8348e310a39row1_col11\" class=\"data row1 col11\" >100.00%</td>\n",
       "                        <td id=\"T_ea8f36d8_da06_11eb_9870_c8348e310a39row1_col12\" class=\"data row1 col12\" >100.00%</td>\n",
       "                        <td id=\"T_ea8f36d8_da06_11eb_9870_c8348e310a39row1_col13\" class=\"data row1 col13\" >100.00%</td>\n",
       "                        <td id=\"T_ea8f36d8_da06_11eb_9870_c8348e310a39row1_col14\" class=\"data row1 col14\" >100.00%</td>\n",
       "                        <td id=\"T_ea8f36d8_da06_11eb_9870_c8348e310a39row1_col15\" class=\"data row1 col15\" >100.00%</td>\n",
       "                        <td id=\"T_ea8f36d8_da06_11eb_9870_c8348e310a39row1_col16\" class=\"data row1 col16\" >100.00%</td>\n",
       "                        <td id=\"T_ea8f36d8_da06_11eb_9870_c8348e310a39row1_col17\" class=\"data row1 col17\" >100.00%</td>\n",
       "                        <td id=\"T_ea8f36d8_da06_11eb_9870_c8348e310a39row1_col18\" class=\"data row1 col18\" >100.00%</td>\n",
       "                        <td id=\"T_ea8f36d8_da06_11eb_9870_c8348e310a39row1_col19\" class=\"data row1 col19\" >100.00%</td>\n",
       "                        <td id=\"T_ea8f36d8_da06_11eb_9870_c8348e310a39row1_col20\" class=\"data row1 col20\" >100.00%</td>\n",
       "                        <td id=\"T_ea8f36d8_da06_11eb_9870_c8348e310a39row1_col21\" class=\"data row1 col21\" >100.00%</td>\n",
       "                        <td id=\"T_ea8f36d8_da06_11eb_9870_c8348e310a39row1_col22\" class=\"data row1 col22\" >100.00%</td>\n",
       "                        <td id=\"T_ea8f36d8_da06_11eb_9870_c8348e310a39row1_col23\" class=\"data row1 col23\" >100.00%</td>\n",
       "            </tr>\n",
       "            <tr>\n",
       "                        <th id=\"T_ea8f36d8_da06_11eb_9870_c8348e310a39level0_row2\" class=\"row_heading level0 row2\" >3</th>\n",
       "                        <td id=\"T_ea8f36d8_da06_11eb_9870_c8348e310a39row2_col0\" class=\"data row2 col0\" >100.00%</td>\n",
       "                        <td id=\"T_ea8f36d8_da06_11eb_9870_c8348e310a39row2_col1\" class=\"data row2 col1\" >100.00%</td>\n",
       "                        <td id=\"T_ea8f36d8_da06_11eb_9870_c8348e310a39row2_col2\" class=\"data row2 col2\" >100.00%</td>\n",
       "                        <td id=\"T_ea8f36d8_da06_11eb_9870_c8348e310a39row2_col3\" class=\"data row2 col3\" >100.00%</td>\n",
       "                        <td id=\"T_ea8f36d8_da06_11eb_9870_c8348e310a39row2_col4\" class=\"data row2 col4\" >100.00%</td>\n",
       "                        <td id=\"T_ea8f36d8_da06_11eb_9870_c8348e310a39row2_col5\" class=\"data row2 col5\" >100.00%</td>\n",
       "                        <td id=\"T_ea8f36d8_da06_11eb_9870_c8348e310a39row2_col6\" class=\"data row2 col6\" >100.00%</td>\n",
       "                        <td id=\"T_ea8f36d8_da06_11eb_9870_c8348e310a39row2_col7\" class=\"data row2 col7\" >100.00%</td>\n",
       "                        <td id=\"T_ea8f36d8_da06_11eb_9870_c8348e310a39row2_col8\" class=\"data row2 col8\" >100.00%</td>\n",
       "                        <td id=\"T_ea8f36d8_da06_11eb_9870_c8348e310a39row2_col9\" class=\"data row2 col9\" >100.00%</td>\n",
       "                        <td id=\"T_ea8f36d8_da06_11eb_9870_c8348e310a39row2_col10\" class=\"data row2 col10\" >100.00%</td>\n",
       "                        <td id=\"T_ea8f36d8_da06_11eb_9870_c8348e310a39row2_col11\" class=\"data row2 col11\" >100.00%</td>\n",
       "                        <td id=\"T_ea8f36d8_da06_11eb_9870_c8348e310a39row2_col12\" class=\"data row2 col12\" >100.00%</td>\n",
       "                        <td id=\"T_ea8f36d8_da06_11eb_9870_c8348e310a39row2_col13\" class=\"data row2 col13\" >100.00%</td>\n",
       "                        <td id=\"T_ea8f36d8_da06_11eb_9870_c8348e310a39row2_col14\" class=\"data row2 col14\" >100.00%</td>\n",
       "                        <td id=\"T_ea8f36d8_da06_11eb_9870_c8348e310a39row2_col15\" class=\"data row2 col15\" >100.00%</td>\n",
       "                        <td id=\"T_ea8f36d8_da06_11eb_9870_c8348e310a39row2_col16\" class=\"data row2 col16\" >100.00%</td>\n",
       "                        <td id=\"T_ea8f36d8_da06_11eb_9870_c8348e310a39row2_col17\" class=\"data row2 col17\" >100.00%</td>\n",
       "                        <td id=\"T_ea8f36d8_da06_11eb_9870_c8348e310a39row2_col18\" class=\"data row2 col18\" >100.00%</td>\n",
       "                        <td id=\"T_ea8f36d8_da06_11eb_9870_c8348e310a39row2_col19\" class=\"data row2 col19\" >100.00%</td>\n",
       "                        <td id=\"T_ea8f36d8_da06_11eb_9870_c8348e310a39row2_col20\" class=\"data row2 col20\" >100.00%</td>\n",
       "                        <td id=\"T_ea8f36d8_da06_11eb_9870_c8348e310a39row2_col21\" class=\"data row2 col21\" >100.00%</td>\n",
       "                        <td id=\"T_ea8f36d8_da06_11eb_9870_c8348e310a39row2_col22\" class=\"data row2 col22\" >100.00%</td>\n",
       "                        <td id=\"T_ea8f36d8_da06_11eb_9870_c8348e310a39row2_col23\" class=\"data row2 col23\" >100.00%</td>\n",
       "            </tr>\n",
       "            <tr>\n",
       "                        <th id=\"T_ea8f36d8_da06_11eb_9870_c8348e310a39level0_row3\" class=\"row_heading level0 row3\" >4</th>\n",
       "                        <td id=\"T_ea8f36d8_da06_11eb_9870_c8348e310a39row3_col0\" class=\"data row3 col0\" >100.00%</td>\n",
       "                        <td id=\"T_ea8f36d8_da06_11eb_9870_c8348e310a39row3_col1\" class=\"data row3 col1\" >100.00%</td>\n",
       "                        <td id=\"T_ea8f36d8_da06_11eb_9870_c8348e310a39row3_col2\" class=\"data row3 col2\" >100.00%</td>\n",
       "                        <td id=\"T_ea8f36d8_da06_11eb_9870_c8348e310a39row3_col3\" class=\"data row3 col3\" >100.00%</td>\n",
       "                        <td id=\"T_ea8f36d8_da06_11eb_9870_c8348e310a39row3_col4\" class=\"data row3 col4\" >100.00%</td>\n",
       "                        <td id=\"T_ea8f36d8_da06_11eb_9870_c8348e310a39row3_col5\" class=\"data row3 col5\" >100.00%</td>\n",
       "                        <td id=\"T_ea8f36d8_da06_11eb_9870_c8348e310a39row3_col6\" class=\"data row3 col6\" >100.00%</td>\n",
       "                        <td id=\"T_ea8f36d8_da06_11eb_9870_c8348e310a39row3_col7\" class=\"data row3 col7\" >100.00%</td>\n",
       "                        <td id=\"T_ea8f36d8_da06_11eb_9870_c8348e310a39row3_col8\" class=\"data row3 col8\" >100.00%</td>\n",
       "                        <td id=\"T_ea8f36d8_da06_11eb_9870_c8348e310a39row3_col9\" class=\"data row3 col9\" >100.00%</td>\n",
       "                        <td id=\"T_ea8f36d8_da06_11eb_9870_c8348e310a39row3_col10\" class=\"data row3 col10\" >100.00%</td>\n",
       "                        <td id=\"T_ea8f36d8_da06_11eb_9870_c8348e310a39row3_col11\" class=\"data row3 col11\" >100.00%</td>\n",
       "                        <td id=\"T_ea8f36d8_da06_11eb_9870_c8348e310a39row3_col12\" class=\"data row3 col12\" >100.00%</td>\n",
       "                        <td id=\"T_ea8f36d8_da06_11eb_9870_c8348e310a39row3_col13\" class=\"data row3 col13\" >100.00%</td>\n",
       "                        <td id=\"T_ea8f36d8_da06_11eb_9870_c8348e310a39row3_col14\" class=\"data row3 col14\" >100.00%</td>\n",
       "                        <td id=\"T_ea8f36d8_da06_11eb_9870_c8348e310a39row3_col15\" class=\"data row3 col15\" >100.00%</td>\n",
       "                        <td id=\"T_ea8f36d8_da06_11eb_9870_c8348e310a39row3_col16\" class=\"data row3 col16\" >100.00%</td>\n",
       "                        <td id=\"T_ea8f36d8_da06_11eb_9870_c8348e310a39row3_col17\" class=\"data row3 col17\" >100.00%</td>\n",
       "                        <td id=\"T_ea8f36d8_da06_11eb_9870_c8348e310a39row3_col18\" class=\"data row3 col18\" >100.00%</td>\n",
       "                        <td id=\"T_ea8f36d8_da06_11eb_9870_c8348e310a39row3_col19\" class=\"data row3 col19\" >100.00%</td>\n",
       "                        <td id=\"T_ea8f36d8_da06_11eb_9870_c8348e310a39row3_col20\" class=\"data row3 col20\" >100.00%</td>\n",
       "                        <td id=\"T_ea8f36d8_da06_11eb_9870_c8348e310a39row3_col21\" class=\"data row3 col21\" >100.00%</td>\n",
       "                        <td id=\"T_ea8f36d8_da06_11eb_9870_c8348e310a39row3_col22\" class=\"data row3 col22\" >100.00%</td>\n",
       "                        <td id=\"T_ea8f36d8_da06_11eb_9870_c8348e310a39row3_col23\" class=\"data row3 col23\" >100.00%</td>\n",
       "            </tr>\n",
       "            <tr>\n",
       "                        <th id=\"T_ea8f36d8_da06_11eb_9870_c8348e310a39level0_row4\" class=\"row_heading level0 row4\" >5</th>\n",
       "                        <td id=\"T_ea8f36d8_da06_11eb_9870_c8348e310a39row4_col0\" class=\"data row4 col0\" >100.00%</td>\n",
       "                        <td id=\"T_ea8f36d8_da06_11eb_9870_c8348e310a39row4_col1\" class=\"data row4 col1\" >100.00%</td>\n",
       "                        <td id=\"T_ea8f36d8_da06_11eb_9870_c8348e310a39row4_col2\" class=\"data row4 col2\" >100.00%</td>\n",
       "                        <td id=\"T_ea8f36d8_da06_11eb_9870_c8348e310a39row4_col3\" class=\"data row4 col3\" >100.00%</td>\n",
       "                        <td id=\"T_ea8f36d8_da06_11eb_9870_c8348e310a39row4_col4\" class=\"data row4 col4\" >100.00%</td>\n",
       "                        <td id=\"T_ea8f36d8_da06_11eb_9870_c8348e310a39row4_col5\" class=\"data row4 col5\" >100.00%</td>\n",
       "                        <td id=\"T_ea8f36d8_da06_11eb_9870_c8348e310a39row4_col6\" class=\"data row4 col6\" >100.00%</td>\n",
       "                        <td id=\"T_ea8f36d8_da06_11eb_9870_c8348e310a39row4_col7\" class=\"data row4 col7\" >100.00%</td>\n",
       "                        <td id=\"T_ea8f36d8_da06_11eb_9870_c8348e310a39row4_col8\" class=\"data row4 col8\" >100.00%</td>\n",
       "                        <td id=\"T_ea8f36d8_da06_11eb_9870_c8348e310a39row4_col9\" class=\"data row4 col9\" >100.00%</td>\n",
       "                        <td id=\"T_ea8f36d8_da06_11eb_9870_c8348e310a39row4_col10\" class=\"data row4 col10\" >100.00%</td>\n",
       "                        <td id=\"T_ea8f36d8_da06_11eb_9870_c8348e310a39row4_col11\" class=\"data row4 col11\" >100.00%</td>\n",
       "                        <td id=\"T_ea8f36d8_da06_11eb_9870_c8348e310a39row4_col12\" class=\"data row4 col12\" >100.00%</td>\n",
       "                        <td id=\"T_ea8f36d8_da06_11eb_9870_c8348e310a39row4_col13\" class=\"data row4 col13\" >100.00%</td>\n",
       "                        <td id=\"T_ea8f36d8_da06_11eb_9870_c8348e310a39row4_col14\" class=\"data row4 col14\" >100.00%</td>\n",
       "                        <td id=\"T_ea8f36d8_da06_11eb_9870_c8348e310a39row4_col15\" class=\"data row4 col15\" >100.00%</td>\n",
       "                        <td id=\"T_ea8f36d8_da06_11eb_9870_c8348e310a39row4_col16\" class=\"data row4 col16\" >100.00%</td>\n",
       "                        <td id=\"T_ea8f36d8_da06_11eb_9870_c8348e310a39row4_col17\" class=\"data row4 col17\" >100.00%</td>\n",
       "                        <td id=\"T_ea8f36d8_da06_11eb_9870_c8348e310a39row4_col18\" class=\"data row4 col18\" >100.00%</td>\n",
       "                        <td id=\"T_ea8f36d8_da06_11eb_9870_c8348e310a39row4_col19\" class=\"data row4 col19\" >100.00%</td>\n",
       "                        <td id=\"T_ea8f36d8_da06_11eb_9870_c8348e310a39row4_col20\" class=\"data row4 col20\" >100.00%</td>\n",
       "                        <td id=\"T_ea8f36d8_da06_11eb_9870_c8348e310a39row4_col21\" class=\"data row4 col21\" >100.00%</td>\n",
       "                        <td id=\"T_ea8f36d8_da06_11eb_9870_c8348e310a39row4_col22\" class=\"data row4 col22\" >100.00%</td>\n",
       "                        <td id=\"T_ea8f36d8_da06_11eb_9870_c8348e310a39row4_col23\" class=\"data row4 col23\" >100.00%</td>\n",
       "            </tr>\n",
       "            <tr>\n",
       "                        <th id=\"T_ea8f36d8_da06_11eb_9870_c8348e310a39level0_row5\" class=\"row_heading level0 row5\" >6</th>\n",
       "                        <td id=\"T_ea8f36d8_da06_11eb_9870_c8348e310a39row5_col0\" class=\"data row5 col0\" >100.00%</td>\n",
       "                        <td id=\"T_ea8f36d8_da06_11eb_9870_c8348e310a39row5_col1\" class=\"data row5 col1\" >100.00%</td>\n",
       "                        <td id=\"T_ea8f36d8_da06_11eb_9870_c8348e310a39row5_col2\" class=\"data row5 col2\" >100.00%</td>\n",
       "                        <td id=\"T_ea8f36d8_da06_11eb_9870_c8348e310a39row5_col3\" class=\"data row5 col3\" >100.00%</td>\n",
       "                        <td id=\"T_ea8f36d8_da06_11eb_9870_c8348e310a39row5_col4\" class=\"data row5 col4\" >100.00%</td>\n",
       "                        <td id=\"T_ea8f36d8_da06_11eb_9870_c8348e310a39row5_col5\" class=\"data row5 col5\" >100.00%</td>\n",
       "                        <td id=\"T_ea8f36d8_da06_11eb_9870_c8348e310a39row5_col6\" class=\"data row5 col6\" >100.00%</td>\n",
       "                        <td id=\"T_ea8f36d8_da06_11eb_9870_c8348e310a39row5_col7\" class=\"data row5 col7\" >100.00%</td>\n",
       "                        <td id=\"T_ea8f36d8_da06_11eb_9870_c8348e310a39row5_col8\" class=\"data row5 col8\" >100.00%</td>\n",
       "                        <td id=\"T_ea8f36d8_da06_11eb_9870_c8348e310a39row5_col9\" class=\"data row5 col9\" >100.00%</td>\n",
       "                        <td id=\"T_ea8f36d8_da06_11eb_9870_c8348e310a39row5_col10\" class=\"data row5 col10\" >100.00%</td>\n",
       "                        <td id=\"T_ea8f36d8_da06_11eb_9870_c8348e310a39row5_col11\" class=\"data row5 col11\" >100.00%</td>\n",
       "                        <td id=\"T_ea8f36d8_da06_11eb_9870_c8348e310a39row5_col12\" class=\"data row5 col12\" >100.00%</td>\n",
       "                        <td id=\"T_ea8f36d8_da06_11eb_9870_c8348e310a39row5_col13\" class=\"data row5 col13\" >100.00%</td>\n",
       "                        <td id=\"T_ea8f36d8_da06_11eb_9870_c8348e310a39row5_col14\" class=\"data row5 col14\" >100.00%</td>\n",
       "                        <td id=\"T_ea8f36d8_da06_11eb_9870_c8348e310a39row5_col15\" class=\"data row5 col15\" >100.00%</td>\n",
       "                        <td id=\"T_ea8f36d8_da06_11eb_9870_c8348e310a39row5_col16\" class=\"data row5 col16\" >100.00%</td>\n",
       "                        <td id=\"T_ea8f36d8_da06_11eb_9870_c8348e310a39row5_col17\" class=\"data row5 col17\" >100.00%</td>\n",
       "                        <td id=\"T_ea8f36d8_da06_11eb_9870_c8348e310a39row5_col18\" class=\"data row5 col18\" >100.00%</td>\n",
       "                        <td id=\"T_ea8f36d8_da06_11eb_9870_c8348e310a39row5_col19\" class=\"data row5 col19\" >100.00%</td>\n",
       "                        <td id=\"T_ea8f36d8_da06_11eb_9870_c8348e310a39row5_col20\" class=\"data row5 col20\" >100.00%</td>\n",
       "                        <td id=\"T_ea8f36d8_da06_11eb_9870_c8348e310a39row5_col21\" class=\"data row5 col21\" >100.00%</td>\n",
       "                        <td id=\"T_ea8f36d8_da06_11eb_9870_c8348e310a39row5_col22\" class=\"data row5 col22\" >100.00%</td>\n",
       "                        <td id=\"T_ea8f36d8_da06_11eb_9870_c8348e310a39row5_col23\" class=\"data row5 col23\" >100.00%</td>\n",
       "            </tr>\n",
       "            <tr>\n",
       "                        <th id=\"T_ea8f36d8_da06_11eb_9870_c8348e310a39level0_row6\" class=\"row_heading level0 row6\" >7</th>\n",
       "                        <td id=\"T_ea8f36d8_da06_11eb_9870_c8348e310a39row6_col0\" class=\"data row6 col0\" >100.00%</td>\n",
       "                        <td id=\"T_ea8f36d8_da06_11eb_9870_c8348e310a39row6_col1\" class=\"data row6 col1\" >100.00%</td>\n",
       "                        <td id=\"T_ea8f36d8_da06_11eb_9870_c8348e310a39row6_col2\" class=\"data row6 col2\" >100.00%</td>\n",
       "                        <td id=\"T_ea8f36d8_da06_11eb_9870_c8348e310a39row6_col3\" class=\"data row6 col3\" >100.00%</td>\n",
       "                        <td id=\"T_ea8f36d8_da06_11eb_9870_c8348e310a39row6_col4\" class=\"data row6 col4\" >100.00%</td>\n",
       "                        <td id=\"T_ea8f36d8_da06_11eb_9870_c8348e310a39row6_col5\" class=\"data row6 col5\" >100.00%</td>\n",
       "                        <td id=\"T_ea8f36d8_da06_11eb_9870_c8348e310a39row6_col6\" class=\"data row6 col6\" >100.00%</td>\n",
       "                        <td id=\"T_ea8f36d8_da06_11eb_9870_c8348e310a39row6_col7\" class=\"data row6 col7\" >100.00%</td>\n",
       "                        <td id=\"T_ea8f36d8_da06_11eb_9870_c8348e310a39row6_col8\" class=\"data row6 col8\" >100.00%</td>\n",
       "                        <td id=\"T_ea8f36d8_da06_11eb_9870_c8348e310a39row6_col9\" class=\"data row6 col9\" >100.00%</td>\n",
       "                        <td id=\"T_ea8f36d8_da06_11eb_9870_c8348e310a39row6_col10\" class=\"data row6 col10\" >100.00%</td>\n",
       "                        <td id=\"T_ea8f36d8_da06_11eb_9870_c8348e310a39row6_col11\" class=\"data row6 col11\" >100.00%</td>\n",
       "                        <td id=\"T_ea8f36d8_da06_11eb_9870_c8348e310a39row6_col12\" class=\"data row6 col12\" >100.00%</td>\n",
       "                        <td id=\"T_ea8f36d8_da06_11eb_9870_c8348e310a39row6_col13\" class=\"data row6 col13\" >100.00%</td>\n",
       "                        <td id=\"T_ea8f36d8_da06_11eb_9870_c8348e310a39row6_col14\" class=\"data row6 col14\" >100.00%</td>\n",
       "                        <td id=\"T_ea8f36d8_da06_11eb_9870_c8348e310a39row6_col15\" class=\"data row6 col15\" >100.00%</td>\n",
       "                        <td id=\"T_ea8f36d8_da06_11eb_9870_c8348e310a39row6_col16\" class=\"data row6 col16\" >100.00%</td>\n",
       "                        <td id=\"T_ea8f36d8_da06_11eb_9870_c8348e310a39row6_col17\" class=\"data row6 col17\" >100.00%</td>\n",
       "                        <td id=\"T_ea8f36d8_da06_11eb_9870_c8348e310a39row6_col18\" class=\"data row6 col18\" >100.00%</td>\n",
       "                        <td id=\"T_ea8f36d8_da06_11eb_9870_c8348e310a39row6_col19\" class=\"data row6 col19\" >100.00%</td>\n",
       "                        <td id=\"T_ea8f36d8_da06_11eb_9870_c8348e310a39row6_col20\" class=\"data row6 col20\" >100.00%</td>\n",
       "                        <td id=\"T_ea8f36d8_da06_11eb_9870_c8348e310a39row6_col21\" class=\"data row6 col21\" >100.00%</td>\n",
       "                        <td id=\"T_ea8f36d8_da06_11eb_9870_c8348e310a39row6_col22\" class=\"data row6 col22\" >100.00%</td>\n",
       "                        <td id=\"T_ea8f36d8_da06_11eb_9870_c8348e310a39row6_col23\" class=\"data row6 col23\" >100.00%</td>\n",
       "            </tr>\n",
       "            <tr>\n",
       "                        <th id=\"T_ea8f36d8_da06_11eb_9870_c8348e310a39level0_row7\" class=\"row_heading level0 row7\" >8</th>\n",
       "                        <td id=\"T_ea8f36d8_da06_11eb_9870_c8348e310a39row7_col0\" class=\"data row7 col0\" >100.00%</td>\n",
       "                        <td id=\"T_ea8f36d8_da06_11eb_9870_c8348e310a39row7_col1\" class=\"data row7 col1\" >100.00%</td>\n",
       "                        <td id=\"T_ea8f36d8_da06_11eb_9870_c8348e310a39row7_col2\" class=\"data row7 col2\" >100.00%</td>\n",
       "                        <td id=\"T_ea8f36d8_da06_11eb_9870_c8348e310a39row7_col3\" class=\"data row7 col3\" >100.00%</td>\n",
       "                        <td id=\"T_ea8f36d8_da06_11eb_9870_c8348e310a39row7_col4\" class=\"data row7 col4\" >100.00%</td>\n",
       "                        <td id=\"T_ea8f36d8_da06_11eb_9870_c8348e310a39row7_col5\" class=\"data row7 col5\" >100.00%</td>\n",
       "                        <td id=\"T_ea8f36d8_da06_11eb_9870_c8348e310a39row7_col6\" class=\"data row7 col6\" >100.00%</td>\n",
       "                        <td id=\"T_ea8f36d8_da06_11eb_9870_c8348e310a39row7_col7\" class=\"data row7 col7\" >100.00%</td>\n",
       "                        <td id=\"T_ea8f36d8_da06_11eb_9870_c8348e310a39row7_col8\" class=\"data row7 col8\" >100.00%</td>\n",
       "                        <td id=\"T_ea8f36d8_da06_11eb_9870_c8348e310a39row7_col9\" class=\"data row7 col9\" >100.00%</td>\n",
       "                        <td id=\"T_ea8f36d8_da06_11eb_9870_c8348e310a39row7_col10\" class=\"data row7 col10\" >100.00%</td>\n",
       "                        <td id=\"T_ea8f36d8_da06_11eb_9870_c8348e310a39row7_col11\" class=\"data row7 col11\" >100.00%</td>\n",
       "                        <td id=\"T_ea8f36d8_da06_11eb_9870_c8348e310a39row7_col12\" class=\"data row7 col12\" >100.00%</td>\n",
       "                        <td id=\"T_ea8f36d8_da06_11eb_9870_c8348e310a39row7_col13\" class=\"data row7 col13\" >100.00%</td>\n",
       "                        <td id=\"T_ea8f36d8_da06_11eb_9870_c8348e310a39row7_col14\" class=\"data row7 col14\" >100.00%</td>\n",
       "                        <td id=\"T_ea8f36d8_da06_11eb_9870_c8348e310a39row7_col15\" class=\"data row7 col15\" >100.00%</td>\n",
       "                        <td id=\"T_ea8f36d8_da06_11eb_9870_c8348e310a39row7_col16\" class=\"data row7 col16\" >100.00%</td>\n",
       "                        <td id=\"T_ea8f36d8_da06_11eb_9870_c8348e310a39row7_col17\" class=\"data row7 col17\" >100.00%</td>\n",
       "                        <td id=\"T_ea8f36d8_da06_11eb_9870_c8348e310a39row7_col18\" class=\"data row7 col18\" >100.00%</td>\n",
       "                        <td id=\"T_ea8f36d8_da06_11eb_9870_c8348e310a39row7_col19\" class=\"data row7 col19\" >100.00%</td>\n",
       "                        <td id=\"T_ea8f36d8_da06_11eb_9870_c8348e310a39row7_col20\" class=\"data row7 col20\" >100.00%</td>\n",
       "                        <td id=\"T_ea8f36d8_da06_11eb_9870_c8348e310a39row7_col21\" class=\"data row7 col21\" >100.00%</td>\n",
       "                        <td id=\"T_ea8f36d8_da06_11eb_9870_c8348e310a39row7_col22\" class=\"data row7 col22\" >100.00%</td>\n",
       "                        <td id=\"T_ea8f36d8_da06_11eb_9870_c8348e310a39row7_col23\" class=\"data row7 col23\" >100.00%</td>\n",
       "            </tr>\n",
       "            <tr>\n",
       "                        <th id=\"T_ea8f36d8_da06_11eb_9870_c8348e310a39level0_row8\" class=\"row_heading level0 row8\" >9</th>\n",
       "                        <td id=\"T_ea8f36d8_da06_11eb_9870_c8348e310a39row8_col0\" class=\"data row8 col0\" >100.00%</td>\n",
       "                        <td id=\"T_ea8f36d8_da06_11eb_9870_c8348e310a39row8_col1\" class=\"data row8 col1\" >100.00%</td>\n",
       "                        <td id=\"T_ea8f36d8_da06_11eb_9870_c8348e310a39row8_col2\" class=\"data row8 col2\" >100.00%</td>\n",
       "                        <td id=\"T_ea8f36d8_da06_11eb_9870_c8348e310a39row8_col3\" class=\"data row8 col3\" >100.00%</td>\n",
       "                        <td id=\"T_ea8f36d8_da06_11eb_9870_c8348e310a39row8_col4\" class=\"data row8 col4\" >100.00%</td>\n",
       "                        <td id=\"T_ea8f36d8_da06_11eb_9870_c8348e310a39row8_col5\" class=\"data row8 col5\" >100.00%</td>\n",
       "                        <td id=\"T_ea8f36d8_da06_11eb_9870_c8348e310a39row8_col6\" class=\"data row8 col6\" >100.00%</td>\n",
       "                        <td id=\"T_ea8f36d8_da06_11eb_9870_c8348e310a39row8_col7\" class=\"data row8 col7\" >100.00%</td>\n",
       "                        <td id=\"T_ea8f36d8_da06_11eb_9870_c8348e310a39row8_col8\" class=\"data row8 col8\" >100.00%</td>\n",
       "                        <td id=\"T_ea8f36d8_da06_11eb_9870_c8348e310a39row8_col9\" class=\"data row8 col9\" >100.00%</td>\n",
       "                        <td id=\"T_ea8f36d8_da06_11eb_9870_c8348e310a39row8_col10\" class=\"data row8 col10\" >100.00%</td>\n",
       "                        <td id=\"T_ea8f36d8_da06_11eb_9870_c8348e310a39row8_col11\" class=\"data row8 col11\" >100.00%</td>\n",
       "                        <td id=\"T_ea8f36d8_da06_11eb_9870_c8348e310a39row8_col12\" class=\"data row8 col12\" >100.00%</td>\n",
       "                        <td id=\"T_ea8f36d8_da06_11eb_9870_c8348e310a39row8_col13\" class=\"data row8 col13\" >100.00%</td>\n",
       "                        <td id=\"T_ea8f36d8_da06_11eb_9870_c8348e310a39row8_col14\" class=\"data row8 col14\" >100.00%</td>\n",
       "                        <td id=\"T_ea8f36d8_da06_11eb_9870_c8348e310a39row8_col15\" class=\"data row8 col15\" >100.00%</td>\n",
       "                        <td id=\"T_ea8f36d8_da06_11eb_9870_c8348e310a39row8_col16\" class=\"data row8 col16\" >100.00%</td>\n",
       "                        <td id=\"T_ea8f36d8_da06_11eb_9870_c8348e310a39row8_col17\" class=\"data row8 col17\" >100.00%</td>\n",
       "                        <td id=\"T_ea8f36d8_da06_11eb_9870_c8348e310a39row8_col18\" class=\"data row8 col18\" >100.00%</td>\n",
       "                        <td id=\"T_ea8f36d8_da06_11eb_9870_c8348e310a39row8_col19\" class=\"data row8 col19\" >100.00%</td>\n",
       "                        <td id=\"T_ea8f36d8_da06_11eb_9870_c8348e310a39row8_col20\" class=\"data row8 col20\" >100.00%</td>\n",
       "                        <td id=\"T_ea8f36d8_da06_11eb_9870_c8348e310a39row8_col21\" class=\"data row8 col21\" >100.00%</td>\n",
       "                        <td id=\"T_ea8f36d8_da06_11eb_9870_c8348e310a39row8_col22\" class=\"data row8 col22\" >100.00%</td>\n",
       "                        <td id=\"T_ea8f36d8_da06_11eb_9870_c8348e310a39row8_col23\" class=\"data row8 col23\" >100.00%</td>\n",
       "            </tr>\n",
       "            <tr>\n",
       "                        <th id=\"T_ea8f36d8_da06_11eb_9870_c8348e310a39level0_row9\" class=\"row_heading level0 row9\" >10</th>\n",
       "                        <td id=\"T_ea8f36d8_da06_11eb_9870_c8348e310a39row9_col0\" class=\"data row9 col0\" >100.00%</td>\n",
       "                        <td id=\"T_ea8f36d8_da06_11eb_9870_c8348e310a39row9_col1\" class=\"data row9 col1\" >100.00%</td>\n",
       "                        <td id=\"T_ea8f36d8_da06_11eb_9870_c8348e310a39row9_col2\" class=\"data row9 col2\" >100.00%</td>\n",
       "                        <td id=\"T_ea8f36d8_da06_11eb_9870_c8348e310a39row9_col3\" class=\"data row9 col3\" >100.00%</td>\n",
       "                        <td id=\"T_ea8f36d8_da06_11eb_9870_c8348e310a39row9_col4\" class=\"data row9 col4\" >100.00%</td>\n",
       "                        <td id=\"T_ea8f36d8_da06_11eb_9870_c8348e310a39row9_col5\" class=\"data row9 col5\" >100.00%</td>\n",
       "                        <td id=\"T_ea8f36d8_da06_11eb_9870_c8348e310a39row9_col6\" class=\"data row9 col6\" >100.00%</td>\n",
       "                        <td id=\"T_ea8f36d8_da06_11eb_9870_c8348e310a39row9_col7\" class=\"data row9 col7\" >100.00%</td>\n",
       "                        <td id=\"T_ea8f36d8_da06_11eb_9870_c8348e310a39row9_col8\" class=\"data row9 col8\" >100.00%</td>\n",
       "                        <td id=\"T_ea8f36d8_da06_11eb_9870_c8348e310a39row9_col9\" class=\"data row9 col9\" >100.00%</td>\n",
       "                        <td id=\"T_ea8f36d8_da06_11eb_9870_c8348e310a39row9_col10\" class=\"data row9 col10\" >100.00%</td>\n",
       "                        <td id=\"T_ea8f36d8_da06_11eb_9870_c8348e310a39row9_col11\" class=\"data row9 col11\" >100.00%</td>\n",
       "                        <td id=\"T_ea8f36d8_da06_11eb_9870_c8348e310a39row9_col12\" class=\"data row9 col12\" >100.00%</td>\n",
       "                        <td id=\"T_ea8f36d8_da06_11eb_9870_c8348e310a39row9_col13\" class=\"data row9 col13\" >100.00%</td>\n",
       "                        <td id=\"T_ea8f36d8_da06_11eb_9870_c8348e310a39row9_col14\" class=\"data row9 col14\" >100.00%</td>\n",
       "                        <td id=\"T_ea8f36d8_da06_11eb_9870_c8348e310a39row9_col15\" class=\"data row9 col15\" >100.00%</td>\n",
       "                        <td id=\"T_ea8f36d8_da06_11eb_9870_c8348e310a39row9_col16\" class=\"data row9 col16\" >100.00%</td>\n",
       "                        <td id=\"T_ea8f36d8_da06_11eb_9870_c8348e310a39row9_col17\" class=\"data row9 col17\" >100.00%</td>\n",
       "                        <td id=\"T_ea8f36d8_da06_11eb_9870_c8348e310a39row9_col18\" class=\"data row9 col18\" >100.00%</td>\n",
       "                        <td id=\"T_ea8f36d8_da06_11eb_9870_c8348e310a39row9_col19\" class=\"data row9 col19\" >100.00%</td>\n",
       "                        <td id=\"T_ea8f36d8_da06_11eb_9870_c8348e310a39row9_col20\" class=\"data row9 col20\" >100.00%</td>\n",
       "                        <td id=\"T_ea8f36d8_da06_11eb_9870_c8348e310a39row9_col21\" class=\"data row9 col21\" >100.00%</td>\n",
       "                        <td id=\"T_ea8f36d8_da06_11eb_9870_c8348e310a39row9_col22\" class=\"data row9 col22\" >100.00%</td>\n",
       "                        <td id=\"T_ea8f36d8_da06_11eb_9870_c8348e310a39row9_col23\" class=\"data row9 col23\" >100.00%</td>\n",
       "            </tr>\n",
       "    </tbody></table>"
      ],
      "text/plain": [
       "<pandas.io.formats.style.Styler at 0x17321a5a688>"
      ]
     },
     "execution_count": 43,
     "metadata": {},
     "output_type": "execute_result"
    }
   ],
   "source": [
    "sva.termination_rates.duration_of_claim_g_wp_oc().head(10).style.format('{:,.2%}')"
   ]
  },
  {
   "cell_type": "markdown",
   "metadata": {},
   "source": [
    "#### smoker_status"
   ]
  },
  {
   "cell_type": "code",
   "execution_count": 44,
   "metadata": {},
   "outputs": [
    {
     "data": {
      "text/html": [
       "<style  type=\"text/css\" >\n",
       "</style><table id=\"T_eb432aba_da06_11eb_b5a7_c8348e310a39\" ><thead>    <tr>        <th class=\"blank level0\" ></th>        <th class=\"col_heading level0 col0\" >smoker_status</th>    </tr></thead><tbody>\n",
       "                <tr>\n",
       "                        <th id=\"T_eb432aba_da06_11eb_b5a7_c8348e310a39level0_row0\" class=\"row_heading level0 row0\" >Non-Smoker</th>\n",
       "                        <td id=\"T_eb432aba_da06_11eb_b5a7_c8348e310a39row0_col0\" class=\"data row0 col0\" >100.00%</td>\n",
       "            </tr>\n",
       "            <tr>\n",
       "                        <th id=\"T_eb432aba_da06_11eb_b5a7_c8348e310a39level0_row1\" class=\"row_heading level0 row1\" >Smoker</th>\n",
       "                        <td id=\"T_eb432aba_da06_11eb_b5a7_c8348e310a39row1_col0\" class=\"data row1 col0\" >100.00%</td>\n",
       "            </tr>\n",
       "    </tbody></table>"
      ],
      "text/plain": [
       "<pandas.io.formats.style.Styler at 0x17320487c48>"
      ]
     },
     "execution_count": 44,
     "metadata": {},
     "output_type": "execute_result"
    }
   ],
   "source": [
    "sva.termination_rates.smoker_status().style.format('{:,.2%}')"
   ]
  },
  {
   "cell_type": "markdown",
   "metadata": {},
   "source": [
    "#### benefit_type"
   ]
  },
  {
   "cell_type": "code",
   "execution_count": 45,
   "metadata": {},
   "outputs": [
    {
     "data": {
      "text/html": [
       "<style  type=\"text/css\" >\n",
       "</style><table id=\"T_ebfc0924_da06_11eb_9a8e_c8348e310a39\" ><thead>    <tr>        <th class=\"blank level0\" ></th>        <th class=\"col_heading level0 col0\" >benefit_type</th>    </tr></thead><tbody>\n",
       "                <tr>\n",
       "                        <th id=\"T_ebfc0924_da06_11eb_9a8e_c8348e310a39level0_row0\" class=\"row_heading level0 row0\" >Agreed Value</th>\n",
       "                        <td id=\"T_ebfc0924_da06_11eb_9a8e_c8348e310a39row0_col0\" class=\"data row0 col0\" >100.00%</td>\n",
       "            </tr>\n",
       "            <tr>\n",
       "                        <th id=\"T_ebfc0924_da06_11eb_9a8e_c8348e310a39level0_row1\" class=\"row_heading level0 row1\" >Indemnity</th>\n",
       "                        <td id=\"T_ebfc0924_da06_11eb_9a8e_c8348e310a39row1_col0\" class=\"data row1 col0\" >100.00%</td>\n",
       "            </tr>\n",
       "    </tbody></table>"
      ],
      "text/plain": [
       "<pandas.io.formats.style.Styler at 0x1732090d488>"
      ]
     },
     "execution_count": 45,
     "metadata": {},
     "output_type": "execute_result"
    }
   ],
   "source": [
    "sva.termination_rates.benefit_type().style.format('{:,.2%}')"
   ]
  },
  {
   "cell_type": "markdown",
   "metadata": {},
   "source": [
    "#### policy_duration_factor"
   ]
  },
  {
   "cell_type": "code",
   "execution_count": 46,
   "metadata": {},
   "outputs": [
    {
     "data": {
      "text/html": [
       "<style  type=\"text/css\" >\n",
       "</style><table id=\"T_eca44540_da06_11eb_9949_c8348e310a39\" ><thead>    <tr>        <th class=\"blank level0\" ></th>        <th class=\"col_heading level0 col0\" colspan=2>Male</th>        <th class=\"col_heading level0 col2\" colspan=2>Female</th>    </tr>    <tr>        <th class=\"blank level1\" ></th>        <th class=\"col_heading level1 col0\" >Accident</th>        <th class=\"col_heading level1 col1\" >Sickness</th>        <th class=\"col_heading level1 col2\" >Accident</th>        <th class=\"col_heading level1 col3\" >Sickness</th>    </tr>    <tr>        <th class=\"index_name level0\" >Curtate Policy Year</th>        <th class=\"blank\" ></th>        <th class=\"blank\" ></th>        <th class=\"blank\" ></th>        <th class=\"blank\" ></th>    </tr></thead><tbody>\n",
       "                <tr>\n",
       "                        <th id=\"T_eca44540_da06_11eb_9949_c8348e310a39level0_row0\" class=\"row_heading level0 row0\" >0</th>\n",
       "                        <td id=\"T_eca44540_da06_11eb_9949_c8348e310a39row0_col0\" class=\"data row0 col0\" >100.00%</td>\n",
       "                        <td id=\"T_eca44540_da06_11eb_9949_c8348e310a39row0_col1\" class=\"data row0 col1\" >100.00%</td>\n",
       "                        <td id=\"T_eca44540_da06_11eb_9949_c8348e310a39row0_col2\" class=\"data row0 col2\" >100.00%</td>\n",
       "                        <td id=\"T_eca44540_da06_11eb_9949_c8348e310a39row0_col3\" class=\"data row0 col3\" >100.00%</td>\n",
       "            </tr>\n",
       "            <tr>\n",
       "                        <th id=\"T_eca44540_da06_11eb_9949_c8348e310a39level0_row1\" class=\"row_heading level0 row1\" >1</th>\n",
       "                        <td id=\"T_eca44540_da06_11eb_9949_c8348e310a39row1_col0\" class=\"data row1 col0\" >100.00%</td>\n",
       "                        <td id=\"T_eca44540_da06_11eb_9949_c8348e310a39row1_col1\" class=\"data row1 col1\" >100.00%</td>\n",
       "                        <td id=\"T_eca44540_da06_11eb_9949_c8348e310a39row1_col2\" class=\"data row1 col2\" >100.00%</td>\n",
       "                        <td id=\"T_eca44540_da06_11eb_9949_c8348e310a39row1_col3\" class=\"data row1 col3\" >100.00%</td>\n",
       "            </tr>\n",
       "            <tr>\n",
       "                        <th id=\"T_eca44540_da06_11eb_9949_c8348e310a39level0_row2\" class=\"row_heading level0 row2\" >2</th>\n",
       "                        <td id=\"T_eca44540_da06_11eb_9949_c8348e310a39row2_col0\" class=\"data row2 col0\" >100.00%</td>\n",
       "                        <td id=\"T_eca44540_da06_11eb_9949_c8348e310a39row2_col1\" class=\"data row2 col1\" >100.00%</td>\n",
       "                        <td id=\"T_eca44540_da06_11eb_9949_c8348e310a39row2_col2\" class=\"data row2 col2\" >100.00%</td>\n",
       "                        <td id=\"T_eca44540_da06_11eb_9949_c8348e310a39row2_col3\" class=\"data row2 col3\" >100.00%</td>\n",
       "            </tr>\n",
       "            <tr>\n",
       "                        <th id=\"T_eca44540_da06_11eb_9949_c8348e310a39level0_row3\" class=\"row_heading level0 row3\" >3</th>\n",
       "                        <td id=\"T_eca44540_da06_11eb_9949_c8348e310a39row3_col0\" class=\"data row3 col0\" >100.00%</td>\n",
       "                        <td id=\"T_eca44540_da06_11eb_9949_c8348e310a39row3_col1\" class=\"data row3 col1\" >100.00%</td>\n",
       "                        <td id=\"T_eca44540_da06_11eb_9949_c8348e310a39row3_col2\" class=\"data row3 col2\" >100.00%</td>\n",
       "                        <td id=\"T_eca44540_da06_11eb_9949_c8348e310a39row3_col3\" class=\"data row3 col3\" >100.00%</td>\n",
       "            </tr>\n",
       "            <tr>\n",
       "                        <th id=\"T_eca44540_da06_11eb_9949_c8348e310a39level0_row4\" class=\"row_heading level0 row4\" >4</th>\n",
       "                        <td id=\"T_eca44540_da06_11eb_9949_c8348e310a39row4_col0\" class=\"data row4 col0\" >100.00%</td>\n",
       "                        <td id=\"T_eca44540_da06_11eb_9949_c8348e310a39row4_col1\" class=\"data row4 col1\" >100.00%</td>\n",
       "                        <td id=\"T_eca44540_da06_11eb_9949_c8348e310a39row4_col2\" class=\"data row4 col2\" >100.00%</td>\n",
       "                        <td id=\"T_eca44540_da06_11eb_9949_c8348e310a39row4_col3\" class=\"data row4 col3\" >100.00%</td>\n",
       "            </tr>\n",
       "            <tr>\n",
       "                        <th id=\"T_eca44540_da06_11eb_9949_c8348e310a39level0_row5\" class=\"row_heading level0 row5\" >5</th>\n",
       "                        <td id=\"T_eca44540_da06_11eb_9949_c8348e310a39row5_col0\" class=\"data row5 col0\" >100.00%</td>\n",
       "                        <td id=\"T_eca44540_da06_11eb_9949_c8348e310a39row5_col1\" class=\"data row5 col1\" >100.00%</td>\n",
       "                        <td id=\"T_eca44540_da06_11eb_9949_c8348e310a39row5_col2\" class=\"data row5 col2\" >100.00%</td>\n",
       "                        <td id=\"T_eca44540_da06_11eb_9949_c8348e310a39row5_col3\" class=\"data row5 col3\" >100.00%</td>\n",
       "            </tr>\n",
       "            <tr>\n",
       "                        <th id=\"T_eca44540_da06_11eb_9949_c8348e310a39level0_row6\" class=\"row_heading level0 row6\" >6</th>\n",
       "                        <td id=\"T_eca44540_da06_11eb_9949_c8348e310a39row6_col0\" class=\"data row6 col0\" >100.00%</td>\n",
       "                        <td id=\"T_eca44540_da06_11eb_9949_c8348e310a39row6_col1\" class=\"data row6 col1\" >100.00%</td>\n",
       "                        <td id=\"T_eca44540_da06_11eb_9949_c8348e310a39row6_col2\" class=\"data row6 col2\" >100.00%</td>\n",
       "                        <td id=\"T_eca44540_da06_11eb_9949_c8348e310a39row6_col3\" class=\"data row6 col3\" >100.00%</td>\n",
       "            </tr>\n",
       "            <tr>\n",
       "                        <th id=\"T_eca44540_da06_11eb_9949_c8348e310a39level0_row7\" class=\"row_heading level0 row7\" >7</th>\n",
       "                        <td id=\"T_eca44540_da06_11eb_9949_c8348e310a39row7_col0\" class=\"data row7 col0\" >100.00%</td>\n",
       "                        <td id=\"T_eca44540_da06_11eb_9949_c8348e310a39row7_col1\" class=\"data row7 col1\" >100.00%</td>\n",
       "                        <td id=\"T_eca44540_da06_11eb_9949_c8348e310a39row7_col2\" class=\"data row7 col2\" >100.00%</td>\n",
       "                        <td id=\"T_eca44540_da06_11eb_9949_c8348e310a39row7_col3\" class=\"data row7 col3\" >100.00%</td>\n",
       "            </tr>\n",
       "            <tr>\n",
       "                        <th id=\"T_eca44540_da06_11eb_9949_c8348e310a39level0_row8\" class=\"row_heading level0 row8\" >8</th>\n",
       "                        <td id=\"T_eca44540_da06_11eb_9949_c8348e310a39row8_col0\" class=\"data row8 col0\" >100.00%</td>\n",
       "                        <td id=\"T_eca44540_da06_11eb_9949_c8348e310a39row8_col1\" class=\"data row8 col1\" >100.00%</td>\n",
       "                        <td id=\"T_eca44540_da06_11eb_9949_c8348e310a39row8_col2\" class=\"data row8 col2\" >100.00%</td>\n",
       "                        <td id=\"T_eca44540_da06_11eb_9949_c8348e310a39row8_col3\" class=\"data row8 col3\" >100.00%</td>\n",
       "            </tr>\n",
       "            <tr>\n",
       "                        <th id=\"T_eca44540_da06_11eb_9949_c8348e310a39level0_row9\" class=\"row_heading level0 row9\" >9</th>\n",
       "                        <td id=\"T_eca44540_da06_11eb_9949_c8348e310a39row9_col0\" class=\"data row9 col0\" >100.00%</td>\n",
       "                        <td id=\"T_eca44540_da06_11eb_9949_c8348e310a39row9_col1\" class=\"data row9 col1\" >100.00%</td>\n",
       "                        <td id=\"T_eca44540_da06_11eb_9949_c8348e310a39row9_col2\" class=\"data row9 col2\" >100.00%</td>\n",
       "                        <td id=\"T_eca44540_da06_11eb_9949_c8348e310a39row9_col3\" class=\"data row9 col3\" >100.00%</td>\n",
       "            </tr>\n",
       "            <tr>\n",
       "                        <th id=\"T_eca44540_da06_11eb_9949_c8348e310a39level0_row10\" class=\"row_heading level0 row10\" >10</th>\n",
       "                        <td id=\"T_eca44540_da06_11eb_9949_c8348e310a39row10_col0\" class=\"data row10 col0\" >100.00%</td>\n",
       "                        <td id=\"T_eca44540_da06_11eb_9949_c8348e310a39row10_col1\" class=\"data row10 col1\" >100.00%</td>\n",
       "                        <td id=\"T_eca44540_da06_11eb_9949_c8348e310a39row10_col2\" class=\"data row10 col2\" >100.00%</td>\n",
       "                        <td id=\"T_eca44540_da06_11eb_9949_c8348e310a39row10_col3\" class=\"data row10 col3\" >100.00%</td>\n",
       "            </tr>\n",
       "    </tbody></table>"
      ],
      "text/plain": [
       "<pandas.io.formats.style.Styler at 0x17321a13d48>"
      ]
     },
     "execution_count": 46,
     "metadata": {},
     "output_type": "execute_result"
    }
   ],
   "source": [
    "sva.termination_rates.policy_duration_factor().style.format('{:,.2%}')"
   ]
  },
  {
   "cell_type": "markdown",
   "metadata": {},
   "source": [
    "### stress_margins"
   ]
  },
  {
   "cell_type": "markdown",
   "metadata": {},
   "source": [
    "#### random"
   ]
  },
  {
   "cell_type": "code",
   "execution_count": 47,
   "metadata": {},
   "outputs": [
    {
     "data": {
      "text/html": [
       "<style  type=\"text/css\" >\n",
       "</style><table id=\"T_ed51a778_da06_11eb_82f1_c8348e310a39\" ><thead>    <tr>        <th class=\"blank level0\" ></th>        <th class=\"col_heading level0 col0\" >Unnamed: 168</th>    </tr>    <tr>        <th class=\"index_name level0\" >Random stress</th>        <th class=\"blank\" ></th>    </tr></thead><tbody>\n",
       "                <tr>\n",
       "                        <th id=\"T_ed51a778_da06_11eb_82f1_c8348e310a39level0_row0\" class=\"row_heading level0 row0\" >Death</th>\n",
       "                        <td id=\"T_ed51a778_da06_11eb_82f1_c8348e310a39row0_col0\" class=\"data row0 col0\" >25.00%</td>\n",
       "            </tr>\n",
       "            <tr>\n",
       "                        <th id=\"T_ed51a778_da06_11eb_82f1_c8348e310a39level0_row1\" class=\"row_heading level0 row1\" >Death IBNR</th>\n",
       "                        <td id=\"T_ed51a778_da06_11eb_82f1_c8348e310a39row1_col0\" class=\"data row1 col0\" >22.50%</td>\n",
       "            </tr>\n",
       "            <tr>\n",
       "                        <th id=\"T_ed51a778_da06_11eb_82f1_c8348e310a39level0_row2\" class=\"row_heading level0 row2\" >Death RBNA</th>\n",
       "                        <td id=\"T_ed51a778_da06_11eb_82f1_c8348e310a39row2_col0\" class=\"data row2 col0\" >5.50%</td>\n",
       "            </tr>\n",
       "            <tr>\n",
       "                        <th id=\"T_ed51a778_da06_11eb_82f1_c8348e310a39level0_row3\" class=\"row_heading level0 row3\" >TPD</th>\n",
       "                        <td id=\"T_ed51a778_da06_11eb_82f1_c8348e310a39row3_col0\" class=\"data row3 col0\" >7.50%</td>\n",
       "            </tr>\n",
       "            <tr>\n",
       "                        <th id=\"T_ed51a778_da06_11eb_82f1_c8348e310a39level0_row4\" class=\"row_heading level0 row4\" >TPD IBNR</th>\n",
       "                        <td id=\"T_ed51a778_da06_11eb_82f1_c8348e310a39row4_col0\" class=\"data row4 col0\" >5.50%</td>\n",
       "            </tr>\n",
       "            <tr>\n",
       "                        <th id=\"T_ed51a778_da06_11eb_82f1_c8348e310a39level0_row5\" class=\"row_heading level0 row5\" >TPD RBNA</th>\n",
       "                        <td id=\"T_ed51a778_da06_11eb_82f1_c8348e310a39row5_col0\" class=\"data row5 col0\" >6.50%</td>\n",
       "            </tr>\n",
       "            <tr>\n",
       "                        <th id=\"T_ed51a778_da06_11eb_82f1_c8348e310a39level0_row6\" class=\"row_heading level0 row6\" >IP</th>\n",
       "                        <td id=\"T_ed51a778_da06_11eb_82f1_c8348e310a39row6_col0\" class=\"data row6 col0\" >7.50%</td>\n",
       "            </tr>\n",
       "            <tr>\n",
       "                        <th id=\"T_ed51a778_da06_11eb_82f1_c8348e310a39level0_row7\" class=\"row_heading level0 row7\" >IP DLR</th>\n",
       "                        <td id=\"T_ed51a778_da06_11eb_82f1_c8348e310a39row7_col0\" class=\"data row7 col0\" >2.50%</td>\n",
       "            </tr>\n",
       "            <tr>\n",
       "                        <th id=\"T_ed51a778_da06_11eb_82f1_c8348e310a39level0_row8\" class=\"row_heading level0 row8\" >IP IBNR</th>\n",
       "                        <td id=\"T_ed51a778_da06_11eb_82f1_c8348e310a39row8_col0\" class=\"data row8 col0\" >5.50%</td>\n",
       "            </tr>\n",
       "            <tr>\n",
       "                        <th id=\"T_ed51a778_da06_11eb_82f1_c8348e310a39level0_row9\" class=\"row_heading level0 row9\" >IP RBNA</th>\n",
       "                        <td id=\"T_ed51a778_da06_11eb_82f1_c8348e310a39row9_col0\" class=\"data row9 col0\" >6.50%</td>\n",
       "            </tr>\n",
       "    </tbody></table>"
      ],
      "text/plain": [
       "<pandas.io.formats.style.Styler at 0x173208aee08>"
      ]
     },
     "execution_count": 47,
     "metadata": {},
     "output_type": "execute_result"
    }
   ],
   "source": [
    "sva.stress_margins.random.random_all().style.format('{:,.2%}')"
   ]
  },
  {
   "cell_type": "markdown",
   "metadata": {},
   "source": [
    "#### future"
   ]
  },
  {
   "cell_type": "code",
   "execution_count": 48,
   "metadata": {},
   "outputs": [
    {
     "data": {
      "text/html": [
       "<style  type=\"text/css\" >\n",
       "</style><table id=\"T_ee10377a_da06_11eb_a035_c8348e310a39\" ><thead>    <tr>        <th class=\"blank level0\" ></th>        <th class=\"col_heading level0 col0\" >Unnamed: 168</th>    </tr>    <tr>        <th class=\"index_name level0\" >Future Stress</th>        <th class=\"blank\" ></th>    </tr></thead><tbody>\n",
       "                <tr>\n",
       "                        <th id=\"T_ee10377a_da06_11eb_a035_c8348e310a39level0_row0\" class=\"row_heading level0 row0\" >Death</th>\n",
       "                        <td id=\"T_ee10377a_da06_11eb_a035_c8348e310a39row0_col0\" class=\"data row0 col0\" >20.00%</td>\n",
       "            </tr>\n",
       "            <tr>\n",
       "                        <th id=\"T_ee10377a_da06_11eb_a035_c8348e310a39level0_row1\" class=\"row_heading level0 row1\" >Death IBNR</th>\n",
       "                        <td id=\"T_ee10377a_da06_11eb_a035_c8348e310a39row1_col0\" class=\"data row1 col0\" >20.00%</td>\n",
       "            </tr>\n",
       "            <tr>\n",
       "                        <th id=\"T_ee10377a_da06_11eb_a035_c8348e310a39level0_row2\" class=\"row_heading level0 row2\" >Death RBNA</th>\n",
       "                        <td id=\"T_ee10377a_da06_11eb_a035_c8348e310a39row2_col0\" class=\"data row2 col0\" >10.00%</td>\n",
       "            </tr>\n",
       "            <tr>\n",
       "                        <th id=\"T_ee10377a_da06_11eb_a035_c8348e310a39level0_row3\" class=\"row_heading level0 row3\" >TPD</th>\n",
       "                        <td id=\"T_ee10377a_da06_11eb_a035_c8348e310a39row3_col0\" class=\"data row3 col0\" >40.00%</td>\n",
       "            </tr>\n",
       "            <tr>\n",
       "                        <th id=\"T_ee10377a_da06_11eb_a035_c8348e310a39level0_row4\" class=\"row_heading level0 row4\" >TPD IBNR</th>\n",
       "                        <td id=\"T_ee10377a_da06_11eb_a035_c8348e310a39row4_col0\" class=\"data row4 col0\" >40.00%</td>\n",
       "            </tr>\n",
       "            <tr>\n",
       "                        <th id=\"T_ee10377a_da06_11eb_a035_c8348e310a39level0_row5\" class=\"row_heading level0 row5\" >TPD RBNA</th>\n",
       "                        <td id=\"T_ee10377a_da06_11eb_a035_c8348e310a39row5_col0\" class=\"data row5 col0\" >25.00%</td>\n",
       "            </tr>\n",
       "            <tr>\n",
       "                        <th id=\"T_ee10377a_da06_11eb_a035_c8348e310a39level0_row6\" class=\"row_heading level0 row6\" >IP</th>\n",
       "                        <td id=\"T_ee10377a_da06_11eb_a035_c8348e310a39row6_col0\" class=\"data row6 col0\" >40.00%</td>\n",
       "            </tr>\n",
       "            <tr>\n",
       "                        <th id=\"T_ee10377a_da06_11eb_a035_c8348e310a39level0_row7\" class=\"row_heading level0 row7\" >IP DLR</th>\n",
       "                        <td id=\"T_ee10377a_da06_11eb_a035_c8348e310a39row7_col0\" class=\"data row7 col0\" >25.00%</td>\n",
       "            </tr>\n",
       "            <tr>\n",
       "                        <th id=\"T_ee10377a_da06_11eb_a035_c8348e310a39level0_row8\" class=\"row_heading level0 row8\" >IP IBNR</th>\n",
       "                        <td id=\"T_ee10377a_da06_11eb_a035_c8348e310a39row8_col0\" class=\"data row8 col0\" >40.00%</td>\n",
       "            </tr>\n",
       "            <tr>\n",
       "                        <th id=\"T_ee10377a_da06_11eb_a035_c8348e310a39level0_row9\" class=\"row_heading level0 row9\" >IP RBNA</th>\n",
       "                        <td id=\"T_ee10377a_da06_11eb_a035_c8348e310a39row9_col0\" class=\"data row9 col0\" >25.00%</td>\n",
       "            </tr>\n",
       "    </tbody></table>"
      ],
      "text/plain": [
       "<pandas.io.formats.style.Styler at 0x17321a47808>"
      ]
     },
     "execution_count": 48,
     "metadata": {},
     "output_type": "execute_result"
    }
   ],
   "source": [
    "sva.stress_margins.future.future_all().style.format('{:,.2%}')"
   ]
  }
 ],
 "metadata": {
  "kernelspec": {
   "display_name": "Python 3",
   "language": "python",
   "name": "python3"
  },
  "language_info": {
   "codemirror_mode": {
    "name": "ipython",
    "version": 3
   },
   "file_extension": ".py",
   "mimetype": "text/x-python",
   "name": "python",
   "nbconvert_exporter": "python",
   "pygments_lexer": "ipython3",
   "version": "3.7.6"
  }
 },
 "nbformat": 4,
 "nbformat_minor": 4
}
